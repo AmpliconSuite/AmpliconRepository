{
 "cells": [
  {
   "cell_type": "code",
   "execution_count": 1,
   "id": "4381177b",
   "metadata": {},
   "outputs": [],
   "source": [
    "import subprocess\n",
    "import os\n",
    "\n",
    "# Source the config.sh file and capture the environment\n",
    "result = subprocess.run(['bash', '-c', 'source ../config.sh && env'], \n",
    "                       capture_output=True, text=True)\n",
    "\n",
    "# Parse the environment variables\n",
    "for line in result.stdout.strip().split('\\n'):\n",
    "    if '=' in line:\n",
    "        key, value = line.split('=', 1)\n",
    "        os.environ[key] = value"
   ]
  },
  {
   "cell_type": "code",
   "execution_count": 2,
   "id": "1ca25179",
   "metadata": {},
   "outputs": [],
   "source": [
    "from coamp_graph import Graph\n",
    "import coamp_graph_notebook_utils\n",
    "import numpy as np\n",
    "import matplotlib.pyplot as plt\n",
    "import pandas as pd"
   ]
  },
  {
   "cell_type": "code",
   "execution_count": 3,
   "id": "096785ff",
   "metadata": {},
   "outputs": [
    {
     "data": {
      "text/plain": [
       "['373 test',\n",
       " 'Agg and unagg 4',\n",
       " 'CCLE with metadata',\n",
       " 'DepMap',\n",
       " 'GBM39',\n",
       " 'Herberts test',\n",
       " 'MULTIPART__aaa36335ec1f427bae6ce0a6f346efae__POST_part_am',\n",
       " 'Monje',\n",
       " 'PCAWG',\n",
       " 'PedPanCan',\n",
       " 'Welm',\n",
       " 'a',\n",
       " 'agg updates',\n",
       " \"creating from pre-agg'd\",\n",
       " 'demo project',\n",
       " 'ec3D',\n",
       " 'ec3D initial',\n",
       " 'empty project',\n",
       " 'empty project 2',\n",
       " 'initialized project',\n",
       " 'initially private, then public (279)',\n",
       " 'issue 271 no prev edit',\n",
       " 'local progress bar check',\n",
       " 'making a public project tr14',\n",
       " 'monje test',\n",
       " 'monje test 2',\n",
       " 'new project 1',\n",
       " 'old proj',\n",
       " 'pcawg',\n",
       " 'prev_versoins bt3',\n",
       " 'progress bar',\n",
       " 'project upload bar 0.1s refresh with more logging',\n",
       " 'siavash bfb original',\n",
       " 'test',\n",
       " 'this is a new private project, update name?',\n",
       " 'this is going to go private',\n",
       " 'time test',\n",
       " 'timestamp branch test',\n",
       " 'updating 244',\n",
       " 'updating an older project',\n",
       " 'upload test progress bar 10ms refresh']"
      ]
     },
     "execution_count": 3,
     "metadata": {},
     "output_type": "execute_result"
    }
   ],
   "source": [
    "coamp_graph_notebook_utils.get_all_projects()"
   ]
  },
  {
   "cell_type": "code",
   "execution_count": 4,
   "id": "1268aa70",
   "metadata": {},
   "outputs": [
    {
     "data": {
      "text/plain": [
       "[None, 'PedPanCan', 'ec3D', 'initpub']"
      ]
     },
     "execution_count": 4,
     "metadata": {},
     "output_type": "execute_result"
    }
   ],
   "source": [
    "coamp_graph_notebook_utils.get_all_alias()"
   ]
  },
  {
   "cell_type": "code",
   "execution_count": null,
   "id": "a4c5276a",
   "metadata": {},
   "outputs": [],
   "source": [
    "small_project_list = ['COLO320', 'GBM39']\n",
    "small_df, __ = coamp_graph_notebook_utils.concat_projects(small_project_list)\n",
    "small_graph = Graph(small_df)"
   ]
  },
  {
   "cell_type": "code",
   "execution_count": 5,
   "id": "eb268bf0",
   "metadata": {},
   "outputs": [
    {
     "name": "stderr",
     "output_type": "stream",
     "text": [
      "WARNING:root:Could not lookup project CCLE with metadata, had to use project name!\n",
      "WARNING:root:Could not lookup project CCLE with metadata, had to use project name!\n"
     ]
    },
    {
     "name": "stdout",
     "output_type": "stream",
     "text": [
      "Retrieved locations for 22998 GRCh38 genes in 0.06 seconds\n",
      "Loaded 28555 genes from provided reference files\n",
      "Gene record creation time: 1.19 seconds\n",
      "31508\n",
      "Matched location data for 22976 genes\n",
      "Filtering features took 0.0015 seconds, resulting in 297 features\n",
      "Preprocessing intervals and reformatting dataset took 0.0095 seconds\n",
      "Starting CreateNodes with 297 rows\n",
      "Note: 0 genes are amplified on multiple feature IDs in the same sample\n",
      "TEST: 5639 searches where gene's location is found\n",
      "TEST: 0 searches where gene's chr on interval and gene's location is matched to an interval\n",
      "TEST: 0 searches where gene's chr on interval but gene's location is NOT matched to an interval (0 unique nodes)\n",
      "TEST: 5639 searches where gene's chr not on interval (3465 unique nodes)\n",
      "Processing 5639 genes took 0.0239 seconds, resulting in 3465 unique nodes\n",
      "0 genes were not amplified on any merged intervals\n",
      "Total CreateNodes execution: 0.0242 seconds\n",
      "Starting CreateEdges with 3465 nodes\n",
      "Building features index took 0.0007 seconds: 276 unique features\n",
      "Collecting potential pairs took 0.0256 seconds: 130283 unique pairs\n",
      "Constructing edges took 5.8796 seconds: 130283 edges with non-empty intersections\n",
      "Performing significance tests took 8.4948 seconds\n",
      "P-values were not assigned to 0 edges\n",
      "Calculating q-values took 0.0988 seconds\n",
      "Total CreateEdges execution: 14.5558 seconds\n"
     ]
    }
   ],
   "source": [
    "#project_list = ['655bda68bba7c92509522479', '655c060abba7c925095555da', 'ccle']\n",
    "project_list = ['CCLE with metadata']  # jens\n",
    "df, __ = coamp_graph_notebook_utils.concat_projects(project_list)\n",
    "graph = Graph(df)"
   ]
  },
  {
   "cell_type": "code",
   "execution_count": null,
   "id": "00b9c447",
   "metadata": {},
   "outputs": [],
   "source": [
    "# test selection\n",
    "# --------------\n",
    "# 0: single-interval\n",
    "# 1: multi-interval\n",
    "# 2: multi-chromosomal\n",
    "# 3: multi-ecdna\n",
    "graph.test_dry_run(\"CASC11\", \"MYC\", test=1)"
   ]
  },
  {
   "cell_type": "code",
   "execution_count": null,
   "id": "7e0398e7",
   "metadata": {},
   "outputs": [],
   "source": [
    "graph.test_selection_dry_run(\"CASC11\", \"MYC\")"
   ]
  },
  {
   "cell_type": "code",
   "execution_count": null,
   "id": "a6c737ce",
   "metadata": {},
   "outputs": [],
   "source": [
    "# compare interval json dumps after reimplementation with interval tree\n",
    "# small_graph.export_intervals(output_file=\"intervals_small_dataset.json\")\n",
    "# graph.export_intervals(output_file=\"intervals_new.json\")"
   ]
  },
  {
   "cell_type": "code",
   "execution_count": null,
   "id": "9691150f",
   "metadata": {},
   "outputs": [],
   "source": [
    "# small_graph.Nodes()[0]"
   ]
  },
  {
   "cell_type": "code",
   "execution_count": null,
   "id": "e34f63aa",
   "metadata": {},
   "outputs": [],
   "source": [
    "small_graph.Edges()[0]"
   ]
  },
  {
   "cell_type": "code",
   "execution_count": null,
   "id": "51958464",
   "metadata": {},
   "outputs": [],
   "source": [
    "small_graph.test_selection_dry_run(\"CASC11\", \"PRNCR1\")"
   ]
  },
  {
   "cell_type": "code",
   "execution_count": null,
   "id": "97b51da9",
   "metadata": {},
   "outputs": [],
   "source": [
    "# test selection\n",
    "# --------------\n",
    "# 0: single-interval\n",
    "# 1: multi-interval\n",
    "# 2: multi-chromosomal\n",
    "# 3: multi-ecdna\n",
    "graph.test_dry_run(\"CDK4\", \"MDM2\", test=1)"
   ]
  }
 ],
 "metadata": {
  "kernelspec": {
   "display_name": "Python 3 (ipykernel)",
   "language": "python",
   "name": "python3"
  },
  "language_info": {
   "codemirror_mode": {
    "name": "ipython",
    "version": 3
   },
   "file_extension": ".py",
   "mimetype": "text/x-python",
   "name": "python",
   "nbconvert_exporter": "python",
   "pygments_lexer": "ipython3",
   "version": "3.11.5"
  }
 },
 "nbformat": 4,
 "nbformat_minor": 5
}

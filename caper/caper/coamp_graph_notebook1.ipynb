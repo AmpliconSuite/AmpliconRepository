{
 "cells": [
  {
   "cell_type": "code",
   "execution_count": 51,
   "id": "6e147536",
   "metadata": {},
   "outputs": [
    {
     "data": {
      "text/plain": [
       "True"
      ]
     },
     "execution_count": 51,
     "metadata": {},
     "output_type": "execute_result"
    }
   ],
   "source": [
    "from dotenv import load_dotenv\n",
    "load_dotenv(\"../config.env\")"
   ]
  },
  {
   "cell_type": "code",
   "execution_count": null,
   "id": "d79070f6",
   "metadata": {},
   "outputs": [],
   "source": [
    "# from coamp_graph import Graph\n",
    "# import coamp_graph_notebook_utils"
   ]
  },
  {
   "cell_type": "code",
   "execution_count": 62,
   "id": "f3ce5252",
   "metadata": {},
   "outputs": [],
   "source": [
    "import pandas as pd\n",
    "import numpy as np\n",
    "import matplotlib.pyplot as plt\n",
    "import os\n",
    "import re\n",
    "from ast import literal_eval\n",
    "from fitter import Fitter\n",
    "from collections import Counter\n",
    "from scipy.stats import gamma"
   ]
  },
  {
   "cell_type": "code",
   "execution_count": null,
   "id": "48960513",
   "metadata": {},
   "outputs": [],
   "source": [
    "### Building Lengths Distribution ###"
   ]
  },
  {
   "cell_type": "code",
   "execution_count": 53,
   "id": "c742e068",
   "metadata": {},
   "outputs": [],
   "source": [
    "# replace with path to interval files\n",
    "user_path = \"/users/michael/Downloads/\""
   ]
  },
  {
   "cell_type": "code",
   "execution_count": 54,
   "id": "09dcb2de",
   "metadata": {},
   "outputs": [],
   "source": [
    "# get depmap/pcawg/tcga ecDNA features list\n",
    "depmap = user_path + \"depmap_interval_files/\"\n",
    "pcawg_tcga = user_path + \"pcawg_tcga_cutoff_passed_interval_files/\"\n",
    "\n",
    "files = [depmap + i for i in os.listdir(depmap)] + [pcawg_tcga + i for i in os.listdir(pcawg_tcga)]\n",
    "\n",
    "depmap_pcawg_tcga_features = []\n",
    "for f in files:\n",
    "    depmap_pcawg_tcga_features.append(pd.read_csv(f, sep='\\t', header=None))\n",
    "\n",
    "# get depmap/pcawg/tcga ecDNA feature names\n",
    "dpt_feature_names = [i for i in os.listdir(depmap)] + [i for i in os.listdir(pcawg_tcga)]\n",
    "dpt_feature_names = [i.split('_intervals')[0] for i in dpt_feature_names]"
   ]
  },
  {
   "cell_type": "code",
   "execution_count": 25,
   "id": "49367fe3",
   "metadata": {},
   "outputs": [],
   "source": [
    "# get ccle ecDNA features list\n",
    "ccle_df, __ = coamp_graph_notebook_utils.concat_projects(['ccle'])\n",
    "ccle_ecdna = ccle_df[ccle_df[\"Classification\"] == \"ecDNA\"]\n",
    "\n",
    "ccle_features = []\n",
    "ccle_feature_names = []\n",
    "\n",
    "for __, feature in ccle_ecdna.iterrows():\n",
    "    # Find all matches (for multiple occurrences per row)\n",
    "    matches = re.findall(r\"'?([\\dXY]+):(\\d+)-(\\d+)'?\", str(feature['Location']))\n",
    "    if len(matches) > 0:\n",
    "        df = pd.DataFrame(matches, columns=[0, 1, 2])\n",
    "        df[1] = pd.to_numeric(df[1])\n",
    "        df[2] = pd.to_numeric(df[2])\n",
    "        ccle_features.append(df)\n",
    "        ccle_feature_names.append(feature['Feature_ID'])"
   ]
  },
  {
   "cell_type": "code",
   "execution_count": 26,
   "id": "0ba6e39c",
   "metadata": {},
   "outputs": [
    {
     "name": "stdout",
     "output_type": "stream",
     "text": [
      "Total features: 1302 (depmap/pcawg/tcga) + 360 (ccle) = 1662 features\n",
      "Total intervals: 7114 intervals\n"
     ]
    }
   ],
   "source": [
    "# combine features lists and report counts\n",
    "all_feature_names = dpt_feature_names + ccle_feature_names\n",
    "all_features = depmap_pcawg_tcga_features + ccle_features\n",
    "\n",
    "print(f\"Total features: {len(depmap_pcawg_tcga_features)} (depmap/pcawg/tcga) + {len(ccle_features)} (ccle) = {len(all_features)} features\")\n",
    "print(f\"Total intervals: {sum([len(feature) for feature in all_features])} intervals\")"
   ]
  },
  {
   "cell_type": "code",
   "execution_count": null,
   "id": "cfaa9b6d",
   "metadata": {},
   "outputs": [],
   "source": [
    "# merge nearby intervals closer than MERGE_CUTOFF bp apart\n",
    "def merge_intervals(features, MERGE_CUTOFF=50000):\n",
    "    \"\"\"\n",
    "    Parameters: \n",
    "        features (list): each feature is a dataframe of intervals\n",
    "        MERGE_CUTOFF (int): merge intervals < cutoff distance (bp)\n",
    "    Return: \n",
    "        merged_intervals (list): list of features[list of merged intervals[list of chr,start,end]]\n",
    "    \"\"\"\n",
    "    feature_list = []\n",
    "    for feature in features:\n",
    "        merged_intervals = []\n",
    "        matches = []\n",
    "        for __, interval in feature.iterrows():\n",
    "            matches.append(interval.tolist())\n",
    "        \n",
    "        curr_interval = matches[0]\n",
    "        for i in range(len(matches)):            \n",
    "            # if end is reached, add the current interval\n",
    "            if i == len(matches) - 1:\n",
    "                merged_intervals.append(curr_interval)\n",
    "\n",
    "            # if this interval can be merged with the next, extend the current interval\n",
    "            elif matches[i][0] == matches[i+1][0] and matches[i+1][1] - matches[i][2] <= MERGE_CUTOFF:\n",
    "                curr_interval[2] = matches[i+1][2]\n",
    "\n",
    "            # otherwise add the current interval and reset\n",
    "            else:\n",
    "                merged_intervals.append(curr_interval)\n",
    "                curr_interval = matches[i+1]\n",
    "        \n",
    "        if matches != [[]] or matches != []:\n",
    "            feature_list.append(merged_intervals)\n",
    "    \n",
    "    print(f\"{sum([len(f) for f in feature_list])} intervals after merging intervals closer than {MERGE_CUTOFF}bp apart\")\n",
    "    return feature_list"
   ]
  },
  {
   "cell_type": "code",
   "execution_count": null,
   "id": "85cc5171",
   "metadata": {},
   "outputs": [],
   "source": [
    "# remove intervals larger than MAX_INTERVAL_SIZE bp\n",
    "def remove_large_intervals(feature_list, MAX_INTERVAL_SIZE=5000000):\n",
    "    cleaned_features = []\n",
    "    for feature in feature_list:\n",
    "        to_add = []\n",
    "        for interval in feature:\n",
    "            if interval[2] - interval[1] <= MAX_INTERVAL_SIZE:\n",
    "                to_add.append(interval)\n",
    "        if to_add:\n",
    "            cleaned_features.append(to_add)\n",
    "\n",
    "    print(f\"{sum([len(f) for f in cleaned_features])} intervals after removing intervals larger than {MAX_INTERVAL_SIZE}bp\")\n",
    "    return cleaned_features"
   ]
  },
  {
   "cell_type": "code",
   "execution_count": 45,
   "id": "2d5f34d1",
   "metadata": {},
   "outputs": [
    {
     "name": "stdout",
     "output_type": "stream",
     "text": [
      "4921 intervals after merging intervals closer than 50000bp apart\n",
      "4830 intervals after removing intervals larger than 5000000bp\n"
     ]
    }
   ],
   "source": [
    "feature_list = remove_large_intervals(merge_intervals(all_features))"
   ]
  },
  {
   "cell_type": "code",
   "execution_count": null,
   "id": "5f0620a8",
   "metadata": {},
   "outputs": [],
   "source": [
    "### Fitting pdD Model to Lengths Distribution ###"
   ]
  },
  {
   "cell_type": "code",
   "execution_count": 58,
   "id": "03163977",
   "metadata": {},
   "outputs": [
    {
     "data": {
      "text/html": [
       "<div>\n",
       "<style scoped>\n",
       "    .dataframe tbody tr th:only-of-type {\n",
       "        vertical-align: middle;\n",
       "    }\n",
       "\n",
       "    .dataframe tbody tr th {\n",
       "        vertical-align: top;\n",
       "    }\n",
       "\n",
       "    .dataframe thead th {\n",
       "        text-align: right;\n",
       "    }\n",
       "</style>\n",
       "<table border=\"1\" class=\"dataframe\">\n",
       "  <thead>\n",
       "    <tr style=\"text-align: right;\">\n",
       "      <th></th>\n",
       "      <th>Lengths (bp)</th>\n",
       "    </tr>\n",
       "  </thead>\n",
       "  <tbody>\n",
       "    <tr>\n",
       "      <th>count</th>\n",
       "      <td>4.830000e+03</td>\n",
       "    </tr>\n",
       "    <tr>\n",
       "      <th>mean</th>\n",
       "      <td>5.743506e+05</td>\n",
       "    </tr>\n",
       "    <tr>\n",
       "      <th>std</th>\n",
       "      <td>8.700446e+05</td>\n",
       "    </tr>\n",
       "    <tr>\n",
       "      <th>min</th>\n",
       "      <td>2.000000e+00</td>\n",
       "    </tr>\n",
       "    <tr>\n",
       "      <th>25%</th>\n",
       "      <td>4.714875e+04</td>\n",
       "    </tr>\n",
       "    <tr>\n",
       "      <th>50%</th>\n",
       "      <td>2.033425e+05</td>\n",
       "    </tr>\n",
       "    <tr>\n",
       "      <th>75%</th>\n",
       "      <td>7.277850e+05</td>\n",
       "    </tr>\n",
       "    <tr>\n",
       "      <th>max</th>\n",
       "      <td>4.999410e+06</td>\n",
       "    </tr>\n",
       "  </tbody>\n",
       "</table>\n",
       "</div>"
      ],
      "text/plain": [
       "       Lengths (bp)\n",
       "count  4.830000e+03\n",
       "mean   5.743506e+05\n",
       "std    8.700446e+05\n",
       "min    2.000000e+00\n",
       "25%    4.714875e+04\n",
       "50%    2.033425e+05\n",
       "75%    7.277850e+05\n",
       "max    4.999410e+06"
      ]
     },
     "execution_count": 58,
     "metadata": {},
     "output_type": "execute_result"
    }
   ],
   "source": [
    "interval_lengths = [i[2] - i[1] for f in feature_list for i in f]\n",
    "intervals_df = pd.DataFrame(interval_lengths, columns=['Lengths (bp)'])\n",
    "intervals_df.describe()"
   ]
  },
  {
   "cell_type": "code",
   "execution_count": 61,
   "id": "26ab50a2",
   "metadata": {},
   "outputs": [
    {
     "name": "stderr",
     "output_type": "stream",
     "text": [
      "2025-07-29 16:12:13.647 | INFO     | fitter.fitter:_fit_single_distribution:333 - Fitted gamma distribution with error=0.0)\n"
     ]
    },
    {
     "name": "stdout",
     "output_type": "stream",
     "text": [
      "       sumsquare_error          aic          bic    kl_div  ks_statistic  \\\n",
      "gamma     2.971456e-12  3405.432754  3424.880559  0.032333      0.021845   \n",
      "\n",
      "       ks_pvalue  \n",
      "gamma   0.019618  \n"
     ]
    },
    {
     "data": {
      "image/png": "[encoded data removed]",
      "text/plain": [
       "<Figure size 640x480 with 1 Axes>"
      ]
     },
     "metadata": {},
     "output_type": "display_data"
    }
   ],
   "source": [
    "f = Fitter(intervals_df, distributions=['gamma'])\n",
    "f.fit()\n",
    "print(f.summary())"
   ]
  },
  {
   "cell_type": "code",
   "execution_count": 63,
   "id": "d9ac826d",
   "metadata": {},
   "outputs": [
    {
     "name": "stdout",
     "output_type": "stream",
     "text": [
      "Shape: 0.4528058380301946, Location: 1.9999999999999996, Scale: 1192794.3765480835\n"
     ]
    }
   ],
   "source": [
    "shape, loc, scale = gamma.fit(intervals_df)\n",
    "print(f\"Shape: {shape}, Location: {loc}, Scale: {scale}\")"
   ]
  },
  {
   "cell_type": "code",
   "execution_count": 60,
   "id": "bfa2096f",
   "metadata": {},
   "outputs": [],
   "source": [
    "### Finding Rate of M_SC & M_MC ###"
   ]
  },
  {
   "cell_type": "code",
   "execution_count": 47,
   "id": "abe57a03",
   "metadata": {},
   "outputs": [],
   "source": [
    "# M_SC\n",
    "def multi_interval_rate(features, MULTI_INTERVAL_MIN_DISTANCE=50000, same_chr_only=False):\n",
    "    \"\"\"\n",
    "    |ecDNA features containing multiple intervals [at least two from the] same chromosome, \n",
    "    where at least two of the intervals are more than [50kbp] apart| / |all ecDNA features|\n",
    "    \"\"\"\n",
    "    multi_interval_count = 0\n",
    "    for feature in features:\n",
    "        if same_chr_only:\n",
    "            chr_set = set([interval[0] for interval in feature])\n",
    "            if len(chr_set) > 1:\n",
    "                continue\n",
    "        \n",
    "        if (len(feature) > 0):\n",
    "            i = feature[0]\n",
    "            for j in feature[1:]:\n",
    "                if i[0] == j[0] and j[1] - i[2] > MULTI_INTERVAL_MIN_DISTANCE:\n",
    "                    multi_interval_count += 1\n",
    "                    break\n",
    "                i = j\n",
    "    return multi_interval_count / len(features) "
   ]
  },
  {
   "cell_type": "code",
   "execution_count": 48,
   "id": "446b5809",
   "metadata": {},
   "outputs": [
    {
     "data": {
      "image/png": "[encoded data removed]",
      "text/plain": [
       "<Figure size 1200x600 with 1 Axes>"
      ]
     },
     "metadata": {},
     "output_type": "display_data"
    }
   ],
   "source": [
    "# M_SC parameter sweep\n",
    "\n",
    "# generate distances and rates\n",
    "min_distances = np.arange(0, 1_000_001, 1000)\n",
    "rates = [multi_interval_rate(feature_list, d) for d in min_distances]\n",
    "\n",
    "# plot\n",
    "plt.figure(figsize=(12, 6))\n",
    "plt.plot(min_distances, rates, color='royalblue', linewidth=2, label='Rate')\n",
    "plt.fill_between(min_distances, rates, color='royalblue', alpha=0.3)\n",
    "\n",
    "# label marker positions\n",
    "for marker in [50_000, 250_000, 1_000_000]:\n",
    "    idx = np.where(min_distances == marker)[0][0]\n",
    "    x_val = min_distances[idx]\n",
    "    y_val = rates[idx]\n",
    "    \n",
    "    plt.plot(x_val, y_val, 'o', color='royalblue', markersize=8)\n",
    "    plt.text(x_val, y_val + 0.01, f'{y_val:,.4f} ({x_val/1000:.0f} kbp)', color='royalblue', fontsize=14,\n",
    "             ha='left', va='bottom', fontweight='bold')\n",
    "    \n",
    "# formatting\n",
    "plt.title('Multi-interval Rate vs. Minimum Distance Threshold', fontsize=16)\n",
    "plt.xlabel('MULTI_INTERVAL_MIN_DISTANCE', fontsize=12)\n",
    "plt.ylabel('multi_interval_rate', fontsize=12)\n",
    "plt.ylim(0, 1)\n",
    "plt.xlim(min_distances.min(), min_distances.max())\n",
    "plt.tight_layout()\n",
    "plt.legend()\n",
    "plt.show()"
   ]
  },
  {
   "cell_type": "code",
   "execution_count": 49,
   "id": "31f4c62f",
   "metadata": {},
   "outputs": [],
   "source": [
    "# M_MC\n",
    "def multi_chromosomal_rate(features, MULTI_CHR_MIN_SIZE=20000):\n",
    "    \"\"\"\n",
    "    |ecDNA features containing at least two intervals from different chromosomes, \n",
    "    where both of the intervals are greater than 20kbp in size| / |all ecDNA features|\n",
    "    \"\"\"\n",
    "    multi_chromosomal_count = 0\n",
    "    for feature in features:\n",
    "        chr_set = set([interval[0] for interval in feature if interval[2]-interval[1] > MULTI_CHR_MIN_SIZE])\n",
    "        if len(chr_set) > 1:\n",
    "            multi_chromosomal_count += 1\n",
    "    return multi_chromosomal_count / len(features)"
   ]
  },
  {
   "cell_type": "code",
   "execution_count": 50,
   "id": "9be91f35",
   "metadata": {},
   "outputs": [
    {
     "data": {
      "image/png": "[encoded data removed]",
      "text/plain": [
       "<Figure size 1200x600 with 1 Axes>"
      ]
     },
     "metadata": {},
     "output_type": "display_data"
    }
   ],
   "source": [
    "# M_MC parameter sweep\n",
    "\n",
    "# generate distances and rates\n",
    "min_distances = np.arange(0, 20001, 1000)\n",
    "rates = [multi_chromosomal_rate(feature_list, d) for d in min_distances]\n",
    "\n",
    "# plot\n",
    "plt.figure(figsize=(12, 6))\n",
    "plt.plot(min_distances, rates, color='royalblue', linewidth=2, label='Rate')\n",
    "plt.fill_between(min_distances, rates, color='royalblue', alpha=0.3)\n",
    "\n",
    "# label marker positions\n",
    "for marker in [0, 10000, 20000]:\n",
    "    idx = np.where(min_distances == marker)[0][0]\n",
    "    x_val = min_distances[idx]\n",
    "    y_val = rates[idx]\n",
    "    \n",
    "    plt.plot(x_val, y_val, 'o', color='royalblue', markersize=8)\n",
    "    plt.text(x_val, y_val + 0.01, f'{y_val:,.4f} ({x_val/1000:.0f} kbp)', color='royalblue', fontsize=14,\n",
    "             ha='left', va='bottom', fontweight='bold')\n",
    "    \n",
    "# formatting\n",
    "plt.title('Multi-chromosomal Rate vs. Minimum Size Threshold', fontsize=16)\n",
    "plt.xlabel('MULTI_CHR_MIN_SIZE', fontsize=12)\n",
    "plt.ylabel('multi_chromosomal_rate', fontsize=12)\n",
    "plt.ylim(0, 1)\n",
    "plt.xlim(min_distances.min(), min_distances.max())\n",
    "plt.tight_layout()\n",
    "plt.legend()\n",
    "plt.show()"
   ]
  },
  {
   "cell_type": "code",
   "execution_count": null,
   "id": "8f2aaf36",
   "metadata": {},
   "outputs": [],
   "source": [
    "### Identifying Features by Name ###"
   ]
  },
  {
   "cell_type": "code",
   "execution_count": null,
   "id": "57b27ff9",
   "metadata": {},
   "outputs": [],
   "source": [
    "def features_with_intervals_of_distance(features, min_distance, max_distance):\n",
    "    \"\"\"\n",
    "    return list of feature names that have distances between intervals on the same chromosome in the range (min_distance, max_distance)\n",
    "    \"\"\"\n",
    "    feature_names = []\n",
    "    # feature_sublist = []\n",
    "    for index, feature in enumerate(features):\n",
    "        if (len(feature) > 0):\n",
    "            i = feature[0]\n",
    "            for j in feature[1:]:\n",
    "                if i[0] == j[0]:\n",
    "                    distance = j[1] - i[2]\n",
    "                    if distance > min_distance and distance < max_distance:\n",
    "                        feature_names.append(all_feature_names[index])\n",
    "                        # feature_sublist.append(feature)\n",
    "                i = j\n",
    "    return feature_names # , feature_sublist"
   ]
  },
  {
   "cell_type": "code",
   "execution_count": null,
   "id": "4ecca008",
   "metadata": {},
   "outputs": [],
   "source": [
    "features_with_intervals_of_distance(feature_list, 495000, 505000)"
   ]
  },
  {
   "cell_type": "code",
   "execution_count": null,
   "id": "f54407a1",
   "metadata": {},
   "outputs": [],
   "source": [
    "def features_with_intervals_of_length(features, min_length, max_length=100000000):\n",
    "    \"\"\"\n",
    "    return list of feature names that have intervals of at least length kb\n",
    "    \"\"\"\n",
    "    feature_names = []\n",
    "    for index, feature in enumerate(features):\n",
    "        if (len(feature) > 0):\n",
    "            for j in feature:\n",
    "                length = j[2] - j[1]\n",
    "                if length >= min_length and length <= max_length:\n",
    "                    feature_names.append(f\"{all_feature_names[index]}: {length}bp\")\n",
    "    return feature_names # , feature_sublist"
   ]
  },
  {
   "cell_type": "code",
   "execution_count": null,
   "id": "27105234",
   "metadata": {},
   "outputs": [],
   "source": [
    "features_with_intervals_of_length(features=feature_list, min_length=6500000, max_length=7000000)"
   ]
  },
  {
   "cell_type": "code",
   "execution_count": null,
   "id": "79ab96f9",
   "metadata": {},
   "outputs": [],
   "source": [
    "### Plotting Distances Between Intervals on the Same Chromosome ###"
   ]
  },
  {
   "cell_type": "code",
   "execution_count": null,
   "id": "c4cfa188",
   "metadata": {},
   "outputs": [],
   "source": [
    "def same_chr_interval_distances(features):\n",
    "    \"\"\"\n",
    "    distances between interval endpoints from consecutive intervals of the same chromosome\n",
    "    \"\"\"\n",
    "    distances = []\n",
    "    for feature in features:\n",
    "        if (len(feature) > 0):\n",
    "            i = feature[0]\n",
    "            for j in feature[1:]:\n",
    "                if i[0] == j[0]:\n",
    "                    distances.append(j[1] - i[2])\n",
    "                i = j\n",
    "    return distances"
   ]
  },
  {
   "cell_type": "code",
   "execution_count": null,
   "id": "a30a4483",
   "metadata": {},
   "outputs": [],
   "source": [
    "distances = same_chr_interval_distances(feature_list)\n",
    "pd.DataFrame(distances, columns=[\"Distance (bp)\"]).describe()"
   ]
  },
  {
   "cell_type": "code",
   "execution_count": null,
   "id": "cec7eada",
   "metadata": {},
   "outputs": [],
   "source": [
    "# NOTE: Requires seaborn\n",
    "import seaborn as sns\n",
    "\n",
    "# Freedman–Diaconis rule to calculate optimal bin width\n",
    "q25, q75 = np.percentile(distances, [25, 75])\n",
    "iqr = q75 - q25\n",
    "bin_width = 2 * iqr * len(distances) ** (-1/3)\n",
    "bin_width = max(bin_width, 1)  # Avoid zero or negative\n",
    "num_bins = int((max(distances) - min(distances)) / bin_width)\n",
    "\n",
    "# plot\n",
    "plt.figure(figsize=(12, 6))\n",
    "sns.histplot(distances, bins=num_bins, color='royalblue',\n",
    "             edgecolor='white', alpha=0.8, stat='density')\n",
    "\n",
    "# Formatting\n",
    "plt.title('Distances Between Consecutive Interval Endpoints', fontsize=16)\n",
    "plt.xlabel('Distance (bp)', fontsize=12)\n",
    "plt.ylabel('Density', fontsize=12)\n",
    "plt.tight_layout()\n",
    "plt.show()"
   ]
  },
  {
   "cell_type": "code",
   "execution_count": null,
   "id": "972ea2ca",
   "metadata": {},
   "outputs": [],
   "source": [
    "plt.figure(figsize=(10, 5))\n",
    "sns.boxenplot(x=distances, color='royalblue', k_depth='proportion', outlier_prop=0.01)\n",
    "\n",
    "plt.xlabel('Distance (bp)')\n",
    "plt.title('Distances Between Consecutive Interval Endpoints', fontsize=16)\n",
    "plt.tight_layout()\n",
    "plt.show()"
   ]
  },
  {
   "cell_type": "code",
   "execution_count": null,
   "id": "e3505951",
   "metadata": {},
   "outputs": [],
   "source": [
    "def every_fifth_percentile(data):\n",
    "    data = np.array(data)\n",
    "    percentiles = np.arange(5, 100, 5)\n",
    "    return {p: np.percentile(data, p) for p in percentiles}\n",
    "\n",
    "# Calculate the percentiles and format them\n",
    "def print_percentiles_aligned(data):\n",
    "    results = every_fifth_percentile(data)\n",
    "\n",
    "    # Format and find max width for alignment\n",
    "    formatted = {k: f\"{int(round(v)):,}\" for k, v in results.items()}\n",
    "    max_width = max(len(val) for val in formatted.values())\n",
    "\n",
    "    for k in sorted(formatted):\n",
    "        print(f\"{k:>2}th percentile: {formatted[k]:>{max_width}}\")"
   ]
  },
  {
   "cell_type": "code",
   "execution_count": null,
   "id": "833b58c9",
   "metadata": {},
   "outputs": [],
   "source": [
    "print_percentiles_aligned(distances)"
   ]
  },
  {
   "cell_type": "code",
   "execution_count": null,
   "id": "811cbaa0",
   "metadata": {},
   "outputs": [],
   "source": [
    "distances_truncated = [d for d in distances if d > 50000 and d < 10_000_000]\n",
    "pd.DataFrame(distances_truncated, columns=[\"Distance (bp)\"]).describe()"
   ]
  },
  {
   "cell_type": "code",
   "execution_count": null,
   "id": "3ec8d7e9",
   "metadata": {},
   "outputs": [],
   "source": [
    "# Freedman–Diaconis rule to calculate optimal bin width\n",
    "q25, q75 = np.percentile(distances_truncated, [25, 75])\n",
    "iqr = q75 - q25\n",
    "bin_width = 2 * iqr * len(distances_truncated) ** (-1/3)\n",
    "bin_width = max(bin_width, 1)  # Avoid zero or negative\n",
    "num_bins = int((max(distances_truncated) - min(distances_truncated)) / bin_width)\n",
    "\n",
    "# Set style\n",
    "sns.set(style=\"whitegrid\")\n",
    "\n",
    "# Plot\n",
    "plt.figure(figsize=(12, 6))\n",
    "sns.histplot(distances_truncated, bins=num_bins, \n",
    "#              kde=True, \n",
    "             color='royalblue', edgecolor='white', alpha=0.8, stat='density')\n",
    "\n",
    "# Formatting\n",
    "plt.title('Distances Between Consecutive Interval Endpoints btwn 50kbp and 10Mbp', fontsize=16)\n",
    "plt.xlabel('Distance (bp)', fontsize=12)\n",
    "plt.ylabel('Density', fontsize=12)\n",
    "plt.tight_layout()\n",
    "plt.show()\n"
   ]
  },
  {
   "cell_type": "code",
   "execution_count": null,
   "id": "619ee6f9",
   "metadata": {},
   "outputs": [],
   "source": []
  }
 ],
 "metadata": {
  "kernelspec": {
   "display_name": "ampliconenv",
   "language": "python",
   "name": "python3"
  },
  "language_info": {
   "codemirror_mode": {
    "name": "ipython",
    "version": 3
   },
   "file_extension": ".py",
   "mimetype": "text/x-python",
   "name": "python",
   "nbconvert_exporter": "python",
   "pygments_lexer": "ipython3",
   "version": "3.8.20"
  }
 },
 "nbformat": 4,
 "nbformat_minor": 5
}

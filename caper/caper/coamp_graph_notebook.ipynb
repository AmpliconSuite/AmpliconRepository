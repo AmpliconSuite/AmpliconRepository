{
 "cells": [
  {
   "cell_type": "code",
   "execution_count": null,
   "id": "6e147536",
   "metadata": {},
   "outputs": [
    {
     "data": {
      "text/plain": [
       "True"
      ]
     },
     "execution_count": 9,
     "metadata": {},
     "output_type": "execute_result"
    }
   ],
   "source": [
    "from dotenv import load_dotenv\n",
    "load_dotenv(\"../config.env\")"
   ]
  },
  {
   "cell_type": "code",
   "execution_count": 26,
   "id": "d79070f6",
   "metadata": {},
   "outputs": [],
   "source": [
    "from coamp_graph import Graph\n",
    "import coamp_graph_notebook_utils\n",
    "import numpy as np\n",
    "import matplotlib.pyplot as plt"
   ]
  },
  {
   "cell_type": "code",
   "execution_count": 16,
   "id": "a690bf1c",
   "metadata": {},
   "outputs": [],
   "source": [
    "project_list = ['GBM39', 'COLO320'] # , 'CCLE'\n",
    "df, __ = coamp_graph_notebook_utils.concat_projects(project_list)"
   ]
  },
  {
   "cell_type": "code",
   "execution_count": 18,
   "id": "ea3ee7f4",
   "metadata": {},
   "outputs": [
    {
     "data": {
      "text/plain": [
       "(14, 25)"
      ]
     },
     "execution_count": 18,
     "metadata": {},
     "output_type": "execute_result"
    }
   ],
   "source": [
    "df.shape"
   ]
  },
  {
   "cell_type": "code",
   "execution_count": 19,
   "id": "d76718fd",
   "metadata": {},
   "outputs": [
    {
     "name": "stdout",
     "output_type": "stream",
     "text": [
      "Retrieved locations for 22998 GRCh38 genes in 0.33 seconds\n",
      "Loaded 28555 genes from provided reference files\n",
      "Gene record creation time: 1.64 seconds\n",
      "31508\n",
      "Matched location data for 22976 genes\n",
      "Filtering features took 0.0027 seconds, resulting in 3 features\n",
      "Preprocessing intervals and reformatting dataset took 0.0020 seconds\n",
      "Starting CreateNodes with 3 rows\n",
      "Note: 0 genes are amplified on multiple feature IDs in the same sample\n",
      "TEST: 40 searches where gene's location is found\n",
      "TEST: 39 searches where gene's chr on interval and gene's location is matched to an interval\n",
      "TEST: 1 searches where gene's chr on interval but gene's location is NOT matched to an interval (1 unique nodes)\n",
      "TEST: 0 searches where gene's chr not on interval (0 unique nodes)\n",
      "Processing 40 genes took 0.0053 seconds, resulting in 26 unique nodes\n",
      "0 genes were not amplified on any merged intervals\n",
      "Total CreateNodes execution: 0.0053 seconds\n",
      "Starting CreateEdges with 26 nodes\n",
      "Building features index took 0.0000 seconds: 3 unique features\n",
      "Collecting potential pairs took 0.0001 seconds: 181 unique pairs\n",
      "Constructing edges took 0.0094 seconds: 181 edges with non-empty intersections\n",
      "Performing significance tests took 0.0143 seconds\n",
      "P-values were not assigned to 0 edges\n",
      "Calculating q-values took 0.0004 seconds\n",
      "Total CreateEdges execution: 0.0243 seconds\n"
     ]
    }
   ],
   "source": [
    "graph = Graph(df)\n",
    "nodes = graph.Nodes()\n",
    "edges = graph.Edges()"
   ]
  },
  {
   "cell_type": "code",
   "execution_count": 20,
   "id": "db0c24c7",
   "metadata": {},
   "outputs": [
    {
     "data": {
      "text/plain": [
       "[]"
      ]
     },
     "execution_count": 20,
     "metadata": {},
     "output_type": "execute_result"
    }
   ],
   "source": [
    "graph.genes_with_no_chr_match_list"
   ]
  },
  {
   "cell_type": "code",
   "execution_count": 21,
   "id": "9e81f991",
   "metadata": {},
   "outputs": [
    {
     "data": {
      "text/plain": [
       "{'source': 'CCAT2',\n",
       " 'target': 'CDX2',\n",
       " 'weight': 0.5,\n",
       " 'inter': {'COLO320HSR'},\n",
       " 'union': {'COLO320DM', 'COLO320HSR'},\n",
       " 'distance': -1,\n",
       " 'p_d_D': -1,\n",
       " 'p_values': [-1, -1, 0.19914704548925982, -1],\n",
       " 'odds_ratios': [-1, -1, 3.783083143243502, -1],\n",
       " 'q_values': [-1, -1, 0.19914704548925982, -1]}"
      ]
     },
     "execution_count": 21,
     "metadata": {},
     "output_type": "execute_result"
    }
   ],
   "source": [
    "edges[0]"
   ]
  },
  {
   "cell_type": "code",
   "execution_count": 22,
   "id": "8c966dff",
   "metadata": {},
   "outputs": [
    {
     "data": {
      "text/plain": [
       "0"
      ]
     },
     "execution_count": 22,
     "metadata": {},
     "output_type": "execute_result"
    }
   ],
   "source": [
    "p_single, p_multi_interval, p_multi_chr, p_multi_ecdna = [], [], [], []\n",
    "q_single, q_multi_interval, q_multi_chr, q_multi_ecdna = [], [], [], []\n",
    "na_counter = 0\n",
    "for edge in edges:\n",
    "    p_vals = edge.get('p_values', [-1, -1, -1, -1])\n",
    "    q_vals = edge.get('q_values', [-1, -1, -1, -1])\n",
    "    if p_vals == [-1, -1, -1, -1]:# and edge.get('missing_interval_data'):\n",
    "        na_counter += 1\n",
    "    if len(p_vals) == 4:\n",
    "        p_single.append(p_vals[0])\n",
    "        p_multi_interval.append(p_vals[1])\n",
    "        p_multi_chr.append(p_vals[2])\n",
    "        p_multi_ecdna.append(p_vals[3])\n",
    "    if len(q_vals) == 4:\n",
    "        q_single.append(q_vals[0])\n",
    "        q_multi_interval.append(q_vals[1])\n",
    "        q_multi_chr.append(q_vals[2])\n",
    "        q_multi_ecdna.append(q_vals[3])\n",
    "na_counter"
   ]
  },
  {
   "cell_type": "code",
   "execution_count": 23,
   "id": "2d43c133",
   "metadata": {},
   "outputs": [],
   "source": [
    "def every_fifth_percentile(data):\n",
    "    data = np.array(data)\n",
    "    percentiles = np.arange(5, 100, 5)\n",
    "    return {p: np.percentile(data, p) for p in percentiles}\n",
    "\n",
    "# Calculate the percentiles and format them\n",
    "def print_percentiles_aligned(data):\n",
    "    results = every_fifth_percentile(data)\n",
    "\n",
    "    # Format and find max width for alignment\n",
    "    formatted = {k: f\"{v:.4f}\" for k, v in results.items()}\n",
    "    max_width = max(len(val) for val in formatted.values())\n",
    "\n",
    "    for k in sorted(formatted):\n",
    "        print(f\"{k:>2}th percentile: {formatted[k]:>{max_width}}\")"
   ]
  },
  {
   "cell_type": "code",
   "execution_count": 24,
   "id": "101ec210",
   "metadata": {},
   "outputs": [],
   "source": [
    "def plot_p_values(p_values, title=\"p_values\"):\n",
    "    filtered = [p for p in p_values if p != -1]\n",
    "    print(f\"{len(filtered)} valid p-values from {len(p_values)} edges\\n\")\n",
    "    \n",
    "    print_percentiles_aligned(filtered)\n",
    "    \n",
    "    plt.figure(figsize=(8, 6))\n",
    "    plt.hist(filtered, bins=50, alpha=0.7)\n",
    "    plt.title(title)\n",
    "    plt.xlabel(\"p-values\")\n",
    "    plt.ylabel(\"Frequency\")\n",
    "    plt.grid(axis='y', linestyle='--', alpha=0.7)\n",
    "    plt.show()\n",
    "    \n"
   ]
  },
  {
   "cell_type": "code",
   "execution_count": 27,
   "id": "a5c06547",
   "metadata": {},
   "outputs": [
    {
     "name": "stdout",
     "output_type": "stream",
     "text": [
      "122 valid p-values from 181 edges\n",
      "\n",
      " 5th percentile: 0.2729\n",
      "10th percentile: 0.2904\n",
      "15th percentile: 0.2904\n",
      "20th percentile: 0.3693\n",
      "25th percentile: 0.3693\n",
      "30th percentile: 0.3713\n",
      "35th percentile: 0.4011\n",
      "40th percentile: 0.4030\n",
      "45th percentile: 0.4073\n",
      "50th percentile: 0.4105\n",
      "55th percentile: 0.4130\n",
      "60th percentile: 0.4136\n",
      "65th percentile: 0.4195\n",
      "70th percentile: 0.4207\n",
      "75th percentile: 0.4253\n",
      "80th percentile: 0.4265\n",
      "85th percentile: 0.4527\n",
      "90th percentile: 0.4567\n",
      "95th percentile: 0.4567\n"
     ]
    },
    {
     "data": {
      "image/png": "[encoded data removed]",
      "text/plain": [
       "<Figure size 800x600 with 1 Axes>"
      ]
     },
     "metadata": {},
     "output_type": "display_data"
    }
   ],
   "source": [
    "plot_p_values(p_single, title=f\"Single Interval P-Values (T1)\")"
   ]
  },
  {
   "cell_type": "code",
   "execution_count": 28,
   "id": "5f2410df",
   "metadata": {},
   "outputs": [
    {
     "name": "stdout",
     "output_type": "stream",
     "text": [
      "122 valid p-values from 181 edges\n",
      "\n",
      " 5th percentile: 0.4628\n",
      "10th percentile: 0.4628\n",
      "15th percentile: 0.4628\n",
      "20th percentile: 0.4628\n",
      "25th percentile: 0.4628\n",
      "30th percentile: 0.4628\n",
      "35th percentile: 0.4628\n",
      "40th percentile: 0.4628\n",
      "45th percentile: 0.4628\n",
      "50th percentile: 0.4628\n",
      "55th percentile: 0.4628\n",
      "60th percentile: 0.4628\n",
      "65th percentile: 0.4628\n",
      "70th percentile: 0.4628\n",
      "75th percentile: 0.4628\n",
      "80th percentile: 0.4628\n",
      "85th percentile: 0.4628\n",
      "90th percentile: 0.4628\n",
      "95th percentile: 0.4628\n"
     ]
    },
    {
     "data": {
      "image/png": "[encoded data removed]",
      "text/plain": [
       "<Figure size 800x600 with 1 Axes>"
      ]
     },
     "metadata": {},
     "output_type": "display_data"
    }
   ],
   "source": [
    "plot_p_values(q_single, title=f\"Single Interval Q-Values (T1)\")"
   ]
  }
 ],
 "metadata": {
  "kernelspec": {
   "display_name": "ampliconenv",
   "language": "python",
   "name": "python3"
  },
  "language_info": {
   "codemirror_mode": {
    "name": "ipython",
    "version": 3
   },
   "file_extension": ".py",
   "mimetype": "text/x-python",
   "name": "python",
   "nbconvert_exporter": "python",
   "pygments_lexer": "ipython3",
   "version": "3.8.20"
  }
 },
 "nbformat": 4,
 "nbformat_minor": 5
}

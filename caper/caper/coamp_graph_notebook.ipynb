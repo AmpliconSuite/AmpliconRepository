{
 "cells": [
  {
   "cell_type": "code",
   "execution_count": 1,
   "id": "6e147536",
   "metadata": {},
   "outputs": [
    {
     "data": {
      "text/plain": [
       "True"
      ]
     },
     "execution_count": 1,
     "metadata": {},
     "output_type": "execute_result"
    }
   ],
   "source": [
    "from dotenv import load_dotenv\n",
    "load_dotenv(\"../config.env\")"
   ]
  },
  {
   "cell_type": "code",
   "execution_count": 2,
   "id": "d79070f6",
   "metadata": {},
   "outputs": [],
   "source": [
    "from coamp_graph import Graph\n",
    "import coamp_graph_notebook_utils\n",
    "import numpy as np\n",
    "import matplotlib.pyplot as plt\n",
    "import pandas as pd"
   ]
  },
  {
   "cell_type": "code",
   "execution_count": 3,
   "id": "d5e5d7f7",
   "metadata": {},
   "outputs": [
    {
     "data": {
      "text/plain": [
       "['CCLE',\n",
       " 'COLO320',\n",
       " 'COLO320 DM & HSR hg38',\n",
       " 'COLOtest',\n",
       " 'GBM39',\n",
       " 'PCAWG',\n",
       " 'TCGA']"
      ]
     },
     "execution_count": 3,
     "metadata": {},
     "output_type": "execute_result"
    }
   ],
   "source": [
    "coamp_graph_notebook_utils.get_all_projects()"
   ]
  },
  {
   "cell_type": "code",
   "execution_count": 4,
   "id": "9399d2bb",
   "metadata": {},
   "outputs": [
    {
     "data": {
      "text/plain": [
       "['655bda68bba7c92509522479',\n",
       " '655c060abba7c925095555da',\n",
       " 'COLO320',\n",
       " 'COLO320_1',\n",
       " 'GBM39',\n",
       " 'ccle',\n",
       " 'coolest']"
      ]
     },
     "execution_count": 4,
     "metadata": {},
     "output_type": "execute_result"
    }
   ],
   "source": [
    "coamp_graph_notebook_utils.get_all_alias()"
   ]
  },
  {
   "cell_type": "code",
   "execution_count": 5,
   "id": "fbd822c6",
   "metadata": {},
   "outputs": [],
   "source": [
    "small_project_list = ['COLO320', 'GBM39']\n",
    "small_df, __ = coamp_graph_notebook_utils.concat_projects(small_project_list)"
   ]
  },
  {
   "cell_type": "code",
   "execution_count": 6,
   "id": "41bb709e",
   "metadata": {},
   "outputs": [
    {
     "name": "stdout",
     "output_type": "stream",
     "text": [
      "Retrieved locations for 22998 GRCh38 genes in 0.08 seconds\n",
      "Loaded 28555 genes from provided reference files\n",
      "Gene record creation time: 1.12 seconds\n",
      "31508\n",
      "Matched location data for 22976 genes\n",
      "Filtering features took 0.0005 seconds, resulting in 3 features\n",
      "Preprocessing intervals and reformatting dataset took 0.0013 seconds\n",
      "Starting CreateNodes with 3 rows\n",
      "Note: 0 genes are amplified on multiple feature IDs in the same sample\n",
      "TEST: 40 searches where gene's location is found\n",
      "TEST: 39 searches where gene's chr on interval and gene's location is matched to an interval\n",
      "TEST: 1 searches where gene's chr on interval but gene's location is NOT matched to an interval (1 unique nodes)\n",
      "TEST: 0 searches where gene's chr not on interval (0 unique nodes)\n",
      "Processing 40 genes took 0.0035 seconds, resulting in 26 unique nodes\n",
      "0 genes were not amplified on any merged intervals\n",
      "Total CreateNodes execution: 0.0035 seconds\n",
      "Starting CreateEdges with 26 nodes\n",
      "Building features index took 0.0000 seconds: 3 unique features\n",
      "Collecting potential pairs took 0.0000 seconds: 181 unique pairs\n",
      "Constructing edges took 0.0051 seconds: 181 edges with non-empty intersections\n",
      "Performing significance tests took 0.0101 seconds\n",
      "P-values were not assigned to 0 edges\n",
      "Calculating q-values took 0.0010 seconds\n",
      "Total CreateEdges execution: 0.0163 seconds\n"
     ]
    }
   ],
   "source": [
    "small_graph = Graph(small_df)"
   ]
  },
  {
   "cell_type": "code",
   "execution_count": 10,
   "id": "af481365",
   "metadata": {},
   "outputs": [
    {
     "data": {
      "text/plain": [
       "181"
      ]
     },
     "execution_count": 10,
     "metadata": {},
     "output_type": "execute_result"
    }
   ],
   "source": [
    "len(small_graph.Edges())"
   ]
  },
  {
   "cell_type": "code",
   "execution_count": null,
   "id": "a690bf1c",
   "metadata": {},
   "outputs": [],
   "source": [
    "project_list = ['655bda68bba7c92509522479', '655c060abba7c925095555da', 'ccle']\n",
    "df, __ = coamp_graph_notebook_utils.concat_projects(project_list)"
   ]
  },
  {
   "cell_type": "code",
   "execution_count": null,
   "id": "ea3ee7f4",
   "metadata": {},
   "outputs": [],
   "source": [
    "df.shape"
   ]
  },
  {
   "cell_type": "code",
   "execution_count": null,
   "id": "d76718fd",
   "metadata": {},
   "outputs": [],
   "source": [
    "graph = Graph(df, pdD_model='merge25kbp_cap2mbp')\n",
    "nodes = graph.Nodes()\n",
    "edges = graph.Edges()"
   ]
  },
  {
   "cell_type": "code",
   "execution_count": null,
   "id": "db0c24c7",
   "metadata": {},
   "outputs": [],
   "source": [
    "graph.genes_with_no_chr_match_list"
   ]
  },
  {
   "cell_type": "code",
   "execution_count": null,
   "id": "9e81f991",
   "metadata": {},
   "outputs": [],
   "source": [
    "edges[0]"
   ]
  },
  {
   "cell_type": "code",
   "execution_count": null,
   "id": "c3cd20b4",
   "metadata": {},
   "outputs": [],
   "source": [
    "baseline = Graph(df)\n",
    "capped = Graph(df, pdD_maodel='gamma_capped_5m')\n",
    "merge25kbp_cap2mbp = Graph(df, pdD_model='merge25kbp_cap2mbp')\n",
    "merge25kbp_cap1mbp = "
   ]
  },
  {
   "cell_type": "code",
   "execution_count": null,
   "id": "cb5d4acd",
   "metadata": {},
   "outputs": [],
   "source": [
    "baseline.Nodes()[0]"
   ]
  },
  {
   "cell_type": "code",
   "execution_count": null,
   "id": "c4870903",
   "metadata": {},
   "outputs": [],
   "source": [
    "N = graph.total_samples\n",
    "N"
   ]
  },
  {
   "cell_type": "code",
   "execution_count": null,
   "id": "11c57737",
   "metadata": {},
   "outputs": [],
   "source": [
    "MDM2 = [n for n in baseline.Nodes() if n['label']=='MDM2'][0]\n",
    "CDK4 = [n for n in baseline.Nodes() if n['label']=='CDK4'][0]\n",
    "print(len(MDM2['samples']))\n",
    "len(CDK4['samples'])"
   ]
  },
  {
   "cell_type": "code",
   "execution_count": null,
   "id": "410f7d02",
   "metadata": {},
   "outputs": [],
   "source": [
    "len(MDM2_CDK4['inter'])"
   ]
  },
  {
   "cell_type": "code",
   "execution_count": null,
   "id": "e0998413",
   "metadata": {},
   "outputs": [],
   "source": [
    "# MDM2-CDK4 example\n",
    "\n",
    "MDM2_CDK4 = [edge for edge in graph.Edges() if edge['source']=='CDK4' and edge['target']=='MDM2'][0]\n",
    "MDM2_CDK4['p_values']"
   ]
  },
  {
   "cell_type": "code",
   "execution_count": null,
   "id": "854f1a75",
   "metadata": {},
   "outputs": [],
   "source": [
    "# find edges with minimum pdDs for unit testing\n",
    "\n",
    "test_singles = [e for e in edges if e['p_d_D'] != -1 and e['p_values'][0] != -1] \n",
    "sorted_pdDs = sorted(test_singles, key = lambda x: x['p_d_D'])\n",
    "[(e['source'], e['target'], e['p_d_D'], e['p_values'][0]) for e in sorted_pdDs[:10]]"
   ]
  },
  {
   "cell_type": "code",
   "execution_count": null,
   "id": "a075b753",
   "metadata": {},
   "outputs": [],
   "source": [
    "# find edges with minimum p_values for unit testing\n",
    "\n",
    "test_singles = [e for e in edges if e['p_d_D'] != -1 and e['p_values'][0] != -1] \n",
    "sorted_pdDs = sorted(test_singles, key = lambda x: x['p_values'])\n",
    "# [(e['source'], e['target'], e['p_d_D'], e['p_values'][0]) for e in sorted_pdDs[:10]]\n",
    "[(e['source'], e['target'], e['p_values'][0]) for e in sorted_pdDs[:10]]"
   ]
  },
  {
   "cell_type": "code",
   "execution_count": null,
   "id": "6ec942f9",
   "metadata": {},
   "outputs": [],
   "source": [
    "from scipy.stats import chi2\n",
    "\n",
    "# single interval test functions with print statements\n",
    "def single_interval(edge, record_a, record_b):\n",
    "\t\tpdD = edge['p_d_D']\n",
    "\t\tgeneA_samples = len(record_a['samples'])\n",
    "\t\tgeneB_samples = len(record_b['samples'])\n",
    "\t\tgeneAB_samples = len(edge['inter'])\n",
    "\n",
    "\t\t# observed\n",
    "\t\tO11 = geneAB_samples\n",
    "\t\tO12 = geneA_samples - geneAB_samples\n",
    "\t\tO21 = geneB_samples - geneAB_samples\n",
    "\t\tO22 = graph.total_samples - geneA_samples - geneB_samples + geneAB_samples\n",
    "\t\tobs = [O11, O12, O21, O22]\n",
    "\t\tprint(f\"observed counts: {obs}\")\n",
    "\n",
    "\t\t# expected\n",
    "\t\tE11 = (geneA_samples + geneB_samples - geneAB_samples) * pdD\n",
    "\t\tE12 = geneA_samples * (1 - pdD)\n",
    "\t\tE21 = geneB_samples * (1 - pdD)\n",
    "\t\tE22 = graph.total_samples - (geneA_samples + geneB_samples - geneAB_samples)\n",
    "\t\texp = [E11, E12, E21, E22] \n",
    "\t\tprint(f\"expected counts: {exp}\")\n",
    "\n",
    "\t\treturn chi_squared_helper(obs, exp)\n",
    "\n",
    "def chi_squared_helper(obs, exp):\n",
    "\t\t# apply Haldane correction if any observed category count is zero\n",
    "\t\tif 0 in obs:\n",
    "\t\t\tobs = [o + 1e-6 for o in obs]\n",
    "\t\t\texp = [e + 1e-6 for e in exp]\n",
    "\n",
    "\t\ttotal_obs = sum(obs)\n",
    "\t\ttotal_exp = sum(exp)\n",
    "\t\tobs_freq = [o / total_obs for o in obs]\n",
    "\t\texp_freq = [e / total_exp for e in exp]\n",
    "\n",
    "\t\ttest_statistic = sum([(o-e)*(o-e)/e for o,e in zip(obs_freq, exp_freq)])\n",
    "\t\tcdf = chi2.cdf(test_statistic, df=1)\n",
    "\t\tp_val_two_sided = 1-cdf\n",
    "\t\tdiagonal_residual_sum = ((obs_freq[0]-exp_freq[0]) + (obs_freq[3]-exp_freq[3]))\n",
    "\n",
    "\t\todds_ratio = obs_freq[0] / exp_freq[0]\n",
    "\t\tif odds_ratio > 1e9:\n",
    "\t\t\todds_ratio = 1e9 # cap ultra large to prevent infinite odds ratios\n",
    "\n",
    "\t\t# convert to one-sided p-value\n",
    "\t\tif diagonal_residual_sum >= 0:\n",
    "\t\t\tp_val_one_sided = p_val_two_sided / 2\n",
    "\t\telse:\n",
    "\t\t\tp_val_one_sided = 1 - (p_val_two_sided / 2)\n",
    "\n",
    "\t\treturn p_val_one_sided, odds_ratio"
   ]
  },
  {
   "cell_type": "code",
   "execution_count": null,
   "id": "3b6b7b80",
   "metadata": {},
   "outputs": [],
   "source": [
    "def test_edge(source, target):\n",
    "    # node check\n",
    "    genes = [node['label'] for node in nodes]\n",
    "    if source not in genes:\n",
    "        return f'{source} not found in graph'\n",
    "    if target not in genes:\n",
    "        return f'{target} not found in graph'\n",
    "    source_node = [node for node in nodes if node['label'] == source][0]\n",
    "    target_node = [node for node in nodes if node['label'] == target][0]\n",
    "    # edge check\n",
    "    st = [edge for edge in edges if edge['source']==source and edge['target']==target]\n",
    "    if st:\n",
    "        return single_interval(st[0], source_node, target_node)\n",
    "    ts = [edge for edge in edges if edge['source']==target and edge['target']==source]\n",
    "    if ts:\n",
    "        return single_interval(ts[0], source_node, target_node)\n",
    "    return f'edge not found in graph'"
   ]
  },
  {
   "cell_type": "code",
   "execution_count": null,
   "id": "671571a7",
   "metadata": {},
   "outputs": [],
   "source": [
    "test_edge('EYS','PHF3')"
   ]
  },
  {
   "cell_type": "code",
   "execution_count": null,
   "id": "8ec87967",
   "metadata": {},
   "outputs": [],
   "source": []
  },
  {
   "cell_type": "code",
   "execution_count": null,
   "id": "6b22123c",
   "metadata": {},
   "outputs": [],
   "source": [
    "# P-value/Q-value Distributions by Test Type"
   ]
  },
  {
   "cell_type": "code",
   "execution_count": null,
   "id": "8c966dff",
   "metadata": {},
   "outputs": [],
   "source": [
    "p_single, p_multi_interval, p_multi_chr, p_multi_ecdna = [], [], [], []\n",
    "q_single, q_multi_interval, q_multi_chr, q_multi_ecdna = [], [], [], []\n",
    "na_counter = 0\n",
    "for edge in edges:\n",
    "    p_vals = edge.get('p_values', [-1, -1, -1, -1])\n",
    "    q_vals = edge.get('q_values', [-1, -1, -1, -1])\n",
    "    if p_vals == [-1, -1, -1, -1]:# and edge.get('missing_interval_data'):\n",
    "        na_counter += 1\n",
    "    if len(p_vals) == 4:\n",
    "        p_single.append(p_vals[0])\n",
    "        p_multi_interval.append(p_vals[1])\n",
    "        p_multi_chr.append(p_vals[2])\n",
    "        p_multi_ecdna.append(p_vals[3])\n",
    "    if len(q_vals) == 4:\n",
    "        q_single.append(q_vals[0])\n",
    "        q_multi_interval.append(q_vals[1])\n",
    "        q_multi_chr.append(q_vals[2])\n",
    "        q_multi_ecdna.append(q_vals[3])\n",
    "na_counter"
   ]
  },
  {
   "cell_type": "code",
   "execution_count": null,
   "id": "2d43c133",
   "metadata": {},
   "outputs": [],
   "source": [
    "def every_fifth_percentile(data):\n",
    "    data = np.array(data)\n",
    "    percentiles = np.arange(5, 100, 5)\n",
    "    return {p: np.percentile(data, p) for p in percentiles}\n",
    "\n",
    "# Calculate the percentiles and format them\n",
    "def print_percentiles_aligned(data):\n",
    "    results = every_fifth_percentile(data)\n",
    "\n",
    "    # Format and find max width for alignment\n",
    "    formatted = {k: f\"{v:.4f}\" for k, v in results.items()}\n",
    "    max_width = max(len(val) for val in formatted.values())\n",
    "\n",
    "    for k in sorted(formatted):\n",
    "        print(f\"{k:>2}th percentile: {formatted[k]:>{max_width}}\")"
   ]
  },
  {
   "cell_type": "code",
   "execution_count": null,
   "id": "101ec210",
   "metadata": {},
   "outputs": [],
   "source": [
    "def plot_p_values(p_values, title=\"p_values\"):\n",
    "    filtered = [p for p in p_values if p != -1]\n",
    "    print(f\"{len(filtered)} valid p-values from {len(p_values)} edges\\n\")\n",
    "    \n",
    "    print_percentiles_aligned(filtered)\n",
    "    \n",
    "    plt.figure(figsize=(8, 6))\n",
    "    plt.hist(filtered, bins=50, alpha=0.7)\n",
    "    plt.title(title)\n",
    "    plt.xlabel(\"p-values\")\n",
    "    plt.ylabel(\"Frequency\")\n",
    "    plt.grid(axis='y', linestyle='--', alpha=0.7)\n",
    "    plt.show()\n",
    "    \n"
   ]
  },
  {
   "cell_type": "code",
   "execution_count": null,
   "id": "a5c06547",
   "metadata": {},
   "outputs": [],
   "source": [
    "plot_p_values(p_single, title=f\"Single Interval P-Values (T1)\")"
   ]
  },
  {
   "cell_type": "code",
   "execution_count": null,
   "id": "5f2410df",
   "metadata": {},
   "outputs": [],
   "source": [
    "plot_p_values(q_single, title=f\"Single Interval Q-Values (T1)\")"
   ]
  },
  {
   "cell_type": "code",
   "execution_count": null,
   "id": "2a38ce94",
   "metadata": {},
   "outputs": [],
   "source": [
    "plot_p_values(p_multi_interval, title=f\"Multi Interval P-Values (T2)\")"
   ]
  },
  {
   "cell_type": "code",
   "execution_count": null,
   "id": "9ecfa073",
   "metadata": {},
   "outputs": [],
   "source": [
    "plot_p_values(q_multi_interval, title=f\"Multi Interval Q-Values (T2)\")"
   ]
  },
  {
   "cell_type": "code",
   "execution_count": null,
   "id": "76f4c3bd",
   "metadata": {},
   "outputs": [],
   "source": [
    "# PARAMETER SWEEP FOR MERGING THRESHOLD"
   ]
  },
  {
   "cell_type": "code",
   "execution_count": null,
   "id": "25521efa",
   "metadata": {},
   "outputs": [],
   "source": [
    "# test merge cutoff param\n",
    "project_list_small = ['COLO320', 'GBM39']\n",
    "test_df, __ = coamp_graph_notebook_utils.concat_projects(project_list_small)\n",
    "test_graph = Graph(test_df, merge_cutoff=50000)\n",
    "print(test_graph.MERGE_CUTOFF)"
   ]
  },
  {
   "cell_type": "code",
   "execution_count": null,
   "id": "a72f4e7b",
   "metadata": {},
   "outputs": [],
   "source": [
    "tmp_graph = Graph(test_df, merge_cutoff=50000, construct_graph=False)\n",
    "processed_dataset = tmp_graph.preprocessed_dataset"
   ]
  },
  {
   "cell_type": "code",
   "execution_count": null,
   "id": "1cb29fc4",
   "metadata": {},
   "outputs": [],
   "source": [
    "def plot_lengths_dist(lengths, ax, merge_cutoff):\n",
    "    # add a subplot\n",
    "    ax.hist(lengths, bins=50, alpha=0.7, color='blue')\n",
    "    ax.set_title(f'merge_cutoff = {merge_cutoff}bp')\n",
    "    ax.set_xlabel(f\"Interval Lengths (n={len(lengths)})\")\n",
    "    ax.set_ylabel(\"Frequency\")\n",
    "\n",
    "    # plot mean line\n",
    "    if lengths:\n",
    "        adj_mean = sum(lengths) / len(lengths)\n",
    "        ax.axvline(adj_mean, color='black', linestyle='dashed', linewidth=2, label=f'Mean = {adj_mean:.2f}')\n",
    "    ax.legend()"
   ]
  },
  {
   "cell_type": "code",
   "execution_count": null,
   "id": "c4cda25a",
   "metadata": {},
   "outputs": [],
   "source": [
    "cutoff_values = list(range(10000, 51000, 5000))\n",
    "num_plots = len(cutoff_values)\n",
    "cols = 4\n",
    "rows = (num_plots + cols - 1) // cols\n",
    "\n",
    "fig, axes = plt.subplots(rows, cols, figsize=(4 * cols, 3 * rows))\n",
    "axes = axes.flatten() \n",
    "\n",
    "for idx, merge_cutoff in enumerate(cutoff_values):\n",
    "    ax = axes[idx]\n",
    "\n",
    "    tmp_graph = Graph(df, merge_cutoff=merge_cutoff, construct_graph=False)\n",
    "    processed_dataset = tmp_graph.preprocessed_dataset\n",
    "    lengths = [interval[2] - interval[1] for list in processed_dataset['Merged_Intervals'] for interval in list if interval]\n",
    "\n",
    "    plot_lengths_dist(lengths, ax, merge_cutoff)\n",
    "\n",
    "# hide unused subplots if any\n",
    "for j in range(len(cutoff_values), len(axes)):\n",
    "    fig.delaxes(axes[j])\n",
    "\n",
    "fig.tight_layout()\n",
    "plt.show()"
   ]
  },
  {
   "cell_type": "code",
   "execution_count": null,
   "id": "28905c77",
   "metadata": {},
   "outputs": [],
   "source": [
    "### PLOT pdD DISTRIBUTION FOR CAPPED LENGTHS MODEL ###"
   ]
  },
  {
   "cell_type": "code",
   "execution_count": null,
   "id": "95ec458b",
   "metadata": {},
   "outputs": [],
   "source": [
    "# df, __ = coamp_graph_notebook_utils.concat_projects(project_list)"
   ]
  },
  {
   "cell_type": "code",
   "execution_count": null,
   "id": "355bd106",
   "metadata": {},
   "outputs": [],
   "source": [
    "baseline = Graph(df)\n",
    "capped = Graph(df, pdD_model='gamma_capped_5m')\n",
    "merge25kbp_cap2mbp = Graph(df, pdD_model='merge25kbp_cap2mbp')\n",
    "merge25kbp_cap1mbp = Graph(df, pdD_model='merge25kbp_cap1mbp')"
   ]
  },
  {
   "cell_type": "code",
   "execution_count": null,
   "id": "08492b6d",
   "metadata": {},
   "outputs": [],
   "source": [
    "pdD_baseline = [edge['p_d_D'] for edge in baseline.Edges() if edge['p_d_D'] != -1]\n",
    "pdD_capped = [edge['p_d_D'] for edge in capped.Edges() if edge['p_d_D'] != -1]\n",
    "pdD_merge25kbp_cap2mbp = [edge['p_d_D'] for edge in merge25kbp_cap2mbp.Edges() if edge['p_d_D'] != -1]\n",
    "pdD_merge25kbp_cap1mbp = [edge['p_d_D'] for edge in merge25kbp_cap1mbp.Edges() if edge['p_d_D'] != -1]"
   ]
  },
  {
   "cell_type": "code",
   "execution_count": null,
   "id": "b08778e7",
   "metadata": {},
   "outputs": [],
   "source": [
    "pdD_baseline = pd.DataFrame(pdD_baseline, columns=['Baseline pdD Values'])\n",
    "pdD_baseline.describe()"
   ]
  },
  {
   "cell_type": "code",
   "execution_count": null,
   "id": "84ca3a98",
   "metadata": {},
   "outputs": [],
   "source": [
    "pdD_capped = pd.DataFrame(pdD_capped, columns=['pdD Values'])\n",
    "pdD_capped.describe()"
   ]
  },
  {
   "cell_type": "code",
   "execution_count": null,
   "id": "acceb00f",
   "metadata": {},
   "outputs": [],
   "source": [
    "pdD_merge25kbp_cap2mbp = pd.DataFrame(pdD_merge25kbp_cap2mbp, columns=['Case 1 pdD Values'])\n",
    "pdD_merge25kbp_cap2mbp.describe()"
   ]
  },
  {
   "cell_type": "code",
   "execution_count": null,
   "id": "6341398b",
   "metadata": {},
   "outputs": [],
   "source": [
    "pdD_merge25kbp_cap1mbp = pd.DataFrame(pdD_merge25kbp_cap1mbp, columns=['Case 2 pdD Values'])\n",
    "pdD_merge25kbp_cap1mbp.describe()"
   ]
  },
  {
   "cell_type": "code",
   "execution_count": null,
   "id": "df7b07d0",
   "metadata": {},
   "outputs": [],
   "source": [
    "# overlayed\n",
    "plt.figure(figsize=(8, 5))\n",
    "plt.hist(pdD_baseline, bins=50, range=(0, 1), alpha=0.5, label='Baseline')\n",
    "plt.hist(pdD_merge25kbp_cap1mbp, bins=50, range=(0, 1), alpha=0.5, label='Capped 1Mbp, Merged 25kbp')\n",
    "plt.xlabel('pdD Value')\n",
    "plt.ylabel('Frequency')\n",
    "plt.title('Histogram of pdD Values')\n",
    "plt.legend()\n",
    "plt.grid(True)\n",
    "plt.tight_layout()\n",
    "plt.show()"
   ]
  },
  {
   "cell_type": "code",
   "execution_count": null,
   "id": "dd5e36ce",
   "metadata": {},
   "outputs": [],
   "source": [
    "# side by side\n",
    "fig, axs = plt.subplots(1, 2, figsize=(12, 5), sharey=True)\n",
    "\n",
    "# histogram for baseline\n",
    "axs[0].hist(pdD_baseline, bins=50, range=(0, 1), color='skyblue', edgecolor='black')\n",
    "axs[0].set_title('Baseline pdD')\n",
    "axs[0].set_xlabel('pdD Value')\n",
    "axs[0].set_ylabel('Frequency')\n",
    "axs[0].grid(True)\n",
    "\n",
    "# histogram for capped\n",
    "axs[1].hist(pdD_merge25kbp_cap2mbp, bins=50, range=(0, 1), color='salmon', edgecolor='black')\n",
    "axs[1].set_title('Case 1: Merge 25kbp apart, Cap 2Mbp')\n",
    "axs[1].set_xlabel('pdD Value')\n",
    "axs[1].grid(True)\n",
    "\n",
    "plt.tight_layout()\n",
    "plt.show()"
   ]
  },
  {
   "cell_type": "code",
   "execution_count": null,
   "id": "40243b76",
   "metadata": {},
   "outputs": [],
   "source": [
    "p_single = []\n",
    "q_single = []\n",
    "na_counter = 0\n",
    "for edge in merge25kbp_cap1mbp.Edges():\n",
    "    p_vals = edge.get('p_values', [-1, -1, -1, -1])\n",
    "    q_vals = edge.get('q_values', [-1, -1, -1, -1])\n",
    "    if p_vals == [-1, -1, -1, -1]:# and edge.get('missing_interval_data'):\n",
    "        na_counter += 1\n",
    "    if len(p_vals) == 4:\n",
    "        p_single.append(p_vals[0])\n",
    "    if len(q_vals) == 4:\n",
    "        q_single.append(q_vals[0])\n",
    "na_counter"
   ]
  },
  {
   "cell_type": "code",
   "execution_count": null,
   "id": "af5a763c",
   "metadata": {},
   "outputs": [],
   "source": [
    "plot_p_values(p_single, title=f\"Single Interval P-Values, merge25kbp_cap2mbp pdD\")"
   ]
  },
  {
   "cell_type": "code",
   "execution_count": null,
   "id": "30d16cdd",
   "metadata": {},
   "outputs": [],
   "source": [
    "plot_p_values(q_single, title=f\"Single Interval Q-Values, merge25kbp_cap2mbp pdD\")"
   ]
  },
  {
   "cell_type": "code",
   "execution_count": null,
   "id": "7612ddcc",
   "metadata": {},
   "outputs": [],
   "source": []
  }
 ],
 "metadata": {
  "kernelspec": {
   "display_name": "ampliconenv",
   "language": "python",
   "name": "python3"
  },
  "language_info": {
   "codemirror_mode": {
    "name": "ipython",
    "version": 3
   },
   "file_extension": ".py",
   "mimetype": "text/x-python",
   "name": "python",
   "nbconvert_exporter": "python",
   "pygments_lexer": "ipython3",
   "version": "3.8.20"
  }
 },
 "nbformat": 4,
 "nbformat_minor": 5
}

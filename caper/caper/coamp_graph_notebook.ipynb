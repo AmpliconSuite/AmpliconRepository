{
 "cells": [
  {
   "cell_type": "code",
   "execution_count": 1,
   "id": "6e147536",
   "metadata": {},
   "outputs": [],
   "source": [
    "import subprocess\n",
    "import os\n",
    "\n",
    "# Source the config.sh file and capture the environment\n",
    "result = subprocess.run(['bash', '-c', 'source ../config.sh && env'], \n",
    "                       capture_output=True, text=True)\n",
    "\n",
    "# Parse the environment variables\n",
    "for line in result.stdout.strip().split('\\n'):\n",
    "    if '=' in line:\n",
    "        key, value = line.split('=', 1)\n",
    "        os.environ[key] = value"
   ]
  },
  {
   "cell_type": "code",
   "execution_count": 2,
   "id": "d79070f6",
   "metadata": {},
   "outputs": [],
   "source": [
    "from coamp_graph import Graph\n",
    "import coamp_graph_notebook_utils\n",
    "import numpy as np\n",
    "import matplotlib.pyplot as plt\n",
    "import pandas as pd"
   ]
  },
  {
   "cell_type": "code",
   "execution_count": null,
   "id": "d5e5d7f7",
   "metadata": {},
   "outputs": [],
   "source": [
    "coamp_graph_notebook_utils.get_all_projects()"
   ]
  },
  {
   "cell_type": "code",
   "execution_count": null,
   "id": "9399d2bb",
   "metadata": {},
   "outputs": [],
   "source": [
    "coamp_graph_notebook_utils.get_all_alias()"
   ]
  },
  {
   "cell_type": "code",
   "execution_count": null,
   "id": "fbd822c6",
   "metadata": {},
   "outputs": [],
   "source": [
    "small_project_list = ['COLO320', 'GBM39']\n",
    "small_df, __ = coamp_graph_notebook_utils.concat_projects(small_project_list)\n",
    "small_graph = Graph(small_df)"
   ]
  },
  {
   "cell_type": "code",
   "execution_count": 3,
   "id": "a690bf1c",
   "metadata": {},
   "outputs": [
    {
     "name": "stdout",
     "output_type": "stream",
     "text": [
      "Retrieved locations for 22998 GRCh38 genes in 0.03 seconds\n",
      "Loaded 28555 genes from provided reference files\n",
      "Gene record creation time: 2.17 seconds\n",
      "31508\n",
      "Matched location data for 22976 genes\n",
      "Filtering features took 0.0095 seconds, resulting in 1119 features\n",
      "Preprocessing intervals and reformatting dataset took 0.0488 seconds\n",
      "Starting CreateNodes with 1119 rows\n",
      "Note: 26 genes are amplified on multiple feature IDs in the same sample\n",
      "TEST: 18469 searches where gene's location is found\n",
      "TEST: 13800 searches where gene's chr on interval and gene's location is matched to an interval\n",
      "TEST: 4660 searches where gene's chr on interval but gene's location is NOT matched to an interval (2457 unique nodes)\n",
      "TEST: 9 searches where gene's chr not on interval (6 unique nodes)\n",
      "Processing 18587 genes took 0.1589 seconds, resulting in 7832 unique nodes\n",
      "0 genes were not amplified on any merged intervals\n",
      "Total CreateNodes execution: 0.1646 seconds\n",
      "Starting CreateEdges with 7832 nodes\n",
      "Building features index took 0.0042 seconds: 950 unique features\n",
      "Collecting potential pairs took 0.2827 seconds: 410023 unique pairs\n",
      "Constructing edges took 13.7874 seconds: 410023 edges with non-empty intersections\n",
      "Note: unexpected number of shared features in sample\n",
      "Note: unexpected number of shared features in sample\n",
      "Note: unexpected number of shared features in sample\n",
      "Note: unexpected number of shared features in sample\n",
      "Note: unexpected number of shared features in sample\n",
      "Note: unexpected number of shared features in sample\n",
      "Note: unexpected number of shared features in sample\n",
      "Note: unexpected number of shared features in sample\n",
      "Note: unexpected number of shared features in sample\n",
      "Note: unexpected number of shared features in sample\n",
      "Note: unexpected number of shared features in sample\n",
      "Note: unexpected number of shared features in sample\n",
      "Note: unexpected number of shared features in sample\n",
      "Note: unexpected number of shared features in sample\n",
      "Note: unexpected number of shared features in sample\n",
      "Note: unexpected number of shared features in sample\n",
      "Note: unexpected number of shared features in sample\n",
      "Note: unexpected number of shared features in sample\n",
      "Note: unexpected number of shared features in sample\n",
      "Note: unexpected number of shared features in sample\n",
      "Note: unexpected number of shared features in sample\n",
      "Note: unexpected number of shared features in sample\n",
      "Note: unexpected number of shared features in sample\n",
      "Note: unexpected number of shared features in sample\n",
      "Note: unexpected number of shared features in sample\n",
      "Note: unexpected number of shared features in sample\n",
      "Note: unexpected number of shared features in sample\n",
      "Note: unexpected number of shared features in sample\n",
      "Note: unexpected number of shared features in sample\n",
      "Note: unexpected number of shared features in sample\n",
      "Note: unexpected number of shared features in sample\n",
      "Note: unexpected number of shared features in sample\n",
      "Note: unexpected number of shared features in sample\n",
      "Note: unexpected number of shared features in sample\n",
      "Note: unexpected number of shared features in sample\n",
      "Note: unexpected number of shared features in sample\n",
      "Note: unexpected number of shared features in sample\n",
      "Note: unexpected number of shared features in sample\n",
      "Note: unexpected number of shared features in sample\n",
      "Note: unexpected number of shared features in sample\n",
      "Note: unexpected number of shared features in sample\n",
      "Note: unexpected number of shared features in sample\n",
      "Note: unexpected number of shared features in sample\n",
      "Note: unexpected number of shared features in sample\n",
      "Note: unexpected number of shared features in sample\n",
      "Note: unexpected number of shared features in sample\n",
      "Note: unexpected number of shared features in sample\n",
      "Note: unexpected number of shared features in sample\n",
      "Note: unexpected number of shared features in sample\n",
      "Note: unexpected number of shared features in sample\n",
      "Note: unexpected number of shared features in sample\n",
      "Note: unexpected number of shared features in sample\n",
      "Note: unexpected number of shared features in sample\n",
      "Note: unexpected number of shared features in sample\n",
      "Note: unexpected number of shared features in sample\n",
      "Note: unexpected number of shared features in sample\n",
      "Note: unexpected number of shared features in sample\n",
      "Note: unexpected number of shared features in sample\n",
      "Note: unexpected number of shared features in sample\n",
      "Note: unexpected number of shared features in sample\n",
      "Note: unexpected number of shared features in sample\n",
      "Note: unexpected number of shared features in sample\n",
      "Note: unexpected number of shared features in sample\n",
      "Note: unexpected number of shared features in sample\n",
      "Note: unexpected number of shared features in sample\n",
      "Note: unexpected number of shared features in sample\n",
      "Note: unexpected number of shared features in sample\n",
      "Note: unexpected number of shared features in sample\n",
      "Note: unexpected number of shared features in sample\n",
      "Note: unexpected number of shared features in sample\n",
      "Note: unexpected number of shared features in sample\n",
      "Note: unexpected number of shared features in sample\n",
      "Note: unexpected number of shared features in sample\n",
      "Note: unexpected number of shared features in sample\n",
      "Note: unexpected number of shared features in sample\n",
      "Note: unexpected number of shared features in sample\n",
      "Note: unexpected number of shared features in sample\n",
      "Note: unexpected number of shared features in sample\n",
      "Note: unexpected number of shared features in sample\n",
      "Note: unexpected number of shared features in sample\n",
      "Note: unexpected number of shared features in sample\n",
      "Note: unexpected number of shared features in sample\n",
      "Note: unexpected number of shared features in sample\n",
      "Note: unexpected number of shared features in sample\n",
      "Note: unexpected number of shared features in sample\n",
      "Note: unexpected number of shared features in sample\n",
      "Note: unexpected number of shared features in sample\n",
      "Note: unexpected number of shared features in sample\n",
      "Note: unexpected number of shared features in sample\n",
      "Note: unexpected number of shared features in sample\n",
      "Note: unexpected number of shared features in sample\n",
      "Note: unexpected number of shared features in sample\n",
      "Note: unexpected number of shared features in sample\n",
      "Note: unexpected number of shared features in sample\n",
      "Note: unexpected number of shared features in sample\n",
      "Note: unexpected number of shared features in sample\n",
      "Note: unexpected number of shared features in sample\n",
      "Note: unexpected number of shared features in sample\n",
      "Note: unexpected number of shared features in sample\n",
      "Note: unexpected number of shared features in sample\n",
      "Note: unexpected number of shared features in sample\n",
      "Note: unexpected number of shared features in sample\n",
      "Note: unexpected number of shared features in sample\n",
      "Note: unexpected number of shared features in sample\n",
      "Note: unexpected number of shared features in sample\n",
      "Note: unexpected number of shared features in sample\n",
      "Note: unexpected number of shared features in sample\n",
      "Note: unexpected number of shared features in sample\n",
      "Note: unexpected number of shared features in sample\n",
      "Note: unexpected number of shared features in sample\n",
      "Note: unexpected number of shared features in sample\n",
      "Note: unexpected number of shared features in sample\n",
      "Note: unexpected number of shared features in sample\n",
      "Note: unexpected number of shared features in sample\n",
      "Note: unexpected number of shared features in sample\n",
      "Note: unexpected number of shared features in sample\n",
      "Note: unexpected number of shared features in sample\n",
      "Note: unexpected number of shared features in sample\n",
      "Note: unexpected number of shared features in sample\n",
      "Note: unexpected number of shared features in sample\n",
      "Note: unexpected number of shared features in sample\n",
      "Note: unexpected number of shared features in sample\n",
      "Note: unexpected number of shared features in sample\n",
      "Note: unexpected number of shared features in sample\n",
      "Note: unexpected number of shared features in sample\n",
      "Note: unexpected number of shared features in sample\n",
      "Note: unexpected number of shared features in sample\n",
      "Note: unexpected number of shared features in sample\n",
      "Note: unexpected number of shared features in sample\n",
      "Note: unexpected number of shared features in sample\n",
      "Note: unexpected number of shared features in sample\n",
      "Note: unexpected number of shared features in sample\n",
      "Note: unexpected number of shared features in sample\n",
      "Note: unexpected number of shared features in sample\n",
      "Note: unexpected number of shared features in sample\n",
      "Note: unexpected number of shared features in sample\n",
      "Note: unexpected number of shared features in sample\n",
      "Note: unexpected number of shared features in sample\n",
      "Note: unexpected number of shared features in sample\n",
      "Note: unexpected number of shared features in sample\n",
      "Note: unexpected number of shared features in sample\n",
      "Note: unexpected number of shared features in sample\n",
      "Note: unexpected number of shared features in sample\n",
      "Note: unexpected number of shared features in sample\n",
      "Note: unexpected number of shared features in sample\n",
      "Note: unexpected number of shared features in sample\n",
      "Note: unexpected number of shared features in sample\n",
      "Note: unexpected number of shared features in sample\n",
      "Note: unexpected number of shared features in sample\n",
      "Note: unexpected number of shared features in sample\n",
      "Note: unexpected number of shared features in sample\n",
      "Note: unexpected number of shared features in sample\n",
      "Note: unexpected number of shared features in sample\n",
      "Note: unexpected number of shared features in sample\n",
      "Note: unexpected number of shared features in sample\n",
      "Note: unexpected number of shared features in sample\n",
      "Note: unexpected number of shared features in sample\n",
      "Note: unexpected number of shared features in sample\n",
      "Note: unexpected number of shared features in sample\n",
      "Note: unexpected number of shared features in sample\n",
      "Note: unexpected number of shared features in sample\n",
      "Note: unexpected number of shared features in sample\n",
      "Note: unexpected number of shared features in sample\n",
      "Note: unexpected number of shared features in sample\n",
      "Note: unexpected number of shared features in sample\n",
      "Note: unexpected number of shared features in sample\n",
      "Note: unexpected number of shared features in sample\n",
      "Note: unexpected number of shared features in sample\n",
      "Note: unexpected number of shared features in sample\n",
      "Note: unexpected number of shared features in sample\n",
      "Note: unexpected number of shared features in sample\n",
      "Note: unexpected number of shared features in sample\n",
      "Note: unexpected number of shared features in sample\n",
      "Note: unexpected number of shared features in sample\n",
      "Note: unexpected number of shared features in sample\n",
      "Note: unexpected number of shared features in sample\n",
      "Note: unexpected number of shared features in sample\n",
      "Note: unexpected number of shared features in sample\n",
      "Note: unexpected number of shared features in sample\n",
      "Note: unexpected number of shared features in sample\n",
      "Note: unexpected number of shared features in sample\n",
      "Note: unexpected number of shared features in sample\n",
      "Note: unexpected number of shared features in sample\n",
      "Note: unexpected number of shared features in sample\n",
      "Note: unexpected number of shared features in sample\n",
      "Note: unexpected number of shared features in sample\n",
      "Note: unexpected number of shared features in sample\n",
      "Note: unexpected number of shared features in sample\n",
      "Note: unexpected number of shared features in sample\n",
      "Note: unexpected number of shared features in sample\n",
      "Note: unexpected number of shared features in sample\n",
      "Note: unexpected number of shared features in sample\n",
      "Note: unexpected number of shared features in sample\n",
      "Note: unexpected number of shared features in sample\n",
      "Note: unexpected number of shared features in sample\n",
      "Note: unexpected number of shared features in sample\n",
      "Note: unexpected number of shared features in sample\n",
      "Note: unexpected number of shared features in sample\n",
      "Note: unexpected number of shared features in sample\n",
      "Note: unexpected number of shared features in sample\n",
      "Note: unexpected number of shared features in sample\n",
      "Note: unexpected number of shared features in sample\n",
      "Note: unexpected number of shared features in sample\n",
      "Note: unexpected number of shared features in sample\n",
      "Note: unexpected number of shared features in sample\n",
      "Note: unexpected number of shared features in sample\n",
      "Note: unexpected number of shared features in sample\n",
      "Note: unexpected number of shared features in sample\n",
      "Note: unexpected number of shared features in sample\n",
      "Note: unexpected number of shared features in sample\n",
      "Note: unexpected number of shared features in sample\n",
      "Note: unexpected number of shared features in sample\n",
      "Note: unexpected number of shared features in sample\n",
      "Note: unexpected number of shared features in sample\n",
      "Note: unexpected number of shared features in sample\n",
      "Note: unexpected number of shared features in sample\n",
      "Note: unexpected number of shared features in sample\n",
      "Note: unexpected number of shared features in sample\n",
      "Note: unexpected number of shared features in sample\n",
      "Note: unexpected number of shared features in sample\n",
      "Note: unexpected number of shared features in sample\n",
      "Note: unexpected number of shared features in sample\n",
      "Note: unexpected number of shared features in sample\n",
      "Note: unexpected number of shared features in sample\n",
      "Note: unexpected number of shared features in sample\n",
      "Note: unexpected number of shared features in sample\n",
      "Note: unexpected number of shared features in sample\n",
      "Note: unexpected number of shared features in sample\n",
      "Note: unexpected number of shared features in sample\n",
      "Note: unexpected number of shared features in sample\n",
      "Note: unexpected number of shared features in sample\n",
      "Note: unexpected number of shared features in sample\n",
      "Note: unexpected number of shared features in sample\n",
      "Note: unexpected number of shared features in sample\n",
      "Note: unexpected number of shared features in sample\n",
      "Note: unexpected number of shared features in sample\n",
      "Note: unexpected number of shared features in sample\n",
      "Note: unexpected number of shared features in sample\n",
      "Note: unexpected number of shared features in sample\n",
      "Note: unexpected number of shared features in sample\n",
      "Note: unexpected number of shared features in sample\n",
      "Note: unexpected number of shared features in sample\n",
      "Note: unexpected number of shared features in sample\n",
      "Note: unexpected number of shared features in sample\n",
      "Note: unexpected number of shared features in sample\n",
      "Note: unexpected number of shared features in sample\n",
      "Note: unexpected number of shared features in sample\n",
      "Note: unexpected number of shared features in sample\n",
      "Note: unexpected number of shared features in sample\n",
      "Note: unexpected number of shared features in sample\n",
      "Note: unexpected number of shared features in sample\n",
      "Note: unexpected number of shared features in sample\n",
      "Note: unexpected number of shared features in sample\n",
      "Note: unexpected number of shared features in sample\n",
      "Note: unexpected number of shared features in sample\n",
      "Note: unexpected number of shared features in sample\n",
      "Note: unexpected number of shared features in sample\n",
      "Note: unexpected number of shared features in sample\n",
      "Note: unexpected number of shared features in sample\n",
      "Note: unexpected number of shared features in sample\n",
      "Note: unexpected number of shared features in sample\n",
      "Note: unexpected number of shared features in sample\n",
      "Note: unexpected number of shared features in sample\n",
      "Note: unexpected number of shared features in sample\n",
      "Note: unexpected number of shared features in sample\n",
      "Note: unexpected number of shared features in sample\n",
      "Note: unexpected number of shared features in sample\n",
      "Note: unexpected number of shared features in sample\n",
      "Note: unexpected number of shared features in sample\n",
      "Note: unexpected number of shared features in sample\n",
      "Note: unexpected number of shared features in sample\n",
      "Note: unexpected number of shared features in sample\n",
      "Note: unexpected number of shared features in sample\n",
      "Note: unexpected number of shared features in sample\n",
      "Note: unexpected number of shared features in sample\n",
      "Note: unexpected number of shared features in sample\n",
      "Note: unexpected number of shared features in sample\n",
      "Note: unexpected number of shared features in sample\n",
      "Note: unexpected number of shared features in sample\n",
      "Note: unexpected number of shared features in sample\n",
      "Note: unexpected number of shared features in sample\n",
      "Note: unexpected number of shared features in sample\n",
      "Note: unexpected number of shared features in sample\n",
      "Note: unexpected number of shared features in sample\n",
      "Note: unexpected number of shared features in sample\n",
      "Note: unexpected number of shared features in sample\n",
      "Note: unexpected number of shared features in sample\n",
      "Note: unexpected number of shared features in sample\n",
      "Note: unexpected number of shared features in sample\n",
      "Note: unexpected number of shared features in sample\n",
      "Note: unexpected number of shared features in sample\n",
      "Note: unexpected number of shared features in sample\n",
      "Note: unexpected number of shared features in sample\n",
      "Note: unexpected number of shared features in sample\n",
      "Note: unexpected number of shared features in sample\n",
      "Note: unexpected number of shared features in sample\n",
      "Note: unexpected number of shared features in sample\n",
      "Note: unexpected number of shared features in sample\n",
      "Note: unexpected number of shared features in sample\n",
      "Note: unexpected number of shared features in sample\n",
      "Note: unexpected number of shared features in sample\n",
      "Note: unexpected number of shared features in sample\n",
      "Note: unexpected number of shared features in sample\n",
      "Note: unexpected number of shared features in sample\n",
      "Note: unexpected number of shared features in sample\n",
      "Note: unexpected number of shared features in sample\n",
      "Note: unexpected number of shared features in sample\n",
      "Note: unexpected number of shared features in sample\n",
      "Note: unexpected number of shared features in sample\n",
      "Note: unexpected number of shared features in sample\n",
      "Note: unexpected number of shared features in sample\n",
      "Note: unexpected number of shared features in sample\n",
      "Note: unexpected number of shared features in sample\n",
      "Note: unexpected number of shared features in sample\n",
      "Note: unexpected number of shared features in sample\n",
      "Note: unexpected number of shared features in sample\n",
      "Note: unexpected number of shared features in sample\n",
      "Note: unexpected number of shared features in sample\n",
      "Note: unexpected number of shared features in sample\n",
      "Note: unexpected number of shared features in sample\n",
      "Note: unexpected number of shared features in sample\n",
      "Note: unexpected number of shared features in sample\n",
      "Note: unexpected number of shared features in sample\n",
      "Note: unexpected number of shared features in sample\n",
      "Note: unexpected number of shared features in sample\n",
      "Performing significance tests took 18.8155 seconds\n",
      "P-values were not assigned to 7108 edges\n",
      "Calculating q-values took 0.5401 seconds\n",
      "Total CreateEdges execution: 33.6963 seconds\n"
     ]
    }
   ],
   "source": [
    "project_list = ['655bda68bba7c92509522479', '655c060abba7c925095555da', 'ccle']\n",
    "df, __ = coamp_graph_notebook_utils.concat_projects(project_list)\n",
    "graph = Graph(df)\n",
    "nodes = graph.Nodes()\n",
    "edges = graph.Edges()"
   ]
  },
  {
   "cell_type": "code",
   "execution_count": null,
   "id": "d76718fd",
   "metadata": {},
   "outputs": [],
   "source": [
    "# graph = Graph(df, pdD_model='merge25kbp_cap2mbp')"
   ]
  },
  {
   "cell_type": "code",
   "execution_count": null,
   "id": "6b22123c",
   "metadata": {},
   "outputs": [],
   "source": [
    "# P-value/Q-value Distributions by Test Type"
   ]
  },
  {
   "cell_type": "code",
   "execution_count": 4,
   "id": "8c966dff",
   "metadata": {},
   "outputs": [
    {
     "data": {
      "text/plain": [
       "7108"
      ]
     },
     "execution_count": 4,
     "metadata": {},
     "output_type": "execute_result"
    }
   ],
   "source": [
    "p_single, p_multi_interval, p_multi_chr, p_multi_ecdna = [], [], [], []\n",
    "q_single, q_multi_interval, q_multi_chr, q_multi_ecdna = [], [], [], []\n",
    "na_counter = 0\n",
    "for edge in edges:\n",
    "    p_vals = edge.get('p_values', [-1, -1, -1, -1])\n",
    "    q_vals = edge.get('q_values', [-1, -1, -1, -1])\n",
    "    if p_vals == [-1, -1, -1, -1]:# and edge.get('missing_interval_data'):\n",
    "        na_counter += 1\n",
    "    if len(p_vals) == 4:\n",
    "        p_single.append(p_vals[0])\n",
    "        p_multi_interval.append(p_vals[1])\n",
    "        p_multi_chr.append(p_vals[2])\n",
    "        p_multi_ecdna.append(p_vals[3])\n",
    "    if len(q_vals) == 4:\n",
    "        q_single.append(q_vals[0])\n",
    "        q_multi_interval.append(q_vals[1])\n",
    "        q_multi_chr.append(q_vals[2])\n",
    "        q_multi_ecdna.append(q_vals[3])\n",
    "na_counter"
   ]
  },
  {
   "cell_type": "code",
   "execution_count": 5,
   "id": "2d43c133",
   "metadata": {},
   "outputs": [],
   "source": [
    "def every_fifth_percentile(data):\n",
    "    data = np.array(data)\n",
    "    percentiles = np.arange(5, 100, 5)\n",
    "    return {p: np.percentile(data, p) for p in percentiles}\n",
    "\n",
    "# Calculate the percentiles and format them\n",
    "def print_percentiles_aligned(data):\n",
    "    results = every_fifth_percentile(data)\n",
    "\n",
    "    # Format and find max width for alignment\n",
    "    formatted = {k: f\"{v:.4f}\" for k, v in results.items()}\n",
    "    max_width = max(len(val) for val in formatted.values())\n",
    "\n",
    "    for k in sorted(formatted):\n",
    "        print(f\"{k:>2}th percentile: {formatted[k]:>{max_width}}\")"
   ]
  },
  {
   "cell_type": "code",
   "execution_count": 6,
   "id": "101ec210",
   "metadata": {},
   "outputs": [],
   "source": [
    "def plot_p_values(p_values, title=\"p_values\"):\n",
    "    filtered = [p for p in p_values if p != -1]\n",
    "    print(f\"{len(filtered)} valid p-values from {len(p_values)} edges\\n\")\n",
    "    \n",
    "    print_percentiles_aligned(filtered)\n",
    "    \n",
    "    plt.figure(figsize=(8, 6))\n",
    "    plt.hist(filtered, bins=50, alpha=0.7)\n",
    "    plt.title(title)\n",
    "    plt.xlabel(\"p-values\")\n",
    "    plt.ylabel(\"Frequency\")\n",
    "    plt.grid(axis='y', linestyle='--', alpha=0.7)\n",
    "    plt.show()\n",
    "    \n"
   ]
  },
  {
   "cell_type": "code",
   "execution_count": 8,
   "id": "a5c06547",
   "metadata": {},
   "outputs": [
    {
     "name": "stdout",
     "output_type": "stream",
     "text": [
      "130436 valid p-values from 410023 edges\n",
      "\n",
      " 5th percentile: 0.0000\n",
      "10th percentile: 0.0002\n",
      "15th percentile: 0.0018\n",
      "20th percentile: 0.0081\n",
      "25th percentile: 0.0217\n",
      "30th percentile: 0.0399\n",
      "35th percentile: 0.0514\n",
      "40th percentile: 0.0647\n",
      "45th percentile: 0.0791\n",
      "50th percentile: 0.0969\n",
      "55th percentile: 0.1166\n",
      "60th percentile: 0.1387\n",
      "65th percentile: 0.1644\n",
      "70th percentile: 0.1913\n",
      "75th percentile: 0.2203\n",
      "80th percentile: 0.2495\n",
      "85th percentile: 0.2802\n",
      "90th percentile: 0.3171\n",
      "95th percentile: 0.4448\n"
     ]
    },
    {
     "data": {
      "image/png": "[encoded data removed]",
      "text/plain": [
       "<Figure size 800x600 with 1 Axes>"
      ]
     },
     "metadata": {},
     "output_type": "display_data"
    }
   ],
   "source": [
    "plot_p_values(p_single, title=f\"Single Interval P-Values (T1)\")"
   ]
  },
  {
   "cell_type": "code",
   "execution_count": 9,
   "id": "5f2410df",
   "metadata": {},
   "outputs": [
    {
     "name": "stdout",
     "output_type": "stream",
     "text": [
      "130436 valid p-values from 410023 edges\n",
      "\n",
      " 5th percentile: 0.0000\n",
      "10th percentile: 0.0019\n",
      "15th percentile: 0.0119\n",
      "20th percentile: 0.0404\n",
      "25th percentile: 0.0867\n",
      "30th percentile: 0.1328\n",
      "35th percentile: 0.1470\n",
      "40th percentile: 0.1618\n",
      "45th percentile: 0.1757\n",
      "50th percentile: 0.1938\n",
      "55th percentile: 0.2120\n",
      "60th percentile: 0.2312\n",
      "65th percentile: 0.2529\n",
      "70th percentile: 0.2732\n",
      "75th percentile: 0.2937\n",
      "80th percentile: 0.3119\n",
      "85th percentile: 0.3296\n",
      "90th percentile: 0.3518\n",
      "95th percentile: 0.4683\n"
     ]
    },
    {
     "data": {
      "image/png": "[encoded data removed]",
      "text/plain": [
       "<Figure size 800x600 with 1 Axes>"
      ]
     },
     "metadata": {},
     "output_type": "display_data"
    }
   ],
   "source": [
    "plot_p_values(q_single, title=f\"Single Interval Q-Values (T1)\")"
   ]
  },
  {
   "cell_type": "code",
   "execution_count": 7,
   "id": "2a38ce94",
   "metadata": {},
   "outputs": [
    {
     "name": "stdout",
     "output_type": "stream",
     "text": [
      "194873 valid p-values from 410023 edges\n",
      "\n",
      " 5th percentile: 0.0000\n",
      "10th percentile: 0.0000\n",
      "15th percentile: 0.0000\n",
      "20th percentile: 0.0000\n",
      "25th percentile: 0.0000\n",
      "30th percentile: 0.0000\n",
      "35th percentile: 0.0000\n",
      "40th percentile: 0.0000\n",
      "45th percentile: 0.0000\n",
      "50th percentile: 0.0000\n",
      "55th percentile: 0.0000\n",
      "60th percentile: 0.0004\n",
      "65th percentile: 0.0008\n",
      "70th percentile: 0.0341\n",
      "75th percentile: 0.0341\n",
      "80th percentile: 0.0404\n",
      "85th percentile: 0.0435\n",
      "90th percentile: 0.0455\n",
      "95th percentile: 0.0495\n"
     ]
    },
    {
     "data": {
      "image/png": "[encoded data removed]",
      "text/plain": [
       "<Figure size 800x600 with 1 Axes>"
      ]
     },
     "metadata": {},
     "output_type": "display_data"
    }
   ],
   "source": [
    "plot_p_values(p_multi_interval, title=f\"Multi Interval P-Values (T2)\")"
   ]
  },
  {
   "cell_type": "code",
   "execution_count": null,
   "id": "9ecfa073",
   "metadata": {},
   "outputs": [],
   "source": [
    "plot_p_values(q_multi_interval, title=f\"Multi Interval Q-Values (T2)\")"
   ]
  },
  {
   "cell_type": "code",
   "execution_count": null,
   "id": "223d49fc",
   "metadata": {},
   "outputs": [],
   "source": [
    "plot_p_values(p_multi_chromosomal, title=f\"Multi Interval P-Values (T2)\")"
   ]
  },
  {
   "cell_type": "code",
   "execution_count": null,
   "id": "76f4c3bd",
   "metadata": {},
   "outputs": [],
   "source": [
    "# PARAMETER SWEEP FOR MERGING THRESHOLD"
   ]
  },
  {
   "cell_type": "code",
   "execution_count": null,
   "id": "25521efa",
   "metadata": {},
   "outputs": [],
   "source": [
    "# test merge cutoff param\n",
    "project_list_small = ['COLO320', 'GBM39']\n",
    "test_df, __ = coamp_graph_notebook_utils.concat_projects(project_list_small)\n",
    "test_graph = Graph(test_df, merge_cutoff=50000)\n",
    "print(test_graph.MERGE_CUTOFF)"
   ]
  },
  {
   "cell_type": "code",
   "execution_count": null,
   "id": "a72f4e7b",
   "metadata": {},
   "outputs": [],
   "source": [
    "tmp_graph = Graph(test_df, merge_cutoff=50000, construct_graph=False)\n",
    "processed_dataset = tmp_graph.preprocessed_dataset"
   ]
  },
  {
   "cell_type": "code",
   "execution_count": null,
   "id": "1cb29fc4",
   "metadata": {},
   "outputs": [],
   "source": [
    "def plot_lengths_dist(lengths, ax, merge_cutoff):\n",
    "    # add a subplot\n",
    "    ax.hist(lengths, bins=50, alpha=0.7, color='blue')\n",
    "    ax.set_title(f'merge_cutoff = {merge_cutoff}bp')\n",
    "    ax.set_xlabel(f\"Interval Lengths (n={len(lengths)})\")\n",
    "    ax.set_ylabel(\"Frequency\")\n",
    "\n",
    "    # plot mean line\n",
    "    if lengths:\n",
    "        adj_mean = sum(lengths) / len(lengths)\n",
    "        ax.axvline(adj_mean, color='black', linestyle='dashed', linewidth=2, label=f'Mean = {adj_mean:.2f}')\n",
    "    ax.legend()"
   ]
  },
  {
   "cell_type": "code",
   "execution_count": null,
   "id": "c4cda25a",
   "metadata": {},
   "outputs": [],
   "source": [
    "cutoff_values = list(range(10000, 51000, 5000))\n",
    "num_plots = len(cutoff_values)\n",
    "cols = 4\n",
    "rows = (num_plots + cols - 1) // cols\n",
    "\n",
    "fig, axes = plt.subplots(rows, cols, figsize=(4 * cols, 3 * rows))\n",
    "axes = axes.flatten() \n",
    "\n",
    "for idx, merge_cutoff in enumerate(cutoff_values):\n",
    "    ax = axes[idx]\n",
    "\n",
    "    tmp_graph = Graph(df, merge_cutoff=merge_cutoff, construct_graph=False)\n",
    "    processed_dataset = tmp_graph.preprocessed_dataset\n",
    "    lengths = [interval[2] - interval[1] for list in processed_dataset['Merged_Intervals'] for interval in list if interval]\n",
    "\n",
    "    plot_lengths_dist(lengths, ax, merge_cutoff)\n",
    "\n",
    "# hide unused subplots if any\n",
    "for j in range(len(cutoff_values), len(axes)):\n",
    "    fig.delaxes(axes[j])\n",
    "\n",
    "fig.tight_layout()\n",
    "plt.show()"
   ]
  },
  {
   "cell_type": "code",
   "execution_count": null,
   "id": "28905c77",
   "metadata": {},
   "outputs": [],
   "source": [
    "### PLOT pdD DISTRIBUTION FOR CAPPED LENGTHS MODEL ###"
   ]
  },
  {
   "cell_type": "code",
   "execution_count": null,
   "id": "95ec458b",
   "metadata": {},
   "outputs": [],
   "source": [
    "# df, __ = coamp_graph_notebook_utils.concat_projects(project_list)"
   ]
  },
  {
   "cell_type": "code",
   "execution_count": null,
   "id": "355bd106",
   "metadata": {},
   "outputs": [],
   "source": [
    "baseline = Graph(df)\n",
    "capped = Graph(df, pdD_model='gamma_capped_5m')\n",
    "merge25kbp_cap2mbp = Graph(df, pdD_model='merge25kbp_cap2mbp')\n",
    "merge25kbp_cap1mbp = Graph(df, pdD_model='merge25kbp_cap1mbp')"
   ]
  },
  {
   "cell_type": "code",
   "execution_count": null,
   "id": "08492b6d",
   "metadata": {},
   "outputs": [],
   "source": [
    "pdD_baseline = [edge['p_d_D'] for edge in baseline.Edges() if edge['p_d_D'] != -1]\n",
    "pdD_capped = [edge['p_d_D'] for edge in capped.Edges() if edge['p_d_D'] != -1]\n",
    "pdD_merge25kbp_cap2mbp = [edge['p_d_D'] for edge in merge25kbp_cap2mbp.Edges() if edge['p_d_D'] != -1]\n",
    "pdD_merge25kbp_cap1mbp = [edge['p_d_D'] for edge in merge25kbp_cap1mbp.Edges() if edge['p_d_D'] != -1]"
   ]
  },
  {
   "cell_type": "code",
   "execution_count": null,
   "id": "b08778e7",
   "metadata": {},
   "outputs": [],
   "source": [
    "pdD_baseline = pd.DataFrame(pdD_baseline, columns=['Baseline pdD Values'])\n",
    "pdD_baseline.describe()"
   ]
  },
  {
   "cell_type": "code",
   "execution_count": null,
   "id": "84ca3a98",
   "metadata": {},
   "outputs": [],
   "source": [
    "pdD_capped = pd.DataFrame(pdD_capped, columns=['pdD Values'])\n",
    "pdD_capped.describe()"
   ]
  },
  {
   "cell_type": "code",
   "execution_count": null,
   "id": "acceb00f",
   "metadata": {},
   "outputs": [],
   "source": [
    "pdD_merge25kbp_cap2mbp = pd.DataFrame(pdD_merge25kbp_cap2mbp, columns=['Case 1 pdD Values'])\n",
    "pdD_merge25kbp_cap2mbp.describe()"
   ]
  },
  {
   "cell_type": "code",
   "execution_count": null,
   "id": "6341398b",
   "metadata": {},
   "outputs": [],
   "source": [
    "pdD_merge25kbp_cap1mbp = pd.DataFrame(pdD_merge25kbp_cap1mbp, columns=['Case 2 pdD Values'])\n",
    "pdD_merge25kbp_cap1mbp.describe()"
   ]
  },
  {
   "cell_type": "code",
   "execution_count": null,
   "id": "df7b07d0",
   "metadata": {},
   "outputs": [],
   "source": [
    "# overlayed\n",
    "plt.figure(figsize=(8, 5))\n",
    "plt.hist(pdD_baseline, bins=50, range=(0, 1), alpha=0.5, label='Baseline')\n",
    "plt.hist(pdD_merge25kbp_cap1mbp, bins=50, range=(0, 1), alpha=0.5, label='Capped 1Mbp, Merged 25kbp')\n",
    "plt.xlabel('pdD Value')\n",
    "plt.ylabel('Frequency')\n",
    "plt.title('Histogram of pdD Values')\n",
    "plt.legend()\n",
    "plt.grid(True)\n",
    "plt.tight_layout()\n",
    "plt.show()"
   ]
  },
  {
   "cell_type": "code",
   "execution_count": null,
   "id": "dd5e36ce",
   "metadata": {},
   "outputs": [],
   "source": [
    "# side by side\n",
    "fig, axs = plt.subplots(1, 2, figsize=(12, 5), sharey=True)\n",
    "\n",
    "# histogram for baseline\n",
    "axs[0].hist(pdD_baseline, bins=50, range=(0, 1), color='skyblue', edgecolor='black')\n",
    "axs[0].set_title('Baseline pdD')\n",
    "axs[0].set_xlabel('pdD Value')\n",
    "axs[0].set_ylabel('Frequency')\n",
    "axs[0].grid(True)\n",
    "\n",
    "# histogram for capped\n",
    "axs[1].hist(pdD_merge25kbp_cap2mbp, bins=50, range=(0, 1), color='salmon', edgecolor='black')\n",
    "axs[1].set_title('Case 1: Merge 25kbp apart, Cap 2Mbp')\n",
    "axs[1].set_xlabel('pdD Value')\n",
    "axs[1].grid(True)\n",
    "\n",
    "plt.tight_layout()\n",
    "plt.show()"
   ]
  },
  {
   "cell_type": "code",
   "execution_count": null,
   "id": "40243b76",
   "metadata": {},
   "outputs": [],
   "source": [
    "p_single = []\n",
    "q_single = []\n",
    "na_counter = 0\n",
    "for edge in merge25kbp_cap1mbp.Edges():\n",
    "    p_vals = edge.get('p_values', [-1, -1, -1, -1])\n",
    "    q_vals = edge.get('q_values', [-1, -1, -1, -1])\n",
    "    if p_vals == [-1, -1, -1, -1]:# and edge.get('missing_interval_data'):\n",
    "        na_counter += 1\n",
    "    if len(p_vals) == 4:\n",
    "        p_single.append(p_vals[0])\n",
    "    if len(q_vals) == 4:\n",
    "        q_single.append(q_vals[0])\n",
    "na_counter"
   ]
  },
  {
   "cell_type": "code",
   "execution_count": null,
   "id": "af5a763c",
   "metadata": {},
   "outputs": [],
   "source": [
    "plot_p_values(p_single, title=f\"Single Interval P-Values, merge25kbp_cap2mbp pdD\")"
   ]
  },
  {
   "cell_type": "code",
   "execution_count": null,
   "id": "30d16cdd",
   "metadata": {},
   "outputs": [],
   "source": [
    "plot_p_values(q_single, title=f\"Single Interval Q-Values, merge25kbp_cap2mbp pdD\")"
   ]
  },
  {
   "cell_type": "code",
   "execution_count": null,
   "id": "7612ddcc",
   "metadata": {},
   "outputs": [],
   "source": []
  }
 ],
 "metadata": {
  "kernelspec": {
   "display_name": "ampliconenv",
   "language": "python",
   "name": "python3"
  },
  "language_info": {
   "codemirror_mode": {
    "name": "ipython",
    "version": 3
   },
   "file_extension": ".py",
   "mimetype": "text/x-python",
   "name": "python",
   "nbconvert_exporter": "python",
   "pygments_lexer": "ipython3",
   "version": "3.8.20"
  }
 },
 "nbformat": 4,
 "nbformat_minor": 5
}

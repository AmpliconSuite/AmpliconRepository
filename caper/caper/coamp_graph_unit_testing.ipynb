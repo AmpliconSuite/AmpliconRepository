{
 "cells": [
  {
   "cell_type": "code",
   "execution_count": 1,
   "id": "4381177b",
   "metadata": {},
   "outputs": [],
   "source": [
    "import subprocess\n",
    "import os\n",
    "\n",
    "# Source the config.sh file and capture the environment\n",
    "result = subprocess.run(['bash', '-c', 'source ../config.sh && env'], \n",
    "                       capture_output=True, text=True)\n",
    "\n",
    "# Parse the environment variables\n",
    "for line in result.stdout.strip().split('\\n'):\n",
    "    if '=' in line:\n",
    "        key, value = line.split('=', 1)\n",
    "        os.environ[key] = value"
   ]
  },
  {
   "cell_type": "code",
   "execution_count": 7,
   "id": "1ca25179",
   "metadata": {},
   "outputs": [],
   "source": [
    "import coamp_graph\n",
    "import importlib\n",
    "importlib.reload(coamp_graph)\n",
    "from coamp_graph import Graph\n",
    "import coamp_graph_notebook_utils\n",
    "import numpy as np\n",
    "import matplotlib.pyplot as plt\n",
    "import pandas as pd"
   ]
  },
  {
   "cell_type": "code",
   "execution_count": null,
   "id": "096785ff",
   "metadata": {},
   "outputs": [],
   "source": [
    "coamp_graph_notebook_utils.get_all_projects()"
   ]
  },
  {
   "cell_type": "code",
   "execution_count": null,
   "id": "1268aa70",
   "metadata": {},
   "outputs": [],
   "source": [
    "coamp_graph_notebook_utils.get_all_alias()"
   ]
  },
  {
   "cell_type": "code",
   "execution_count": 8,
   "id": "a4c5276a",
   "metadata": {},
   "outputs": [
    {
     "name": "stdout",
     "output_type": "stream",
     "text": [
      "Retrieved locations for 22998 GRCh38 genes in 0.21 seconds\n",
      "Loaded 28555 genes from provided reference files\n",
      "Gene record creation time: 1.05 seconds\n",
      "31508\n",
      "Matched location data for 22976 genes\n",
      "Filtering features took 0.0008 seconds, resulting in 9 features\n",
      "Preprocessing intervals and reformatting dataset took 0.0018 seconds\n",
      "Starting CreateNodes with 9 rows\n",
      "Note: 0 genes are amplified on multiple feature IDs in the same sample\n",
      "TEST: 142 searches where gene's location is found\n",
      "TEST: 142 searches where gene's chr on interval and gene's location is matched to an interval\n",
      "TEST: 0 searches where gene's chr on interval but gene's location is NOT matched to an interval (0 unique nodes)\n",
      "TEST: 0 searches where gene's chr not on interval (0 unique nodes)\n",
      "Processing 142 genes took 0.0037 seconds, resulting in 111 unique nodes\n",
      "0 genes were marked amplified on a set of empty intervals\n",
      "Total CreateNodes execution: 0.0037 seconds\n",
      "Starting CreateEdges with 111 nodes\n",
      "Building features index took 0.0000 seconds: 9 unique features\n",
      "Collecting potential pairs took 0.0004 seconds: 1164 unique pairs\n",
      "Constructing edges took 0.0530 seconds: 1164 edges with non-empty intersections\n",
      "Performing significance tests took 0.0736 seconds\n",
      "P-values were not assigned to 0 edges\n",
      "Calculating q-values took 0.0011 seconds\n",
      "Total CreateEdges execution: 0.1285 seconds\n"
     ]
    }
   ],
   "source": [
    "#small_project_list = ['COLO320', 'GBM39']\n",
    "small_project_list = ['ec3D']\n",
    "small_df, __ = coamp_graph_notebook_utils.concat_projects(small_project_list)\n",
    "small_graph = Graph(small_df)"
   ]
  },
  {
   "cell_type": "code",
   "execution_count": 9,
   "id": "eb268bf0",
   "metadata": {},
   "outputs": [
    {
     "name": "stderr",
     "output_type": "stream",
     "text": [
      "WARNING:root:Could not lookup project CCLE with metadata, had to use project name!\n",
      "WARNING:root:Could not lookup project CCLE with metadata, had to use project name!\n",
      "WARNING:root:Could not lookup project DepMap, had to use project name!\n",
      "WARNING:root:Could not lookup project DepMap, had to use project name!\n",
      "WARNING:root:Could not lookup project PCAWG, had to use project name!\n",
      "WARNING:root:Could not lookup project PCAWG, had to use project name!\n"
     ]
    },
    {
     "name": "stdout",
     "output_type": "stream",
     "text": [
      "Retrieved locations for 22998 GRCh38 genes in 0.02 seconds\n",
      "Loaded 28555 genes from provided reference files\n",
      "Gene record creation time: 1.32 seconds\n",
      "31508\n",
      "Matched location data for 22976 genes\n",
      "Filtering features took 0.0065 seconds, resulting in 1502 features\n",
      "Preprocessing intervals and reformatting dataset took 0.0417 seconds\n",
      "Starting CreateNodes with 1502 rows\n",
      "Note: 0 genes are amplified on multiple feature IDs in the same sample\n",
      "TEST: 29838 searches where gene's location is found\n",
      "TEST: 25239 searches where gene's chr on interval and gene's location is matched to an interval\n",
      "TEST: 4588 searches where gene's chr on interval but gene's location is NOT matched to an interval (2422 unique nodes)\n",
      "TEST: 11 searches where gene's chr not on interval (7 unique nodes)\n",
      "Processing 29969 genes took 0.1654 seconds, resulting in 9699 unique nodes\n",
      "0 genes were marked amplified on a set of empty intervals\n",
      "Total CreateNodes execution: 0.1660 seconds\n",
      "Starting CreateEdges with 9699 nodes\n",
      "Building features index took 0.0031 seconds: 1352 unique features\n",
      "Collecting potential pairs took 0.1946 seconds: 622789 unique pairs\n",
      "Constructing edges took 27.9792 seconds: 622789 edges with non-empty intersections\n",
      "Performing significance tests took 38.4728 seconds\n",
      "P-values were not assigned to 88580 edges\n",
      "Calculating q-values took 0.5465 seconds\n",
      "Total CreateEdges execution: 67.5988 seconds\n"
     ]
    }
   ],
   "source": [
    "#project_list = ['655bda68bba7c92509522479', '655c060abba7c925095555da', 'ccle']\n",
    "project_list = ['CCLE with metadata', 'DepMap', 'PCAWG']  # jens\n",
    "df, __ = coamp_graph_notebook_utils.concat_projects(project_list)\n",
    "graph = Graph(df)"
   ]
  },
  {
   "cell_type": "code",
   "execution_count": 13,
   "id": "00b9c447",
   "metadata": {},
   "outputs": [
    {
     "name": "stdout",
     "output_type": "stream",
     "text": [
      "CDK4 location: ('chr12', 57747726, 57752310)\n",
      "MDM2 location: ('chr12', 68808171, 68845544)\n",
      "Distance: 11055861\n",
      "Stored p-value: 0.0\n",
      "Stored q-value: 0.0\n",
      "\n",
      "pdD value: 0.00024640189099767174\n",
      "CDK4 samples: 51\n",
      "MDM2 samples: 49\n",
      "CDK4 & MDM2 samples: 34\n",
      "Total samples: 1502\n",
      "Observed counts ([O11, O12, O21, O22]): [34, 17, 15, 1436]\n",
      "Expected counts ([E11, E12, E21, E22]): [1.6633716655621817, 49.336218375499335, 47.336218375499335, 1403.664191583439]\n",
      "\n",
      "test_statistic: 672.6656800778796\n",
      "p_val_two_sided: 0.0\n",
      "diagonal_residual_sum: 64.67243675099871\n",
      "p_val_one_sided: 0.0\n",
      "\n",
      "Final p-value:  0.0\n"
     ]
    }
   ],
   "source": [
    "# test selection\n",
    "# --------------\n",
    "# 0: single-interval\n",
    "# 1: multi-interval\n",
    "# 2: multi-chromosomal\n",
    "# 3: multi-ecdna\n",
    "graph.test_dry_run(\"CDK4\", \"MDM2\", test=1)"
   ]
  },
  {
   "cell_type": "code",
   "execution_count": null,
   "id": "7e0398e7",
   "metadata": {},
   "outputs": [],
   "source": [
    "graph.test_selection_dry_run(\"CASC11\", \"MYC\")"
   ]
  },
  {
   "cell_type": "code",
   "execution_count": null,
   "id": "a6c737ce",
   "metadata": {},
   "outputs": [],
   "source": [
    "# compare interval json dumps after reimplementation with interval tree\n",
    "# small_graph.export_intervals(output_file=\"intervals_small_dataset.json\")\n",
    "# graph.export_intervals(output_file=\"intervals_new.json\")"
   ]
  },
  {
   "cell_type": "code",
   "execution_count": null,
   "id": "9691150f",
   "metadata": {},
   "outputs": [],
   "source": [
    "# small_graph.Nodes()[0]"
   ]
  },
  {
   "cell_type": "code",
   "execution_count": null,
   "id": "e34f63aa",
   "metadata": {},
   "outputs": [],
   "source": [
    "small_graph.Edges()[0]"
   ]
  },
  {
   "cell_type": "code",
   "execution_count": null,
   "id": "51958464",
   "metadata": {},
   "outputs": [],
   "source": [
    "small_graph.test_selection_dry_run(\"CASC11\", \"PRNCR1\")"
   ]
  },
  {
   "cell_type": "code",
   "execution_count": null,
   "id": "97b51da9",
   "metadata": {},
   "outputs": [],
   "source": [
    "# test selection\n",
    "# --------------\n",
    "# 0: single-interval\n",
    "# 1: multi-interval\n",
    "# 2: multi-chromosomal\n",
    "# 3: multi-ecdna\n",
    "graph.test_dry_run(\"CDK4\", \"MDM2\", test=1)"
   ]
  }
 ],
 "metadata": {
  "kernelspec": {
   "display_name": "Python 3 (ipykernel)",
   "language": "python",
   "name": "python3"
  },
  "language_info": {
   "codemirror_mode": {
    "name": "ipython",
    "version": 3
   },
   "file_extension": ".py",
   "mimetype": "text/x-python",
   "name": "python",
   "nbconvert_exporter": "python",
   "pygments_lexer": "ipython3",
   "version": "3.11.5"
  }
 },
 "nbformat": 4,
 "nbformat_minor": 5
}

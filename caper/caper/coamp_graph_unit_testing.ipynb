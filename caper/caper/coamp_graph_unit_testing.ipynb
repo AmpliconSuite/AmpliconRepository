{
 "cells": [
  {
   "cell_type": "code",
   "execution_count": 1,
   "id": "4381177b",
   "metadata": {},
   "outputs": [],
   "source": [
    "import subprocess\n",
    "import os\n",
    "\n",
    "# Source the config.sh file and capture the environment\n",
    "result = subprocess.run(['bash', '-c', 'source ../config.sh && env'], \n",
    "                       capture_output=True, text=True)\n",
    "\n",
    "# Parse the environment variables\n",
    "for line in result.stdout.strip().split('\\n'):\n",
    "    if '=' in line:\n",
    "        key, value = line.split('=', 1)\n",
    "        os.environ[key] = value"
   ]
  },
  {
   "cell_type": "code",
   "execution_count": 2,
   "id": "1ca25179",
   "metadata": {},
   "outputs": [],
   "source": [
    "from coamp_graph import Graph\n",
    "import coamp_graph_notebook_utils\n",
    "import numpy as np\n",
    "import matplotlib.pyplot as plt\n",
    "import pandas as pd"
   ]
  },
  {
   "cell_type": "code",
   "execution_count": 3,
   "id": "096785ff",
   "metadata": {},
   "outputs": [
    {
     "data": {
      "text/plain": [
       "['CCLE',\n",
       " 'COLO320',\n",
       " 'COLO320 DM & HSR hg38',\n",
       " 'COLOtest',\n",
       " 'GBM39',\n",
       " 'PCAWG',\n",
       " 'TCGA']"
      ]
     },
     "execution_count": 3,
     "metadata": {},
     "output_type": "execute_result"
    }
   ],
   "source": [
    "coamp_graph_notebook_utils.get_all_projects()"
   ]
  },
  {
   "cell_type": "code",
   "execution_count": 4,
   "id": "1268aa70",
   "metadata": {},
   "outputs": [
    {
     "data": {
      "text/plain": [
       "['655bda68bba7c92509522479',\n",
       " '655c060abba7c925095555da',\n",
       " 'COLO320',\n",
       " 'COLO320_1',\n",
       " 'GBM39',\n",
       " 'ccle',\n",
       " 'coolest']"
      ]
     },
     "execution_count": 4,
     "metadata": {},
     "output_type": "execute_result"
    }
   ],
   "source": [
    "coamp_graph_notebook_utils.get_all_alias()"
   ]
  },
  {
   "cell_type": "code",
   "execution_count": null,
   "id": "a4c5276a",
   "metadata": {},
   "outputs": [],
   "source": [
    "# small_project_list = ['COLO320', 'GBM39']\n",
    "# small_df, __ = coamp_graph_notebook_utils.concat_projects(small_project_list)\n",
    "# small_graph = Graph(small_df)\n",
    "project_list = ['655bda68bba7c92509522479', '655c060abba7c925095555da', 'ccle']\n",
    "df, __ = coamp_graph_notebook_utils.concat_projects(project_list)\n",
    "graph = Graph(df)"
   ]
  },
  {
   "cell_type": "code",
   "execution_count": null,
   "id": "9691150f",
   "metadata": {},
   "outputs": [],
   "source": [
    "# small_graph.Nodes()[0]"
   ]
  },
  {
   "cell_type": "code",
   "execution_count": null,
   "id": "e34f63aa",
   "metadata": {},
   "outputs": [],
   "source": [
    "# small_graph.Edges()[0]"
   ]
  },
  {
   "cell_type": "code",
   "execution_count": null,
   "id": "97b51da9",
   "metadata": {},
   "outputs": [],
   "source": [
    "# test selection\n",
    "# --------------\n",
    "# 0: single-interval\n",
    "# 1: multi-interval\n",
    "# 2: multi-chromosomal\n",
    "# 3: multi-ecdna\n",
    "graph.test_edge(\"CDK4\", \"MDM2\", test=1)"
   ]
  }
 ],
 "metadata": {
  "kernelspec": {
   "display_name": "ampliconenv",
   "language": "python",
   "name": "python3"
  },
  "language_info": {
   "codemirror_mode": {
    "name": "ipython",
    "version": 3
   },
   "file_extension": ".py",
   "mimetype": "text/x-python",
   "name": "python",
   "nbconvert_exporter": "python",
   "pygments_lexer": "ipython3",
   "version": "3.8.20"
  }
 },
 "nbformat": 4,
 "nbformat_minor": 5
}

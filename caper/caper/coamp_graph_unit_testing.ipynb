{
 "cells": [
  {
   "cell_type": "code",
   "execution_count": 36,
   "id": "4381177b",
   "metadata": {},
   "outputs": [],
   "source": [
    "import subprocess\n",
    "import os\n",
    "\n",
    "# Source the config.sh file and capture the environment\n",
    "result = subprocess.run(['bash', '-c', 'source ../config.sh && env'], \n",
    "                       capture_output=True, text=True)\n",
    "\n",
    "# Parse the environment variables\n",
    "for line in result.stdout.strip().split('\\n'):\n",
    "    if '=' in line:\n",
    "        key, value = line.split('=', 1)\n",
    "        os.environ[key] = value"
   ]
  },
  {
   "cell_type": "code",
   "execution_count": 60,
   "id": "1ca25179",
   "metadata": {},
   "outputs": [],
   "source": [
    "import coamp_graph\n",
    "import importlib\n",
    "importlib.reload(coamp_graph)\n",
    "from coamp_graph import Graph\n",
    "import coamp_graph_notebook_utils\n",
    "import numpy as np\n",
    "import matplotlib.pyplot as plt\n",
    "import pandas as pd"
   ]
  },
  {
   "cell_type": "code",
   "execution_count": null,
   "id": "096785ff",
   "metadata": {},
   "outputs": [],
   "source": [
    "coamp_graph_notebook_utils.get_all_projects()"
   ]
  },
  {
   "cell_type": "code",
   "execution_count": null,
   "id": "1268aa70",
   "metadata": {},
   "outputs": [],
   "source": [
    "coamp_graph_notebook_utils.get_all_alias()"
   ]
  },
  {
   "cell_type": "code",
   "execution_count": 61,
   "id": "a4c5276a",
   "metadata": {},
   "outputs": [
    {
     "name": "stdout",
     "output_type": "stream",
     "text": [
      "Using reference genome: hg38 (input references: ['GRCh38'])\n",
      "Filtering features took 0.0007 seconds, resulting in 9 features\n",
      "Preprocessing intervals and reformatting dataset took 0.0016 seconds\n",
      "Loaded 22998 genes from hg38 in 3.13 seconds\n",
      "Total gene name variants: 45996\n",
      "Genes with location data: 22998\n",
      "Starting CreateNodes with 9 rows\n",
      "Note: 0 genes are amplified on multiple feature IDs in the same sample\n",
      "TEST: 142 searches where gene's location is found\n",
      "TEST: 142 searches where gene's chr on interval and gene's location is matched to an interval\n",
      "TEST: 0 searches where gene's chr on interval but gene's location is NOT matched to an interval (0 unique nodes)\n",
      "TEST: 0 searches where gene's chr not on interval (0 unique nodes)\n",
      "Processing 142 genes took 0.0036 seconds, resulting in 111 unique nodes\n",
      "0 genes were marked amplified on a set of empty intervals\n",
      "Total CreateNodes execution: 0.0037 seconds\n",
      "Starting CreateEdges with 111 nodes\n",
      "Building features index took 0.0000 seconds: 9 unique features\n",
      "Collecting potential pairs took 0.0003 seconds: 1164 unique pairs\n",
      "Constructing edges took 0.0029 seconds: 1164 edges with non-empty intersections\n",
      "Computing p_d_D values took 0.0007 seconds\n",
      "Performing significance tests took 0.0723 seconds\n",
      "P-values were not assigned to 0 edges\n",
      "Calculating q-values took 0.0011 seconds\n",
      "Total CreateEdges execution: 0.0778 seconds\n"
     ]
    }
   ],
   "source": [
    "#small_project_list = ['COLO320', 'GBM39']\n",
    "small_project_list = ['ec3D']\n",
    "small_df, __ = coamp_graph_notebook_utils.concat_projects(small_project_list)\n",
    "small_graph = Graph(small_df)"
   ]
  },
  {
   "cell_type": "code",
   "execution_count": 62,
   "id": "eb268bf0",
   "metadata": {},
   "outputs": [
    {
     "name": "stderr",
     "output_type": "stream",
     "text": [
      "WARNING:root:Could not lookup project DepMap, had to use project name!\n",
      "WARNING:root:Could not lookup project DepMap, had to use project name!\n",
      "WARNING:root:Could not lookup project CCLE with metadata, had to use project name!\n",
      "WARNING:root:Could not lookup project CCLE with metadata, had to use project name!\n"
     ]
    },
    {
     "name": "stdout",
     "output_type": "stream",
     "text": [
      "Using reference genome: hg38 (input references: ['GRCh38'])\n",
      "Filtering features took 0.0039 seconds, resulting in 841 features\n",
      "Preprocessing intervals and reformatting dataset took 0.0266 seconds\n",
      "Loaded 22998 genes from hg38 in 3.12 seconds\n",
      "Total gene name variants: 45996\n",
      "Genes with location data: 22998\n",
      "Starting CreateNodes with 841 rows\n",
      "Note: 0 genes are amplified on multiple feature IDs in the same sample\n",
      "TEST: 15925 searches where gene's location is found\n",
      "TEST: 15925 searches where gene's chr on interval and gene's location is matched to an interval\n",
      "TEST: 0 searches where gene's chr on interval but gene's location is NOT matched to an interval (0 unique nodes)\n",
      "TEST: 0 searches where gene's chr not on interval (0 unique nodes)\n",
      "Processing 15925 genes took 0.0967 seconds, resulting in 6090 unique nodes\n",
      "0 genes were marked amplified on a set of empty intervals\n",
      "Total CreateNodes execution: 0.0973 seconds\n",
      "Starting CreateEdges with 6090 nodes\n",
      "Building features index took 0.0019 seconds: 738 unique features\n",
      "Collecting potential pairs took 0.0832 seconds: 300128 unique pairs\n",
      "Constructing edges took 1.6639 seconds: 300128 edges with non-empty intersections\n",
      "Computing p_d_D values took 0.0809 seconds\n",
      "Performing significance tests took 19.8711 seconds\n",
      "P-values were not assigned to 0 edges\n",
      "Calculating q-values took 0.2325 seconds\n",
      "Total CreateEdges execution: 22.0609 seconds\n"
     ]
    }
   ],
   "source": [
    "#project_list = ['655bda68bba7c92509522479', '655c060abba7c925095555da', 'ccle']\n",
    "project_list = ['DepMap', 'CCLE with metadata']  # jens\n",
    "df, __ = coamp_graph_notebook_utils.concat_projects(project_list)\n",
    "graph = Graph(df)"
   ]
  },
  {
   "cell_type": "code",
   "execution_count": 74,
   "id": "00b9c447",
   "metadata": {},
   "outputs": [
    {
     "name": "stdout",
     "output_type": "stream",
     "text": [
      "CDK4 location: ('chr12', 57747726, 57752310)\n",
      "ERBB2 location: ('chr17', 39688083, 39717657)\n",
      "Distance: -1\n",
      "Stored p-value: 0.00010713027367109662\n",
      "Stored q-value: 0.00021443234618671658\n",
      "\n",
      "Co-amplification counts: {'single_interval': 0, 'multi_interval': 0, 'multi_chromosomal': 1, 'multi_ecdna': 0, 'total': 1}\n",
      "\n",
      "Multichromosomal rate: 0.116055\n",
      "CDK4 samples: 16\n",
      "ERBB2 samples: 29\n",
      "CDK4 & ERBB2 (multi chromosomal): 1\n",
      "Total co-amplifications: 1\n",
      "Non-applicable co-amps: 0\n",
      "Total samples: 841\n",
      "Observed counts ([O11, O12, O21, O22]): [1, 15.0, 28.0, 797.0]\n",
      "Expected counts ([E11, E12, E21, E22]): [0.06403034482758621, 15.448275862068966, 28.448275862068964, 797.0394179310344]\n",
      "\n",
      "test_statistic: 13.701699145810279\n",
      "p_val_two_sided: 0.00021426054734219324\n",
      "diagonal_residual_sum: 0.896551724137964\n",
      "p_val_one_sided: 0.00010713027367109662\n",
      "\n",
      "Final p-value:  0.00010713027367109662\n"
     ]
    }
   ],
   "source": [
    "# test selection\n",
    "# --------------\n",
    "# 0: single-interval\n",
    "# 1: multi-interval\n",
    "# 2: multi-chromosomal\n",
    "# 3: multi-ecdna\n",
    "graph.test_dry_run(\"CDK4\", \"ERBB2\", test=2)"
   ]
  },
  {
   "cell_type": "code",
   "execution_count": null,
   "id": "7e0398e7",
   "metadata": {},
   "outputs": [],
   "source": [
    "graph.test_selection_dry_run(\"CASC11\", \"MYC\")"
   ]
  },
  {
   "cell_type": "code",
   "execution_count": null,
   "id": "a6c737ce",
   "metadata": {},
   "outputs": [],
   "source": [
    "# compare interval json dumps after reimplementation with interval tree\n",
    "# small_graph.export_intervals(output_file=\"intervals_small_dataset.json\")\n",
    "# graph.export_intervals(output_file=\"intervals_new.json\")"
   ]
  },
  {
   "cell_type": "code",
   "execution_count": null,
   "id": "9691150f",
   "metadata": {},
   "outputs": [],
   "source": [
    "# small_graph.Nodes()[0]"
   ]
  },
  {
   "cell_type": "code",
   "execution_count": null,
   "id": "e34f63aa",
   "metadata": {},
   "outputs": [],
   "source": [
    "small_graph.Edges()[0]"
   ]
  },
  {
   "cell_type": "code",
   "execution_count": null,
   "id": "51958464",
   "metadata": {},
   "outputs": [],
   "source": [
    "small_graph.test_selection_dry_run(\"CASC11\", \"PRNCR1\")"
   ]
  },
  {
   "cell_type": "code",
   "execution_count": null,
   "id": "97b51da9",
   "metadata": {},
   "outputs": [],
   "source": [
    "# test selection\n",
    "# --------------\n",
    "# 0: single-interval\n",
    "# 1: multi-interval\n",
    "# 2: multi-chromosomal\n",
    "# 3: multi-ecdna\n",
    "graph.test_dry_run(\"CDK4\", \"MDM2\", test=1)"
   ]
  }
 ],
 "metadata": {
  "kernelspec": {
   "display_name": "Python 3 (ipykernel)",
   "language": "python",
   "name": "python3"
  },
  "language_info": {
   "codemirror_mode": {
    "name": "ipython",
    "version": 3
   },
   "file_extension": ".py",
   "mimetype": "text/x-python",
   "name": "python",
   "nbconvert_exporter": "python",
   "pygments_lexer": "ipython3",
   "version": "3.11.5"
  }
 },
 "nbformat": 4,
 "nbformat_minor": 5
}

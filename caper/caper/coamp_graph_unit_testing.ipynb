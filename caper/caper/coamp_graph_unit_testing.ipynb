{
 "cells": [
  {
   "cell_type": "code",
   "execution_count": 1,
   "id": "4381177b",
   "metadata": {},
   "outputs": [],
   "source": [
    "import subprocess\n",
    "import os\n",
    "\n",
    "# Source the config.sh file and capture the environment\n",
    "result = subprocess.run(['bash', '-c', 'source ../config.sh && env'], \n",
    "                       capture_output=True, text=True)\n",
    "\n",
    "# Parse the environment variables\n",
    "for line in result.stdout.strip().split('\\n'):\n",
    "    if '=' in line:\n",
    "        key, value = line.split('=', 1)\n",
    "        os.environ[key] = value"
   ]
  },
  {
   "cell_type": "code",
   "execution_count": 2,
   "id": "1ca25179",
   "metadata": {},
   "outputs": [],
   "source": [
    "from coamp_graph import Graph\n",
    "import coamp_graph_notebook_utils\n",
    "import numpy as np\n",
    "import matplotlib.pyplot as plt\n",
    "import pandas as pd"
   ]
  },
  {
   "cell_type": "code",
   "execution_count": null,
   "id": "096785ff",
   "metadata": {},
   "outputs": [],
   "source": [
    "coamp_graph_notebook_utils.get_all_projects()"
   ]
  },
  {
   "cell_type": "code",
   "execution_count": null,
   "id": "1268aa70",
   "metadata": {},
   "outputs": [],
   "source": [
    "coamp_graph_notebook_utils.get_all_alias()"
   ]
  },
  {
   "cell_type": "code",
   "execution_count": null,
   "id": "a4c5276a",
   "metadata": {},
   "outputs": [],
   "source": [
    "small_project_list = ['COLO320', 'GBM39']\n",
    "small_df, __ = coamp_graph_notebook_utils.concat_projects(small_project_list)\n",
    "small_graph = Graph(small_df)"
   ]
  },
  {
   "cell_type": "code",
   "execution_count": 3,
   "id": "eb268bf0",
   "metadata": {},
   "outputs": [
    {
     "name": "stdout",
     "output_type": "stream",
     "text": [
      "Retrieved locations for 22998 GRCh38 genes in 0.03 seconds\n",
      "Loaded 28555 genes from provided reference files\n",
      "Gene record creation time: 1.36 seconds\n",
      "31508\n",
      "Matched location data for 22976 genes\n",
      "Filtering features took 0.0049 seconds, resulting in 1119 features\n",
      "Preprocessing intervals and reformatting dataset took 0.0288 seconds\n",
      "Starting CreateNodes with 1119 rows\n",
      "Note: 26 genes are amplified on multiple feature IDs in the same sample\n",
      "TEST: 18469 searches where gene's location is found\n",
      "TEST: 8866 searches where gene's chr on interval and gene's location is matched to an interval\n",
      "TEST: 4290 searches where gene's chr on interval but gene's location is NOT matched to an interval (2232 unique nodes)\n",
      "TEST: 5313 searches where gene's chr not on interval (3306 unique nodes)\n",
      "Processing 18587 genes took 0.1865 seconds, resulting in 7832 unique nodes\n",
      "0 genes were not amplified on any merged intervals\n",
      "Total CreateNodes execution: 0.1873 seconds\n",
      "Starting CreateEdges with 7832 nodes\n",
      "Building features index took 0.0033 seconds: 950 unique features\n",
      "Collecting potential pairs took 0.1629 seconds: 410023 unique pairs\n",
      "Constructing edges took 14.7535 seconds: 410023 edges with non-empty intersections\n",
      "Performing significance tests took 19.4292 seconds\n",
      "P-values were not assigned to 7108 edges\n",
      "Calculating q-values took 0.5140 seconds\n",
      "Total CreateEdges execution: 35.1685 seconds\n"
     ]
    }
   ],
   "source": [
    "project_list = ['655bda68bba7c92509522479', '655c060abba7c925095555da', 'ccle']\n",
    "df, __ = coamp_graph_notebook_utils.concat_projects(project_list)\n",
    "graph = Graph(df)"
   ]
  },
  {
   "cell_type": "code",
   "execution_count": null,
   "id": "00b9c447",
   "metadata": {},
   "outputs": [],
   "source": [
    "# test selection\n",
    "# --------------\n",
    "# 0: single-interval\n",
    "# 1: multi-interval\n",
    "# 2: multi-chromosomal\n",
    "# 3: multi-ecdna\n",
    "graph.test_dry_run(\"CASC11\", \"MYC\", test=1)"
   ]
  },
  {
   "cell_type": "code",
   "execution_count": null,
   "id": "7e0398e7",
   "metadata": {},
   "outputs": [],
   "source": [
    "graph.test_selection_dry_run(\"CASC11\", \"MYC\")"
   ]
  },
  {
   "cell_type": "code",
   "execution_count": null,
   "id": "a6c737ce",
   "metadata": {},
   "outputs": [],
   "source": [
    "# compare interval json dumps after reimplementation with interval tree\n",
    "# small_graph.export_intervals(output_file=\"intervals_small_dataset.json\")\n",
    "# graph.export_intervals(output_file=\"intervals_new.json\")"
   ]
  },
  {
   "cell_type": "code",
   "execution_count": null,
   "id": "9691150f",
   "metadata": {},
   "outputs": [],
   "source": [
    "# small_graph.Nodes()[0]"
   ]
  },
  {
   "cell_type": "code",
   "execution_count": null,
   "id": "e34f63aa",
   "metadata": {},
   "outputs": [],
   "source": [
    "small_graph.Edges()[0]"
   ]
  },
  {
   "cell_type": "code",
   "execution_count": null,
   "id": "51958464",
   "metadata": {},
   "outputs": [],
   "source": [
    "small_graph.test_selection_dry_run(\"CASC11\", \"PRNCR1\")"
   ]
  },
  {
   "cell_type": "code",
   "execution_count": null,
   "id": "97b51da9",
   "metadata": {},
   "outputs": [],
   "source": [
    "# test selection\n",
    "# --------------\n",
    "# 0: single-interval\n",
    "# 1: multi-interval\n",
    "# 2: multi-chromosomal\n",
    "# 3: multi-ecdna\n",
    "graph.test_dry_run(\"CDK4\", \"MDM2\", test=1)"
   ]
  }
 ],
 "metadata": {
  "kernelspec": {
   "display_name": "ampliconenv",
   "language": "python",
   "name": "python3"
  },
  "language_info": {
   "codemirror_mode": {
    "name": "ipython",
    "version": 3
   },
   "file_extension": ".py",
   "mimetype": "text/x-python",
   "name": "python",
   "nbconvert_exporter": "python",
   "pygments_lexer": "ipython3",
   "version": "3.8.20"
  }
 },
 "nbformat": 4,
 "nbformat_minor": 5
}

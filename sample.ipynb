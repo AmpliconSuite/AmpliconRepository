{
 "cells": [
  {
   "cell_type": "code",
   "execution_count": 2,
   "metadata": {},
   "outputs": [],
   "source": [
    "import pandas as pd"
   ]
  },
  {
   "cell_type": "code",
   "execution_count": 3,
   "metadata": {},
   "outputs": [
    {
     "data": {
      "text/html": [
       "<div>\n",
       "<style scoped>\n",
       "    .dataframe tbody tr th:only-of-type {\n",
       "        vertical-align: middle;\n",
       "    }\n",
       "\n",
       "    .dataframe tbody tr th {\n",
       "        vertical-align: top;\n",
       "    }\n",
       "\n",
       "    .dataframe thead th {\n",
       "        text-align: right;\n",
       "    }\n",
       "</style>\n",
       "<table border=\"1\" class=\"dataframe\">\n",
       "  <thead>\n",
       "    <tr style=\"text-align: right;\">\n",
       "      <th></th>\n",
       "      <th>feature_ID</th>\n",
       "      <th>captured_region_size_bp</th>\n",
       "      <th>median_feature_CN</th>\n",
       "      <th>max_feature_CN</th>\n",
       "      <th>borderline_flag</th>\n",
       "    </tr>\n",
       "  </thead>\n",
       "  <tbody>\n",
       "    <tr>\n",
       "      <th>0</th>\n",
       "      <td>ESO26_amplicon1_BFB_1</td>\n",
       "      <td>2532421</td>\n",
       "      <td>5.031071</td>\n",
       "      <td>5.031071</td>\n",
       "      <td>LowCN</td>\n",
       "    </tr>\n",
       "    <tr>\n",
       "      <th>1</th>\n",
       "      <td>ESO26_amplicon2_BFB_1</td>\n",
       "      <td>2020004</td>\n",
       "      <td>5.388893</td>\n",
       "      <td>5.388893</td>\n",
       "      <td>LowCN</td>\n",
       "    </tr>\n",
       "    <tr>\n",
       "      <th>2</th>\n",
       "      <td>ESO26_amplicon3_Complex non-cyclic_1</td>\n",
       "      <td>3514631</td>\n",
       "      <td>5.694691</td>\n",
       "      <td>6.134792</td>\n",
       "      <td>None</td>\n",
       "    </tr>\n",
       "    <tr>\n",
       "      <th>3</th>\n",
       "      <td>ESO26_amplicon4_BFB_1</td>\n",
       "      <td>6421715</td>\n",
       "      <td>6.820154</td>\n",
       "      <td>9.299053</td>\n",
       "      <td>None</td>\n",
       "    </tr>\n",
       "    <tr>\n",
       "      <th>4</th>\n",
       "      <td>ESO26_amplicon5_BFB_1</td>\n",
       "      <td>1003433</td>\n",
       "      <td>19.823466</td>\n",
       "      <td>46.835721</td>\n",
       "      <td>None</td>\n",
       "    </tr>\n",
       "    <tr>\n",
       "      <th>5</th>\n",
       "      <td>ESO51_amplicon1_Complex non-cyclic_1</td>\n",
       "      <td>6411775</td>\n",
       "      <td>8.741029</td>\n",
       "      <td>35.927974</td>\n",
       "      <td>None</td>\n",
       "    </tr>\n",
       "    <tr>\n",
       "      <th>6</th>\n",
       "      <td>ESO51_amplicon2_Linear amplification_1</td>\n",
       "      <td>3030072</td>\n",
       "      <td>5.426529</td>\n",
       "      <td>5.426529</td>\n",
       "      <td>None</td>\n",
       "    </tr>\n",
       "    <tr>\n",
       "      <th>7</th>\n",
       "      <td>ESO51_amplicon3_Complex non-cyclic_1</td>\n",
       "      <td>1133644</td>\n",
       "      <td>4.812606</td>\n",
       "      <td>21.343546</td>\n",
       "      <td>None</td>\n",
       "    </tr>\n",
       "    <tr>\n",
       "      <th>8</th>\n",
       "      <td>ESO51_amplicon4_ecDNA_1</td>\n",
       "      <td>74459</td>\n",
       "      <td>6.428408</td>\n",
       "      <td>7.217044</td>\n",
       "      <td>LowCN</td>\n",
       "    </tr>\n",
       "    <tr>\n",
       "      <th>9</th>\n",
       "      <td>ESO51_amplicon5_Complex non-cyclic_1</td>\n",
       "      <td>1419281</td>\n",
       "      <td>6.187013</td>\n",
       "      <td>18.314655</td>\n",
       "      <td>None</td>\n",
       "    </tr>\n",
       "    <tr>\n",
       "      <th>10</th>\n",
       "      <td>ESO51_amplicon6_BFB_1</td>\n",
       "      <td>1322051</td>\n",
       "      <td>17.663883</td>\n",
       "      <td>17.663883</td>\n",
       "      <td>None</td>\n",
       "    </tr>\n",
       "    <tr>\n",
       "      <th>11</th>\n",
       "      <td>ESO51_amplicon7_Linear amplification_1</td>\n",
       "      <td>119716</td>\n",
       "      <td>6.418112</td>\n",
       "      <td>6.418112</td>\n",
       "      <td>None</td>\n",
       "    </tr>\n",
       "    <tr>\n",
       "      <th>12</th>\n",
       "      <td>ESO51_amplicon8_Linear amplification_1</td>\n",
       "      <td>89989</td>\n",
       "      <td>6.022062</td>\n",
       "      <td>6.022062</td>\n",
       "      <td>None</td>\n",
       "    </tr>\n",
       "    <tr>\n",
       "      <th>13</th>\n",
       "      <td>ESO51_amplicon9_ecDNA_1</td>\n",
       "      <td>5164745</td>\n",
       "      <td>7.491971</td>\n",
       "      <td>9.594766</td>\n",
       "      <td>None</td>\n",
       "    </tr>\n",
       "    <tr>\n",
       "      <th>14</th>\n",
       "      <td>FLO-1_amplicon1_Complex non-cyclic_1</td>\n",
       "      <td>3951464</td>\n",
       "      <td>5.591770</td>\n",
       "      <td>7.706660</td>\n",
       "      <td>None</td>\n",
       "    </tr>\n",
       "    <tr>\n",
       "      <th>15</th>\n",
       "      <td>FLO-1_amplicon2_Linear amplification_1</td>\n",
       "      <td>134998</td>\n",
       "      <td>4.830317</td>\n",
       "      <td>4.830317</td>\n",
       "      <td>LowCN</td>\n",
       "    </tr>\n",
       "    <tr>\n",
       "      <th>16</th>\n",
       "      <td>FLO-1_amplicon3_ecDNA_1</td>\n",
       "      <td>154133</td>\n",
       "      <td>4.875775</td>\n",
       "      <td>4.875775</td>\n",
       "      <td>LowCN</td>\n",
       "    </tr>\n",
       "    <tr>\n",
       "      <th>17</th>\n",
       "      <td>FLO-1_amplicon4_ecDNA_1</td>\n",
       "      <td>240327</td>\n",
       "      <td>5.397767</td>\n",
       "      <td>5.397767</td>\n",
       "      <td>LowCN</td>\n",
       "    </tr>\n",
       "    <tr>\n",
       "      <th>18</th>\n",
       "      <td>JH-EsoAd1_amplicon1_Complex non-cyclic_1</td>\n",
       "      <td>2968394</td>\n",
       "      <td>12.109468</td>\n",
       "      <td>16.587267</td>\n",
       "      <td>None</td>\n",
       "    </tr>\n",
       "    <tr>\n",
       "      <th>19</th>\n",
       "      <td>JH-EsoAd1_amplicon2_ecDNA_1</td>\n",
       "      <td>119398</td>\n",
       "      <td>4.977917</td>\n",
       "      <td>8.184657</td>\n",
       "      <td>None</td>\n",
       "    </tr>\n",
       "    <tr>\n",
       "      <th>20</th>\n",
       "      <td>JH-EsoAd1_amplicon3_ecDNA_1</td>\n",
       "      <td>4117865</td>\n",
       "      <td>18.665034</td>\n",
       "      <td>19.877542</td>\n",
       "      <td>None</td>\n",
       "    </tr>\n",
       "    <tr>\n",
       "      <th>21</th>\n",
       "      <td>JH-EsoAd1_amplicon4_ecDNA_1</td>\n",
       "      <td>217998</td>\n",
       "      <td>11.020320</td>\n",
       "      <td>12.237808</td>\n",
       "      <td>None</td>\n",
       "    </tr>\n",
       "    <tr>\n",
       "      <th>22</th>\n",
       "      <td>JH-EsoAd1_amplicon5_ecDNA_1</td>\n",
       "      <td>2191219</td>\n",
       "      <td>6.770293</td>\n",
       "      <td>9.220484</td>\n",
       "      <td>None</td>\n",
       "    </tr>\n",
       "    <tr>\n",
       "      <th>23</th>\n",
       "      <td>JH-EsoAd1_amplicon5_ecDNA_2</td>\n",
       "      <td>2232415</td>\n",
       "      <td>7.076339</td>\n",
       "      <td>102.055949</td>\n",
       "      <td>None</td>\n",
       "    </tr>\n",
       "    <tr>\n",
       "      <th>24</th>\n",
       "      <td>OACM5.1_amplicon1_ecDNA_1</td>\n",
       "      <td>6542072</td>\n",
       "      <td>4.875137</td>\n",
       "      <td>11.212459</td>\n",
       "      <td>None</td>\n",
       "    </tr>\n",
       "    <tr>\n",
       "      <th>25</th>\n",
       "      <td>OACP4-C_amplicon10_ecDNA_1</td>\n",
       "      <td>119455</td>\n",
       "      <td>4.948026</td>\n",
       "      <td>4.948026</td>\n",
       "      <td>LowCN</td>\n",
       "    </tr>\n",
       "    <tr>\n",
       "      <th>26</th>\n",
       "      <td>OACP4-C_amplicon11_Complex non-cyclic_1</td>\n",
       "      <td>2825667</td>\n",
       "      <td>8.376441</td>\n",
       "      <td>11.671047</td>\n",
       "      <td>None</td>\n",
       "    </tr>\n",
       "    <tr>\n",
       "      <th>27</th>\n",
       "      <td>OACP4-C_amplicon12_ecDNA_1</td>\n",
       "      <td>478021</td>\n",
       "      <td>7.021558</td>\n",
       "      <td>14.944907</td>\n",
       "      <td>None</td>\n",
       "    </tr>\n",
       "    <tr>\n",
       "      <th>28</th>\n",
       "      <td>OACP4-C_amplicon13_ecDNA_1</td>\n",
       "      <td>333627</td>\n",
       "      <td>5.653532</td>\n",
       "      <td>7.272131</td>\n",
       "      <td>LowCN</td>\n",
       "    </tr>\n",
       "    <tr>\n",
       "      <th>29</th>\n",
       "      <td>OACP4-C_amplicon14_ecDNA_1</td>\n",
       "      <td>1987960</td>\n",
       "      <td>6.717471</td>\n",
       "      <td>9.875379</td>\n",
       "      <td>None</td>\n",
       "    </tr>\n",
       "    <tr>\n",
       "      <th>30</th>\n",
       "      <td>OACP4-C_amplicon15_Complex non-cyclic_1</td>\n",
       "      <td>1380527</td>\n",
       "      <td>7.352700</td>\n",
       "      <td>7.390377</td>\n",
       "      <td>None</td>\n",
       "    </tr>\n",
       "    <tr>\n",
       "      <th>31</th>\n",
       "      <td>OACP4-C_amplicon16_Linear amplification_1</td>\n",
       "      <td>115001</td>\n",
       "      <td>5.670273</td>\n",
       "      <td>7.313004</td>\n",
       "      <td>None</td>\n",
       "    </tr>\n",
       "    <tr>\n",
       "      <th>32</th>\n",
       "      <td>OACP4-C_amplicon17_ecDNA_1</td>\n",
       "      <td>114155</td>\n",
       "      <td>6.171335</td>\n",
       "      <td>6.171335</td>\n",
       "      <td>LowCN</td>\n",
       "    </tr>\n",
       "    <tr>\n",
       "      <th>33</th>\n",
       "      <td>OACP4-C_amplicon18_ecDNA_1</td>\n",
       "      <td>292388</td>\n",
       "      <td>5.669273</td>\n",
       "      <td>5.669273</td>\n",
       "      <td>LowCN</td>\n",
       "    </tr>\n",
       "    <tr>\n",
       "      <th>34</th>\n",
       "      <td>OACP4-C_amplicon19_Linear amplification_1</td>\n",
       "      <td>105004</td>\n",
       "      <td>5.298627</td>\n",
       "      <td>5.439911</td>\n",
       "      <td>None</td>\n",
       "    </tr>\n",
       "    <tr>\n",
       "      <th>35</th>\n",
       "      <td>OACP4-C_amplicon1_ecDNA_1</td>\n",
       "      <td>531837</td>\n",
       "      <td>6.328179</td>\n",
       "      <td>7.924596</td>\n",
       "      <td>LowCN</td>\n",
       "    </tr>\n",
       "    <tr>\n",
       "      <th>36</th>\n",
       "      <td>OACP4-C_amplicon20_ecDNA_1</td>\n",
       "      <td>998445</td>\n",
       "      <td>5.932221</td>\n",
       "      <td>12.705716</td>\n",
       "      <td>None</td>\n",
       "    </tr>\n",
       "    <tr>\n",
       "      <th>37</th>\n",
       "      <td>OACP4-C_amplicon21_Linear amplification_1</td>\n",
       "      <td>280007</td>\n",
       "      <td>5.814941</td>\n",
       "      <td>5.814941</td>\n",
       "      <td>None</td>\n",
       "    </tr>\n",
       "    <tr>\n",
       "      <th>38</th>\n",
       "      <td>OACP4-C_amplicon22_Linear amplification_1</td>\n",
       "      <td>509892</td>\n",
       "      <td>5.440220</td>\n",
       "      <td>9.781538</td>\n",
       "      <td>None</td>\n",
       "    </tr>\n",
       "    <tr>\n",
       "      <th>39</th>\n",
       "      <td>OACP4-C_amplicon23_ecDNA_1</td>\n",
       "      <td>62772</td>\n",
       "      <td>5.857985</td>\n",
       "      <td>5.857985</td>\n",
       "      <td>LowCN</td>\n",
       "    </tr>\n",
       "    <tr>\n",
       "      <th>40</th>\n",
       "      <td>OACP4-C_amplicon24_ecDNA_1</td>\n",
       "      <td>1051923</td>\n",
       "      <td>5.549261</td>\n",
       "      <td>9.189069</td>\n",
       "      <td>None</td>\n",
       "    </tr>\n",
       "    <tr>\n",
       "      <th>41</th>\n",
       "      <td>OACP4-C_amplicon25_Linear amplification_1</td>\n",
       "      <td>1065585</td>\n",
       "      <td>9.804165</td>\n",
       "      <td>9.804165</td>\n",
       "      <td>None</td>\n",
       "    </tr>\n",
       "    <tr>\n",
       "      <th>42</th>\n",
       "      <td>OACP4-C_amplicon26_ecDNA_1</td>\n",
       "      <td>186098</td>\n",
       "      <td>6.728496</td>\n",
       "      <td>6.728496</td>\n",
       "      <td>LowCN</td>\n",
       "    </tr>\n",
       "    <tr>\n",
       "      <th>43</th>\n",
       "      <td>OACP4-C_amplicon27_ecDNA_1</td>\n",
       "      <td>309126</td>\n",
       "      <td>8.256410</td>\n",
       "      <td>10.100758</td>\n",
       "      <td>None</td>\n",
       "    </tr>\n",
       "    <tr>\n",
       "      <th>44</th>\n",
       "      <td>OACP4-C_amplicon2_ecDNA_1</td>\n",
       "      <td>806549</td>\n",
       "      <td>7.272385</td>\n",
       "      <td>13.227001</td>\n",
       "      <td>None</td>\n",
       "    </tr>\n",
       "    <tr>\n",
       "      <th>45</th>\n",
       "      <td>OACP4-C_amplicon3_ecDNA_1</td>\n",
       "      <td>128355</td>\n",
       "      <td>5.541424</td>\n",
       "      <td>5.541424</td>\n",
       "      <td>LowCN</td>\n",
       "    </tr>\n",
       "    <tr>\n",
       "      <th>46</th>\n",
       "      <td>OACP4-C_amplicon4_ecDNA_1</td>\n",
       "      <td>139732</td>\n",
       "      <td>5.648878</td>\n",
       "      <td>5.648878</td>\n",
       "      <td>LowCN</td>\n",
       "    </tr>\n",
       "    <tr>\n",
       "      <th>47</th>\n",
       "      <td>OACP4-C_amplicon5_ecDNA_1</td>\n",
       "      <td>192644</td>\n",
       "      <td>6.037106</td>\n",
       "      <td>6.037106</td>\n",
       "      <td>LowCN</td>\n",
       "    </tr>\n",
       "    <tr>\n",
       "      <th>48</th>\n",
       "      <td>OACP4-C_amplicon6_Linear amplification_1</td>\n",
       "      <td>629941</td>\n",
       "      <td>7.434861</td>\n",
       "      <td>7.434861</td>\n",
       "      <td>None</td>\n",
       "    </tr>\n",
       "    <tr>\n",
       "      <th>49</th>\n",
       "      <td>OACP4-C_amplicon7_ecDNA_1</td>\n",
       "      <td>202788</td>\n",
       "      <td>5.905740</td>\n",
       "      <td>7.013949</td>\n",
       "      <td>LowCN</td>\n",
       "    </tr>\n",
       "    <tr>\n",
       "      <th>50</th>\n",
       "      <td>OACP4-C_amplicon8_ecDNA_1</td>\n",
       "      <td>839297</td>\n",
       "      <td>13.610331</td>\n",
       "      <td>18.075529</td>\n",
       "      <td>None</td>\n",
       "    </tr>\n",
       "    <tr>\n",
       "      <th>51</th>\n",
       "      <td>OACP4-C_amplicon9_ecDNA_1</td>\n",
       "      <td>264279</td>\n",
       "      <td>5.744706</td>\n",
       "      <td>5.744706</td>\n",
       "      <td>LowCN</td>\n",
       "    </tr>\n",
       "    <tr>\n",
       "      <th>52</th>\n",
       "      <td>OE33_amplicon1_ecDNA_1</td>\n",
       "      <td>7047267</td>\n",
       "      <td>11.311170</td>\n",
       "      <td>13.244657</td>\n",
       "      <td>None</td>\n",
       "    </tr>\n",
       "    <tr>\n",
       "      <th>53</th>\n",
       "      <td>OE33_amplicon2_Linear amplification_1</td>\n",
       "      <td>55001</td>\n",
       "      <td>5.778906</td>\n",
       "      <td>5.778906</td>\n",
       "      <td>None</td>\n",
       "    </tr>\n",
       "    <tr>\n",
       "      <th>54</th>\n",
       "      <td>OE33_amplicon3_ecDNA_1</td>\n",
       "      <td>666871</td>\n",
       "      <td>7.463151</td>\n",
       "      <td>7.463151</td>\n",
       "      <td>LowCN</td>\n",
       "    </tr>\n",
       "    <tr>\n",
       "      <th>55</th>\n",
       "      <td>OE33_amplicon4_BFB_1</td>\n",
       "      <td>2339962</td>\n",
       "      <td>12.700891</td>\n",
       "      <td>39.001338</td>\n",
       "      <td>None</td>\n",
       "    </tr>\n",
       "    <tr>\n",
       "      <th>56</th>\n",
       "      <td>SK-GT-4_amplicon1_Linear amplification_1</td>\n",
       "      <td>231072</td>\n",
       "      <td>5.455412</td>\n",
       "      <td>7.489815</td>\n",
       "      <td>None</td>\n",
       "    </tr>\n",
       "    <tr>\n",
       "      <th>57</th>\n",
       "      <td>SK-GT-4_amplicon2_Complex non-cyclic_1</td>\n",
       "      <td>5745533</td>\n",
       "      <td>8.869419</td>\n",
       "      <td>11.151948</td>\n",
       "      <td>None</td>\n",
       "    </tr>\n",
       "  </tbody>\n",
       "</table>\n",
       "</div>"
      ],
      "text/plain": [
       "                                   feature_ID  captured_region_size_bp  \\\n",
       "0                       ESO26_amplicon1_BFB_1                  2532421   \n",
       "1                       ESO26_amplicon2_BFB_1                  2020004   \n",
       "2        ESO26_amplicon3_Complex non-cyclic_1                  3514631   \n",
       "3                       ESO26_amplicon4_BFB_1                  6421715   \n",
       "4                       ESO26_amplicon5_BFB_1                  1003433   \n",
       "5        ESO51_amplicon1_Complex non-cyclic_1                  6411775   \n",
       "6      ESO51_amplicon2_Linear amplification_1                  3030072   \n",
       "7        ESO51_amplicon3_Complex non-cyclic_1                  1133644   \n",
       "8                     ESO51_amplicon4_ecDNA_1                    74459   \n",
       "9        ESO51_amplicon5_Complex non-cyclic_1                  1419281   \n",
       "10                      ESO51_amplicon6_BFB_1                  1322051   \n",
       "11     ESO51_amplicon7_Linear amplification_1                   119716   \n",
       "12     ESO51_amplicon8_Linear amplification_1                    89989   \n",
       "13                    ESO51_amplicon9_ecDNA_1                  5164745   \n",
       "14       FLO-1_amplicon1_Complex non-cyclic_1                  3951464   \n",
       "15     FLO-1_amplicon2_Linear amplification_1                   134998   \n",
       "16                    FLO-1_amplicon3_ecDNA_1                   154133   \n",
       "17                    FLO-1_amplicon4_ecDNA_1                   240327   \n",
       "18   JH-EsoAd1_amplicon1_Complex non-cyclic_1                  2968394   \n",
       "19                JH-EsoAd1_amplicon2_ecDNA_1                   119398   \n",
       "20                JH-EsoAd1_amplicon3_ecDNA_1                  4117865   \n",
       "21                JH-EsoAd1_amplicon4_ecDNA_1                   217998   \n",
       "22                JH-EsoAd1_amplicon5_ecDNA_1                  2191219   \n",
       "23                JH-EsoAd1_amplicon5_ecDNA_2                  2232415   \n",
       "24                  OACM5.1_amplicon1_ecDNA_1                  6542072   \n",
       "25                 OACP4-C_amplicon10_ecDNA_1                   119455   \n",
       "26    OACP4-C_amplicon11_Complex non-cyclic_1                  2825667   \n",
       "27                 OACP4-C_amplicon12_ecDNA_1                   478021   \n",
       "28                 OACP4-C_amplicon13_ecDNA_1                   333627   \n",
       "29                 OACP4-C_amplicon14_ecDNA_1                  1987960   \n",
       "30    OACP4-C_amplicon15_Complex non-cyclic_1                  1380527   \n",
       "31  OACP4-C_amplicon16_Linear amplification_1                   115001   \n",
       "32                 OACP4-C_amplicon17_ecDNA_1                   114155   \n",
       "33                 OACP4-C_amplicon18_ecDNA_1                   292388   \n",
       "34  OACP4-C_amplicon19_Linear amplification_1                   105004   \n",
       "35                  OACP4-C_amplicon1_ecDNA_1                   531837   \n",
       "36                 OACP4-C_amplicon20_ecDNA_1                   998445   \n",
       "37  OACP4-C_amplicon21_Linear amplification_1                   280007   \n",
       "38  OACP4-C_amplicon22_Linear amplification_1                   509892   \n",
       "39                 OACP4-C_amplicon23_ecDNA_1                    62772   \n",
       "40                 OACP4-C_amplicon24_ecDNA_1                  1051923   \n",
       "41  OACP4-C_amplicon25_Linear amplification_1                  1065585   \n",
       "42                 OACP4-C_amplicon26_ecDNA_1                   186098   \n",
       "43                 OACP4-C_amplicon27_ecDNA_1                   309126   \n",
       "44                  OACP4-C_amplicon2_ecDNA_1                   806549   \n",
       "45                  OACP4-C_amplicon3_ecDNA_1                   128355   \n",
       "46                  OACP4-C_amplicon4_ecDNA_1                   139732   \n",
       "47                  OACP4-C_amplicon5_ecDNA_1                   192644   \n",
       "48   OACP4-C_amplicon6_Linear amplification_1                   629941   \n",
       "49                  OACP4-C_amplicon7_ecDNA_1                   202788   \n",
       "50                  OACP4-C_amplicon8_ecDNA_1                   839297   \n",
       "51                  OACP4-C_amplicon9_ecDNA_1                   264279   \n",
       "52                     OE33_amplicon1_ecDNA_1                  7047267   \n",
       "53      OE33_amplicon2_Linear amplification_1                    55001   \n",
       "54                     OE33_amplicon3_ecDNA_1                   666871   \n",
       "55                       OE33_amplicon4_BFB_1                  2339962   \n",
       "56   SK-GT-4_amplicon1_Linear amplification_1                   231072   \n",
       "57     SK-GT-4_amplicon2_Complex non-cyclic_1                  5745533   \n",
       "\n",
       "    median_feature_CN  max_feature_CN borderline_flag  \n",
       "0            5.031071        5.031071           LowCN  \n",
       "1            5.388893        5.388893           LowCN  \n",
       "2            5.694691        6.134792            None  \n",
       "3            6.820154        9.299053            None  \n",
       "4           19.823466       46.835721            None  \n",
       "5            8.741029       35.927974            None  \n",
       "6            5.426529        5.426529            None  \n",
       "7            4.812606       21.343546            None  \n",
       "8            6.428408        7.217044           LowCN  \n",
       "9            6.187013       18.314655            None  \n",
       "10          17.663883       17.663883            None  \n",
       "11           6.418112        6.418112            None  \n",
       "12           6.022062        6.022062            None  \n",
       "13           7.491971        9.594766            None  \n",
       "14           5.591770        7.706660            None  \n",
       "15           4.830317        4.830317           LowCN  \n",
       "16           4.875775        4.875775           LowCN  \n",
       "17           5.397767        5.397767           LowCN  \n",
       "18          12.109468       16.587267            None  \n",
       "19           4.977917        8.184657            None  \n",
       "20          18.665034       19.877542            None  \n",
       "21          11.020320       12.237808            None  \n",
       "22           6.770293        9.220484            None  \n",
       "23           7.076339      102.055949            None  \n",
       "24           4.875137       11.212459            None  \n",
       "25           4.948026        4.948026           LowCN  \n",
       "26           8.376441       11.671047            None  \n",
       "27           7.021558       14.944907            None  \n",
       "28           5.653532        7.272131           LowCN  \n",
       "29           6.717471        9.875379            None  \n",
       "30           7.352700        7.390377            None  \n",
       "31           5.670273        7.313004            None  \n",
       "32           6.171335        6.171335           LowCN  \n",
       "33           5.669273        5.669273           LowCN  \n",
       "34           5.298627        5.439911            None  \n",
       "35           6.328179        7.924596           LowCN  \n",
       "36           5.932221       12.705716            None  \n",
       "37           5.814941        5.814941            None  \n",
       "38           5.440220        9.781538            None  \n",
       "39           5.857985        5.857985           LowCN  \n",
       "40           5.549261        9.189069            None  \n",
       "41           9.804165        9.804165            None  \n",
       "42           6.728496        6.728496           LowCN  \n",
       "43           8.256410       10.100758            None  \n",
       "44           7.272385       13.227001            None  \n",
       "45           5.541424        5.541424           LowCN  \n",
       "46           5.648878        5.648878           LowCN  \n",
       "47           6.037106        6.037106           LowCN  \n",
       "48           7.434861        7.434861            None  \n",
       "49           5.905740        7.013949           LowCN  \n",
       "50          13.610331       18.075529            None  \n",
       "51           5.744706        5.744706           LowCN  \n",
       "52          11.311170       13.244657            None  \n",
       "53           5.778906        5.778906            None  \n",
       "54           7.463151        7.463151           LowCN  \n",
       "55          12.700891       39.001338            None  \n",
       "56           5.455412        7.489815            None  \n",
       "57           8.869419       11.151948            None  "
      ]
     },
     "execution_count": 3,
     "metadata": {},
     "output_type": "execute_result"
    }
   ],
   "source": [
    "data = pd.read_csv('Contino_102622/contino_ac_102622/Contino_feature_basic_properties.tsv', sep='\\t', header=0)\n",
    "data"
   ]
  },
  {
   "cell_type": "code",
   "execution_count": 4,
   "metadata": {},
   "outputs": [
    {
     "data": {
      "text/html": [
       "<div>\n",
       "<style scoped>\n",
       "    .dataframe tbody tr th:only-of-type {\n",
       "        vertical-align: middle;\n",
       "    }\n",
       "\n",
       "    .dataframe tbody tr th {\n",
       "        vertical-align: top;\n",
       "    }\n",
       "\n",
       "    .dataframe thead th {\n",
       "        text-align: right;\n",
       "    }\n",
       "</style>\n",
       "<table border=\"1\" class=\"dataframe\">\n",
       "  <thead>\n",
       "    <tr style=\"text-align: right;\">\n",
       "      <th></th>\n",
       "      <th>feature_ID</th>\n",
       "      <th>captured_region_size_bp</th>\n",
       "    </tr>\n",
       "  </thead>\n",
       "  <tbody>\n",
       "    <tr>\n",
       "      <th>8</th>\n",
       "      <td>ESO51_amplicon4_ecDNA_1</td>\n",
       "      <td>74459</td>\n",
       "    </tr>\n",
       "    <tr>\n",
       "      <th>13</th>\n",
       "      <td>ESO51_amplicon9_ecDNA_1</td>\n",
       "      <td>5164745</td>\n",
       "    </tr>\n",
       "    <tr>\n",
       "      <th>16</th>\n",
       "      <td>FLO-1_amplicon3_ecDNA_1</td>\n",
       "      <td>154133</td>\n",
       "    </tr>\n",
       "    <tr>\n",
       "      <th>17</th>\n",
       "      <td>FLO-1_amplicon4_ecDNA_1</td>\n",
       "      <td>240327</td>\n",
       "    </tr>\n",
       "    <tr>\n",
       "      <th>19</th>\n",
       "      <td>JH-EsoAd1_amplicon2_ecDNA_1</td>\n",
       "      <td>119398</td>\n",
       "    </tr>\n",
       "    <tr>\n",
       "      <th>20</th>\n",
       "      <td>JH-EsoAd1_amplicon3_ecDNA_1</td>\n",
       "      <td>4117865</td>\n",
       "    </tr>\n",
       "    <tr>\n",
       "      <th>21</th>\n",
       "      <td>JH-EsoAd1_amplicon4_ecDNA_1</td>\n",
       "      <td>217998</td>\n",
       "    </tr>\n",
       "    <tr>\n",
       "      <th>22</th>\n",
       "      <td>JH-EsoAd1_amplicon5_ecDNA_1</td>\n",
       "      <td>2191219</td>\n",
       "    </tr>\n",
       "    <tr>\n",
       "      <th>23</th>\n",
       "      <td>JH-EsoAd1_amplicon5_ecDNA_2</td>\n",
       "      <td>2232415</td>\n",
       "    </tr>\n",
       "    <tr>\n",
       "      <th>24</th>\n",
       "      <td>OACM5.1_amplicon1_ecDNA_1</td>\n",
       "      <td>6542072</td>\n",
       "    </tr>\n",
       "    <tr>\n",
       "      <th>25</th>\n",
       "      <td>OACP4-C_amplicon10_ecDNA_1</td>\n",
       "      <td>119455</td>\n",
       "    </tr>\n",
       "    <tr>\n",
       "      <th>27</th>\n",
       "      <td>OACP4-C_amplicon12_ecDNA_1</td>\n",
       "      <td>478021</td>\n",
       "    </tr>\n",
       "    <tr>\n",
       "      <th>28</th>\n",
       "      <td>OACP4-C_amplicon13_ecDNA_1</td>\n",
       "      <td>333627</td>\n",
       "    </tr>\n",
       "    <tr>\n",
       "      <th>29</th>\n",
       "      <td>OACP4-C_amplicon14_ecDNA_1</td>\n",
       "      <td>1987960</td>\n",
       "    </tr>\n",
       "    <tr>\n",
       "      <th>32</th>\n",
       "      <td>OACP4-C_amplicon17_ecDNA_1</td>\n",
       "      <td>114155</td>\n",
       "    </tr>\n",
       "    <tr>\n",
       "      <th>33</th>\n",
       "      <td>OACP4-C_amplicon18_ecDNA_1</td>\n",
       "      <td>292388</td>\n",
       "    </tr>\n",
       "    <tr>\n",
       "      <th>35</th>\n",
       "      <td>OACP4-C_amplicon1_ecDNA_1</td>\n",
       "      <td>531837</td>\n",
       "    </tr>\n",
       "    <tr>\n",
       "      <th>36</th>\n",
       "      <td>OACP4-C_amplicon20_ecDNA_1</td>\n",
       "      <td>998445</td>\n",
       "    </tr>\n",
       "    <tr>\n",
       "      <th>39</th>\n",
       "      <td>OACP4-C_amplicon23_ecDNA_1</td>\n",
       "      <td>62772</td>\n",
       "    </tr>\n",
       "    <tr>\n",
       "      <th>40</th>\n",
       "      <td>OACP4-C_amplicon24_ecDNA_1</td>\n",
       "      <td>1051923</td>\n",
       "    </tr>\n",
       "    <tr>\n",
       "      <th>42</th>\n",
       "      <td>OACP4-C_amplicon26_ecDNA_1</td>\n",
       "      <td>186098</td>\n",
       "    </tr>\n",
       "    <tr>\n",
       "      <th>43</th>\n",
       "      <td>OACP4-C_amplicon27_ecDNA_1</td>\n",
       "      <td>309126</td>\n",
       "    </tr>\n",
       "    <tr>\n",
       "      <th>44</th>\n",
       "      <td>OACP4-C_amplicon2_ecDNA_1</td>\n",
       "      <td>806549</td>\n",
       "    </tr>\n",
       "    <tr>\n",
       "      <th>45</th>\n",
       "      <td>OACP4-C_amplicon3_ecDNA_1</td>\n",
       "      <td>128355</td>\n",
       "    </tr>\n",
       "    <tr>\n",
       "      <th>46</th>\n",
       "      <td>OACP4-C_amplicon4_ecDNA_1</td>\n",
       "      <td>139732</td>\n",
       "    </tr>\n",
       "    <tr>\n",
       "      <th>47</th>\n",
       "      <td>OACP4-C_amplicon5_ecDNA_1</td>\n",
       "      <td>192644</td>\n",
       "    </tr>\n",
       "    <tr>\n",
       "      <th>49</th>\n",
       "      <td>OACP4-C_amplicon7_ecDNA_1</td>\n",
       "      <td>202788</td>\n",
       "    </tr>\n",
       "    <tr>\n",
       "      <th>50</th>\n",
       "      <td>OACP4-C_amplicon8_ecDNA_1</td>\n",
       "      <td>839297</td>\n",
       "    </tr>\n",
       "    <tr>\n",
       "      <th>51</th>\n",
       "      <td>OACP4-C_amplicon9_ecDNA_1</td>\n",
       "      <td>264279</td>\n",
       "    </tr>\n",
       "    <tr>\n",
       "      <th>52</th>\n",
       "      <td>OE33_amplicon1_ecDNA_1</td>\n",
       "      <td>7047267</td>\n",
       "    </tr>\n",
       "    <tr>\n",
       "      <th>54</th>\n",
       "      <td>OE33_amplicon3_ecDNA_1</td>\n",
       "      <td>666871</td>\n",
       "    </tr>\n",
       "  </tbody>\n",
       "</table>\n",
       "</div>"
      ],
      "text/plain": [
       "                     feature_ID  captured_region_size_bp\n",
       "8       ESO51_amplicon4_ecDNA_1                    74459\n",
       "13      ESO51_amplicon9_ecDNA_1                  5164745\n",
       "16      FLO-1_amplicon3_ecDNA_1                   154133\n",
       "17      FLO-1_amplicon4_ecDNA_1                   240327\n",
       "19  JH-EsoAd1_amplicon2_ecDNA_1                   119398\n",
       "20  JH-EsoAd1_amplicon3_ecDNA_1                  4117865\n",
       "21  JH-EsoAd1_amplicon4_ecDNA_1                   217998\n",
       "22  JH-EsoAd1_amplicon5_ecDNA_1                  2191219\n",
       "23  JH-EsoAd1_amplicon5_ecDNA_2                  2232415\n",
       "24    OACM5.1_amplicon1_ecDNA_1                  6542072\n",
       "25   OACP4-C_amplicon10_ecDNA_1                   119455\n",
       "27   OACP4-C_amplicon12_ecDNA_1                   478021\n",
       "28   OACP4-C_amplicon13_ecDNA_1                   333627\n",
       "29   OACP4-C_amplicon14_ecDNA_1                  1987960\n",
       "32   OACP4-C_amplicon17_ecDNA_1                   114155\n",
       "33   OACP4-C_amplicon18_ecDNA_1                   292388\n",
       "35    OACP4-C_amplicon1_ecDNA_1                   531837\n",
       "36   OACP4-C_amplicon20_ecDNA_1                   998445\n",
       "39   OACP4-C_amplicon23_ecDNA_1                    62772\n",
       "40   OACP4-C_amplicon24_ecDNA_1                  1051923\n",
       "42   OACP4-C_amplicon26_ecDNA_1                   186098\n",
       "43   OACP4-C_amplicon27_ecDNA_1                   309126\n",
       "44    OACP4-C_amplicon2_ecDNA_1                   806549\n",
       "45    OACP4-C_amplicon3_ecDNA_1                   128355\n",
       "46    OACP4-C_amplicon4_ecDNA_1                   139732\n",
       "47    OACP4-C_amplicon5_ecDNA_1                   192644\n",
       "49    OACP4-C_amplicon7_ecDNA_1                   202788\n",
       "50    OACP4-C_amplicon8_ecDNA_1                   839297\n",
       "51    OACP4-C_amplicon9_ecDNA_1                   264279\n",
       "52       OE33_amplicon1_ecDNA_1                  7047267\n",
       "54       OE33_amplicon3_ecDNA_1                   666871"
      ]
     },
     "execution_count": 4,
     "metadata": {},
     "output_type": "execute_result"
    }
   ],
   "source": [
    "data2 = data[data['feature_ID'].str.contains('ecDNA')]\n",
    "data2 = data2[['feature_ID','captured_region_size_bp']]\n",
    "data2"
   ]
  },
  {
   "cell_type": "code",
   "execution_count": 5,
   "metadata": {},
   "outputs": [
    {
     "data": {
      "application/vnd.plotly.v1+json": {
       "config": {
        "plotlyServerURL": "https://plot.ly"
       },
       "data": [
        {
         "alignmentgroup": "True",
         "bingroup": "x",
         "hovertemplate": "<b>Day: </b> %{x} <br><b>Total Bill: </b> %{y}",
         "legendgroup": "",
         "marker": {
          "color": "#636efa",
          "pattern": {
           "shape": ""
          }
         },
         "name": "",
         "offsetgroup": "",
         "orientation": "v",
         "showlegend": false,
         "texttemplate": "%{value}",
         "type": "histogram",
         "x": [
          74459,
          5164745,
          154133,
          240327,
          119398,
          4117865,
          217998,
          2191219,
          2232415,
          6542072,
          119455,
          478021,
          333627,
          1987960,
          114155,
          292388,
          531837,
          998445,
          62772,
          1051923,
          186098,
          309126,
          806549,
          128355,
          139732,
          192644,
          202788,
          839297,
          264279,
          7047267,
          666871
         ],
         "xaxis": "x",
         "yaxis": "y"
        }
       ],
       "layout": {
        "barmode": "relative",
        "legend": {
         "tracegroupgap": 0
        },
        "template": {
         "data": {
          "bar": [
           {
            "error_x": {
             "color": "#2a3f5f"
            },
            "error_y": {
             "color": "#2a3f5f"
            },
            "marker": {
             "line": {
              "color": "#E5ECF6",
              "width": 0.5
             },
             "pattern": {
              "fillmode": "overlay",
              "size": 10,
              "solidity": 0.2
             }
            },
            "type": "bar"
           }
          ],
          "barpolar": [
           {
            "marker": {
             "line": {
              "color": "#E5ECF6",
              "width": 0.5
             },
             "pattern": {
              "fillmode": "overlay",
              "size": 10,
              "solidity": 0.2
             }
            },
            "type": "barpolar"
           }
          ],
          "carpet": [
           {
            "aaxis": {
             "endlinecolor": "#2a3f5f",
             "gridcolor": "white",
             "linecolor": "white",
             "minorgridcolor": "white",
             "startlinecolor": "#2a3f5f"
            },
            "baxis": {
             "endlinecolor": "#2a3f5f",
             "gridcolor": "white",
             "linecolor": "white",
             "minorgridcolor": "white",
             "startlinecolor": "#2a3f5f"
            },
            "type": "carpet"
           }
          ],
          "choropleth": [
           {
            "colorbar": {
             "outlinewidth": 0,
             "ticks": ""
            },
            "type": "choropleth"
           }
          ],
          "contour": [
           {
            "colorbar": {
             "outlinewidth": 0,
             "ticks": ""
            },
            "colorscale": [
             [
              0,
              "#0d0887"
             ],
             [
              0.1111111111111111,
              "#46039f"
             ],
             [
              0.2222222222222222,
              "#7201a8"
             ],
             [
              0.3333333333333333,
              "#9c179e"
             ],
             [
              0.4444444444444444,
              "#bd3786"
             ],
             [
              0.5555555555555556,
              "#d8576b"
             ],
             [
              0.6666666666666666,
              "#ed7953"
             ],
             [
              0.7777777777777778,
              "#fb9f3a"
             ],
             [
              0.8888888888888888,
              "#fdca26"
             ],
             [
              1,
              "#f0f921"
             ]
            ],
            "type": "contour"
           }
          ],
          "contourcarpet": [
           {
            "colorbar": {
             "outlinewidth": 0,
             "ticks": ""
            },
            "type": "contourcarpet"
           }
          ],
          "heatmap": [
           {
            "colorbar": {
             "outlinewidth": 0,
             "ticks": ""
            },
            "colorscale": [
             [
              0,
              "#0d0887"
             ],
             [
              0.1111111111111111,
              "#46039f"
             ],
             [
              0.2222222222222222,
              "#7201a8"
             ],
             [
              0.3333333333333333,
              "#9c179e"
             ],
             [
              0.4444444444444444,
              "#bd3786"
             ],
             [
              0.5555555555555556,
              "#d8576b"
             ],
             [
              0.6666666666666666,
              "#ed7953"
             ],
             [
              0.7777777777777778,
              "#fb9f3a"
             ],
             [
              0.8888888888888888,
              "#fdca26"
             ],
             [
              1,
              "#f0f921"
             ]
            ],
            "type": "heatmap"
           }
          ],
          "heatmapgl": [
           {
            "colorbar": {
             "outlinewidth": 0,
             "ticks": ""
            },
            "colorscale": [
             [
              0,
              "#0d0887"
             ],
             [
              0.1111111111111111,
              "#46039f"
             ],
             [
              0.2222222222222222,
              "#7201a8"
             ],
             [
              0.3333333333333333,
              "#9c179e"
             ],
             [
              0.4444444444444444,
              "#bd3786"
             ],
             [
              0.5555555555555556,
              "#d8576b"
             ],
             [
              0.6666666666666666,
              "#ed7953"
             ],
             [
              0.7777777777777778,
              "#fb9f3a"
             ],
             [
              0.8888888888888888,
              "#fdca26"
             ],
             [
              1,
              "#f0f921"
             ]
            ],
            "type": "heatmapgl"
           }
          ],
          "histogram": [
           {
            "marker": {
             "pattern": {
              "fillmode": "overlay",
              "size": 10,
              "solidity": 0.2
             }
            },
            "type": "histogram"
           }
          ],
          "histogram2d": [
           {
            "colorbar": {
             "outlinewidth": 0,
             "ticks": ""
            },
            "colorscale": [
             [
              0,
              "#0d0887"
             ],
             [
              0.1111111111111111,
              "#46039f"
             ],
             [
              0.2222222222222222,
              "#7201a8"
             ],
             [
              0.3333333333333333,
              "#9c179e"
             ],
             [
              0.4444444444444444,
              "#bd3786"
             ],
             [
              0.5555555555555556,
              "#d8576b"
             ],
             [
              0.6666666666666666,
              "#ed7953"
             ],
             [
              0.7777777777777778,
              "#fb9f3a"
             ],
             [
              0.8888888888888888,
              "#fdca26"
             ],
             [
              1,
              "#f0f921"
             ]
            ],
            "type": "histogram2d"
           }
          ],
          "histogram2dcontour": [
           {
            "colorbar": {
             "outlinewidth": 0,
             "ticks": ""
            },
            "colorscale": [
             [
              0,
              "#0d0887"
             ],
             [
              0.1111111111111111,
              "#46039f"
             ],
             [
              0.2222222222222222,
              "#7201a8"
             ],
             [
              0.3333333333333333,
              "#9c179e"
             ],
             [
              0.4444444444444444,
              "#bd3786"
             ],
             [
              0.5555555555555556,
              "#d8576b"
             ],
             [
              0.6666666666666666,
              "#ed7953"
             ],
             [
              0.7777777777777778,
              "#fb9f3a"
             ],
             [
              0.8888888888888888,
              "#fdca26"
             ],
             [
              1,
              "#f0f921"
             ]
            ],
            "type": "histogram2dcontour"
           }
          ],
          "mesh3d": [
           {
            "colorbar": {
             "outlinewidth": 0,
             "ticks": ""
            },
            "type": "mesh3d"
           }
          ],
          "parcoords": [
           {
            "line": {
             "colorbar": {
              "outlinewidth": 0,
              "ticks": ""
             }
            },
            "type": "parcoords"
           }
          ],
          "pie": [
           {
            "automargin": true,
            "type": "pie"
           }
          ],
          "scatter": [
           {
            "fillpattern": {
             "fillmode": "overlay",
             "size": 10,
             "solidity": 0.2
            },
            "type": "scatter"
           }
          ],
          "scatter3d": [
           {
            "line": {
             "colorbar": {
              "outlinewidth": 0,
              "ticks": ""
             }
            },
            "marker": {
             "colorbar": {
              "outlinewidth": 0,
              "ticks": ""
             }
            },
            "type": "scatter3d"
           }
          ],
          "scattercarpet": [
           {
            "marker": {
             "colorbar": {
              "outlinewidth": 0,
              "ticks": ""
             }
            },
            "type": "scattercarpet"
           }
          ],
          "scattergeo": [
           {
            "marker": {
             "colorbar": {
              "outlinewidth": 0,
              "ticks": ""
             }
            },
            "type": "scattergeo"
           }
          ],
          "scattergl": [
           {
            "marker": {
             "colorbar": {
              "outlinewidth": 0,
              "ticks": ""
             }
            },
            "type": "scattergl"
           }
          ],
          "scattermapbox": [
           {
            "marker": {
             "colorbar": {
              "outlinewidth": 0,
              "ticks": ""
             }
            },
            "type": "scattermapbox"
           }
          ],
          "scatterpolar": [
           {
            "marker": {
             "colorbar": {
              "outlinewidth": 0,
              "ticks": ""
             }
            },
            "type": "scatterpolar"
           }
          ],
          "scatterpolargl": [
           {
            "marker": {
             "colorbar": {
              "outlinewidth": 0,
              "ticks": ""
             }
            },
            "type": "scatterpolargl"
           }
          ],
          "scatterternary": [
           {
            "marker": {
             "colorbar": {
              "outlinewidth": 0,
              "ticks": ""
             }
            },
            "type": "scatterternary"
           }
          ],
          "surface": [
           {
            "colorbar": {
             "outlinewidth": 0,
             "ticks": ""
            },
            "colorscale": [
             [
              0,
              "#0d0887"
             ],
             [
              0.1111111111111111,
              "#46039f"
             ],
             [
              0.2222222222222222,
              "#7201a8"
             ],
             [
              0.3333333333333333,
              "#9c179e"
             ],
             [
              0.4444444444444444,
              "#bd3786"
             ],
             [
              0.5555555555555556,
              "#d8576b"
             ],
             [
              0.6666666666666666,
              "#ed7953"
             ],
             [
              0.7777777777777778,
              "#fb9f3a"
             ],
             [
              0.8888888888888888,
              "#fdca26"
             ],
             [
              1,
              "#f0f921"
             ]
            ],
            "type": "surface"
           }
          ],
          "table": [
           {
            "cells": {
             "fill": {
              "color": "#EBF0F8"
             },
             "line": {
              "color": "white"
             }
            },
            "header": {
             "fill": {
              "color": "#C8D4E3"
             },
             "line": {
              "color": "white"
             }
            },
            "type": "table"
           }
          ]
         },
         "layout": {
          "annotationdefaults": {
           "arrowcolor": "#2a3f5f",
           "arrowhead": 0,
           "arrowwidth": 1
          },
          "autotypenumbers": "strict",
          "coloraxis": {
           "colorbar": {
            "outlinewidth": 0,
            "ticks": ""
           }
          },
          "colorscale": {
           "diverging": [
            [
             0,
             "#8e0152"
            ],
            [
             0.1,
             "#c51b7d"
            ],
            [
             0.2,
             "#de77ae"
            ],
            [
             0.3,
             "#f1b6da"
            ],
            [
             0.4,
             "#fde0ef"
            ],
            [
             0.5,
             "#f7f7f7"
            ],
            [
             0.6,
             "#e6f5d0"
            ],
            [
             0.7,
             "#b8e186"
            ],
            [
             0.8,
             "#7fbc41"
            ],
            [
             0.9,
             "#4d9221"
            ],
            [
             1,
             "#276419"
            ]
           ],
           "sequential": [
            [
             0,
             "#0d0887"
            ],
            [
             0.1111111111111111,
             "#46039f"
            ],
            [
             0.2222222222222222,
             "#7201a8"
            ],
            [
             0.3333333333333333,
             "#9c179e"
            ],
            [
             0.4444444444444444,
             "#bd3786"
            ],
            [
             0.5555555555555556,
             "#d8576b"
            ],
            [
             0.6666666666666666,
             "#ed7953"
            ],
            [
             0.7777777777777778,
             "#fb9f3a"
            ],
            [
             0.8888888888888888,
             "#fdca26"
            ],
            [
             1,
             "#f0f921"
            ]
           ],
           "sequentialminus": [
            [
             0,
             "#0d0887"
            ],
            [
             0.1111111111111111,
             "#46039f"
            ],
            [
             0.2222222222222222,
             "#7201a8"
            ],
            [
             0.3333333333333333,
             "#9c179e"
            ],
            [
             0.4444444444444444,
             "#bd3786"
            ],
            [
             0.5555555555555556,
             "#d8576b"
            ],
            [
             0.6666666666666666,
             "#ed7953"
            ],
            [
             0.7777777777777778,
             "#fb9f3a"
            ],
            [
             0.8888888888888888,
             "#fdca26"
            ],
            [
             1,
             "#f0f921"
            ]
           ]
          },
          "colorway": [
           "#636efa",
           "#EF553B",
           "#00cc96",
           "#ab63fa",
           "#FFA15A",
           "#19d3f3",
           "#FF6692",
           "#B6E880",
           "#FF97FF",
           "#FECB52"
          ],
          "font": {
           "color": "#2a3f5f"
          },
          "geo": {
           "bgcolor": "white",
           "lakecolor": "white",
           "landcolor": "#E5ECF6",
           "showlakes": true,
           "showland": true,
           "subunitcolor": "white"
          },
          "hoverlabel": {
           "align": "left"
          },
          "hovermode": "closest",
          "mapbox": {
           "style": "light"
          },
          "paper_bgcolor": "white",
          "plot_bgcolor": "#E5ECF6",
          "polar": {
           "angularaxis": {
            "gridcolor": "white",
            "linecolor": "white",
            "ticks": ""
           },
           "bgcolor": "#E5ECF6",
           "radialaxis": {
            "gridcolor": "white",
            "linecolor": "white",
            "ticks": ""
           }
          },
          "scene": {
           "xaxis": {
            "backgroundcolor": "#E5ECF6",
            "gridcolor": "white",
            "gridwidth": 2,
            "linecolor": "white",
            "showbackground": true,
            "ticks": "",
            "zerolinecolor": "white"
           },
           "yaxis": {
            "backgroundcolor": "#E5ECF6",
            "gridcolor": "white",
            "gridwidth": 2,
            "linecolor": "white",
            "showbackground": true,
            "ticks": "",
            "zerolinecolor": "white"
           },
           "zaxis": {
            "backgroundcolor": "#E5ECF6",
            "gridcolor": "white",
            "gridwidth": 2,
            "linecolor": "white",
            "showbackground": true,
            "ticks": "",
            "zerolinecolor": "white"
           }
          },
          "shapedefaults": {
           "line": {
            "color": "#2a3f5f"
           }
          },
          "ternary": {
           "aaxis": {
            "gridcolor": "white",
            "linecolor": "white",
            "ticks": ""
           },
           "baxis": {
            "gridcolor": "white",
            "linecolor": "white",
            "ticks": ""
           },
           "bgcolor": "#E5ECF6",
           "caxis": {
            "gridcolor": "white",
            "linecolor": "white",
            "ticks": ""
           }
          },
          "title": {
           "x": 0.05
          },
          "xaxis": {
           "automargin": true,
           "gridcolor": "white",
           "linecolor": "white",
           "ticks": "",
           "title": {
            "standoff": 15
           },
           "zerolinecolor": "white",
           "zerolinewidth": 2
          },
          "yaxis": {
           "automargin": true,
           "gridcolor": "white",
           "linecolor": "white",
           "ticks": "",
           "title": {
            "standoff": 15
           },
           "zerolinecolor": "white",
           "zerolinewidth": 2
          }
         }
        },
        "title": {
         "text": "ecDNA sizes"
        },
        "xaxis": {
         "anchor": "y",
         "domain": [
          0,
          1
         ],
         "title": {
          "text": "Size of ecDNA (bp)"
         }
        },
        "yaxis": {
         "anchor": "x",
         "domain": [
          0,
          1
         ],
         "title": {
          "text": "count"
         }
        }
       }
      }
     },
     "metadata": {},
     "output_type": "display_data"
    }
   ],
   "source": [
    "import matplotlib.pyplot as plt\n",
    "import plotly.express as px\n",
    "\n",
    "hovertemp = \"<b>Day: </b> %{x} <br>\"\n",
    "hovertemp += \"<b>Total Bill: </b> %{y}\"\n",
    "fig = px.histogram(data2, x='captured_region_size_bp', text_auto=True, title='ecDNA sizes', \n",
    "                   labels={\"captured_region_size_bp\":\"Size of ecDNA (bp)\"})\n",
    "fig.update_traces(hovertemplate=hovertemp)\n",
    "fig\n",
    "#data2.plot.hist(x='feature_ID', y='captured_region_size_bp')"
   ]
  },
  {
   "cell_type": "code",
   "execution_count": 6,
   "metadata": {},
   "outputs": [
    {
     "data": {
      "text/html": [
       "<div>\n",
       "<style scoped>\n",
       "    .dataframe tbody tr th:only-of-type {\n",
       "        vertical-align: middle;\n",
       "    }\n",
       "\n",
       "    .dataframe tbody tr th {\n",
       "        vertical-align: top;\n",
       "    }\n",
       "\n",
       "    .dataframe thead th {\n",
       "        text-align: right;\n",
       "    }\n",
       "</style>\n",
       "<table border=\"1\" class=\"dataframe\">\n",
       "  <thead>\n",
       "    <tr style=\"text-align: right;\">\n",
       "      <th></th>\n",
       "      <th>Sample name</th>\n",
       "      <th>AA amplicon number</th>\n",
       "      <th>Feature ID</th>\n",
       "      <th>Classification</th>\n",
       "      <th>Location</th>\n",
       "      <th>Oncogenes</th>\n",
       "      <th>All genes</th>\n",
       "      <th>Complexity score</th>\n",
       "      <th>Captured interval length</th>\n",
       "      <th>Feature median copy number</th>\n",
       "      <th>Feature maximum copy number</th>\n",
       "      <th>Filter flag</th>\n",
       "      <th>Reference version</th>\n",
       "      <th>Tissue of origin</th>\n",
       "      <th>Sample type</th>\n",
       "      <th>Feature BED file</th>\n",
       "      <th>CNV BED file</th>\n",
       "      <th>AA PNG file</th>\n",
       "      <th>AA PDF file</th>\n",
       "      <th>Run metadata JSON</th>\n",
       "    </tr>\n",
       "  </thead>\n",
       "  <tbody>\n",
       "    <tr>\n",
       "      <th>0</th>\n",
       "      <td>ESO26</td>\n",
       "      <td>1</td>\n",
       "      <td>ESO26_amplicon1_BFB_1</td>\n",
       "      <td>BFB</td>\n",
       "      <td>['chr5:51925610-54458031']</td>\n",
       "      <td>[]</td>\n",
       "      <td>['ARL15', 'FST', 'HSPB3', 'ITGA1', 'ITGA2', 'M...</td>\n",
       "      <td>0.998805</td>\n",
       "      <td>2532421</td>\n",
       "      <td>5.031071</td>\n",
       "      <td>5.031071</td>\n",
       "      <td>LowCN</td>\n",
       "      <td>GRCh38</td>\n",
       "      <td>esophagus</td>\n",
       "      <td>cell line</td>\n",
       "      <td>/Users/jluebeck/Dropbox/BafnaLab/ecDNA/AA_resu...</td>\n",
       "      <td>/Users/jluebeck/Dropbox/BafnaLab/ecDNA/AA_resu...</td>\n",
       "      <td>/Users/jluebeck/Dropbox/BafnaLab/ecDNA/AA_resu...</td>\n",
       "      <td>/Users/jluebeck/Dropbox/BafnaLab/ecDNA/AA_resu...</td>\n",
       "      <td>/Users/jluebeck/Dropbox/BafnaLab/ecDNA/AA_resu...</td>\n",
       "    </tr>\n",
       "    <tr>\n",
       "      <th>1</th>\n",
       "      <td>ESO26</td>\n",
       "      <td>2</td>\n",
       "      <td>ESO26_amplicon2_BFB_1</td>\n",
       "      <td>BFB</td>\n",
       "      <td>['chr10:60960382-62980386']</td>\n",
       "      <td>[]</td>\n",
       "      <td>['ADO', 'ARID5B', 'CABCOCO1', 'EGR2', 'RTKN2',...</td>\n",
       "      <td>0.575823</td>\n",
       "      <td>2020004</td>\n",
       "      <td>5.388893</td>\n",
       "      <td>5.388893</td>\n",
       "      <td>LowCN</td>\n",
       "      <td>GRCh38</td>\n",
       "      <td>esophagus</td>\n",
       "      <td>cell line</td>\n",
       "      <td>/Users/jluebeck/Dropbox/BafnaLab/ecDNA/AA_resu...</td>\n",
       "      <td>/Users/jluebeck/Dropbox/BafnaLab/ecDNA/AA_resu...</td>\n",
       "      <td>/Users/jluebeck/Dropbox/BafnaLab/ecDNA/AA_resu...</td>\n",
       "      <td>/Users/jluebeck/Dropbox/BafnaLab/ecDNA/AA_resu...</td>\n",
       "      <td>/Users/jluebeck/Dropbox/BafnaLab/ecDNA/AA_resu...</td>\n",
       "    </tr>\n",
       "    <tr>\n",
       "      <th>2</th>\n",
       "      <td>ESO26</td>\n",
       "      <td>3</td>\n",
       "      <td>ESO26_amplicon3_Complex non-cyclic_1</td>\n",
       "      <td>Complex non-cyclic</td>\n",
       "      <td>['chr10:77195401-79310404', 'chr10:83265408-83...</td>\n",
       "      <td>['RGR']</td>\n",
       "      <td>['CCSER2', 'CDHR1', 'DLG5', 'DLG5-AS1', 'KCNMA...</td>\n",
       "      <td>1.455471</td>\n",
       "      <td>3514631</td>\n",
       "      <td>5.694691</td>\n",
       "      <td>6.134792</td>\n",
       "      <td>None</td>\n",
       "      <td>GRCh38</td>\n",
       "      <td>esophagus</td>\n",
       "      <td>cell line</td>\n",
       "      <td>/Users/jluebeck/Dropbox/BafnaLab/ecDNA/AA_resu...</td>\n",
       "      <td>/Users/jluebeck/Dropbox/BafnaLab/ecDNA/AA_resu...</td>\n",
       "      <td>/Users/jluebeck/Dropbox/BafnaLab/ecDNA/AA_resu...</td>\n",
       "      <td>/Users/jluebeck/Dropbox/BafnaLab/ecDNA/AA_resu...</td>\n",
       "      <td>/Users/jluebeck/Dropbox/BafnaLab/ecDNA/AA_resu...</td>\n",
       "    </tr>\n",
       "    <tr>\n",
       "      <th>3</th>\n",
       "      <td>ESO26</td>\n",
       "      <td>4</td>\n",
       "      <td>ESO26_amplicon4_BFB_1</td>\n",
       "      <td>BFB</td>\n",
       "      <td>['chr12:40482928-40488203', 'chr12:40489819-41...</td>\n",
       "      <td>['ARID2']</td>\n",
       "      <td>['ADAMTS20', 'ANO6', 'ARID2', 'CNTN1', 'DBX2',...</td>\n",
       "      <td>0.962735</td>\n",
       "      <td>6421715</td>\n",
       "      <td>6.820154</td>\n",
       "      <td>9.299053</td>\n",
       "      <td>None</td>\n",
       "      <td>GRCh38</td>\n",
       "      <td>esophagus</td>\n",
       "      <td>cell line</td>\n",
       "      <td>/Users/jluebeck/Dropbox/BafnaLab/ecDNA/AA_resu...</td>\n",
       "      <td>/Users/jluebeck/Dropbox/BafnaLab/ecDNA/AA_resu...</td>\n",
       "      <td>/Users/jluebeck/Dropbox/BafnaLab/ecDNA/AA_resu...</td>\n",
       "      <td>/Users/jluebeck/Dropbox/BafnaLab/ecDNA/AA_resu...</td>\n",
       "      <td>/Users/jluebeck/Dropbox/BafnaLab/ecDNA/AA_resu...</td>\n",
       "    </tr>\n",
       "    <tr>\n",
       "      <th>4</th>\n",
       "      <td>ESO26</td>\n",
       "      <td>5</td>\n",
       "      <td>ESO26_amplicon5_BFB_1</td>\n",
       "      <td>BFB</td>\n",
       "      <td>['chr17:38421001-38798474', 'chr17:38800908-38...</td>\n",
       "      <td>['CDC6', 'ERBB2', 'LASP1', 'MLLT6', 'RARA', 'R...</td>\n",
       "      <td>['ARHGAP23', 'C17orf98', 'CDC6', 'CISD3', 'CWC...</td>\n",
       "      <td>1.192181</td>\n",
       "      <td>1003433</td>\n",
       "      <td>19.823466</td>\n",
       "      <td>46.835721</td>\n",
       "      <td>None</td>\n",
       "      <td>GRCh38</td>\n",
       "      <td>esophagus</td>\n",
       "      <td>cell line</td>\n",
       "      <td>/Users/jluebeck/Dropbox/BafnaLab/ecDNA/AA_resu...</td>\n",
       "      <td>/Users/jluebeck/Dropbox/BafnaLab/ecDNA/AA_resu...</td>\n",
       "      <td>/Users/jluebeck/Dropbox/BafnaLab/ecDNA/AA_resu...</td>\n",
       "      <td>/Users/jluebeck/Dropbox/BafnaLab/ecDNA/AA_resu...</td>\n",
       "      <td>/Users/jluebeck/Dropbox/BafnaLab/ecDNA/AA_resu...</td>\n",
       "    </tr>\n",
       "    <tr>\n",
       "      <th>5</th>\n",
       "      <td>ESO51</td>\n",
       "      <td>1</td>\n",
       "      <td>ESO51_amplicon1_Complex non-cyclic_1</td>\n",
       "      <td>Complex non-cyclic</td>\n",
       "      <td>['chr22:28669350-28669901', 'chr7:111461190-11...</td>\n",
       "      <td>['CAV1', 'MET', 'WNT2']</td>\n",
       "      <td>['ASZ1', 'BMT2', 'CAPZA2', 'CAV1', 'CAV2', 'CF...</td>\n",
       "      <td>1.213437</td>\n",
       "      <td>6411775</td>\n",
       "      <td>8.741029</td>\n",
       "      <td>35.927974</td>\n",
       "      <td>None</td>\n",
       "      <td>GRCh38</td>\n",
       "      <td>esophagus</td>\n",
       "      <td>cell line</td>\n",
       "      <td>/Users/jluebeck/Dropbox/BafnaLab/ecDNA/AA_resu...</td>\n",
       "      <td>/Users/jluebeck/Dropbox/BafnaLab/ecDNA/AA_resu...</td>\n",
       "      <td>/Users/jluebeck/Dropbox/BafnaLab/ecDNA/AA_resu...</td>\n",
       "      <td>/Users/jluebeck/Dropbox/BafnaLab/ecDNA/AA_resu...</td>\n",
       "      <td>/Users/jluebeck/Dropbox/BafnaLab/ecDNA/AA_resu...</td>\n",
       "    </tr>\n",
       "    <tr>\n",
       "      <th>6</th>\n",
       "      <td>ESO51</td>\n",
       "      <td>2</td>\n",
       "      <td>ESO51_amplicon2_Linear amplification_1</td>\n",
       "      <td>Linear amplification</td>\n",
       "      <td>['chr3:37811024-40841096']</td>\n",
       "      <td>['MYD88']</td>\n",
       "      <td>['ACAA1', 'ACVR2B', 'ACVR2B-AS1', 'CCR8', 'CSR...</td>\n",
       "      <td>0.633292</td>\n",
       "      <td>3030072</td>\n",
       "      <td>5.426529</td>\n",
       "      <td>5.426529</td>\n",
       "      <td>None</td>\n",
       "      <td>GRCh38</td>\n",
       "      <td>esophagus</td>\n",
       "      <td>cell line</td>\n",
       "      <td>/Users/jluebeck/Dropbox/BafnaLab/ecDNA/AA_resu...</td>\n",
       "      <td>/Users/jluebeck/Dropbox/BafnaLab/ecDNA/AA_resu...</td>\n",
       "      <td>/Users/jluebeck/Dropbox/BafnaLab/ecDNA/AA_resu...</td>\n",
       "      <td>/Users/jluebeck/Dropbox/BafnaLab/ecDNA/AA_resu...</td>\n",
       "      <td>/Users/jluebeck/Dropbox/BafnaLab/ecDNA/AA_resu...</td>\n",
       "    </tr>\n",
       "    <tr>\n",
       "      <th>7</th>\n",
       "      <td>ESO51</td>\n",
       "      <td>3</td>\n",
       "      <td>ESO51_amplicon3_Complex non-cyclic_1</td>\n",
       "      <td>Complex non-cyclic</td>\n",
       "      <td>['chr3:195576042-196110837', 'chr3:197540987-1...</td>\n",
       "      <td>['MUC4', 'TERT', 'TFRC']</td>\n",
       "      <td>['APOD', 'BDH1', 'CLPTM1L', 'FYTTD1', 'LPCAT1'...</td>\n",
       "      <td>1.602809</td>\n",
       "      <td>1133644</td>\n",
       "      <td>4.812606</td>\n",
       "      <td>21.343546</td>\n",
       "      <td>None</td>\n",
       "      <td>GRCh38</td>\n",
       "      <td>esophagus</td>\n",
       "      <td>cell line</td>\n",
       "      <td>/Users/jluebeck/Dropbox/BafnaLab/ecDNA/AA_resu...</td>\n",
       "      <td>/Users/jluebeck/Dropbox/BafnaLab/ecDNA/AA_resu...</td>\n",
       "      <td>/Users/jluebeck/Dropbox/BafnaLab/ecDNA/AA_resu...</td>\n",
       "      <td>/Users/jluebeck/Dropbox/BafnaLab/ecDNA/AA_resu...</td>\n",
       "      <td>/Users/jluebeck/Dropbox/BafnaLab/ecDNA/AA_resu...</td>\n",
       "    </tr>\n",
       "    <tr>\n",
       "      <th>8</th>\n",
       "      <td>ESO51</td>\n",
       "      <td>4</td>\n",
       "      <td>ESO51_amplicon4_ecDNA_1</td>\n",
       "      <td>ecDNA</td>\n",
       "      <td>['chr7:111079445-111153904']</td>\n",
       "      <td>[]</td>\n",
       "      <td>['LRRN3']</td>\n",
       "      <td>0.293333</td>\n",
       "      <td>74459</td>\n",
       "      <td>6.428408</td>\n",
       "      <td>7.217044</td>\n",
       "      <td>LowCN</td>\n",
       "      <td>GRCh38</td>\n",
       "      <td>esophagus</td>\n",
       "      <td>cell line</td>\n",
       "      <td>/Users/jluebeck/Dropbox/BafnaLab/ecDNA/AA_resu...</td>\n",
       "      <td>/Users/jluebeck/Dropbox/BafnaLab/ecDNA/AA_resu...</td>\n",
       "      <td>/Users/jluebeck/Dropbox/BafnaLab/ecDNA/AA_resu...</td>\n",
       "      <td>/Users/jluebeck/Dropbox/BafnaLab/ecDNA/AA_resu...</td>\n",
       "      <td>/Users/jluebeck/Dropbox/BafnaLab/ecDNA/AA_resu...</td>\n",
       "    </tr>\n",
       "    <tr>\n",
       "      <th>9</th>\n",
       "      <td>ESO51</td>\n",
       "      <td>5</td>\n",
       "      <td>ESO51_amplicon5_Complex non-cyclic_1</td>\n",
       "      <td>Complex non-cyclic</td>\n",
       "      <td>['chr8:42623767-43200001', 'chr11:69152352-695...</td>\n",
       "      <td>['DDX6', 'HOOK3', 'TREH']</td>\n",
       "      <td>['ARCN1', 'ATP5MG', 'CHRNA6', 'CHRNB3', 'DDX6'...</td>\n",
       "      <td>1.834478</td>\n",
       "      <td>1419281</td>\n",
       "      <td>6.187013</td>\n",
       "      <td>18.314655</td>\n",
       "      <td>None</td>\n",
       "      <td>GRCh38</td>\n",
       "      <td>esophagus</td>\n",
       "      <td>cell line</td>\n",
       "      <td>/Users/jluebeck/Dropbox/BafnaLab/ecDNA/AA_resu...</td>\n",
       "      <td>/Users/jluebeck/Dropbox/BafnaLab/ecDNA/AA_resu...</td>\n",
       "      <td>/Users/jluebeck/Dropbox/BafnaLab/ecDNA/AA_resu...</td>\n",
       "      <td>/Users/jluebeck/Dropbox/BafnaLab/ecDNA/AA_resu...</td>\n",
       "      <td>/Users/jluebeck/Dropbox/BafnaLab/ecDNA/AA_resu...</td>\n",
       "    </tr>\n",
       "    <tr>\n",
       "      <th>10</th>\n",
       "      <td>ESO51</td>\n",
       "      <td>6</td>\n",
       "      <td>ESO51_amplicon6_BFB_1</td>\n",
       "      <td>BFB</td>\n",
       "      <td>['chr8:126888955-128211006']</td>\n",
       "      <td>['MYC', 'PVT1']</td>\n",
       "      <td>['CASC11', 'CASC19', 'CASC21', 'CASC8', 'CCAT1...</td>\n",
       "      <td>1.135552</td>\n",
       "      <td>1322051</td>\n",
       "      <td>17.663883</td>\n",
       "      <td>17.663883</td>\n",
       "      <td>None</td>\n",
       "      <td>GRCh38</td>\n",
       "      <td>esophagus</td>\n",
       "      <td>cell line</td>\n",
       "      <td>/Users/jluebeck/Dropbox/BafnaLab/ecDNA/AA_resu...</td>\n",
       "      <td>/Users/jluebeck/Dropbox/BafnaLab/ecDNA/AA_resu...</td>\n",
       "      <td>/Users/jluebeck/Dropbox/BafnaLab/ecDNA/AA_resu...</td>\n",
       "      <td>/Users/jluebeck/Dropbox/BafnaLab/ecDNA/AA_resu...</td>\n",
       "      <td>/Users/jluebeck/Dropbox/BafnaLab/ecDNA/AA_resu...</td>\n",
       "    </tr>\n",
       "    <tr>\n",
       "      <th>11</th>\n",
       "      <td>ESO51</td>\n",
       "      <td>7</td>\n",
       "      <td>ESO51_amplicon7_Linear amplification_1</td>\n",
       "      <td>Linear amplification</td>\n",
       "      <td>['chr11:125661600-125781316']</td>\n",
       "      <td>[]</td>\n",
       "      <td>['ACRV1', 'PATE1', 'PATE2']</td>\n",
       "      <td>0.364207</td>\n",
       "      <td>119716</td>\n",
       "      <td>6.418112</td>\n",
       "      <td>6.418112</td>\n",
       "      <td>None</td>\n",
       "      <td>GRCh38</td>\n",
       "      <td>esophagus</td>\n",
       "      <td>cell line</td>\n",
       "      <td>/Users/jluebeck/Dropbox/BafnaLab/ecDNA/AA_resu...</td>\n",
       "      <td>/Users/jluebeck/Dropbox/BafnaLab/ecDNA/AA_resu...</td>\n",
       "      <td>/Users/jluebeck/Dropbox/BafnaLab/ecDNA/AA_resu...</td>\n",
       "      <td>/Users/jluebeck/Dropbox/BafnaLab/ecDNA/AA_resu...</td>\n",
       "      <td>/Users/jluebeck/Dropbox/BafnaLab/ecDNA/AA_resu...</td>\n",
       "    </tr>\n",
       "    <tr>\n",
       "      <th>12</th>\n",
       "      <td>ESO51</td>\n",
       "      <td>8</td>\n",
       "      <td>ESO51_amplicon8_Linear amplification_1</td>\n",
       "      <td>Linear amplification</td>\n",
       "      <td>['chr16:22610956-22700945']</td>\n",
       "      <td>[]</td>\n",
       "      <td>[]</td>\n",
       "      <td>0.339967</td>\n",
       "      <td>89989</td>\n",
       "      <td>6.022062</td>\n",
       "      <td>6.022062</td>\n",
       "      <td>None</td>\n",
       "      <td>GRCh38</td>\n",
       "      <td>esophagus</td>\n",
       "      <td>cell line</td>\n",
       "      <td>/Users/jluebeck/Dropbox/BafnaLab/ecDNA/AA_resu...</td>\n",
       "      <td>/Users/jluebeck/Dropbox/BafnaLab/ecDNA/AA_resu...</td>\n",
       "      <td>/Users/jluebeck/Dropbox/BafnaLab/ecDNA/AA_resu...</td>\n",
       "      <td>/Users/jluebeck/Dropbox/BafnaLab/ecDNA/AA_resu...</td>\n",
       "      <td>/Users/jluebeck/Dropbox/BafnaLab/ecDNA/AA_resu...</td>\n",
       "    </tr>\n",
       "    <tr>\n",
       "      <th>13</th>\n",
       "      <td>ESO51</td>\n",
       "      <td>9</td>\n",
       "      <td>ESO51_amplicon9_ecDNA_1</td>\n",
       "      <td>ecDNA</td>\n",
       "      <td>['chr20:49132929-54297674']</td>\n",
       "      <td>['CYP24A1', 'SALL4', 'SNAI1', 'ZNF217']</td>\n",
       "      <td>['ADNP', 'ADNP-AS1', 'ATP9A', 'B4GALT5', 'BCAS...</td>\n",
       "      <td>0.355390</td>\n",
       "      <td>5164745</td>\n",
       "      <td>7.491971</td>\n",
       "      <td>9.594766</td>\n",
       "      <td>None</td>\n",
       "      <td>GRCh38</td>\n",
       "      <td>esophagus</td>\n",
       "      <td>cell line</td>\n",
       "      <td>/Users/jluebeck/Dropbox/BafnaLab/ecDNA/AA_resu...</td>\n",
       "      <td>/Users/jluebeck/Dropbox/BafnaLab/ecDNA/AA_resu...</td>\n",
       "      <td>/Users/jluebeck/Dropbox/BafnaLab/ecDNA/AA_resu...</td>\n",
       "      <td>/Users/jluebeck/Dropbox/BafnaLab/ecDNA/AA_resu...</td>\n",
       "      <td>/Users/jluebeck/Dropbox/BafnaLab/ecDNA/AA_resu...</td>\n",
       "    </tr>\n",
       "    <tr>\n",
       "      <th>14</th>\n",
       "      <td>FLO-1</td>\n",
       "      <td>1</td>\n",
       "      <td>FLO-1_amplicon1_Complex non-cyclic_1</td>\n",
       "      <td>Complex non-cyclic</td>\n",
       "      <td>['chr6:21869584-25759511', 'chr6:48679775-4870...</td>\n",
       "      <td>['GMNN']</td>\n",
       "      <td>['ACOT13', 'ALDH5A1', 'ARMH2', 'C6orf62', 'CAR...</td>\n",
       "      <td>0.617710</td>\n",
       "      <td>3951464</td>\n",
       "      <td>5.591770</td>\n",
       "      <td>7.706660</td>\n",
       "      <td>None</td>\n",
       "      <td>GRCh38</td>\n",
       "      <td>esophagus</td>\n",
       "      <td>cell line</td>\n",
       "      <td>/Users/jluebeck/Dropbox/BafnaLab/ecDNA/AA_resu...</td>\n",
       "      <td>/Users/jluebeck/Dropbox/BafnaLab/ecDNA/AA_resu...</td>\n",
       "      <td>/Users/jluebeck/Dropbox/BafnaLab/ecDNA/AA_resu...</td>\n",
       "      <td>/Users/jluebeck/Dropbox/BafnaLab/ecDNA/AA_resu...</td>\n",
       "      <td>/Users/jluebeck/Dropbox/BafnaLab/ecDNA/AA_resu...</td>\n",
       "    </tr>\n",
       "    <tr>\n",
       "      <th>15</th>\n",
       "      <td>FLO-1</td>\n",
       "      <td>2</td>\n",
       "      <td>FLO-1_amplicon2_Linear amplification_1</td>\n",
       "      <td>Linear amplification</td>\n",
       "      <td>['chr8:13689318-13824316']</td>\n",
       "      <td>[]</td>\n",
       "      <td>[]</td>\n",
       "      <td>0.300660</td>\n",
       "      <td>134998</td>\n",
       "      <td>4.830317</td>\n",
       "      <td>4.830317</td>\n",
       "      <td>LowCN</td>\n",
       "      <td>GRCh38</td>\n",
       "      <td>esophagus</td>\n",
       "      <td>cell line</td>\n",
       "      <td>/Users/jluebeck/Dropbox/BafnaLab/ecDNA/AA_resu...</td>\n",
       "      <td>/Users/jluebeck/Dropbox/BafnaLab/ecDNA/AA_resu...</td>\n",
       "      <td>/Users/jluebeck/Dropbox/BafnaLab/ecDNA/AA_resu...</td>\n",
       "      <td>/Users/jluebeck/Dropbox/BafnaLab/ecDNA/AA_resu...</td>\n",
       "      <td>/Users/jluebeck/Dropbox/BafnaLab/ecDNA/AA_resu...</td>\n",
       "    </tr>\n",
       "    <tr>\n",
       "      <th>16</th>\n",
       "      <td>FLO-1</td>\n",
       "      <td>3</td>\n",
       "      <td>FLO-1_amplicon3_ecDNA_1</td>\n",
       "      <td>ecDNA</td>\n",
       "      <td>['chr9:110524069-110678202']</td>\n",
       "      <td>[]</td>\n",
       "      <td>['MUSK', 'SVEP1']</td>\n",
       "      <td>0.316410</td>\n",
       "      <td>154133</td>\n",
       "      <td>4.875775</td>\n",
       "      <td>4.875775</td>\n",
       "      <td>LowCN</td>\n",
       "      <td>GRCh38</td>\n",
       "      <td>esophagus</td>\n",
       "      <td>cell line</td>\n",
       "      <td>/Users/jluebeck/Dropbox/BafnaLab/ecDNA/AA_resu...</td>\n",
       "      <td>/Users/jluebeck/Dropbox/BafnaLab/ecDNA/AA_resu...</td>\n",
       "      <td>/Users/jluebeck/Dropbox/BafnaLab/ecDNA/AA_resu...</td>\n",
       "      <td>/Users/jluebeck/Dropbox/BafnaLab/ecDNA/AA_resu...</td>\n",
       "      <td>/Users/jluebeck/Dropbox/BafnaLab/ecDNA/AA_resu...</td>\n",
       "    </tr>\n",
       "    <tr>\n",
       "      <th>17</th>\n",
       "      <td>FLO-1</td>\n",
       "      <td>4</td>\n",
       "      <td>FLO-1_amplicon4_ecDNA_1</td>\n",
       "      <td>ecDNA</td>\n",
       "      <td>['chr9:121241736-121482063']</td>\n",
       "      <td>[]</td>\n",
       "      <td>['GSN-AS1', 'STOM']</td>\n",
       "      <td>0.318535</td>\n",
       "      <td>240327</td>\n",
       "      <td>5.397767</td>\n",
       "      <td>5.397767</td>\n",
       "      <td>LowCN</td>\n",
       "      <td>GRCh38</td>\n",
       "      <td>esophagus</td>\n",
       "      <td>cell line</td>\n",
       "      <td>/Users/jluebeck/Dropbox/BafnaLab/ecDNA/AA_resu...</td>\n",
       "      <td>/Users/jluebeck/Dropbox/BafnaLab/ecDNA/AA_resu...</td>\n",
       "      <td>/Users/jluebeck/Dropbox/BafnaLab/ecDNA/AA_resu...</td>\n",
       "      <td>/Users/jluebeck/Dropbox/BafnaLab/ecDNA/AA_resu...</td>\n",
       "      <td>/Users/jluebeck/Dropbox/BafnaLab/ecDNA/AA_resu...</td>\n",
       "    </tr>\n",
       "    <tr>\n",
       "      <th>18</th>\n",
       "      <td>JH-EsoAd1</td>\n",
       "      <td>1</td>\n",
       "      <td>JH-EsoAd1_amplicon1_Complex non-cyclic_1</td>\n",
       "      <td>Complex non-cyclic</td>\n",
       "      <td>['chr22:18929556-21304481', 'chr22:21334466-21...</td>\n",
       "      <td>['CLTCL1', 'CRKL']</td>\n",
       "      <td>['AIFM3', 'ARVCF', 'BCRP2', 'C22orf39', 'CCDC1...</td>\n",
       "      <td>0.909788</td>\n",
       "      <td>2968394</td>\n",
       "      <td>12.109468</td>\n",
       "      <td>16.587267</td>\n",
       "      <td>None</td>\n",
       "      <td>GRCh38</td>\n",
       "      <td>esophagus</td>\n",
       "      <td>cell line</td>\n",
       "      <td>/Users/jluebeck/Dropbox/BafnaLab/ecDNA/AA_resu...</td>\n",
       "      <td>/Users/jluebeck/Dropbox/BafnaLab/ecDNA/AA_resu...</td>\n",
       "      <td>/Users/jluebeck/Dropbox/BafnaLab/ecDNA/AA_resu...</td>\n",
       "      <td>/Users/jluebeck/Dropbox/BafnaLab/ecDNA/AA_resu...</td>\n",
       "      <td>/Users/jluebeck/Dropbox/BafnaLab/ecDNA/AA_resu...</td>\n",
       "    </tr>\n",
       "    <tr>\n",
       "      <th>19</th>\n",
       "      <td>JH-EsoAd1</td>\n",
       "      <td>2</td>\n",
       "      <td>JH-EsoAd1_amplicon2_ecDNA_1</td>\n",
       "      <td>ecDNA</td>\n",
       "      <td>['chr7:60936305-60938400', 'chr7:61010701-6102...</td>\n",
       "      <td>[]</td>\n",
       "      <td>[]</td>\n",
       "      <td>0.649348</td>\n",
       "      <td>119398</td>\n",
       "      <td>4.977917</td>\n",
       "      <td>8.184657</td>\n",
       "      <td>None</td>\n",
       "      <td>GRCh38</td>\n",
       "      <td>esophagus</td>\n",
       "      <td>cell line</td>\n",
       "      <td>/Users/jluebeck/Dropbox/BafnaLab/ecDNA/AA_resu...</td>\n",
       "      <td>/Users/jluebeck/Dropbox/BafnaLab/ecDNA/AA_resu...</td>\n",
       "      <td>/Users/jluebeck/Dropbox/BafnaLab/ecDNA/AA_resu...</td>\n",
       "      <td>/Users/jluebeck/Dropbox/BafnaLab/ecDNA/AA_resu...</td>\n",
       "      <td>/Users/jluebeck/Dropbox/BafnaLab/ecDNA/AA_resu...</td>\n",
       "    </tr>\n",
       "    <tr>\n",
       "      <th>20</th>\n",
       "      <td>JH-EsoAd1</td>\n",
       "      <td>3</td>\n",
       "      <td>JH-EsoAd1_amplicon3_ecDNA_1</td>\n",
       "      <td>ecDNA</td>\n",
       "      <td>['chr11:92522622-93279810', 'chr11:100289218-1...</td>\n",
       "      <td>['BIRC2', 'BIRC3', 'MMP12', 'YAP1']</td>\n",
       "      <td>['ANGPTL5', 'ARHGAP42', 'BIRC2', 'BIRC3', 'CEP...</td>\n",
       "      <td>1.156139</td>\n",
       "      <td>4117865</td>\n",
       "      <td>18.665034</td>\n",
       "      <td>19.877542</td>\n",
       "      <td>None</td>\n",
       "      <td>GRCh38</td>\n",
       "      <td>esophagus</td>\n",
       "      <td>cell line</td>\n",
       "      <td>/Users/jluebeck/Dropbox/BafnaLab/ecDNA/AA_resu...</td>\n",
       "      <td>/Users/jluebeck/Dropbox/BafnaLab/ecDNA/AA_resu...</td>\n",
       "      <td>/Users/jluebeck/Dropbox/BafnaLab/ecDNA/AA_resu...</td>\n",
       "      <td>/Users/jluebeck/Dropbox/BafnaLab/ecDNA/AA_resu...</td>\n",
       "      <td>/Users/jluebeck/Dropbox/BafnaLab/ecDNA/AA_resu...</td>\n",
       "    </tr>\n",
       "    <tr>\n",
       "      <th>21</th>\n",
       "      <td>JH-EsoAd1</td>\n",
       "      <td>4</td>\n",
       "      <td>JH-EsoAd1_amplicon4_ecDNA_1</td>\n",
       "      <td>ecDNA</td>\n",
       "      <td>['chr17:51254237-51254246', 'chr17:51256623-51...</td>\n",
       "      <td>[]</td>\n",
       "      <td>['ERN1', 'SNHG25', 'SNORA50C', 'SNORD104', 'TE...</td>\n",
       "      <td>0.217233</td>\n",
       "      <td>217998</td>\n",
       "      <td>11.020320</td>\n",
       "      <td>12.237808</td>\n",
       "      <td>None</td>\n",
       "      <td>GRCh38</td>\n",
       "      <td>esophagus</td>\n",
       "      <td>cell line</td>\n",
       "      <td>/Users/jluebeck/Dropbox/BafnaLab/ecDNA/AA_resu...</td>\n",
       "      <td>/Users/jluebeck/Dropbox/BafnaLab/ecDNA/AA_resu...</td>\n",
       "      <td>/Users/jluebeck/Dropbox/BafnaLab/ecDNA/AA_resu...</td>\n",
       "      <td>/Users/jluebeck/Dropbox/BafnaLab/ecDNA/AA_resu...</td>\n",
       "      <td>/Users/jluebeck/Dropbox/BafnaLab/ecDNA/AA_resu...</td>\n",
       "    </tr>\n",
       "    <tr>\n",
       "      <th>22</th>\n",
       "      <td>JH-EsoAd1</td>\n",
       "      <td>5</td>\n",
       "      <td>JH-EsoAd1_amplicon5_ecDNA_1</td>\n",
       "      <td>ecDNA</td>\n",
       "      <td>['chr19:23022166-23081536', 'chr19:23082525-23...</td>\n",
       "      <td>['CCNE1']</td>\n",
       "      <td>['C19orf12', 'CCNE1', 'IPO5P1', 'PLEKHF1', 'PO...</td>\n",
       "      <td>0.849752</td>\n",
       "      <td>2191219</td>\n",
       "      <td>6.770293</td>\n",
       "      <td>9.220484</td>\n",
       "      <td>None</td>\n",
       "      <td>GRCh38</td>\n",
       "      <td>esophagus</td>\n",
       "      <td>cell line</td>\n",
       "      <td>/Users/jluebeck/Dropbox/BafnaLab/ecDNA/AA_resu...</td>\n",
       "      <td>/Users/jluebeck/Dropbox/BafnaLab/ecDNA/AA_resu...</td>\n",
       "      <td>/Users/jluebeck/Dropbox/BafnaLab/ecDNA/AA_resu...</td>\n",
       "      <td>/Users/jluebeck/Dropbox/BafnaLab/ecDNA/AA_resu...</td>\n",
       "      <td>/Users/jluebeck/Dropbox/BafnaLab/ecDNA/AA_resu...</td>\n",
       "    </tr>\n",
       "    <tr>\n",
       "      <th>23</th>\n",
       "      <td>JH-EsoAd1</td>\n",
       "      <td>5</td>\n",
       "      <td>JH-EsoAd1_amplicon5_ecDNA_2</td>\n",
       "      <td>ecDNA</td>\n",
       "      <td>['chr19:32897736-34110358', 'chr19:34246214-35...</td>\n",
       "      <td>['CEBPA']</td>\n",
       "      <td>['CEBPA', 'CEBPA-DT', 'CEBPG', 'CEP89', 'CHST8...</td>\n",
       "      <td>0.742344</td>\n",
       "      <td>2232415</td>\n",
       "      <td>7.076339</td>\n",
       "      <td>102.055949</td>\n",
       "      <td>None</td>\n",
       "      <td>GRCh38</td>\n",
       "      <td>esophagus</td>\n",
       "      <td>cell line</td>\n",
       "      <td>/Users/jluebeck/Dropbox/BafnaLab/ecDNA/AA_resu...</td>\n",
       "      <td>/Users/jluebeck/Dropbox/BafnaLab/ecDNA/AA_resu...</td>\n",
       "      <td>/Users/jluebeck/Dropbox/BafnaLab/ecDNA/AA_resu...</td>\n",
       "      <td>/Users/jluebeck/Dropbox/BafnaLab/ecDNA/AA_resu...</td>\n",
       "      <td>/Users/jluebeck/Dropbox/BafnaLab/ecDNA/AA_resu...</td>\n",
       "    </tr>\n",
       "    <tr>\n",
       "      <th>24</th>\n",
       "      <td>OACM5.1</td>\n",
       "      <td>1</td>\n",
       "      <td>OACM5.1_amplicon1_ecDNA_1</td>\n",
       "      <td>ecDNA</td>\n",
       "      <td>['chr7:105841079-108171103', 'chr7:108207886-1...</td>\n",
       "      <td>['CBLL1']</td>\n",
       "      <td>['BCAP29', 'C7orf66', 'CBLL1', 'CCDC71L', 'CDH...</td>\n",
       "      <td>1.010548</td>\n",
       "      <td>6542072</td>\n",
       "      <td>4.875137</td>\n",
       "      <td>11.212459</td>\n",
       "      <td>None</td>\n",
       "      <td>GRCh38</td>\n",
       "      <td>esophagus</td>\n",
       "      <td>cell line</td>\n",
       "      <td>/Users/jluebeck/Dropbox/BafnaLab/ecDNA/AA_resu...</td>\n",
       "      <td>/Users/jluebeck/Dropbox/BafnaLab/ecDNA/AA_resu...</td>\n",
       "      <td>/Users/jluebeck/Dropbox/BafnaLab/ecDNA/AA_resu...</td>\n",
       "      <td>/Users/jluebeck/Dropbox/BafnaLab/ecDNA/AA_resu...</td>\n",
       "      <td>/Users/jluebeck/Dropbox/BafnaLab/ecDNA/AA_resu...</td>\n",
       "    </tr>\n",
       "    <tr>\n",
       "      <th>25</th>\n",
       "      <td>OACP4-C</td>\n",
       "      <td>10</td>\n",
       "      <td>OACP4-C_amplicon10_ecDNA_1</td>\n",
       "      <td>ecDNA</td>\n",
       "      <td>['chr7:16754473-16873928']</td>\n",
       "      <td>[]</td>\n",
       "      <td>['AGR2']</td>\n",
       "      <td>0.181218</td>\n",
       "      <td>119455</td>\n",
       "      <td>4.948026</td>\n",
       "      <td>4.948026</td>\n",
       "      <td>LowCN</td>\n",
       "      <td>GRCh38</td>\n",
       "      <td>esophagus</td>\n",
       "      <td>cell line</td>\n",
       "      <td>/Users/jluebeck/Dropbox/BafnaLab/ecDNA/AA_resu...</td>\n",
       "      <td>/Users/jluebeck/Dropbox/BafnaLab/ecDNA/AA_resu...</td>\n",
       "      <td>/Users/jluebeck/Dropbox/BafnaLab/ecDNA/AA_resu...</td>\n",
       "      <td>/Users/jluebeck/Dropbox/BafnaLab/ecDNA/AA_resu...</td>\n",
       "      <td>/Users/jluebeck/Dropbox/BafnaLab/ecDNA/AA_resu...</td>\n",
       "    </tr>\n",
       "    <tr>\n",
       "      <th>26</th>\n",
       "      <td>OACP4-C</td>\n",
       "      <td>11</td>\n",
       "      <td>OACP4-C_amplicon11_Complex non-cyclic_1</td>\n",
       "      <td>Complex non-cyclic</td>\n",
       "      <td>['chr18:8275483-8400490', 'chr7:81146554-81316...</td>\n",
       "      <td>['CDK14']</td>\n",
       "      <td>['ASB4', 'CDK14', 'CLDN12', 'DYNC1I1', 'PDK4',...</td>\n",
       "      <td>1.833205</td>\n",
       "      <td>2825667</td>\n",
       "      <td>8.376441</td>\n",
       "      <td>11.671047</td>\n",
       "      <td>None</td>\n",
       "      <td>GRCh38</td>\n",
       "      <td>esophagus</td>\n",
       "      <td>cell line</td>\n",
       "      <td>/Users/jluebeck/Dropbox/BafnaLab/ecDNA/AA_resu...</td>\n",
       "      <td>/Users/jluebeck/Dropbox/BafnaLab/ecDNA/AA_resu...</td>\n",
       "      <td>/Users/jluebeck/Dropbox/BafnaLab/ecDNA/AA_resu...</td>\n",
       "      <td>/Users/jluebeck/Dropbox/BafnaLab/ecDNA/AA_resu...</td>\n",
       "      <td>/Users/jluebeck/Dropbox/BafnaLab/ecDNA/AA_resu...</td>\n",
       "    </tr>\n",
       "    <tr>\n",
       "      <th>27</th>\n",
       "      <td>OACP4-C</td>\n",
       "      <td>12</td>\n",
       "      <td>OACP4-C_amplicon12_ecDNA_1</td>\n",
       "      <td>ecDNA</td>\n",
       "      <td>['chr7:99882679-100088457', 'chr7:150967200-15...</td>\n",
       "      <td>[]</td>\n",
       "      <td>['ABCB8', 'ABCF2', 'AGAP3', 'ASB10', 'ASIC3', ...</td>\n",
       "      <td>0.647258</td>\n",
       "      <td>478021</td>\n",
       "      <td>7.021558</td>\n",
       "      <td>14.944907</td>\n",
       "      <td>None</td>\n",
       "      <td>GRCh38</td>\n",
       "      <td>esophagus</td>\n",
       "      <td>cell line</td>\n",
       "      <td>/Users/jluebeck/Dropbox/BafnaLab/ecDNA/AA_resu...</td>\n",
       "      <td>/Users/jluebeck/Dropbox/BafnaLab/ecDNA/AA_resu...</td>\n",
       "      <td>/Users/jluebeck/Dropbox/BafnaLab/ecDNA/AA_resu...</td>\n",
       "      <td>/Users/jluebeck/Dropbox/BafnaLab/ecDNA/AA_resu...</td>\n",
       "      <td>/Users/jluebeck/Dropbox/BafnaLab/ecDNA/AA_resu...</td>\n",
       "    </tr>\n",
       "    <tr>\n",
       "      <th>28</th>\n",
       "      <td>OACP4-C</td>\n",
       "      <td>13</td>\n",
       "      <td>OACP4-C_amplicon13_ecDNA_1</td>\n",
       "      <td>ecDNA</td>\n",
       "      <td>['chr11:25474283-25475617', 'chr11:26407805-26...</td>\n",
       "      <td>[]</td>\n",
       "      <td>[]</td>\n",
       "      <td>0.281591</td>\n",
       "      <td>333627</td>\n",
       "      <td>5.653532</td>\n",
       "      <td>7.272131</td>\n",
       "      <td>LowCN</td>\n",
       "      <td>GRCh38</td>\n",
       "      <td>esophagus</td>\n",
       "      <td>cell line</td>\n",
       "      <td>/Users/jluebeck/Dropbox/BafnaLab/ecDNA/AA_resu...</td>\n",
       "      <td>/Users/jluebeck/Dropbox/BafnaLab/ecDNA/AA_resu...</td>\n",
       "      <td>/Users/jluebeck/Dropbox/BafnaLab/ecDNA/AA_resu...</td>\n",
       "      <td>/Users/jluebeck/Dropbox/BafnaLab/ecDNA/AA_resu...</td>\n",
       "      <td>/Users/jluebeck/Dropbox/BafnaLab/ecDNA/AA_resu...</td>\n",
       "    </tr>\n",
       "    <tr>\n",
       "      <th>29</th>\n",
       "      <td>OACP4-C</td>\n",
       "      <td>14</td>\n",
       "      <td>OACP4-C_amplicon14_ecDNA_1</td>\n",
       "      <td>ecDNA</td>\n",
       "      <td>['chr8:126276246-128253744', 'chr8:128259748-1...</td>\n",
       "      <td>['MYC', 'PVT1']</td>\n",
       "      <td>['CASC11', 'CASC19', 'CASC21', 'CASC8', 'CCAT1...</td>\n",
       "      <td>0.364012</td>\n",
       "      <td>1987960</td>\n",
       "      <td>6.717471</td>\n",
       "      <td>9.875379</td>\n",
       "      <td>None</td>\n",
       "      <td>GRCh38</td>\n",
       "      <td>esophagus</td>\n",
       "      <td>cell line</td>\n",
       "      <td>/Users/jluebeck/Dropbox/BafnaLab/ecDNA/AA_resu...</td>\n",
       "      <td>/Users/jluebeck/Dropbox/BafnaLab/ecDNA/AA_resu...</td>\n",
       "      <td>/Users/jluebeck/Dropbox/BafnaLab/ecDNA/AA_resu...</td>\n",
       "      <td>/Users/jluebeck/Dropbox/BafnaLab/ecDNA/AA_resu...</td>\n",
       "      <td>/Users/jluebeck/Dropbox/BafnaLab/ecDNA/AA_resu...</td>\n",
       "    </tr>\n",
       "    <tr>\n",
       "      <th>30</th>\n",
       "      <td>OACP4-C</td>\n",
       "      <td>15</td>\n",
       "      <td>OACP4-C_amplicon15_Complex non-cyclic_1</td>\n",
       "      <td>Complex non-cyclic</td>\n",
       "      <td>['chr10:71950395-73320398', 'chr17:34336389-34...</td>\n",
       "      <td>[]</td>\n",
       "      <td>['ANAPC16', 'ASCC1', 'CHST3', 'DDIT4', 'DNAJB1...</td>\n",
       "      <td>0.361776</td>\n",
       "      <td>1380527</td>\n",
       "      <td>7.352700</td>\n",
       "      <td>7.390377</td>\n",
       "      <td>None</td>\n",
       "      <td>GRCh38</td>\n",
       "      <td>esophagus</td>\n",
       "      <td>cell line</td>\n",
       "      <td>/Users/jluebeck/Dropbox/BafnaLab/ecDNA/AA_resu...</td>\n",
       "      <td>/Users/jluebeck/Dropbox/BafnaLab/ecDNA/AA_resu...</td>\n",
       "      <td>/Users/jluebeck/Dropbox/BafnaLab/ecDNA/AA_resu...</td>\n",
       "      <td>/Users/jluebeck/Dropbox/BafnaLab/ecDNA/AA_resu...</td>\n",
       "      <td>/Users/jluebeck/Dropbox/BafnaLab/ecDNA/AA_resu...</td>\n",
       "    </tr>\n",
       "    <tr>\n",
       "      <th>31</th>\n",
       "      <td>OACP4-C</td>\n",
       "      <td>16</td>\n",
       "      <td>OACP4-C_amplicon16_Linear amplification_1</td>\n",
       "      <td>Linear amplification</td>\n",
       "      <td>['chr10:119165449-119280450']</td>\n",
       "      <td>[]</td>\n",
       "      <td>['GRK5', 'PRDX3', 'SFXN4']</td>\n",
       "      <td>0.493232</td>\n",
       "      <td>115001</td>\n",
       "      <td>5.670273</td>\n",
       "      <td>7.313004</td>\n",
       "      <td>None</td>\n",
       "      <td>GRCh38</td>\n",
       "      <td>esophagus</td>\n",
       "      <td>cell line</td>\n",
       "      <td>/Users/jluebeck/Dropbox/BafnaLab/ecDNA/AA_resu...</td>\n",
       "      <td>/Users/jluebeck/Dropbox/BafnaLab/ecDNA/AA_resu...</td>\n",
       "      <td>/Users/jluebeck/Dropbox/BafnaLab/ecDNA/AA_resu...</td>\n",
       "      <td>/Users/jluebeck/Dropbox/BafnaLab/ecDNA/AA_resu...</td>\n",
       "      <td>/Users/jluebeck/Dropbox/BafnaLab/ecDNA/AA_resu...</td>\n",
       "    </tr>\n",
       "    <tr>\n",
       "      <th>32</th>\n",
       "      <td>OACP4-C</td>\n",
       "      <td>17</td>\n",
       "      <td>OACP4-C_amplicon17_ecDNA_1</td>\n",
       "      <td>ecDNA</td>\n",
       "      <td>['chr11:34566095-34680250']</td>\n",
       "      <td>[]</td>\n",
       "      <td>['EHF']</td>\n",
       "      <td>0.260840</td>\n",
       "      <td>114155</td>\n",
       "      <td>6.171335</td>\n",
       "      <td>6.171335</td>\n",
       "      <td>LowCN</td>\n",
       "      <td>GRCh38</td>\n",
       "      <td>esophagus</td>\n",
       "      <td>cell line</td>\n",
       "      <td>/Users/jluebeck/Dropbox/BafnaLab/ecDNA/AA_resu...</td>\n",
       "      <td>/Users/jluebeck/Dropbox/BafnaLab/ecDNA/AA_resu...</td>\n",
       "      <td>/Users/jluebeck/Dropbox/BafnaLab/ecDNA/AA_resu...</td>\n",
       "      <td>/Users/jluebeck/Dropbox/BafnaLab/ecDNA/AA_resu...</td>\n",
       "      <td>/Users/jluebeck/Dropbox/BafnaLab/ecDNA/AA_resu...</td>\n",
       "    </tr>\n",
       "    <tr>\n",
       "      <th>33</th>\n",
       "      <td>OACP4-C</td>\n",
       "      <td>18</td>\n",
       "      <td>OACP4-C_amplicon18_ecDNA_1</td>\n",
       "      <td>ecDNA</td>\n",
       "      <td>['chr11:46705830-46998218']</td>\n",
       "      <td>[]</td>\n",
       "      <td>['C11orf49', 'CKAP5', 'F2', 'LRP4', 'LRP4-AS1'...</td>\n",
       "      <td>0.246015</td>\n",
       "      <td>292388</td>\n",
       "      <td>5.669273</td>\n",
       "      <td>5.669273</td>\n",
       "      <td>LowCN</td>\n",
       "      <td>GRCh38</td>\n",
       "      <td>esophagus</td>\n",
       "      <td>cell line</td>\n",
       "      <td>/Users/jluebeck/Dropbox/BafnaLab/ecDNA/AA_resu...</td>\n",
       "      <td>/Users/jluebeck/Dropbox/BafnaLab/ecDNA/AA_resu...</td>\n",
       "      <td>/Users/jluebeck/Dropbox/BafnaLab/ecDNA/AA_resu...</td>\n",
       "      <td>/Users/jluebeck/Dropbox/BafnaLab/ecDNA/AA_resu...</td>\n",
       "      <td>/Users/jluebeck/Dropbox/BafnaLab/ecDNA/AA_resu...</td>\n",
       "    </tr>\n",
       "    <tr>\n",
       "      <th>34</th>\n",
       "      <td>OACP4-C</td>\n",
       "      <td>19</td>\n",
       "      <td>OACP4-C_amplicon19_Linear amplification_1</td>\n",
       "      <td>Linear amplification</td>\n",
       "      <td>['chr11:47371256-47476260']</td>\n",
       "      <td>['SPI1']</td>\n",
       "      <td>['PSMC3', 'RAPSN', 'SLC39A13', 'SPI1']</td>\n",
       "      <td>0.052250</td>\n",
       "      <td>105004</td>\n",
       "      <td>5.298627</td>\n",
       "      <td>5.439911</td>\n",
       "      <td>None</td>\n",
       "      <td>GRCh38</td>\n",
       "      <td>esophagus</td>\n",
       "      <td>cell line</td>\n",
       "      <td>/Users/jluebeck/Dropbox/BafnaLab/ecDNA/AA_resu...</td>\n",
       "      <td>/Users/jluebeck/Dropbox/BafnaLab/ecDNA/AA_resu...</td>\n",
       "      <td>/Users/jluebeck/Dropbox/BafnaLab/ecDNA/AA_resu...</td>\n",
       "      <td>/Users/jluebeck/Dropbox/BafnaLab/ecDNA/AA_resu...</td>\n",
       "      <td>/Users/jluebeck/Dropbox/BafnaLab/ecDNA/AA_resu...</td>\n",
       "    </tr>\n",
       "    <tr>\n",
       "      <th>35</th>\n",
       "      <td>OACP4-C</td>\n",
       "      <td>1</td>\n",
       "      <td>OACP4-C_amplicon1_ecDNA_1</td>\n",
       "      <td>ecDNA</td>\n",
       "      <td>['chr1:150977280-151335523', 'chr1:151381387-1...</td>\n",
       "      <td>['MLLT11']</td>\n",
       "      <td>['ANXA9', 'BNIPL', 'C1orf56', 'CDC42SE1', 'CGN...</td>\n",
       "      <td>0.868090</td>\n",
       "      <td>531837</td>\n",
       "      <td>6.328179</td>\n",
       "      <td>7.924596</td>\n",
       "      <td>LowCN</td>\n",
       "      <td>GRCh38</td>\n",
       "      <td>esophagus</td>\n",
       "      <td>cell line</td>\n",
       "      <td>/Users/jluebeck/Dropbox/BafnaLab/ecDNA/AA_resu...</td>\n",
       "      <td>/Users/jluebeck/Dropbox/BafnaLab/ecDNA/AA_resu...</td>\n",
       "      <td>/Users/jluebeck/Dropbox/BafnaLab/ecDNA/AA_resu...</td>\n",
       "      <td>/Users/jluebeck/Dropbox/BafnaLab/ecDNA/AA_resu...</td>\n",
       "      <td>/Users/jluebeck/Dropbox/BafnaLab/ecDNA/AA_resu...</td>\n",
       "    </tr>\n",
       "    <tr>\n",
       "      <th>36</th>\n",
       "      <td>OACP4-C</td>\n",
       "      <td>20</td>\n",
       "      <td>OACP4-C_amplicon20_ecDNA_1</td>\n",
       "      <td>ecDNA</td>\n",
       "      <td>['chr14:61108906-62107351']</td>\n",
       "      <td>[]</td>\n",
       "      <td>['FLJ22447', 'HIF1A', 'HIF1A-AS1', 'HIF1A-AS2'...</td>\n",
       "      <td>0.691006</td>\n",
       "      <td>998445</td>\n",
       "      <td>5.932221</td>\n",
       "      <td>12.705716</td>\n",
       "      <td>None</td>\n",
       "      <td>GRCh38</td>\n",
       "      <td>esophagus</td>\n",
       "      <td>cell line</td>\n",
       "      <td>/Users/jluebeck/Dropbox/BafnaLab/ecDNA/AA_resu...</td>\n",
       "      <td>/Users/jluebeck/Dropbox/BafnaLab/ecDNA/AA_resu...</td>\n",
       "      <td>/Users/jluebeck/Dropbox/BafnaLab/ecDNA/AA_resu...</td>\n",
       "      <td>/Users/jluebeck/Dropbox/BafnaLab/ecDNA/AA_resu...</td>\n",
       "      <td>/Users/jluebeck/Dropbox/BafnaLab/ecDNA/AA_resu...</td>\n",
       "    </tr>\n",
       "    <tr>\n",
       "      <th>37</th>\n",
       "      <td>OACP4-C</td>\n",
       "      <td>21</td>\n",
       "      <td>OACP4-C_amplicon21_Linear amplification_1</td>\n",
       "      <td>Linear amplification</td>\n",
       "      <td>['chr14:75097987-75377994']</td>\n",
       "      <td>['FOS']</td>\n",
       "      <td>['FOS', 'NEK9', 'TMED10']</td>\n",
       "      <td>0.366593</td>\n",
       "      <td>280007</td>\n",
       "      <td>5.814941</td>\n",
       "      <td>5.814941</td>\n",
       "      <td>None</td>\n",
       "      <td>GRCh38</td>\n",
       "      <td>esophagus</td>\n",
       "      <td>cell line</td>\n",
       "      <td>/Users/jluebeck/Dropbox/BafnaLab/ecDNA/AA_resu...</td>\n",
       "      <td>/Users/jluebeck/Dropbox/BafnaLab/ecDNA/AA_resu...</td>\n",
       "      <td>/Users/jluebeck/Dropbox/BafnaLab/ecDNA/AA_resu...</td>\n",
       "      <td>/Users/jluebeck/Dropbox/BafnaLab/ecDNA/AA_resu...</td>\n",
       "      <td>/Users/jluebeck/Dropbox/BafnaLab/ecDNA/AA_resu...</td>\n",
       "    </tr>\n",
       "    <tr>\n",
       "      <th>38</th>\n",
       "      <td>OACP4-C</td>\n",
       "      <td>22</td>\n",
       "      <td>OACP4-C_amplicon22_Linear amplification_1</td>\n",
       "      <td>Linear amplification</td>\n",
       "      <td>['chr22:40908233-41018758', 'chr17:854020-8983...</td>\n",
       "      <td>[]</td>\n",
       "      <td>['ABR', 'CDK5RAP3', 'NXN', 'PNPO', 'PRR15L', '...</td>\n",
       "      <td>1.382750</td>\n",
       "      <td>509892</td>\n",
       "      <td>5.440220</td>\n",
       "      <td>9.781538</td>\n",
       "      <td>None</td>\n",
       "      <td>GRCh38</td>\n",
       "      <td>esophagus</td>\n",
       "      <td>cell line</td>\n",
       "      <td>/Users/jluebeck/Dropbox/BafnaLab/ecDNA/AA_resu...</td>\n",
       "      <td>/Users/jluebeck/Dropbox/BafnaLab/ecDNA/AA_resu...</td>\n",
       "      <td>/Users/jluebeck/Dropbox/BafnaLab/ecDNA/AA_resu...</td>\n",
       "      <td>/Users/jluebeck/Dropbox/BafnaLab/ecDNA/AA_resu...</td>\n",
       "      <td>/Users/jluebeck/Dropbox/BafnaLab/ecDNA/AA_resu...</td>\n",
       "    </tr>\n",
       "    <tr>\n",
       "      <th>39</th>\n",
       "      <td>OACP4-C</td>\n",
       "      <td>23</td>\n",
       "      <td>OACP4-C_amplicon23_ecDNA_1</td>\n",
       "      <td>ecDNA</td>\n",
       "      <td>['chr17:30280051-30342823']</td>\n",
       "      <td>[]</td>\n",
       "      <td>['BLMH', 'TMIGD1']</td>\n",
       "      <td>0.219990</td>\n",
       "      <td>62772</td>\n",
       "      <td>5.857985</td>\n",
       "      <td>5.857985</td>\n",
       "      <td>LowCN</td>\n",
       "      <td>GRCh38</td>\n",
       "      <td>esophagus</td>\n",
       "      <td>cell line</td>\n",
       "      <td>/Users/jluebeck/Dropbox/BafnaLab/ecDNA/AA_resu...</td>\n",
       "      <td>/Users/jluebeck/Dropbox/BafnaLab/ecDNA/AA_resu...</td>\n",
       "      <td>/Users/jluebeck/Dropbox/BafnaLab/ecDNA/AA_resu...</td>\n",
       "      <td>/Users/jluebeck/Dropbox/BafnaLab/ecDNA/AA_resu...</td>\n",
       "      <td>/Users/jluebeck/Dropbox/BafnaLab/ecDNA/AA_resu...</td>\n",
       "    </tr>\n",
       "    <tr>\n",
       "      <th>40</th>\n",
       "      <td>OACP4-C</td>\n",
       "      <td>24</td>\n",
       "      <td>OACP4-C_amplicon24_ecDNA_1</td>\n",
       "      <td>ecDNA</td>\n",
       "      <td>['chr17:39499193-40551116']</td>\n",
       "      <td>['CDC6', 'CSF3', 'ERBB2', 'RARA', 'THRA', 'TNS4']</td>\n",
       "      <td>['CASC3', 'CDC6', 'CSF3', 'ERBB2', 'GJD3', 'GR...</td>\n",
       "      <td>0.568396</td>\n",
       "      <td>1051923</td>\n",
       "      <td>5.549261</td>\n",
       "      <td>9.189069</td>\n",
       "      <td>None</td>\n",
       "      <td>GRCh38</td>\n",
       "      <td>esophagus</td>\n",
       "      <td>cell line</td>\n",
       "      <td>/Users/jluebeck/Dropbox/BafnaLab/ecDNA/AA_resu...</td>\n",
       "      <td>/Users/jluebeck/Dropbox/BafnaLab/ecDNA/AA_resu...</td>\n",
       "      <td>/Users/jluebeck/Dropbox/BafnaLab/ecDNA/AA_resu...</td>\n",
       "      <td>/Users/jluebeck/Dropbox/BafnaLab/ecDNA/AA_resu...</td>\n",
       "      <td>/Users/jluebeck/Dropbox/BafnaLab/ecDNA/AA_resu...</td>\n",
       "    </tr>\n",
       "    <tr>\n",
       "      <th>41</th>\n",
       "      <td>OACP4-C</td>\n",
       "      <td>25</td>\n",
       "      <td>OACP4-C_amplicon25_Linear amplification_1</td>\n",
       "      <td>Linear amplification</td>\n",
       "      <td>['chr18:6611473-6631997', 'chr18:6830398-78754...</td>\n",
       "      <td>[]</td>\n",
       "      <td>['LAMA1', 'LRRC30', 'PTPRM']</td>\n",
       "      <td>0.615873</td>\n",
       "      <td>1065585</td>\n",
       "      <td>9.804165</td>\n",
       "      <td>9.804165</td>\n",
       "      <td>None</td>\n",
       "      <td>GRCh38</td>\n",
       "      <td>esophagus</td>\n",
       "      <td>cell line</td>\n",
       "      <td>/Users/jluebeck/Dropbox/BafnaLab/ecDNA/AA_resu...</td>\n",
       "      <td>/Users/jluebeck/Dropbox/BafnaLab/ecDNA/AA_resu...</td>\n",
       "      <td>/Users/jluebeck/Dropbox/BafnaLab/ecDNA/AA_resu...</td>\n",
       "      <td>/Users/jluebeck/Dropbox/BafnaLab/ecDNA/AA_resu...</td>\n",
       "      <td>/Users/jluebeck/Dropbox/BafnaLab/ecDNA/AA_resu...</td>\n",
       "    </tr>\n",
       "    <tr>\n",
       "      <th>42</th>\n",
       "      <td>OACP4-C</td>\n",
       "      <td>26</td>\n",
       "      <td>OACP4-C_amplicon26_ecDNA_1</td>\n",
       "      <td>ecDNA</td>\n",
       "      <td>['chr19:44677404-44863502']</td>\n",
       "      <td>['BCL3', 'CBLC']</td>\n",
       "      <td>['BCAM', 'BCL3', 'CBLC', 'CEACAM16', 'NECTIN2']</td>\n",
       "      <td>0.184621</td>\n",
       "      <td>186098</td>\n",
       "      <td>6.728496</td>\n",
       "      <td>6.728496</td>\n",
       "      <td>LowCN</td>\n",
       "      <td>GRCh38</td>\n",
       "      <td>esophagus</td>\n",
       "      <td>cell line</td>\n",
       "      <td>/Users/jluebeck/Dropbox/BafnaLab/ecDNA/AA_resu...</td>\n",
       "      <td>/Users/jluebeck/Dropbox/BafnaLab/ecDNA/AA_resu...</td>\n",
       "      <td>/Users/jluebeck/Dropbox/BafnaLab/ecDNA/AA_resu...</td>\n",
       "      <td>/Users/jluebeck/Dropbox/BafnaLab/ecDNA/AA_resu...</td>\n",
       "      <td>/Users/jluebeck/Dropbox/BafnaLab/ecDNA/AA_resu...</td>\n",
       "    </tr>\n",
       "    <tr>\n",
       "      <th>43</th>\n",
       "      <td>OACP4-C</td>\n",
       "      <td>27</td>\n",
       "      <td>OACP4-C_amplicon27_ecDNA_1</td>\n",
       "      <td>ecDNA</td>\n",
       "      <td>['chr20:50219830-50528956']</td>\n",
       "      <td>[]</td>\n",
       "      <td>['PTPN1', 'SMIM25']</td>\n",
       "      <td>0.592798</td>\n",
       "      <td>309126</td>\n",
       "      <td>8.256410</td>\n",
       "      <td>10.100758</td>\n",
       "      <td>None</td>\n",
       "      <td>GRCh38</td>\n",
       "      <td>esophagus</td>\n",
       "      <td>cell line</td>\n",
       "      <td>/Users/jluebeck/Dropbox/BafnaLab/ecDNA/AA_resu...</td>\n",
       "      <td>/Users/jluebeck/Dropbox/BafnaLab/ecDNA/AA_resu...</td>\n",
       "      <td>/Users/jluebeck/Dropbox/BafnaLab/ecDNA/AA_resu...</td>\n",
       "      <td>/Users/jluebeck/Dropbox/BafnaLab/ecDNA/AA_resu...</td>\n",
       "      <td>/Users/jluebeck/Dropbox/BafnaLab/ecDNA/AA_resu...</td>\n",
       "    </tr>\n",
       "    <tr>\n",
       "      <th>44</th>\n",
       "      <td>OACP4-C</td>\n",
       "      <td>2</td>\n",
       "      <td>OACP4-C_amplicon2_ecDNA_1</td>\n",
       "      <td>ecDNA</td>\n",
       "      <td>['chr11:74334424-74806136', 'chr6:24496761-248...</td>\n",
       "      <td>['GMNN']</td>\n",
       "      <td>['ACOT13', 'ARMH2', 'C6orf62', 'CHRDL2', 'GMNN...</td>\n",
       "      <td>0.633051</td>\n",
       "      <td>806549</td>\n",
       "      <td>7.272385</td>\n",
       "      <td>13.227001</td>\n",
       "      <td>None</td>\n",
       "      <td>GRCh38</td>\n",
       "      <td>esophagus</td>\n",
       "      <td>cell line</td>\n",
       "      <td>/Users/jluebeck/Dropbox/BafnaLab/ecDNA/AA_resu...</td>\n",
       "      <td>/Users/jluebeck/Dropbox/BafnaLab/ecDNA/AA_resu...</td>\n",
       "      <td>/Users/jluebeck/Dropbox/BafnaLab/ecDNA/AA_resu...</td>\n",
       "      <td>/Users/jluebeck/Dropbox/BafnaLab/ecDNA/AA_resu...</td>\n",
       "      <td>/Users/jluebeck/Dropbox/BafnaLab/ecDNA/AA_resu...</td>\n",
       "    </tr>\n",
       "    <tr>\n",
       "      <th>45</th>\n",
       "      <td>OACP4-C</td>\n",
       "      <td>3</td>\n",
       "      <td>OACP4-C_amplicon3_ecDNA_1</td>\n",
       "      <td>ecDNA</td>\n",
       "      <td>['chr1:42736500-42864855']</td>\n",
       "      <td>[]</td>\n",
       "      <td>['C1orf50', 'CLDN19', 'ERMAP', 'P3H1', 'SVBP',...</td>\n",
       "      <td>0.695597</td>\n",
       "      <td>128355</td>\n",
       "      <td>5.541424</td>\n",
       "      <td>5.541424</td>\n",
       "      <td>LowCN</td>\n",
       "      <td>GRCh38</td>\n",
       "      <td>esophagus</td>\n",
       "      <td>cell line</td>\n",
       "      <td>/Users/jluebeck/Dropbox/BafnaLab/ecDNA/AA_resu...</td>\n",
       "      <td>/Users/jluebeck/Dropbox/BafnaLab/ecDNA/AA_resu...</td>\n",
       "      <td>/Users/jluebeck/Dropbox/BafnaLab/ecDNA/AA_resu...</td>\n",
       "      <td>/Users/jluebeck/Dropbox/BafnaLab/ecDNA/AA_resu...</td>\n",
       "      <td>/Users/jluebeck/Dropbox/BafnaLab/ecDNA/AA_resu...</td>\n",
       "    </tr>\n",
       "    <tr>\n",
       "      <th>46</th>\n",
       "      <td>OACP4-C</td>\n",
       "      <td>4</td>\n",
       "      <td>OACP4-C_amplicon4_ecDNA_1</td>\n",
       "      <td>ecDNA</td>\n",
       "      <td>['chr1:178937960-179077692']</td>\n",
       "      <td>[]</td>\n",
       "      <td>['FAM20B']</td>\n",
       "      <td>0.344894</td>\n",
       "      <td>139732</td>\n",
       "      <td>5.648878</td>\n",
       "      <td>5.648878</td>\n",
       "      <td>LowCN</td>\n",
       "      <td>GRCh38</td>\n",
       "      <td>esophagus</td>\n",
       "      <td>cell line</td>\n",
       "      <td>/Users/jluebeck/Dropbox/BafnaLab/ecDNA/AA_resu...</td>\n",
       "      <td>/Users/jluebeck/Dropbox/BafnaLab/ecDNA/AA_resu...</td>\n",
       "      <td>/Users/jluebeck/Dropbox/BafnaLab/ecDNA/AA_resu...</td>\n",
       "      <td>/Users/jluebeck/Dropbox/BafnaLab/ecDNA/AA_resu...</td>\n",
       "      <td>/Users/jluebeck/Dropbox/BafnaLab/ecDNA/AA_resu...</td>\n",
       "    </tr>\n",
       "    <tr>\n",
       "      <th>47</th>\n",
       "      <td>OACP4-C</td>\n",
       "      <td>5</td>\n",
       "      <td>OACP4-C_amplicon5_ecDNA_1</td>\n",
       "      <td>ecDNA</td>\n",
       "      <td>['chr1:216601755-216794399']</td>\n",
       "      <td>[]</td>\n",
       "      <td>['ESRRG']</td>\n",
       "      <td>0.241044</td>\n",
       "      <td>192644</td>\n",
       "      <td>6.037106</td>\n",
       "      <td>6.037106</td>\n",
       "      <td>LowCN</td>\n",
       "      <td>GRCh38</td>\n",
       "      <td>esophagus</td>\n",
       "      <td>cell line</td>\n",
       "      <td>/Users/jluebeck/Dropbox/BafnaLab/ecDNA/AA_resu...</td>\n",
       "      <td>/Users/jluebeck/Dropbox/BafnaLab/ecDNA/AA_resu...</td>\n",
       "      <td>/Users/jluebeck/Dropbox/BafnaLab/ecDNA/AA_resu...</td>\n",
       "      <td>/Users/jluebeck/Dropbox/BafnaLab/ecDNA/AA_resu...</td>\n",
       "      <td>/Users/jluebeck/Dropbox/BafnaLab/ecDNA/AA_resu...</td>\n",
       "    </tr>\n",
       "    <tr>\n",
       "      <th>48</th>\n",
       "      <td>OACP4-C</td>\n",
       "      <td>6</td>\n",
       "      <td>OACP4-C_amplicon6_Linear amplification_1</td>\n",
       "      <td>Linear amplification</td>\n",
       "      <td>['chr1:241232158-241862099']</td>\n",
       "      <td>['FH']</td>\n",
       "      <td>['CHML', 'EXO1', 'FH', 'KMO', 'OPN3', 'RGS7', ...</td>\n",
       "      <td>0.186612</td>\n",
       "      <td>629941</td>\n",
       "      <td>7.434861</td>\n",
       "      <td>7.434861</td>\n",
       "      <td>None</td>\n",
       "      <td>GRCh38</td>\n",
       "      <td>esophagus</td>\n",
       "      <td>cell line</td>\n",
       "      <td>/Users/jluebeck/Dropbox/BafnaLab/ecDNA/AA_resu...</td>\n",
       "      <td>/Users/jluebeck/Dropbox/BafnaLab/ecDNA/AA_resu...</td>\n",
       "      <td>/Users/jluebeck/Dropbox/BafnaLab/ecDNA/AA_resu...</td>\n",
       "      <td>/Users/jluebeck/Dropbox/BafnaLab/ecDNA/AA_resu...</td>\n",
       "      <td>/Users/jluebeck/Dropbox/BafnaLab/ecDNA/AA_resu...</td>\n",
       "    </tr>\n",
       "    <tr>\n",
       "      <th>49</th>\n",
       "      <td>OACP4-C</td>\n",
       "      <td>7</td>\n",
       "      <td>OACP4-C_amplicon7_ecDNA_1</td>\n",
       "      <td>ecDNA</td>\n",
       "      <td>['chr2:105493218-105696006']</td>\n",
       "      <td>[]</td>\n",
       "      <td>[]</td>\n",
       "      <td>0.338970</td>\n",
       "      <td>202788</td>\n",
       "      <td>5.905740</td>\n",
       "      <td>7.013949</td>\n",
       "      <td>LowCN</td>\n",
       "      <td>GRCh38</td>\n",
       "      <td>esophagus</td>\n",
       "      <td>cell line</td>\n",
       "      <td>/Users/jluebeck/Dropbox/BafnaLab/ecDNA/AA_resu...</td>\n",
       "      <td>/Users/jluebeck/Dropbox/BafnaLab/ecDNA/AA_resu...</td>\n",
       "      <td>/Users/jluebeck/Dropbox/BafnaLab/ecDNA/AA_resu...</td>\n",
       "      <td>/Users/jluebeck/Dropbox/BafnaLab/ecDNA/AA_resu...</td>\n",
       "      <td>/Users/jluebeck/Dropbox/BafnaLab/ecDNA/AA_resu...</td>\n",
       "    </tr>\n",
       "    <tr>\n",
       "      <th>50</th>\n",
       "      <td>OACP4-C</td>\n",
       "      <td>8</td>\n",
       "      <td>OACP4-C_amplicon8_ecDNA_1</td>\n",
       "      <td>ecDNA</td>\n",
       "      <td>['chr5:720253-847075', 'chr5:861014-1178179', ...</td>\n",
       "      <td>['TERT']</td>\n",
       "      <td>['BRD9', 'CLPTM1L', 'LPCAT1', 'NKD2', 'SLC12A7...</td>\n",
       "      <td>0.684649</td>\n",
       "      <td>839297</td>\n",
       "      <td>13.610331</td>\n",
       "      <td>18.075529</td>\n",
       "      <td>None</td>\n",
       "      <td>GRCh38</td>\n",
       "      <td>esophagus</td>\n",
       "      <td>cell line</td>\n",
       "      <td>/Users/jluebeck/Dropbox/BafnaLab/ecDNA/AA_resu...</td>\n",
       "      <td>/Users/jluebeck/Dropbox/BafnaLab/ecDNA/AA_resu...</td>\n",
       "      <td>/Users/jluebeck/Dropbox/BafnaLab/ecDNA/AA_resu...</td>\n",
       "      <td>/Users/jluebeck/Dropbox/BafnaLab/ecDNA/AA_resu...</td>\n",
       "      <td>/Users/jluebeck/Dropbox/BafnaLab/ecDNA/AA_resu...</td>\n",
       "    </tr>\n",
       "    <tr>\n",
       "      <th>51</th>\n",
       "      <td>OACP4-C</td>\n",
       "      <td>9</td>\n",
       "      <td>OACP4-C_amplicon9_ecDNA_1</td>\n",
       "      <td>ecDNA</td>\n",
       "      <td>['chr4:157994547-157994832', 'chr4:157994836-1...</td>\n",
       "      <td>[]</td>\n",
       "      <td>['FAM198B-AS1', 'GASK1B', 'TMEM144']</td>\n",
       "      <td>0.724984</td>\n",
       "      <td>264279</td>\n",
       "      <td>5.744706</td>\n",
       "      <td>5.744706</td>\n",
       "      <td>LowCN</td>\n",
       "      <td>GRCh38</td>\n",
       "      <td>esophagus</td>\n",
       "      <td>cell line</td>\n",
       "      <td>/Users/jluebeck/Dropbox/BafnaLab/ecDNA/AA_resu...</td>\n",
       "      <td>/Users/jluebeck/Dropbox/BafnaLab/ecDNA/AA_resu...</td>\n",
       "      <td>/Users/jluebeck/Dropbox/BafnaLab/ecDNA/AA_resu...</td>\n",
       "      <td>/Users/jluebeck/Dropbox/BafnaLab/ecDNA/AA_resu...</td>\n",
       "      <td>/Users/jluebeck/Dropbox/BafnaLab/ecDNA/AA_resu...</td>\n",
       "    </tr>\n",
       "    <tr>\n",
       "      <th>52</th>\n",
       "      <td>OE33</td>\n",
       "      <td>1</td>\n",
       "      <td>OE33_amplicon1_ecDNA_1</td>\n",
       "      <td>ecDNA</td>\n",
       "      <td>['chr7:113431117-113776121', 'chr7:113782152-1...</td>\n",
       "      <td>['CAV1', 'MET', 'WNT2']</td>\n",
       "      <td>['ANKRD7', 'ASZ1', 'CAPZA2', 'CAV1', 'CAV2', '...</td>\n",
       "      <td>0.235945</td>\n",
       "      <td>7047267</td>\n",
       "      <td>11.311170</td>\n",
       "      <td>13.244657</td>\n",
       "      <td>None</td>\n",
       "      <td>GRCh38</td>\n",
       "      <td>esophagus</td>\n",
       "      <td>cell line</td>\n",
       "      <td>/Users/jluebeck/Dropbox/BafnaLab/ecDNA/AA_resu...</td>\n",
       "      <td>/Users/jluebeck/Dropbox/BafnaLab/ecDNA/AA_resu...</td>\n",
       "      <td>/Users/jluebeck/Dropbox/BafnaLab/ecDNA/AA_resu...</td>\n",
       "      <td>/Users/jluebeck/Dropbox/BafnaLab/ecDNA/AA_resu...</td>\n",
       "      <td>/Users/jluebeck/Dropbox/BafnaLab/ecDNA/AA_resu...</td>\n",
       "    </tr>\n",
       "    <tr>\n",
       "      <th>53</th>\n",
       "      <td>OE33</td>\n",
       "      <td>2</td>\n",
       "      <td>OE33_amplicon2_Linear amplification_1</td>\n",
       "      <td>Linear amplification</td>\n",
       "      <td>['chr8:127253811-127308812']</td>\n",
       "      <td>[]</td>\n",
       "      <td>[]</td>\n",
       "      <td>0.000000</td>\n",
       "      <td>55001</td>\n",
       "      <td>5.778906</td>\n",
       "      <td>5.778906</td>\n",
       "      <td>None</td>\n",
       "      <td>GRCh38</td>\n",
       "      <td>esophagus</td>\n",
       "      <td>cell line</td>\n",
       "      <td>/Users/jluebeck/Dropbox/BafnaLab/ecDNA/AA_resu...</td>\n",
       "      <td>/Users/jluebeck/Dropbox/BafnaLab/ecDNA/AA_resu...</td>\n",
       "      <td>/Users/jluebeck/Dropbox/BafnaLab/ecDNA/AA_resu...</td>\n",
       "      <td>/Users/jluebeck/Dropbox/BafnaLab/ecDNA/AA_resu...</td>\n",
       "      <td>/Users/jluebeck/Dropbox/BafnaLab/ecDNA/AA_resu...</td>\n",
       "    </tr>\n",
       "    <tr>\n",
       "      <th>54</th>\n",
       "      <td>OE33</td>\n",
       "      <td>3</td>\n",
       "      <td>OE33_amplicon3_ecDNA_1</td>\n",
       "      <td>ecDNA</td>\n",
       "      <td>['chr17:29187871-29854742']</td>\n",
       "      <td>[]</td>\n",
       "      <td>['ABHD15', 'ANKRD13B', 'CORO6', 'CRYBA1', 'GIT...</td>\n",
       "      <td>0.257051</td>\n",
       "      <td>666871</td>\n",
       "      <td>7.463151</td>\n",
       "      <td>7.463151</td>\n",
       "      <td>LowCN</td>\n",
       "      <td>GRCh38</td>\n",
       "      <td>esophagus</td>\n",
       "      <td>cell line</td>\n",
       "      <td>/Users/jluebeck/Dropbox/BafnaLab/ecDNA/AA_resu...</td>\n",
       "      <td>/Users/jluebeck/Dropbox/BafnaLab/ecDNA/AA_resu...</td>\n",
       "      <td>/Users/jluebeck/Dropbox/BafnaLab/ecDNA/AA_resu...</td>\n",
       "      <td>/Users/jluebeck/Dropbox/BafnaLab/ecDNA/AA_resu...</td>\n",
       "      <td>/Users/jluebeck/Dropbox/BafnaLab/ecDNA/AA_resu...</td>\n",
       "    </tr>\n",
       "    <tr>\n",
       "      <th>55</th>\n",
       "      <td>OE33</td>\n",
       "      <td>4</td>\n",
       "      <td>OE33_amplicon4_BFB_1</td>\n",
       "      <td>BFB</td>\n",
       "      <td>['chr17:37254542-38479281', 'chr17:39637013-40...</td>\n",
       "      <td>['CSF3', 'ERBB2', 'JUP', 'TBC1D3', 'TBC1D3C', ...</td>\n",
       "      <td>['ACACA', 'ARHGAP23', 'C17orf78', 'CSF3', 'DDX...</td>\n",
       "      <td>1.452385</td>\n",
       "      <td>2339962</td>\n",
       "      <td>12.700891</td>\n",
       "      <td>39.001338</td>\n",
       "      <td>None</td>\n",
       "      <td>GRCh38</td>\n",
       "      <td>esophagus</td>\n",
       "      <td>cell line</td>\n",
       "      <td>/Users/jluebeck/Dropbox/BafnaLab/ecDNA/AA_resu...</td>\n",
       "      <td>/Users/jluebeck/Dropbox/BafnaLab/ecDNA/AA_resu...</td>\n",
       "      <td>/Users/jluebeck/Dropbox/BafnaLab/ecDNA/AA_resu...</td>\n",
       "      <td>/Users/jluebeck/Dropbox/BafnaLab/ecDNA/AA_resu...</td>\n",
       "      <td>/Users/jluebeck/Dropbox/BafnaLab/ecDNA/AA_resu...</td>\n",
       "    </tr>\n",
       "    <tr>\n",
       "      <th>56</th>\n",
       "      <td>SK-GT-4</td>\n",
       "      <td>1</td>\n",
       "      <td>SK-GT-4_amplicon1_Linear amplification_1</td>\n",
       "      <td>Linear amplification</td>\n",
       "      <td>['chr14:31605485-31636020', 'chr14:31911996-32...</td>\n",
       "      <td>[]</td>\n",
       "      <td>['ARHGAP5', 'ARHGAP5-AS1']</td>\n",
       "      <td>0.553244</td>\n",
       "      <td>231072</td>\n",
       "      <td>5.455412</td>\n",
       "      <td>7.489815</td>\n",
       "      <td>None</td>\n",
       "      <td>GRCh38</td>\n",
       "      <td>esophagus</td>\n",
       "      <td>cell line</td>\n",
       "      <td>/Users/jluebeck/Dropbox/BafnaLab/ecDNA/AA_resu...</td>\n",
       "      <td>/Users/jluebeck/Dropbox/BafnaLab/ecDNA/AA_resu...</td>\n",
       "      <td>/Users/jluebeck/Dropbox/BafnaLab/ecDNA/AA_resu...</td>\n",
       "      <td>/Users/jluebeck/Dropbox/BafnaLab/ecDNA/AA_resu...</td>\n",
       "      <td>/Users/jluebeck/Dropbox/BafnaLab/ecDNA/AA_resu...</td>\n",
       "    </tr>\n",
       "    <tr>\n",
       "      <th>57</th>\n",
       "      <td>SK-GT-4</td>\n",
       "      <td>2</td>\n",
       "      <td>SK-GT-4_amplicon2_Complex non-cyclic_1</td>\n",
       "      <td>Complex non-cyclic</td>\n",
       "      <td>['chr14:28268211-28288747', 'chr14:32637012-35...</td>\n",
       "      <td>['NKX2-1']</td>\n",
       "      <td>['BAZ1A', 'BRMS1L', 'CFL2', 'EAPP', 'EGLN3', '...</td>\n",
       "      <td>1.589429</td>\n",
       "      <td>5745533</td>\n",
       "      <td>8.869419</td>\n",
       "      <td>11.151948</td>\n",
       "      <td>None</td>\n",
       "      <td>GRCh38</td>\n",
       "      <td>esophagus</td>\n",
       "      <td>cell line</td>\n",
       "      <td>/Users/jluebeck/Dropbox/BafnaLab/ecDNA/AA_resu...</td>\n",
       "      <td>/Users/jluebeck/Dropbox/BafnaLab/ecDNA/AA_resu...</td>\n",
       "      <td>/Users/jluebeck/Dropbox/BafnaLab/ecDNA/AA_resu...</td>\n",
       "      <td>/Users/jluebeck/Dropbox/BafnaLab/ecDNA/AA_resu...</td>\n",
       "      <td>/Users/jluebeck/Dropbox/BafnaLab/ecDNA/AA_resu...</td>\n",
       "    </tr>\n",
       "  </tbody>\n",
       "</table>\n",
       "</div>"
      ],
      "text/plain": [
       "   Sample name  AA amplicon number                                 Feature ID  \\\n",
       "0        ESO26                   1                      ESO26_amplicon1_BFB_1   \n",
       "1        ESO26                   2                      ESO26_amplicon2_BFB_1   \n",
       "2        ESO26                   3       ESO26_amplicon3_Complex non-cyclic_1   \n",
       "3        ESO26                   4                      ESO26_amplicon4_BFB_1   \n",
       "4        ESO26                   5                      ESO26_amplicon5_BFB_1   \n",
       "5        ESO51                   1       ESO51_amplicon1_Complex non-cyclic_1   \n",
       "6        ESO51                   2     ESO51_amplicon2_Linear amplification_1   \n",
       "7        ESO51                   3       ESO51_amplicon3_Complex non-cyclic_1   \n",
       "8        ESO51                   4                    ESO51_amplicon4_ecDNA_1   \n",
       "9        ESO51                   5       ESO51_amplicon5_Complex non-cyclic_1   \n",
       "10       ESO51                   6                      ESO51_amplicon6_BFB_1   \n",
       "11       ESO51                   7     ESO51_amplicon7_Linear amplification_1   \n",
       "12       ESO51                   8     ESO51_amplicon8_Linear amplification_1   \n",
       "13       ESO51                   9                    ESO51_amplicon9_ecDNA_1   \n",
       "14       FLO-1                   1       FLO-1_amplicon1_Complex non-cyclic_1   \n",
       "15       FLO-1                   2     FLO-1_amplicon2_Linear amplification_1   \n",
       "16       FLO-1                   3                    FLO-1_amplicon3_ecDNA_1   \n",
       "17       FLO-1                   4                    FLO-1_amplicon4_ecDNA_1   \n",
       "18   JH-EsoAd1                   1   JH-EsoAd1_amplicon1_Complex non-cyclic_1   \n",
       "19   JH-EsoAd1                   2                JH-EsoAd1_amplicon2_ecDNA_1   \n",
       "20   JH-EsoAd1                   3                JH-EsoAd1_amplicon3_ecDNA_1   \n",
       "21   JH-EsoAd1                   4                JH-EsoAd1_amplicon4_ecDNA_1   \n",
       "22   JH-EsoAd1                   5                JH-EsoAd1_amplicon5_ecDNA_1   \n",
       "23   JH-EsoAd1                   5                JH-EsoAd1_amplicon5_ecDNA_2   \n",
       "24     OACM5.1                   1                  OACM5.1_amplicon1_ecDNA_1   \n",
       "25     OACP4-C                  10                 OACP4-C_amplicon10_ecDNA_1   \n",
       "26     OACP4-C                  11    OACP4-C_amplicon11_Complex non-cyclic_1   \n",
       "27     OACP4-C                  12                 OACP4-C_amplicon12_ecDNA_1   \n",
       "28     OACP4-C                  13                 OACP4-C_amplicon13_ecDNA_1   \n",
       "29     OACP4-C                  14                 OACP4-C_amplicon14_ecDNA_1   \n",
       "30     OACP4-C                  15    OACP4-C_amplicon15_Complex non-cyclic_1   \n",
       "31     OACP4-C                  16  OACP4-C_amplicon16_Linear amplification_1   \n",
       "32     OACP4-C                  17                 OACP4-C_amplicon17_ecDNA_1   \n",
       "33     OACP4-C                  18                 OACP4-C_amplicon18_ecDNA_1   \n",
       "34     OACP4-C                  19  OACP4-C_amplicon19_Linear amplification_1   \n",
       "35     OACP4-C                   1                  OACP4-C_amplicon1_ecDNA_1   \n",
       "36     OACP4-C                  20                 OACP4-C_amplicon20_ecDNA_1   \n",
       "37     OACP4-C                  21  OACP4-C_amplicon21_Linear amplification_1   \n",
       "38     OACP4-C                  22  OACP4-C_amplicon22_Linear amplification_1   \n",
       "39     OACP4-C                  23                 OACP4-C_amplicon23_ecDNA_1   \n",
       "40     OACP4-C                  24                 OACP4-C_amplicon24_ecDNA_1   \n",
       "41     OACP4-C                  25  OACP4-C_amplicon25_Linear amplification_1   \n",
       "42     OACP4-C                  26                 OACP4-C_amplicon26_ecDNA_1   \n",
       "43     OACP4-C                  27                 OACP4-C_amplicon27_ecDNA_1   \n",
       "44     OACP4-C                   2                  OACP4-C_amplicon2_ecDNA_1   \n",
       "45     OACP4-C                   3                  OACP4-C_amplicon3_ecDNA_1   \n",
       "46     OACP4-C                   4                  OACP4-C_amplicon4_ecDNA_1   \n",
       "47     OACP4-C                   5                  OACP4-C_amplicon5_ecDNA_1   \n",
       "48     OACP4-C                   6   OACP4-C_amplicon6_Linear amplification_1   \n",
       "49     OACP4-C                   7                  OACP4-C_amplicon7_ecDNA_1   \n",
       "50     OACP4-C                   8                  OACP4-C_amplicon8_ecDNA_1   \n",
       "51     OACP4-C                   9                  OACP4-C_amplicon9_ecDNA_1   \n",
       "52        OE33                   1                     OE33_amplicon1_ecDNA_1   \n",
       "53        OE33                   2      OE33_amplicon2_Linear amplification_1   \n",
       "54        OE33                   3                     OE33_amplicon3_ecDNA_1   \n",
       "55        OE33                   4                       OE33_amplicon4_BFB_1   \n",
       "56     SK-GT-4                   1   SK-GT-4_amplicon1_Linear amplification_1   \n",
       "57     SK-GT-4                   2     SK-GT-4_amplicon2_Complex non-cyclic_1   \n",
       "\n",
       "          Classification                                           Location  \\\n",
       "0                    BFB                         ['chr5:51925610-54458031']   \n",
       "1                    BFB                        ['chr10:60960382-62980386']   \n",
       "2     Complex non-cyclic  ['chr10:77195401-79310404', 'chr10:83265408-83...   \n",
       "3                    BFB  ['chr12:40482928-40488203', 'chr12:40489819-41...   \n",
       "4                    BFB  ['chr17:38421001-38798474', 'chr17:38800908-38...   \n",
       "5     Complex non-cyclic  ['chr22:28669350-28669901', 'chr7:111461190-11...   \n",
       "6   Linear amplification                         ['chr3:37811024-40841096']   \n",
       "7     Complex non-cyclic  ['chr3:195576042-196110837', 'chr3:197540987-1...   \n",
       "8                  ecDNA                       ['chr7:111079445-111153904']   \n",
       "9     Complex non-cyclic  ['chr8:42623767-43200001', 'chr11:69152352-695...   \n",
       "10                   BFB                       ['chr8:126888955-128211006']   \n",
       "11  Linear amplification                      ['chr11:125661600-125781316']   \n",
       "12  Linear amplification                        ['chr16:22610956-22700945']   \n",
       "13                 ecDNA                        ['chr20:49132929-54297674']   \n",
       "14    Complex non-cyclic  ['chr6:21869584-25759511', 'chr6:48679775-4870...   \n",
       "15  Linear amplification                         ['chr8:13689318-13824316']   \n",
       "16                 ecDNA                       ['chr9:110524069-110678202']   \n",
       "17                 ecDNA                       ['chr9:121241736-121482063']   \n",
       "18    Complex non-cyclic  ['chr22:18929556-21304481', 'chr22:21334466-21...   \n",
       "19                 ecDNA  ['chr7:60936305-60938400', 'chr7:61010701-6102...   \n",
       "20                 ecDNA  ['chr11:92522622-93279810', 'chr11:100289218-1...   \n",
       "21                 ecDNA  ['chr17:51254237-51254246', 'chr17:51256623-51...   \n",
       "22                 ecDNA  ['chr19:23022166-23081536', 'chr19:23082525-23...   \n",
       "23                 ecDNA  ['chr19:32897736-34110358', 'chr19:34246214-35...   \n",
       "24                 ecDNA  ['chr7:105841079-108171103', 'chr7:108207886-1...   \n",
       "25                 ecDNA                         ['chr7:16754473-16873928']   \n",
       "26    Complex non-cyclic  ['chr18:8275483-8400490', 'chr7:81146554-81316...   \n",
       "27                 ecDNA  ['chr7:99882679-100088457', 'chr7:150967200-15...   \n",
       "28                 ecDNA  ['chr11:25474283-25475617', 'chr11:26407805-26...   \n",
       "29                 ecDNA  ['chr8:126276246-128253744', 'chr8:128259748-1...   \n",
       "30    Complex non-cyclic  ['chr10:71950395-73320398', 'chr17:34336389-34...   \n",
       "31  Linear amplification                      ['chr10:119165449-119280450']   \n",
       "32                 ecDNA                        ['chr11:34566095-34680250']   \n",
       "33                 ecDNA                        ['chr11:46705830-46998218']   \n",
       "34  Linear amplification                        ['chr11:47371256-47476260']   \n",
       "35                 ecDNA  ['chr1:150977280-151335523', 'chr1:151381387-1...   \n",
       "36                 ecDNA                        ['chr14:61108906-62107351']   \n",
       "37  Linear amplification                        ['chr14:75097987-75377994']   \n",
       "38  Linear amplification  ['chr22:40908233-41018758', 'chr17:854020-8983...   \n",
       "39                 ecDNA                        ['chr17:30280051-30342823']   \n",
       "40                 ecDNA                        ['chr17:39499193-40551116']   \n",
       "41  Linear amplification  ['chr18:6611473-6631997', 'chr18:6830398-78754...   \n",
       "42                 ecDNA                        ['chr19:44677404-44863502']   \n",
       "43                 ecDNA                        ['chr20:50219830-50528956']   \n",
       "44                 ecDNA  ['chr11:74334424-74806136', 'chr6:24496761-248...   \n",
       "45                 ecDNA                         ['chr1:42736500-42864855']   \n",
       "46                 ecDNA                       ['chr1:178937960-179077692']   \n",
       "47                 ecDNA                       ['chr1:216601755-216794399']   \n",
       "48  Linear amplification                       ['chr1:241232158-241862099']   \n",
       "49                 ecDNA                       ['chr2:105493218-105696006']   \n",
       "50                 ecDNA  ['chr5:720253-847075', 'chr5:861014-1178179', ...   \n",
       "51                 ecDNA  ['chr4:157994547-157994832', 'chr4:157994836-1...   \n",
       "52                 ecDNA  ['chr7:113431117-113776121', 'chr7:113782152-1...   \n",
       "53  Linear amplification                       ['chr8:127253811-127308812']   \n",
       "54                 ecDNA                        ['chr17:29187871-29854742']   \n",
       "55                   BFB  ['chr17:37254542-38479281', 'chr17:39637013-40...   \n",
       "56  Linear amplification  ['chr14:31605485-31636020', 'chr14:31911996-32...   \n",
       "57    Complex non-cyclic  ['chr14:28268211-28288747', 'chr14:32637012-35...   \n",
       "\n",
       "                                            Oncogenes  \\\n",
       "0                                                  []   \n",
       "1                                                  []   \n",
       "2                                             ['RGR']   \n",
       "3                                           ['ARID2']   \n",
       "4   ['CDC6', 'ERBB2', 'LASP1', 'MLLT6', 'RARA', 'R...   \n",
       "5                             ['CAV1', 'MET', 'WNT2']   \n",
       "6                                           ['MYD88']   \n",
       "7                            ['MUC4', 'TERT', 'TFRC']   \n",
       "8                                                  []   \n",
       "9                           ['DDX6', 'HOOK3', 'TREH']   \n",
       "10                                    ['MYC', 'PVT1']   \n",
       "11                                                 []   \n",
       "12                                                 []   \n",
       "13            ['CYP24A1', 'SALL4', 'SNAI1', 'ZNF217']   \n",
       "14                                           ['GMNN']   \n",
       "15                                                 []   \n",
       "16                                                 []   \n",
       "17                                                 []   \n",
       "18                                 ['CLTCL1', 'CRKL']   \n",
       "19                                                 []   \n",
       "20                ['BIRC2', 'BIRC3', 'MMP12', 'YAP1']   \n",
       "21                                                 []   \n",
       "22                                          ['CCNE1']   \n",
       "23                                          ['CEBPA']   \n",
       "24                                          ['CBLL1']   \n",
       "25                                                 []   \n",
       "26                                          ['CDK14']   \n",
       "27                                                 []   \n",
       "28                                                 []   \n",
       "29                                    ['MYC', 'PVT1']   \n",
       "30                                                 []   \n",
       "31                                                 []   \n",
       "32                                                 []   \n",
       "33                                                 []   \n",
       "34                                           ['SPI1']   \n",
       "35                                         ['MLLT11']   \n",
       "36                                                 []   \n",
       "37                                            ['FOS']   \n",
       "38                                                 []   \n",
       "39                                                 []   \n",
       "40  ['CDC6', 'CSF3', 'ERBB2', 'RARA', 'THRA', 'TNS4']   \n",
       "41                                                 []   \n",
       "42                                   ['BCL3', 'CBLC']   \n",
       "43                                                 []   \n",
       "44                                           ['GMNN']   \n",
       "45                                                 []   \n",
       "46                                                 []   \n",
       "47                                                 []   \n",
       "48                                             ['FH']   \n",
       "49                                                 []   \n",
       "50                                           ['TERT']   \n",
       "51                                                 []   \n",
       "52                            ['CAV1', 'MET', 'WNT2']   \n",
       "53                                                 []   \n",
       "54                                                 []   \n",
       "55  ['CSF3', 'ERBB2', 'JUP', 'TBC1D3', 'TBC1D3C', ...   \n",
       "56                                                 []   \n",
       "57                                         ['NKX2-1']   \n",
       "\n",
       "                                            All genes  Complexity score  \\\n",
       "0   ['ARL15', 'FST', 'HSPB3', 'ITGA1', 'ITGA2', 'M...          0.998805   \n",
       "1   ['ADO', 'ARID5B', 'CABCOCO1', 'EGR2', 'RTKN2',...          0.575823   \n",
       "2   ['CCSER2', 'CDHR1', 'DLG5', 'DLG5-AS1', 'KCNMA...          1.455471   \n",
       "3   ['ADAMTS20', 'ANO6', 'ARID2', 'CNTN1', 'DBX2',...          0.962735   \n",
       "4   ['ARHGAP23', 'C17orf98', 'CDC6', 'CISD3', 'CWC...          1.192181   \n",
       "5   ['ASZ1', 'BMT2', 'CAPZA2', 'CAV1', 'CAV2', 'CF...          1.213437   \n",
       "6   ['ACAA1', 'ACVR2B', 'ACVR2B-AS1', 'CCR8', 'CSR...          0.633292   \n",
       "7   ['APOD', 'BDH1', 'CLPTM1L', 'FYTTD1', 'LPCAT1'...          1.602809   \n",
       "8                                           ['LRRN3']          0.293333   \n",
       "9   ['ARCN1', 'ATP5MG', 'CHRNA6', 'CHRNB3', 'DDX6'...          1.834478   \n",
       "10  ['CASC11', 'CASC19', 'CASC21', 'CASC8', 'CCAT1...          1.135552   \n",
       "11                        ['ACRV1', 'PATE1', 'PATE2']          0.364207   \n",
       "12                                                 []          0.339967   \n",
       "13  ['ADNP', 'ADNP-AS1', 'ATP9A', 'B4GALT5', 'BCAS...          0.355390   \n",
       "14  ['ACOT13', 'ALDH5A1', 'ARMH2', 'C6orf62', 'CAR...          0.617710   \n",
       "15                                                 []          0.300660   \n",
       "16                                  ['MUSK', 'SVEP1']          0.316410   \n",
       "17                                ['GSN-AS1', 'STOM']          0.318535   \n",
       "18  ['AIFM3', 'ARVCF', 'BCRP2', 'C22orf39', 'CCDC1...          0.909788   \n",
       "19                                                 []          0.649348   \n",
       "20  ['ANGPTL5', 'ARHGAP42', 'BIRC2', 'BIRC3', 'CEP...          1.156139   \n",
       "21  ['ERN1', 'SNHG25', 'SNORA50C', 'SNORD104', 'TE...          0.217233   \n",
       "22  ['C19orf12', 'CCNE1', 'IPO5P1', 'PLEKHF1', 'PO...          0.849752   \n",
       "23  ['CEBPA', 'CEBPA-DT', 'CEBPG', 'CEP89', 'CHST8...          0.742344   \n",
       "24  ['BCAP29', 'C7orf66', 'CBLL1', 'CCDC71L', 'CDH...          1.010548   \n",
       "25                                           ['AGR2']          0.181218   \n",
       "26  ['ASB4', 'CDK14', 'CLDN12', 'DYNC1I1', 'PDK4',...          1.833205   \n",
       "27  ['ABCB8', 'ABCF2', 'AGAP3', 'ASB10', 'ASIC3', ...          0.647258   \n",
       "28                                                 []          0.281591   \n",
       "29  ['CASC11', 'CASC19', 'CASC21', 'CASC8', 'CCAT1...          0.364012   \n",
       "30  ['ANAPC16', 'ASCC1', 'CHST3', 'DDIT4', 'DNAJB1...          0.361776   \n",
       "31                         ['GRK5', 'PRDX3', 'SFXN4']          0.493232   \n",
       "32                                            ['EHF']          0.260840   \n",
       "33  ['C11orf49', 'CKAP5', 'F2', 'LRP4', 'LRP4-AS1'...          0.246015   \n",
       "34             ['PSMC3', 'RAPSN', 'SLC39A13', 'SPI1']          0.052250   \n",
       "35  ['ANXA9', 'BNIPL', 'C1orf56', 'CDC42SE1', 'CGN...          0.868090   \n",
       "36  ['FLJ22447', 'HIF1A', 'HIF1A-AS1', 'HIF1A-AS2'...          0.691006   \n",
       "37                          ['FOS', 'NEK9', 'TMED10']          0.366593   \n",
       "38  ['ABR', 'CDK5RAP3', 'NXN', 'PNPO', 'PRR15L', '...          1.382750   \n",
       "39                                 ['BLMH', 'TMIGD1']          0.219990   \n",
       "40  ['CASC3', 'CDC6', 'CSF3', 'ERBB2', 'GJD3', 'GR...          0.568396   \n",
       "41                       ['LAMA1', 'LRRC30', 'PTPRM']          0.615873   \n",
       "42    ['BCAM', 'BCL3', 'CBLC', 'CEACAM16', 'NECTIN2']          0.184621   \n",
       "43                                ['PTPN1', 'SMIM25']          0.592798   \n",
       "44  ['ACOT13', 'ARMH2', 'C6orf62', 'CHRDL2', 'GMNN...          0.633051   \n",
       "45  ['C1orf50', 'CLDN19', 'ERMAP', 'P3H1', 'SVBP',...          0.695597   \n",
       "46                                         ['FAM20B']          0.344894   \n",
       "47                                          ['ESRRG']          0.241044   \n",
       "48  ['CHML', 'EXO1', 'FH', 'KMO', 'OPN3', 'RGS7', ...          0.186612   \n",
       "49                                                 []          0.338970   \n",
       "50  ['BRD9', 'CLPTM1L', 'LPCAT1', 'NKD2', 'SLC12A7...          0.684649   \n",
       "51               ['FAM198B-AS1', 'GASK1B', 'TMEM144']          0.724984   \n",
       "52  ['ANKRD7', 'ASZ1', 'CAPZA2', 'CAV1', 'CAV2', '...          0.235945   \n",
       "53                                                 []          0.000000   \n",
       "54  ['ABHD15', 'ANKRD13B', 'CORO6', 'CRYBA1', 'GIT...          0.257051   \n",
       "55  ['ACACA', 'ARHGAP23', 'C17orf78', 'CSF3', 'DDX...          1.452385   \n",
       "56                         ['ARHGAP5', 'ARHGAP5-AS1']          0.553244   \n",
       "57  ['BAZ1A', 'BRMS1L', 'CFL2', 'EAPP', 'EGLN3', '...          1.589429   \n",
       "\n",
       "    Captured interval length  Feature median copy number  \\\n",
       "0                    2532421                    5.031071   \n",
       "1                    2020004                    5.388893   \n",
       "2                    3514631                    5.694691   \n",
       "3                    6421715                    6.820154   \n",
       "4                    1003433                   19.823466   \n",
       "5                    6411775                    8.741029   \n",
       "6                    3030072                    5.426529   \n",
       "7                    1133644                    4.812606   \n",
       "8                      74459                    6.428408   \n",
       "9                    1419281                    6.187013   \n",
       "10                   1322051                   17.663883   \n",
       "11                    119716                    6.418112   \n",
       "12                     89989                    6.022062   \n",
       "13                   5164745                    7.491971   \n",
       "14                   3951464                    5.591770   \n",
       "15                    134998                    4.830317   \n",
       "16                    154133                    4.875775   \n",
       "17                    240327                    5.397767   \n",
       "18                   2968394                   12.109468   \n",
       "19                    119398                    4.977917   \n",
       "20                   4117865                   18.665034   \n",
       "21                    217998                   11.020320   \n",
       "22                   2191219                    6.770293   \n",
       "23                   2232415                    7.076339   \n",
       "24                   6542072                    4.875137   \n",
       "25                    119455                    4.948026   \n",
       "26                   2825667                    8.376441   \n",
       "27                    478021                    7.021558   \n",
       "28                    333627                    5.653532   \n",
       "29                   1987960                    6.717471   \n",
       "30                   1380527                    7.352700   \n",
       "31                    115001                    5.670273   \n",
       "32                    114155                    6.171335   \n",
       "33                    292388                    5.669273   \n",
       "34                    105004                    5.298627   \n",
       "35                    531837                    6.328179   \n",
       "36                    998445                    5.932221   \n",
       "37                    280007                    5.814941   \n",
       "38                    509892                    5.440220   \n",
       "39                     62772                    5.857985   \n",
       "40                   1051923                    5.549261   \n",
       "41                   1065585                    9.804165   \n",
       "42                    186098                    6.728496   \n",
       "43                    309126                    8.256410   \n",
       "44                    806549                    7.272385   \n",
       "45                    128355                    5.541424   \n",
       "46                    139732                    5.648878   \n",
       "47                    192644                    6.037106   \n",
       "48                    629941                    7.434861   \n",
       "49                    202788                    5.905740   \n",
       "50                    839297                   13.610331   \n",
       "51                    264279                    5.744706   \n",
       "52                   7047267                   11.311170   \n",
       "53                     55001                    5.778906   \n",
       "54                    666871                    7.463151   \n",
       "55                   2339962                   12.700891   \n",
       "56                    231072                    5.455412   \n",
       "57                   5745533                    8.869419   \n",
       "\n",
       "    Feature maximum copy number Filter flag Reference version  \\\n",
       "0                      5.031071       LowCN            GRCh38   \n",
       "1                      5.388893       LowCN            GRCh38   \n",
       "2                      6.134792        None            GRCh38   \n",
       "3                      9.299053        None            GRCh38   \n",
       "4                     46.835721        None            GRCh38   \n",
       "5                     35.927974        None            GRCh38   \n",
       "6                      5.426529        None            GRCh38   \n",
       "7                     21.343546        None            GRCh38   \n",
       "8                      7.217044       LowCN            GRCh38   \n",
       "9                     18.314655        None            GRCh38   \n",
       "10                    17.663883        None            GRCh38   \n",
       "11                     6.418112        None            GRCh38   \n",
       "12                     6.022062        None            GRCh38   \n",
       "13                     9.594766        None            GRCh38   \n",
       "14                     7.706660        None            GRCh38   \n",
       "15                     4.830317       LowCN            GRCh38   \n",
       "16                     4.875775       LowCN            GRCh38   \n",
       "17                     5.397767       LowCN            GRCh38   \n",
       "18                    16.587267        None            GRCh38   \n",
       "19                     8.184657        None            GRCh38   \n",
       "20                    19.877542        None            GRCh38   \n",
       "21                    12.237808        None            GRCh38   \n",
       "22                     9.220484        None            GRCh38   \n",
       "23                   102.055949        None            GRCh38   \n",
       "24                    11.212459        None            GRCh38   \n",
       "25                     4.948026       LowCN            GRCh38   \n",
       "26                    11.671047        None            GRCh38   \n",
       "27                    14.944907        None            GRCh38   \n",
       "28                     7.272131       LowCN            GRCh38   \n",
       "29                     9.875379        None            GRCh38   \n",
       "30                     7.390377        None            GRCh38   \n",
       "31                     7.313004        None            GRCh38   \n",
       "32                     6.171335       LowCN            GRCh38   \n",
       "33                     5.669273       LowCN            GRCh38   \n",
       "34                     5.439911        None            GRCh38   \n",
       "35                     7.924596       LowCN            GRCh38   \n",
       "36                    12.705716        None            GRCh38   \n",
       "37                     5.814941        None            GRCh38   \n",
       "38                     9.781538        None            GRCh38   \n",
       "39                     5.857985       LowCN            GRCh38   \n",
       "40                     9.189069        None            GRCh38   \n",
       "41                     9.804165        None            GRCh38   \n",
       "42                     6.728496       LowCN            GRCh38   \n",
       "43                    10.100758        None            GRCh38   \n",
       "44                    13.227001        None            GRCh38   \n",
       "45                     5.541424       LowCN            GRCh38   \n",
       "46                     5.648878       LowCN            GRCh38   \n",
       "47                     6.037106       LowCN            GRCh38   \n",
       "48                     7.434861        None            GRCh38   \n",
       "49                     7.013949       LowCN            GRCh38   \n",
       "50                    18.075529        None            GRCh38   \n",
       "51                     5.744706       LowCN            GRCh38   \n",
       "52                    13.244657        None            GRCh38   \n",
       "53                     5.778906        None            GRCh38   \n",
       "54                     7.463151       LowCN            GRCh38   \n",
       "55                    39.001338        None            GRCh38   \n",
       "56                     7.489815        None            GRCh38   \n",
       "57                    11.151948        None            GRCh38   \n",
       "\n",
       "   Tissue of origin Sample type  \\\n",
       "0         esophagus   cell line   \n",
       "1         esophagus   cell line   \n",
       "2         esophagus   cell line   \n",
       "3         esophagus   cell line   \n",
       "4         esophagus   cell line   \n",
       "5         esophagus   cell line   \n",
       "6         esophagus   cell line   \n",
       "7         esophagus   cell line   \n",
       "8         esophagus   cell line   \n",
       "9         esophagus   cell line   \n",
       "10        esophagus   cell line   \n",
       "11        esophagus   cell line   \n",
       "12        esophagus   cell line   \n",
       "13        esophagus   cell line   \n",
       "14        esophagus   cell line   \n",
       "15        esophagus   cell line   \n",
       "16        esophagus   cell line   \n",
       "17        esophagus   cell line   \n",
       "18        esophagus   cell line   \n",
       "19        esophagus   cell line   \n",
       "20        esophagus   cell line   \n",
       "21        esophagus   cell line   \n",
       "22        esophagus   cell line   \n",
       "23        esophagus   cell line   \n",
       "24        esophagus   cell line   \n",
       "25        esophagus   cell line   \n",
       "26        esophagus   cell line   \n",
       "27        esophagus   cell line   \n",
       "28        esophagus   cell line   \n",
       "29        esophagus   cell line   \n",
       "30        esophagus   cell line   \n",
       "31        esophagus   cell line   \n",
       "32        esophagus   cell line   \n",
       "33        esophagus   cell line   \n",
       "34        esophagus   cell line   \n",
       "35        esophagus   cell line   \n",
       "36        esophagus   cell line   \n",
       "37        esophagus   cell line   \n",
       "38        esophagus   cell line   \n",
       "39        esophagus   cell line   \n",
       "40        esophagus   cell line   \n",
       "41        esophagus   cell line   \n",
       "42        esophagus   cell line   \n",
       "43        esophagus   cell line   \n",
       "44        esophagus   cell line   \n",
       "45        esophagus   cell line   \n",
       "46        esophagus   cell line   \n",
       "47        esophagus   cell line   \n",
       "48        esophagus   cell line   \n",
       "49        esophagus   cell line   \n",
       "50        esophagus   cell line   \n",
       "51        esophagus   cell line   \n",
       "52        esophagus   cell line   \n",
       "53        esophagus   cell line   \n",
       "54        esophagus   cell line   \n",
       "55        esophagus   cell line   \n",
       "56        esophagus   cell line   \n",
       "57        esophagus   cell line   \n",
       "\n",
       "                                     Feature BED file  \\\n",
       "0   /Users/jluebeck/Dropbox/BafnaLab/ecDNA/AA_resu...   \n",
       "1   /Users/jluebeck/Dropbox/BafnaLab/ecDNA/AA_resu...   \n",
       "2   /Users/jluebeck/Dropbox/BafnaLab/ecDNA/AA_resu...   \n",
       "3   /Users/jluebeck/Dropbox/BafnaLab/ecDNA/AA_resu...   \n",
       "4   /Users/jluebeck/Dropbox/BafnaLab/ecDNA/AA_resu...   \n",
       "5   /Users/jluebeck/Dropbox/BafnaLab/ecDNA/AA_resu...   \n",
       "6   /Users/jluebeck/Dropbox/BafnaLab/ecDNA/AA_resu...   \n",
       "7   /Users/jluebeck/Dropbox/BafnaLab/ecDNA/AA_resu...   \n",
       "8   /Users/jluebeck/Dropbox/BafnaLab/ecDNA/AA_resu...   \n",
       "9   /Users/jluebeck/Dropbox/BafnaLab/ecDNA/AA_resu...   \n",
       "10  /Users/jluebeck/Dropbox/BafnaLab/ecDNA/AA_resu...   \n",
       "11  /Users/jluebeck/Dropbox/BafnaLab/ecDNA/AA_resu...   \n",
       "12  /Users/jluebeck/Dropbox/BafnaLab/ecDNA/AA_resu...   \n",
       "13  /Users/jluebeck/Dropbox/BafnaLab/ecDNA/AA_resu...   \n",
       "14  /Users/jluebeck/Dropbox/BafnaLab/ecDNA/AA_resu...   \n",
       "15  /Users/jluebeck/Dropbox/BafnaLab/ecDNA/AA_resu...   \n",
       "16  /Users/jluebeck/Dropbox/BafnaLab/ecDNA/AA_resu...   \n",
       "17  /Users/jluebeck/Dropbox/BafnaLab/ecDNA/AA_resu...   \n",
       "18  /Users/jluebeck/Dropbox/BafnaLab/ecDNA/AA_resu...   \n",
       "19  /Users/jluebeck/Dropbox/BafnaLab/ecDNA/AA_resu...   \n",
       "20  /Users/jluebeck/Dropbox/BafnaLab/ecDNA/AA_resu...   \n",
       "21  /Users/jluebeck/Dropbox/BafnaLab/ecDNA/AA_resu...   \n",
       "22  /Users/jluebeck/Dropbox/BafnaLab/ecDNA/AA_resu...   \n",
       "23  /Users/jluebeck/Dropbox/BafnaLab/ecDNA/AA_resu...   \n",
       "24  /Users/jluebeck/Dropbox/BafnaLab/ecDNA/AA_resu...   \n",
       "25  /Users/jluebeck/Dropbox/BafnaLab/ecDNA/AA_resu...   \n",
       "26  /Users/jluebeck/Dropbox/BafnaLab/ecDNA/AA_resu...   \n",
       "27  /Users/jluebeck/Dropbox/BafnaLab/ecDNA/AA_resu...   \n",
       "28  /Users/jluebeck/Dropbox/BafnaLab/ecDNA/AA_resu...   \n",
       "29  /Users/jluebeck/Dropbox/BafnaLab/ecDNA/AA_resu...   \n",
       "30  /Users/jluebeck/Dropbox/BafnaLab/ecDNA/AA_resu...   \n",
       "31  /Users/jluebeck/Dropbox/BafnaLab/ecDNA/AA_resu...   \n",
       "32  /Users/jluebeck/Dropbox/BafnaLab/ecDNA/AA_resu...   \n",
       "33  /Users/jluebeck/Dropbox/BafnaLab/ecDNA/AA_resu...   \n",
       "34  /Users/jluebeck/Dropbox/BafnaLab/ecDNA/AA_resu...   \n",
       "35  /Users/jluebeck/Dropbox/BafnaLab/ecDNA/AA_resu...   \n",
       "36  /Users/jluebeck/Dropbox/BafnaLab/ecDNA/AA_resu...   \n",
       "37  /Users/jluebeck/Dropbox/BafnaLab/ecDNA/AA_resu...   \n",
       "38  /Users/jluebeck/Dropbox/BafnaLab/ecDNA/AA_resu...   \n",
       "39  /Users/jluebeck/Dropbox/BafnaLab/ecDNA/AA_resu...   \n",
       "40  /Users/jluebeck/Dropbox/BafnaLab/ecDNA/AA_resu...   \n",
       "41  /Users/jluebeck/Dropbox/BafnaLab/ecDNA/AA_resu...   \n",
       "42  /Users/jluebeck/Dropbox/BafnaLab/ecDNA/AA_resu...   \n",
       "43  /Users/jluebeck/Dropbox/BafnaLab/ecDNA/AA_resu...   \n",
       "44  /Users/jluebeck/Dropbox/BafnaLab/ecDNA/AA_resu...   \n",
       "45  /Users/jluebeck/Dropbox/BafnaLab/ecDNA/AA_resu...   \n",
       "46  /Users/jluebeck/Dropbox/BafnaLab/ecDNA/AA_resu...   \n",
       "47  /Users/jluebeck/Dropbox/BafnaLab/ecDNA/AA_resu...   \n",
       "48  /Users/jluebeck/Dropbox/BafnaLab/ecDNA/AA_resu...   \n",
       "49  /Users/jluebeck/Dropbox/BafnaLab/ecDNA/AA_resu...   \n",
       "50  /Users/jluebeck/Dropbox/BafnaLab/ecDNA/AA_resu...   \n",
       "51  /Users/jluebeck/Dropbox/BafnaLab/ecDNA/AA_resu...   \n",
       "52  /Users/jluebeck/Dropbox/BafnaLab/ecDNA/AA_resu...   \n",
       "53  /Users/jluebeck/Dropbox/BafnaLab/ecDNA/AA_resu...   \n",
       "54  /Users/jluebeck/Dropbox/BafnaLab/ecDNA/AA_resu...   \n",
       "55  /Users/jluebeck/Dropbox/BafnaLab/ecDNA/AA_resu...   \n",
       "56  /Users/jluebeck/Dropbox/BafnaLab/ecDNA/AA_resu...   \n",
       "57  /Users/jluebeck/Dropbox/BafnaLab/ecDNA/AA_resu...   \n",
       "\n",
       "                                         CNV BED file  \\\n",
       "0   /Users/jluebeck/Dropbox/BafnaLab/ecDNA/AA_resu...   \n",
       "1   /Users/jluebeck/Dropbox/BafnaLab/ecDNA/AA_resu...   \n",
       "2   /Users/jluebeck/Dropbox/BafnaLab/ecDNA/AA_resu...   \n",
       "3   /Users/jluebeck/Dropbox/BafnaLab/ecDNA/AA_resu...   \n",
       "4   /Users/jluebeck/Dropbox/BafnaLab/ecDNA/AA_resu...   \n",
       "5   /Users/jluebeck/Dropbox/BafnaLab/ecDNA/AA_resu...   \n",
       "6   /Users/jluebeck/Dropbox/BafnaLab/ecDNA/AA_resu...   \n",
       "7   /Users/jluebeck/Dropbox/BafnaLab/ecDNA/AA_resu...   \n",
       "8   /Users/jluebeck/Dropbox/BafnaLab/ecDNA/AA_resu...   \n",
       "9   /Users/jluebeck/Dropbox/BafnaLab/ecDNA/AA_resu...   \n",
       "10  /Users/jluebeck/Dropbox/BafnaLab/ecDNA/AA_resu...   \n",
       "11  /Users/jluebeck/Dropbox/BafnaLab/ecDNA/AA_resu...   \n",
       "12  /Users/jluebeck/Dropbox/BafnaLab/ecDNA/AA_resu...   \n",
       "13  /Users/jluebeck/Dropbox/BafnaLab/ecDNA/AA_resu...   \n",
       "14  /Users/jluebeck/Dropbox/BafnaLab/ecDNA/AA_resu...   \n",
       "15  /Users/jluebeck/Dropbox/BafnaLab/ecDNA/AA_resu...   \n",
       "16  /Users/jluebeck/Dropbox/BafnaLab/ecDNA/AA_resu...   \n",
       "17  /Users/jluebeck/Dropbox/BafnaLab/ecDNA/AA_resu...   \n",
       "18  /Users/jluebeck/Dropbox/BafnaLab/ecDNA/AA_resu...   \n",
       "19  /Users/jluebeck/Dropbox/BafnaLab/ecDNA/AA_resu...   \n",
       "20  /Users/jluebeck/Dropbox/BafnaLab/ecDNA/AA_resu...   \n",
       "21  /Users/jluebeck/Dropbox/BafnaLab/ecDNA/AA_resu...   \n",
       "22  /Users/jluebeck/Dropbox/BafnaLab/ecDNA/AA_resu...   \n",
       "23  /Users/jluebeck/Dropbox/BafnaLab/ecDNA/AA_resu...   \n",
       "24  /Users/jluebeck/Dropbox/BafnaLab/ecDNA/AA_resu...   \n",
       "25  /Users/jluebeck/Dropbox/BafnaLab/ecDNA/AA_resu...   \n",
       "26  /Users/jluebeck/Dropbox/BafnaLab/ecDNA/AA_resu...   \n",
       "27  /Users/jluebeck/Dropbox/BafnaLab/ecDNA/AA_resu...   \n",
       "28  /Users/jluebeck/Dropbox/BafnaLab/ecDNA/AA_resu...   \n",
       "29  /Users/jluebeck/Dropbox/BafnaLab/ecDNA/AA_resu...   \n",
       "30  /Users/jluebeck/Dropbox/BafnaLab/ecDNA/AA_resu...   \n",
       "31  /Users/jluebeck/Dropbox/BafnaLab/ecDNA/AA_resu...   \n",
       "32  /Users/jluebeck/Dropbox/BafnaLab/ecDNA/AA_resu...   \n",
       "33  /Users/jluebeck/Dropbox/BafnaLab/ecDNA/AA_resu...   \n",
       "34  /Users/jluebeck/Dropbox/BafnaLab/ecDNA/AA_resu...   \n",
       "35  /Users/jluebeck/Dropbox/BafnaLab/ecDNA/AA_resu...   \n",
       "36  /Users/jluebeck/Dropbox/BafnaLab/ecDNA/AA_resu...   \n",
       "37  /Users/jluebeck/Dropbox/BafnaLab/ecDNA/AA_resu...   \n",
       "38  /Users/jluebeck/Dropbox/BafnaLab/ecDNA/AA_resu...   \n",
       "39  /Users/jluebeck/Dropbox/BafnaLab/ecDNA/AA_resu...   \n",
       "40  /Users/jluebeck/Dropbox/BafnaLab/ecDNA/AA_resu...   \n",
       "41  /Users/jluebeck/Dropbox/BafnaLab/ecDNA/AA_resu...   \n",
       "42  /Users/jluebeck/Dropbox/BafnaLab/ecDNA/AA_resu...   \n",
       "43  /Users/jluebeck/Dropbox/BafnaLab/ecDNA/AA_resu...   \n",
       "44  /Users/jluebeck/Dropbox/BafnaLab/ecDNA/AA_resu...   \n",
       "45  /Users/jluebeck/Dropbox/BafnaLab/ecDNA/AA_resu...   \n",
       "46  /Users/jluebeck/Dropbox/BafnaLab/ecDNA/AA_resu...   \n",
       "47  /Users/jluebeck/Dropbox/BafnaLab/ecDNA/AA_resu...   \n",
       "48  /Users/jluebeck/Dropbox/BafnaLab/ecDNA/AA_resu...   \n",
       "49  /Users/jluebeck/Dropbox/BafnaLab/ecDNA/AA_resu...   \n",
       "50  /Users/jluebeck/Dropbox/BafnaLab/ecDNA/AA_resu...   \n",
       "51  /Users/jluebeck/Dropbox/BafnaLab/ecDNA/AA_resu...   \n",
       "52  /Users/jluebeck/Dropbox/BafnaLab/ecDNA/AA_resu...   \n",
       "53  /Users/jluebeck/Dropbox/BafnaLab/ecDNA/AA_resu...   \n",
       "54  /Users/jluebeck/Dropbox/BafnaLab/ecDNA/AA_resu...   \n",
       "55  /Users/jluebeck/Dropbox/BafnaLab/ecDNA/AA_resu...   \n",
       "56  /Users/jluebeck/Dropbox/BafnaLab/ecDNA/AA_resu...   \n",
       "57  /Users/jluebeck/Dropbox/BafnaLab/ecDNA/AA_resu...   \n",
       "\n",
       "                                          AA PNG file  \\\n",
       "0   /Users/jluebeck/Dropbox/BafnaLab/ecDNA/AA_resu...   \n",
       "1   /Users/jluebeck/Dropbox/BafnaLab/ecDNA/AA_resu...   \n",
       "2   /Users/jluebeck/Dropbox/BafnaLab/ecDNA/AA_resu...   \n",
       "3   /Users/jluebeck/Dropbox/BafnaLab/ecDNA/AA_resu...   \n",
       "4   /Users/jluebeck/Dropbox/BafnaLab/ecDNA/AA_resu...   \n",
       "5   /Users/jluebeck/Dropbox/BafnaLab/ecDNA/AA_resu...   \n",
       "6   /Users/jluebeck/Dropbox/BafnaLab/ecDNA/AA_resu...   \n",
       "7   /Users/jluebeck/Dropbox/BafnaLab/ecDNA/AA_resu...   \n",
       "8   /Users/jluebeck/Dropbox/BafnaLab/ecDNA/AA_resu...   \n",
       "9   /Users/jluebeck/Dropbox/BafnaLab/ecDNA/AA_resu...   \n",
       "10  /Users/jluebeck/Dropbox/BafnaLab/ecDNA/AA_resu...   \n",
       "11  /Users/jluebeck/Dropbox/BafnaLab/ecDNA/AA_resu...   \n",
       "12  /Users/jluebeck/Dropbox/BafnaLab/ecDNA/AA_resu...   \n",
       "13  /Users/jluebeck/Dropbox/BafnaLab/ecDNA/AA_resu...   \n",
       "14  /Users/jluebeck/Dropbox/BafnaLab/ecDNA/AA_resu...   \n",
       "15  /Users/jluebeck/Dropbox/BafnaLab/ecDNA/AA_resu...   \n",
       "16  /Users/jluebeck/Dropbox/BafnaLab/ecDNA/AA_resu...   \n",
       "17  /Users/jluebeck/Dropbox/BafnaLab/ecDNA/AA_resu...   \n",
       "18  /Users/jluebeck/Dropbox/BafnaLab/ecDNA/AA_resu...   \n",
       "19  /Users/jluebeck/Dropbox/BafnaLab/ecDNA/AA_resu...   \n",
       "20  /Users/jluebeck/Dropbox/BafnaLab/ecDNA/AA_resu...   \n",
       "21  /Users/jluebeck/Dropbox/BafnaLab/ecDNA/AA_resu...   \n",
       "22  /Users/jluebeck/Dropbox/BafnaLab/ecDNA/AA_resu...   \n",
       "23  /Users/jluebeck/Dropbox/BafnaLab/ecDNA/AA_resu...   \n",
       "24  /Users/jluebeck/Dropbox/BafnaLab/ecDNA/AA_resu...   \n",
       "25  /Users/jluebeck/Dropbox/BafnaLab/ecDNA/AA_resu...   \n",
       "26  /Users/jluebeck/Dropbox/BafnaLab/ecDNA/AA_resu...   \n",
       "27  /Users/jluebeck/Dropbox/BafnaLab/ecDNA/AA_resu...   \n",
       "28  /Users/jluebeck/Dropbox/BafnaLab/ecDNA/AA_resu...   \n",
       "29  /Users/jluebeck/Dropbox/BafnaLab/ecDNA/AA_resu...   \n",
       "30  /Users/jluebeck/Dropbox/BafnaLab/ecDNA/AA_resu...   \n",
       "31  /Users/jluebeck/Dropbox/BafnaLab/ecDNA/AA_resu...   \n",
       "32  /Users/jluebeck/Dropbox/BafnaLab/ecDNA/AA_resu...   \n",
       "33  /Users/jluebeck/Dropbox/BafnaLab/ecDNA/AA_resu...   \n",
       "34  /Users/jluebeck/Dropbox/BafnaLab/ecDNA/AA_resu...   \n",
       "35  /Users/jluebeck/Dropbox/BafnaLab/ecDNA/AA_resu...   \n",
       "36  /Users/jluebeck/Dropbox/BafnaLab/ecDNA/AA_resu...   \n",
       "37  /Users/jluebeck/Dropbox/BafnaLab/ecDNA/AA_resu...   \n",
       "38  /Users/jluebeck/Dropbox/BafnaLab/ecDNA/AA_resu...   \n",
       "39  /Users/jluebeck/Dropbox/BafnaLab/ecDNA/AA_resu...   \n",
       "40  /Users/jluebeck/Dropbox/BafnaLab/ecDNA/AA_resu...   \n",
       "41  /Users/jluebeck/Dropbox/BafnaLab/ecDNA/AA_resu...   \n",
       "42  /Users/jluebeck/Dropbox/BafnaLab/ecDNA/AA_resu...   \n",
       "43  /Users/jluebeck/Dropbox/BafnaLab/ecDNA/AA_resu...   \n",
       "44  /Users/jluebeck/Dropbox/BafnaLab/ecDNA/AA_resu...   \n",
       "45  /Users/jluebeck/Dropbox/BafnaLab/ecDNA/AA_resu...   \n",
       "46  /Users/jluebeck/Dropbox/BafnaLab/ecDNA/AA_resu...   \n",
       "47  /Users/jluebeck/Dropbox/BafnaLab/ecDNA/AA_resu...   \n",
       "48  /Users/jluebeck/Dropbox/BafnaLab/ecDNA/AA_resu...   \n",
       "49  /Users/jluebeck/Dropbox/BafnaLab/ecDNA/AA_resu...   \n",
       "50  /Users/jluebeck/Dropbox/BafnaLab/ecDNA/AA_resu...   \n",
       "51  /Users/jluebeck/Dropbox/BafnaLab/ecDNA/AA_resu...   \n",
       "52  /Users/jluebeck/Dropbox/BafnaLab/ecDNA/AA_resu...   \n",
       "53  /Users/jluebeck/Dropbox/BafnaLab/ecDNA/AA_resu...   \n",
       "54  /Users/jluebeck/Dropbox/BafnaLab/ecDNA/AA_resu...   \n",
       "55  /Users/jluebeck/Dropbox/BafnaLab/ecDNA/AA_resu...   \n",
       "56  /Users/jluebeck/Dropbox/BafnaLab/ecDNA/AA_resu...   \n",
       "57  /Users/jluebeck/Dropbox/BafnaLab/ecDNA/AA_resu...   \n",
       "\n",
       "                                          AA PDF file  \\\n",
       "0   /Users/jluebeck/Dropbox/BafnaLab/ecDNA/AA_resu...   \n",
       "1   /Users/jluebeck/Dropbox/BafnaLab/ecDNA/AA_resu...   \n",
       "2   /Users/jluebeck/Dropbox/BafnaLab/ecDNA/AA_resu...   \n",
       "3   /Users/jluebeck/Dropbox/BafnaLab/ecDNA/AA_resu...   \n",
       "4   /Users/jluebeck/Dropbox/BafnaLab/ecDNA/AA_resu...   \n",
       "5   /Users/jluebeck/Dropbox/BafnaLab/ecDNA/AA_resu...   \n",
       "6   /Users/jluebeck/Dropbox/BafnaLab/ecDNA/AA_resu...   \n",
       "7   /Users/jluebeck/Dropbox/BafnaLab/ecDNA/AA_resu...   \n",
       "8   /Users/jluebeck/Dropbox/BafnaLab/ecDNA/AA_resu...   \n",
       "9   /Users/jluebeck/Dropbox/BafnaLab/ecDNA/AA_resu...   \n",
       "10  /Users/jluebeck/Dropbox/BafnaLab/ecDNA/AA_resu...   \n",
       "11  /Users/jluebeck/Dropbox/BafnaLab/ecDNA/AA_resu...   \n",
       "12  /Users/jluebeck/Dropbox/BafnaLab/ecDNA/AA_resu...   \n",
       "13  /Users/jluebeck/Dropbox/BafnaLab/ecDNA/AA_resu...   \n",
       "14  /Users/jluebeck/Dropbox/BafnaLab/ecDNA/AA_resu...   \n",
       "15  /Users/jluebeck/Dropbox/BafnaLab/ecDNA/AA_resu...   \n",
       "16  /Users/jluebeck/Dropbox/BafnaLab/ecDNA/AA_resu...   \n",
       "17  /Users/jluebeck/Dropbox/BafnaLab/ecDNA/AA_resu...   \n",
       "18  /Users/jluebeck/Dropbox/BafnaLab/ecDNA/AA_resu...   \n",
       "19  /Users/jluebeck/Dropbox/BafnaLab/ecDNA/AA_resu...   \n",
       "20  /Users/jluebeck/Dropbox/BafnaLab/ecDNA/AA_resu...   \n",
       "21  /Users/jluebeck/Dropbox/BafnaLab/ecDNA/AA_resu...   \n",
       "22  /Users/jluebeck/Dropbox/BafnaLab/ecDNA/AA_resu...   \n",
       "23  /Users/jluebeck/Dropbox/BafnaLab/ecDNA/AA_resu...   \n",
       "24  /Users/jluebeck/Dropbox/BafnaLab/ecDNA/AA_resu...   \n",
       "25  /Users/jluebeck/Dropbox/BafnaLab/ecDNA/AA_resu...   \n",
       "26  /Users/jluebeck/Dropbox/BafnaLab/ecDNA/AA_resu...   \n",
       "27  /Users/jluebeck/Dropbox/BafnaLab/ecDNA/AA_resu...   \n",
       "28  /Users/jluebeck/Dropbox/BafnaLab/ecDNA/AA_resu...   \n",
       "29  /Users/jluebeck/Dropbox/BafnaLab/ecDNA/AA_resu...   \n",
       "30  /Users/jluebeck/Dropbox/BafnaLab/ecDNA/AA_resu...   \n",
       "31  /Users/jluebeck/Dropbox/BafnaLab/ecDNA/AA_resu...   \n",
       "32  /Users/jluebeck/Dropbox/BafnaLab/ecDNA/AA_resu...   \n",
       "33  /Users/jluebeck/Dropbox/BafnaLab/ecDNA/AA_resu...   \n",
       "34  /Users/jluebeck/Dropbox/BafnaLab/ecDNA/AA_resu...   \n",
       "35  /Users/jluebeck/Dropbox/BafnaLab/ecDNA/AA_resu...   \n",
       "36  /Users/jluebeck/Dropbox/BafnaLab/ecDNA/AA_resu...   \n",
       "37  /Users/jluebeck/Dropbox/BafnaLab/ecDNA/AA_resu...   \n",
       "38  /Users/jluebeck/Dropbox/BafnaLab/ecDNA/AA_resu...   \n",
       "39  /Users/jluebeck/Dropbox/BafnaLab/ecDNA/AA_resu...   \n",
       "40  /Users/jluebeck/Dropbox/BafnaLab/ecDNA/AA_resu...   \n",
       "41  /Users/jluebeck/Dropbox/BafnaLab/ecDNA/AA_resu...   \n",
       "42  /Users/jluebeck/Dropbox/BafnaLab/ecDNA/AA_resu...   \n",
       "43  /Users/jluebeck/Dropbox/BafnaLab/ecDNA/AA_resu...   \n",
       "44  /Users/jluebeck/Dropbox/BafnaLab/ecDNA/AA_resu...   \n",
       "45  /Users/jluebeck/Dropbox/BafnaLab/ecDNA/AA_resu...   \n",
       "46  /Users/jluebeck/Dropbox/BafnaLab/ecDNA/AA_resu...   \n",
       "47  /Users/jluebeck/Dropbox/BafnaLab/ecDNA/AA_resu...   \n",
       "48  /Users/jluebeck/Dropbox/BafnaLab/ecDNA/AA_resu...   \n",
       "49  /Users/jluebeck/Dropbox/BafnaLab/ecDNA/AA_resu...   \n",
       "50  /Users/jluebeck/Dropbox/BafnaLab/ecDNA/AA_resu...   \n",
       "51  /Users/jluebeck/Dropbox/BafnaLab/ecDNA/AA_resu...   \n",
       "52  /Users/jluebeck/Dropbox/BafnaLab/ecDNA/AA_resu...   \n",
       "53  /Users/jluebeck/Dropbox/BafnaLab/ecDNA/AA_resu...   \n",
       "54  /Users/jluebeck/Dropbox/BafnaLab/ecDNA/AA_resu...   \n",
       "55  /Users/jluebeck/Dropbox/BafnaLab/ecDNA/AA_resu...   \n",
       "56  /Users/jluebeck/Dropbox/BafnaLab/ecDNA/AA_resu...   \n",
       "57  /Users/jluebeck/Dropbox/BafnaLab/ecDNA/AA_resu...   \n",
       "\n",
       "                                    Run metadata JSON  \n",
       "0   /Users/jluebeck/Dropbox/BafnaLab/ecDNA/AA_resu...  \n",
       "1   /Users/jluebeck/Dropbox/BafnaLab/ecDNA/AA_resu...  \n",
       "2   /Users/jluebeck/Dropbox/BafnaLab/ecDNA/AA_resu...  \n",
       "3   /Users/jluebeck/Dropbox/BafnaLab/ecDNA/AA_resu...  \n",
       "4   /Users/jluebeck/Dropbox/BafnaLab/ecDNA/AA_resu...  \n",
       "5   /Users/jluebeck/Dropbox/BafnaLab/ecDNA/AA_resu...  \n",
       "6   /Users/jluebeck/Dropbox/BafnaLab/ecDNA/AA_resu...  \n",
       "7   /Users/jluebeck/Dropbox/BafnaLab/ecDNA/AA_resu...  \n",
       "8   /Users/jluebeck/Dropbox/BafnaLab/ecDNA/AA_resu...  \n",
       "9   /Users/jluebeck/Dropbox/BafnaLab/ecDNA/AA_resu...  \n",
       "10  /Users/jluebeck/Dropbox/BafnaLab/ecDNA/AA_resu...  \n",
       "11  /Users/jluebeck/Dropbox/BafnaLab/ecDNA/AA_resu...  \n",
       "12  /Users/jluebeck/Dropbox/BafnaLab/ecDNA/AA_resu...  \n",
       "13  /Users/jluebeck/Dropbox/BafnaLab/ecDNA/AA_resu...  \n",
       "14  /Users/jluebeck/Dropbox/BafnaLab/ecDNA/AA_resu...  \n",
       "15  /Users/jluebeck/Dropbox/BafnaLab/ecDNA/AA_resu...  \n",
       "16  /Users/jluebeck/Dropbox/BafnaLab/ecDNA/AA_resu...  \n",
       "17  /Users/jluebeck/Dropbox/BafnaLab/ecDNA/AA_resu...  \n",
       "18  /Users/jluebeck/Dropbox/BafnaLab/ecDNA/AA_resu...  \n",
       "19  /Users/jluebeck/Dropbox/BafnaLab/ecDNA/AA_resu...  \n",
       "20  /Users/jluebeck/Dropbox/BafnaLab/ecDNA/AA_resu...  \n",
       "21  /Users/jluebeck/Dropbox/BafnaLab/ecDNA/AA_resu...  \n",
       "22  /Users/jluebeck/Dropbox/BafnaLab/ecDNA/AA_resu...  \n",
       "23  /Users/jluebeck/Dropbox/BafnaLab/ecDNA/AA_resu...  \n",
       "24  /Users/jluebeck/Dropbox/BafnaLab/ecDNA/AA_resu...  \n",
       "25  /Users/jluebeck/Dropbox/BafnaLab/ecDNA/AA_resu...  \n",
       "26  /Users/jluebeck/Dropbox/BafnaLab/ecDNA/AA_resu...  \n",
       "27  /Users/jluebeck/Dropbox/BafnaLab/ecDNA/AA_resu...  \n",
       "28  /Users/jluebeck/Dropbox/BafnaLab/ecDNA/AA_resu...  \n",
       "29  /Users/jluebeck/Dropbox/BafnaLab/ecDNA/AA_resu...  \n",
       "30  /Users/jluebeck/Dropbox/BafnaLab/ecDNA/AA_resu...  \n",
       "31  /Users/jluebeck/Dropbox/BafnaLab/ecDNA/AA_resu...  \n",
       "32  /Users/jluebeck/Dropbox/BafnaLab/ecDNA/AA_resu...  \n",
       "33  /Users/jluebeck/Dropbox/BafnaLab/ecDNA/AA_resu...  \n",
       "34  /Users/jluebeck/Dropbox/BafnaLab/ecDNA/AA_resu...  \n",
       "35  /Users/jluebeck/Dropbox/BafnaLab/ecDNA/AA_resu...  \n",
       "36  /Users/jluebeck/Dropbox/BafnaLab/ecDNA/AA_resu...  \n",
       "37  /Users/jluebeck/Dropbox/BafnaLab/ecDNA/AA_resu...  \n",
       "38  /Users/jluebeck/Dropbox/BafnaLab/ecDNA/AA_resu...  \n",
       "39  /Users/jluebeck/Dropbox/BafnaLab/ecDNA/AA_resu...  \n",
       "40  /Users/jluebeck/Dropbox/BafnaLab/ecDNA/AA_resu...  \n",
       "41  /Users/jluebeck/Dropbox/BafnaLab/ecDNA/AA_resu...  \n",
       "42  /Users/jluebeck/Dropbox/BafnaLab/ecDNA/AA_resu...  \n",
       "43  /Users/jluebeck/Dropbox/BafnaLab/ecDNA/AA_resu...  \n",
       "44  /Users/jluebeck/Dropbox/BafnaLab/ecDNA/AA_resu...  \n",
       "45  /Users/jluebeck/Dropbox/BafnaLab/ecDNA/AA_resu...  \n",
       "46  /Users/jluebeck/Dropbox/BafnaLab/ecDNA/AA_resu...  \n",
       "47  /Users/jluebeck/Dropbox/BafnaLab/ecDNA/AA_resu...  \n",
       "48  /Users/jluebeck/Dropbox/BafnaLab/ecDNA/AA_resu...  \n",
       "49  /Users/jluebeck/Dropbox/BafnaLab/ecDNA/AA_resu...  \n",
       "50  /Users/jluebeck/Dropbox/BafnaLab/ecDNA/AA_resu...  \n",
       "51  /Users/jluebeck/Dropbox/BafnaLab/ecDNA/AA_resu...  \n",
       "52  /Users/jluebeck/Dropbox/BafnaLab/ecDNA/AA_resu...  \n",
       "53  /Users/jluebeck/Dropbox/BafnaLab/ecDNA/AA_resu...  \n",
       "54  /Users/jluebeck/Dropbox/BafnaLab/ecDNA/AA_resu...  \n",
       "55  /Users/jluebeck/Dropbox/BafnaLab/ecDNA/AA_resu...  \n",
       "56  /Users/jluebeck/Dropbox/BafnaLab/ecDNA/AA_resu...  \n",
       "57  /Users/jluebeck/Dropbox/BafnaLab/ecDNA/AA_resu...  "
      ]
     },
     "execution_count": 6,
     "metadata": {},
     "output_type": "execute_result"
    }
   ],
   "source": [
    "newdata = pd.read_csv('Contino_102622/contino_ac_102622/Contino_result_table.tsv', sep='\\t', header=0)\n",
    "newdata"
   ]
  },
  {
   "cell_type": "code",
   "execution_count": 7,
   "metadata": {},
   "outputs": [
    {
     "name": "stdout",
     "output_type": "stream",
     "text": [
      "{'ESO26': {'BFB', 'Complex non-cyclic'}, 'ESO51': {'Linear amplification', 'ecDNA', 'BFB', 'Complex non-cyclic'}, 'FLO-1': {'Linear amplification', 'ecDNA', 'Complex non-cyclic'}, 'JH-EsoAd1': {'ecDNA', 'Complex non-cyclic'}, 'OACM5.1': {'ecDNA'}, 'OACP4-C': {'Linear amplification', 'Complex non-cyclic', 'ecDNA'}, 'OE33': {'Linear amplification', 'BFB', 'ecDNA'}, 'SK-GT-4': {'Linear amplification', 'Complex non-cyclic'}}\n"
     ]
    },
    {
     "data": {
      "text/html": [
       "<div>\n",
       "<style scoped>\n",
       "    .dataframe tbody tr th:only-of-type {\n",
       "        vertical-align: middle;\n",
       "    }\n",
       "\n",
       "    .dataframe tbody tr th {\n",
       "        vertical-align: top;\n",
       "    }\n",
       "\n",
       "    .dataframe thead th {\n",
       "        text-align: right;\n",
       "    }\n",
       "</style>\n",
       "<table border=\"1\" class=\"dataframe\">\n",
       "  <thead>\n",
       "    <tr style=\"text-align: right;\">\n",
       "      <th></th>\n",
       "      <th>Sample name</th>\n",
       "      <th>Classification</th>\n",
       "    </tr>\n",
       "  </thead>\n",
       "  <tbody>\n",
       "    <tr>\n",
       "      <th>0</th>\n",
       "      <td>ESO26</td>\n",
       "      <td>BFB</td>\n",
       "    </tr>\n",
       "    <tr>\n",
       "      <th>1</th>\n",
       "      <td>ESO26</td>\n",
       "      <td>BFB</td>\n",
       "    </tr>\n",
       "    <tr>\n",
       "      <th>2</th>\n",
       "      <td>ESO26</td>\n",
       "      <td>Complex non-cyclic</td>\n",
       "    </tr>\n",
       "    <tr>\n",
       "      <th>3</th>\n",
       "      <td>ESO26</td>\n",
       "      <td>BFB</td>\n",
       "    </tr>\n",
       "    <tr>\n",
       "      <th>4</th>\n",
       "      <td>ESO26</td>\n",
       "      <td>BFB</td>\n",
       "    </tr>\n",
       "    <tr>\n",
       "      <th>5</th>\n",
       "      <td>ESO51</td>\n",
       "      <td>Complex non-cyclic</td>\n",
       "    </tr>\n",
       "    <tr>\n",
       "      <th>6</th>\n",
       "      <td>ESO51</td>\n",
       "      <td>Linear amplification</td>\n",
       "    </tr>\n",
       "    <tr>\n",
       "      <th>7</th>\n",
       "      <td>ESO51</td>\n",
       "      <td>Complex non-cyclic</td>\n",
       "    </tr>\n",
       "    <tr>\n",
       "      <th>8</th>\n",
       "      <td>ESO51</td>\n",
       "      <td>ecDNA</td>\n",
       "    </tr>\n",
       "    <tr>\n",
       "      <th>9</th>\n",
       "      <td>ESO51</td>\n",
       "      <td>Complex non-cyclic</td>\n",
       "    </tr>\n",
       "    <tr>\n",
       "      <th>10</th>\n",
       "      <td>ESO51</td>\n",
       "      <td>BFB</td>\n",
       "    </tr>\n",
       "    <tr>\n",
       "      <th>11</th>\n",
       "      <td>ESO51</td>\n",
       "      <td>Linear amplification</td>\n",
       "    </tr>\n",
       "    <tr>\n",
       "      <th>12</th>\n",
       "      <td>ESO51</td>\n",
       "      <td>Linear amplification</td>\n",
       "    </tr>\n",
       "    <tr>\n",
       "      <th>13</th>\n",
       "      <td>ESO51</td>\n",
       "      <td>ecDNA</td>\n",
       "    </tr>\n",
       "    <tr>\n",
       "      <th>14</th>\n",
       "      <td>FLO-1</td>\n",
       "      <td>Complex non-cyclic</td>\n",
       "    </tr>\n",
       "    <tr>\n",
       "      <th>15</th>\n",
       "      <td>FLO-1</td>\n",
       "      <td>Linear amplification</td>\n",
       "    </tr>\n",
       "    <tr>\n",
       "      <th>16</th>\n",
       "      <td>FLO-1</td>\n",
       "      <td>ecDNA</td>\n",
       "    </tr>\n",
       "    <tr>\n",
       "      <th>17</th>\n",
       "      <td>FLO-1</td>\n",
       "      <td>ecDNA</td>\n",
       "    </tr>\n",
       "    <tr>\n",
       "      <th>18</th>\n",
       "      <td>JH-EsoAd1</td>\n",
       "      <td>Complex non-cyclic</td>\n",
       "    </tr>\n",
       "    <tr>\n",
       "      <th>19</th>\n",
       "      <td>JH-EsoAd1</td>\n",
       "      <td>ecDNA</td>\n",
       "    </tr>\n",
       "    <tr>\n",
       "      <th>20</th>\n",
       "      <td>JH-EsoAd1</td>\n",
       "      <td>ecDNA</td>\n",
       "    </tr>\n",
       "    <tr>\n",
       "      <th>21</th>\n",
       "      <td>JH-EsoAd1</td>\n",
       "      <td>ecDNA</td>\n",
       "    </tr>\n",
       "    <tr>\n",
       "      <th>22</th>\n",
       "      <td>JH-EsoAd1</td>\n",
       "      <td>ecDNA</td>\n",
       "    </tr>\n",
       "    <tr>\n",
       "      <th>23</th>\n",
       "      <td>JH-EsoAd1</td>\n",
       "      <td>ecDNA</td>\n",
       "    </tr>\n",
       "    <tr>\n",
       "      <th>24</th>\n",
       "      <td>OACM5.1</td>\n",
       "      <td>ecDNA</td>\n",
       "    </tr>\n",
       "    <tr>\n",
       "      <th>25</th>\n",
       "      <td>OACP4-C</td>\n",
       "      <td>ecDNA</td>\n",
       "    </tr>\n",
       "    <tr>\n",
       "      <th>26</th>\n",
       "      <td>OACP4-C</td>\n",
       "      <td>Complex non-cyclic</td>\n",
       "    </tr>\n",
       "    <tr>\n",
       "      <th>27</th>\n",
       "      <td>OACP4-C</td>\n",
       "      <td>ecDNA</td>\n",
       "    </tr>\n",
       "    <tr>\n",
       "      <th>28</th>\n",
       "      <td>OACP4-C</td>\n",
       "      <td>ecDNA</td>\n",
       "    </tr>\n",
       "    <tr>\n",
       "      <th>29</th>\n",
       "      <td>OACP4-C</td>\n",
       "      <td>ecDNA</td>\n",
       "    </tr>\n",
       "    <tr>\n",
       "      <th>30</th>\n",
       "      <td>OACP4-C</td>\n",
       "      <td>Complex non-cyclic</td>\n",
       "    </tr>\n",
       "    <tr>\n",
       "      <th>31</th>\n",
       "      <td>OACP4-C</td>\n",
       "      <td>Linear amplification</td>\n",
       "    </tr>\n",
       "    <tr>\n",
       "      <th>32</th>\n",
       "      <td>OACP4-C</td>\n",
       "      <td>ecDNA</td>\n",
       "    </tr>\n",
       "    <tr>\n",
       "      <th>33</th>\n",
       "      <td>OACP4-C</td>\n",
       "      <td>ecDNA</td>\n",
       "    </tr>\n",
       "    <tr>\n",
       "      <th>34</th>\n",
       "      <td>OACP4-C</td>\n",
       "      <td>Linear amplification</td>\n",
       "    </tr>\n",
       "    <tr>\n",
       "      <th>35</th>\n",
       "      <td>OACP4-C</td>\n",
       "      <td>ecDNA</td>\n",
       "    </tr>\n",
       "    <tr>\n",
       "      <th>36</th>\n",
       "      <td>OACP4-C</td>\n",
       "      <td>ecDNA</td>\n",
       "    </tr>\n",
       "    <tr>\n",
       "      <th>37</th>\n",
       "      <td>OACP4-C</td>\n",
       "      <td>Linear amplification</td>\n",
       "    </tr>\n",
       "    <tr>\n",
       "      <th>38</th>\n",
       "      <td>OACP4-C</td>\n",
       "      <td>Linear amplification</td>\n",
       "    </tr>\n",
       "    <tr>\n",
       "      <th>39</th>\n",
       "      <td>OACP4-C</td>\n",
       "      <td>ecDNA</td>\n",
       "    </tr>\n",
       "    <tr>\n",
       "      <th>40</th>\n",
       "      <td>OACP4-C</td>\n",
       "      <td>ecDNA</td>\n",
       "    </tr>\n",
       "    <tr>\n",
       "      <th>41</th>\n",
       "      <td>OACP4-C</td>\n",
       "      <td>Linear amplification</td>\n",
       "    </tr>\n",
       "    <tr>\n",
       "      <th>42</th>\n",
       "      <td>OACP4-C</td>\n",
       "      <td>ecDNA</td>\n",
       "    </tr>\n",
       "    <tr>\n",
       "      <th>43</th>\n",
       "      <td>OACP4-C</td>\n",
       "      <td>ecDNA</td>\n",
       "    </tr>\n",
       "    <tr>\n",
       "      <th>44</th>\n",
       "      <td>OACP4-C</td>\n",
       "      <td>ecDNA</td>\n",
       "    </tr>\n",
       "    <tr>\n",
       "      <th>45</th>\n",
       "      <td>OACP4-C</td>\n",
       "      <td>ecDNA</td>\n",
       "    </tr>\n",
       "    <tr>\n",
       "      <th>46</th>\n",
       "      <td>OACP4-C</td>\n",
       "      <td>ecDNA</td>\n",
       "    </tr>\n",
       "    <tr>\n",
       "      <th>47</th>\n",
       "      <td>OACP4-C</td>\n",
       "      <td>ecDNA</td>\n",
       "    </tr>\n",
       "    <tr>\n",
       "      <th>48</th>\n",
       "      <td>OACP4-C</td>\n",
       "      <td>Linear amplification</td>\n",
       "    </tr>\n",
       "    <tr>\n",
       "      <th>49</th>\n",
       "      <td>OACP4-C</td>\n",
       "      <td>ecDNA</td>\n",
       "    </tr>\n",
       "    <tr>\n",
       "      <th>50</th>\n",
       "      <td>OACP4-C</td>\n",
       "      <td>ecDNA</td>\n",
       "    </tr>\n",
       "    <tr>\n",
       "      <th>51</th>\n",
       "      <td>OACP4-C</td>\n",
       "      <td>ecDNA</td>\n",
       "    </tr>\n",
       "    <tr>\n",
       "      <th>52</th>\n",
       "      <td>OE33</td>\n",
       "      <td>ecDNA</td>\n",
       "    </tr>\n",
       "    <tr>\n",
       "      <th>53</th>\n",
       "      <td>OE33</td>\n",
       "      <td>Linear amplification</td>\n",
       "    </tr>\n",
       "    <tr>\n",
       "      <th>54</th>\n",
       "      <td>OE33</td>\n",
       "      <td>ecDNA</td>\n",
       "    </tr>\n",
       "    <tr>\n",
       "      <th>55</th>\n",
       "      <td>OE33</td>\n",
       "      <td>BFB</td>\n",
       "    </tr>\n",
       "    <tr>\n",
       "      <th>56</th>\n",
       "      <td>SK-GT-4</td>\n",
       "      <td>Linear amplification</td>\n",
       "    </tr>\n",
       "    <tr>\n",
       "      <th>57</th>\n",
       "      <td>SK-GT-4</td>\n",
       "      <td>Complex non-cyclic</td>\n",
       "    </tr>\n",
       "  </tbody>\n",
       "</table>\n",
       "</div>"
      ],
      "text/plain": [
       "   Sample name        Classification\n",
       "0        ESO26                   BFB\n",
       "1        ESO26                   BFB\n",
       "2        ESO26    Complex non-cyclic\n",
       "3        ESO26                   BFB\n",
       "4        ESO26                   BFB\n",
       "5        ESO51    Complex non-cyclic\n",
       "6        ESO51  Linear amplification\n",
       "7        ESO51    Complex non-cyclic\n",
       "8        ESO51                 ecDNA\n",
       "9        ESO51    Complex non-cyclic\n",
       "10       ESO51                   BFB\n",
       "11       ESO51  Linear amplification\n",
       "12       ESO51  Linear amplification\n",
       "13       ESO51                 ecDNA\n",
       "14       FLO-1    Complex non-cyclic\n",
       "15       FLO-1  Linear amplification\n",
       "16       FLO-1                 ecDNA\n",
       "17       FLO-1                 ecDNA\n",
       "18   JH-EsoAd1    Complex non-cyclic\n",
       "19   JH-EsoAd1                 ecDNA\n",
       "20   JH-EsoAd1                 ecDNA\n",
       "21   JH-EsoAd1                 ecDNA\n",
       "22   JH-EsoAd1                 ecDNA\n",
       "23   JH-EsoAd1                 ecDNA\n",
       "24     OACM5.1                 ecDNA\n",
       "25     OACP4-C                 ecDNA\n",
       "26     OACP4-C    Complex non-cyclic\n",
       "27     OACP4-C                 ecDNA\n",
       "28     OACP4-C                 ecDNA\n",
       "29     OACP4-C                 ecDNA\n",
       "30     OACP4-C    Complex non-cyclic\n",
       "31     OACP4-C  Linear amplification\n",
       "32     OACP4-C                 ecDNA\n",
       "33     OACP4-C                 ecDNA\n",
       "34     OACP4-C  Linear amplification\n",
       "35     OACP4-C                 ecDNA\n",
       "36     OACP4-C                 ecDNA\n",
       "37     OACP4-C  Linear amplification\n",
       "38     OACP4-C  Linear amplification\n",
       "39     OACP4-C                 ecDNA\n",
       "40     OACP4-C                 ecDNA\n",
       "41     OACP4-C  Linear amplification\n",
       "42     OACP4-C                 ecDNA\n",
       "43     OACP4-C                 ecDNA\n",
       "44     OACP4-C                 ecDNA\n",
       "45     OACP4-C                 ecDNA\n",
       "46     OACP4-C                 ecDNA\n",
       "47     OACP4-C                 ecDNA\n",
       "48     OACP4-C  Linear amplification\n",
       "49     OACP4-C                 ecDNA\n",
       "50     OACP4-C                 ecDNA\n",
       "51     OACP4-C                 ecDNA\n",
       "52        OE33                 ecDNA\n",
       "53        OE33  Linear amplification\n",
       "54        OE33                 ecDNA\n",
       "55        OE33                   BFB\n",
       "56     SK-GT-4  Linear amplification\n",
       "57     SK-GT-4    Complex non-cyclic"
      ]
     },
     "execution_count": 7,
     "metadata": {},
     "output_type": "execute_result"
    }
   ],
   "source": [
    "newdata2 = newdata[['Sample name', 'Classification']]\n",
    "table = {}\n",
    "for key in list(newdata2['Sample name'].unique()):\n",
    "  table[key] = set()\n",
    "for ind in newdata2.index:\n",
    "  table[newdata2['Sample name'][ind]].add(newdata2['Classification'][ind])\n",
    "\n",
    "print(table)\n",
    "\n",
    "newdata2\n",
    "\n"
   ]
  },
  {
   "cell_type": "code",
   "execution_count": 8,
   "metadata": {},
   "outputs": [
    {
     "data": {
      "text/html": [
       "<div>\n",
       "<style scoped>\n",
       "    .dataframe tbody tr th:only-of-type {\n",
       "        vertical-align: middle;\n",
       "    }\n",
       "\n",
       "    .dataframe tbody tr th {\n",
       "        vertical-align: top;\n",
       "    }\n",
       "\n",
       "    .dataframe thead th {\n",
       "        text-align: right;\n",
       "    }\n",
       "</style>\n",
       "<table border=\"1\" class=\"dataframe\">\n",
       "  <thead>\n",
       "    <tr style=\"text-align: right;\">\n",
       "      <th></th>\n",
       "      <th>id</th>\n",
       "      <th>value</th>\n",
       "    </tr>\n",
       "  </thead>\n",
       "  <tbody>\n",
       "    <tr>\n",
       "      <th>0</th>\n",
       "      <td>ESO26</td>\n",
       "      <td>BFB</td>\n",
       "    </tr>\n",
       "    <tr>\n",
       "      <th>1</th>\n",
       "      <td>ESO26</td>\n",
       "      <td>Complex non-cyclic</td>\n",
       "    </tr>\n",
       "    <tr>\n",
       "      <th>4</th>\n",
       "      <td>ESO51</td>\n",
       "      <td>Linear amplification</td>\n",
       "    </tr>\n",
       "    <tr>\n",
       "      <th>5</th>\n",
       "      <td>ESO51</td>\n",
       "      <td>ecDNA</td>\n",
       "    </tr>\n",
       "    <tr>\n",
       "      <th>6</th>\n",
       "      <td>ESO51</td>\n",
       "      <td>BFB</td>\n",
       "    </tr>\n",
       "    <tr>\n",
       "      <th>7</th>\n",
       "      <td>ESO51</td>\n",
       "      <td>Complex non-cyclic</td>\n",
       "    </tr>\n",
       "    <tr>\n",
       "      <th>8</th>\n",
       "      <td>FLO-1</td>\n",
       "      <td>Linear amplification</td>\n",
       "    </tr>\n",
       "    <tr>\n",
       "      <th>9</th>\n",
       "      <td>FLO-1</td>\n",
       "      <td>ecDNA</td>\n",
       "    </tr>\n",
       "    <tr>\n",
       "      <th>10</th>\n",
       "      <td>FLO-1</td>\n",
       "      <td>Complex non-cyclic</td>\n",
       "    </tr>\n",
       "    <tr>\n",
       "      <th>12</th>\n",
       "      <td>JH-EsoAd1</td>\n",
       "      <td>ecDNA</td>\n",
       "    </tr>\n",
       "    <tr>\n",
       "      <th>13</th>\n",
       "      <td>JH-EsoAd1</td>\n",
       "      <td>Complex non-cyclic</td>\n",
       "    </tr>\n",
       "    <tr>\n",
       "      <th>16</th>\n",
       "      <td>OACM5.1</td>\n",
       "      <td>ecDNA</td>\n",
       "    </tr>\n",
       "    <tr>\n",
       "      <th>20</th>\n",
       "      <td>OACP4-C</td>\n",
       "      <td>Linear amplification</td>\n",
       "    </tr>\n",
       "    <tr>\n",
       "      <th>21</th>\n",
       "      <td>OACP4-C</td>\n",
       "      <td>Complex non-cyclic</td>\n",
       "    </tr>\n",
       "    <tr>\n",
       "      <th>22</th>\n",
       "      <td>OACP4-C</td>\n",
       "      <td>ecDNA</td>\n",
       "    </tr>\n",
       "    <tr>\n",
       "      <th>24</th>\n",
       "      <td>OE33</td>\n",
       "      <td>Linear amplification</td>\n",
       "    </tr>\n",
       "    <tr>\n",
       "      <th>25</th>\n",
       "      <td>OE33</td>\n",
       "      <td>BFB</td>\n",
       "    </tr>\n",
       "    <tr>\n",
       "      <th>26</th>\n",
       "      <td>OE33</td>\n",
       "      <td>ecDNA</td>\n",
       "    </tr>\n",
       "    <tr>\n",
       "      <th>28</th>\n",
       "      <td>SK-GT-4</td>\n",
       "      <td>Linear amplification</td>\n",
       "    </tr>\n",
       "    <tr>\n",
       "      <th>29</th>\n",
       "      <td>SK-GT-4</td>\n",
       "      <td>Complex non-cyclic</td>\n",
       "    </tr>\n",
       "  </tbody>\n",
       "</table>\n",
       "</div>"
      ],
      "text/plain": [
       "           id                 value\n",
       "0       ESO26                   BFB\n",
       "1       ESO26    Complex non-cyclic\n",
       "4       ESO51  Linear amplification\n",
       "5       ESO51                 ecDNA\n",
       "6       ESO51                   BFB\n",
       "7       ESO51    Complex non-cyclic\n",
       "8       FLO-1  Linear amplification\n",
       "9       FLO-1                 ecDNA\n",
       "10      FLO-1    Complex non-cyclic\n",
       "12  JH-EsoAd1                 ecDNA\n",
       "13  JH-EsoAd1    Complex non-cyclic\n",
       "16    OACM5.1                 ecDNA\n",
       "20    OACP4-C  Linear amplification\n",
       "21    OACP4-C    Complex non-cyclic\n",
       "22    OACP4-C                 ecDNA\n",
       "24       OE33  Linear amplification\n",
       "25       OE33                   BFB\n",
       "26       OE33                 ecDNA\n",
       "28    SK-GT-4  Linear amplification\n",
       "29    SK-GT-4    Complex non-cyclic"
      ]
     },
     "execution_count": 8,
     "metadata": {},
     "output_type": "execute_result"
    }
   ],
   "source": [
    "newdata3 = pd.DataFrame.from_dict(table, orient='index').T.melt(var_name='id', value_name='value').dropna(subset=['value'])\n",
    "newdata3"
   ]
  },
  {
   "cell_type": "code",
   "execution_count": 9,
   "metadata": {},
   "outputs": [
    {
     "data": {
      "application/vnd.plotly.v1+json": {
       "config": {
        "plotlyServerURL": "https://plot.ly"
       },
       "data": [
        {
         "alignmentgroup": "True",
         "hovertemplate": "Sample name=%{x}<br>Classification=%{y}<extra></extra>",
         "legendgroup": "",
         "marker": {
          "color": "#636efa",
          "pattern": {
           "shape": ""
          }
         },
         "name": "",
         "offsetgroup": "",
         "orientation": "v",
         "showlegend": false,
         "textposition": "auto",
         "type": "bar",
         "x": [
          "ESO26",
          "ESO26",
          "ESO26",
          "ESO26",
          "ESO26",
          "ESO51",
          "ESO51",
          "ESO51",
          "ESO51",
          "ESO51",
          "ESO51",
          "ESO51",
          "ESO51",
          "ESO51",
          "FLO-1",
          "FLO-1",
          "FLO-1",
          "FLO-1",
          "JH-EsoAd1",
          "JH-EsoAd1",
          "JH-EsoAd1",
          "JH-EsoAd1",
          "JH-EsoAd1",
          "JH-EsoAd1",
          "OACM5.1",
          "OACP4-C",
          "OACP4-C",
          "OACP4-C",
          "OACP4-C",
          "OACP4-C",
          "OACP4-C",
          "OACP4-C",
          "OACP4-C",
          "OACP4-C",
          "OACP4-C",
          "OACP4-C",
          "OACP4-C",
          "OACP4-C",
          "OACP4-C",
          "OACP4-C",
          "OACP4-C",
          "OACP4-C",
          "OACP4-C",
          "OACP4-C",
          "OACP4-C",
          "OACP4-C",
          "OACP4-C",
          "OACP4-C",
          "OACP4-C",
          "OACP4-C",
          "OACP4-C",
          "OACP4-C",
          "OE33",
          "OE33",
          "OE33",
          "OE33",
          "SK-GT-4",
          "SK-GT-4"
         ],
         "xaxis": "x",
         "y": [
          "BFB",
          "BFB",
          "Complex non-cyclic",
          "BFB",
          "BFB",
          "Complex non-cyclic",
          "Linear amplification",
          "Complex non-cyclic",
          "ecDNA",
          "Complex non-cyclic",
          "BFB",
          "Linear amplification",
          "Linear amplification",
          "ecDNA",
          "Complex non-cyclic",
          "Linear amplification",
          "ecDNA",
          "ecDNA",
          "Complex non-cyclic",
          "ecDNA",
          "ecDNA",
          "ecDNA",
          "ecDNA",
          "ecDNA",
          "ecDNA",
          "ecDNA",
          "Complex non-cyclic",
          "ecDNA",
          "ecDNA",
          "ecDNA",
          "Complex non-cyclic",
          "Linear amplification",
          "ecDNA",
          "ecDNA",
          "Linear amplification",
          "ecDNA",
          "ecDNA",
          "Linear amplification",
          "Linear amplification",
          "ecDNA",
          "ecDNA",
          "Linear amplification",
          "ecDNA",
          "ecDNA",
          "ecDNA",
          "ecDNA",
          "ecDNA",
          "ecDNA",
          "Linear amplification",
          "ecDNA",
          "ecDNA",
          "ecDNA",
          "ecDNA",
          "Linear amplification",
          "ecDNA",
          "BFB",
          "Linear amplification",
          "Complex non-cyclic"
         ],
         "yaxis": "y"
        }
       ],
       "layout": {
        "barmode": "relative",
        "legend": {
         "tracegroupgap": 0
        },
        "template": {
         "data": {
          "bar": [
           {
            "error_x": {
             "color": "#2a3f5f"
            },
            "error_y": {
             "color": "#2a3f5f"
            },
            "marker": {
             "line": {
              "color": "#E5ECF6",
              "width": 0.5
             },
             "pattern": {
              "fillmode": "overlay",
              "size": 10,
              "solidity": 0.2
             }
            },
            "type": "bar"
           }
          ],
          "barpolar": [
           {
            "marker": {
             "line": {
              "color": "#E5ECF6",
              "width": 0.5
             },
             "pattern": {
              "fillmode": "overlay",
              "size": 10,
              "solidity": 0.2
             }
            },
            "type": "barpolar"
           }
          ],
          "carpet": [
           {
            "aaxis": {
             "endlinecolor": "#2a3f5f",
             "gridcolor": "white",
             "linecolor": "white",
             "minorgridcolor": "white",
             "startlinecolor": "#2a3f5f"
            },
            "baxis": {
             "endlinecolor": "#2a3f5f",
             "gridcolor": "white",
             "linecolor": "white",
             "minorgridcolor": "white",
             "startlinecolor": "#2a3f5f"
            },
            "type": "carpet"
           }
          ],
          "choropleth": [
           {
            "colorbar": {
             "outlinewidth": 0,
             "ticks": ""
            },
            "type": "choropleth"
           }
          ],
          "contour": [
           {
            "colorbar": {
             "outlinewidth": 0,
             "ticks": ""
            },
            "colorscale": [
             [
              0,
              "#0d0887"
             ],
             [
              0.1111111111111111,
              "#46039f"
             ],
             [
              0.2222222222222222,
              "#7201a8"
             ],
             [
              0.3333333333333333,
              "#9c179e"
             ],
             [
              0.4444444444444444,
              "#bd3786"
             ],
             [
              0.5555555555555556,
              "#d8576b"
             ],
             [
              0.6666666666666666,
              "#ed7953"
             ],
             [
              0.7777777777777778,
              "#fb9f3a"
             ],
             [
              0.8888888888888888,
              "#fdca26"
             ],
             [
              1,
              "#f0f921"
             ]
            ],
            "type": "contour"
           }
          ],
          "contourcarpet": [
           {
            "colorbar": {
             "outlinewidth": 0,
             "ticks": ""
            },
            "type": "contourcarpet"
           }
          ],
          "heatmap": [
           {
            "colorbar": {
             "outlinewidth": 0,
             "ticks": ""
            },
            "colorscale": [
             [
              0,
              "#0d0887"
             ],
             [
              0.1111111111111111,
              "#46039f"
             ],
             [
              0.2222222222222222,
              "#7201a8"
             ],
             [
              0.3333333333333333,
              "#9c179e"
             ],
             [
              0.4444444444444444,
              "#bd3786"
             ],
             [
              0.5555555555555556,
              "#d8576b"
             ],
             [
              0.6666666666666666,
              "#ed7953"
             ],
             [
              0.7777777777777778,
              "#fb9f3a"
             ],
             [
              0.8888888888888888,
              "#fdca26"
             ],
             [
              1,
              "#f0f921"
             ]
            ],
            "type": "heatmap"
           }
          ],
          "heatmapgl": [
           {
            "colorbar": {
             "outlinewidth": 0,
             "ticks": ""
            },
            "colorscale": [
             [
              0,
              "#0d0887"
             ],
             [
              0.1111111111111111,
              "#46039f"
             ],
             [
              0.2222222222222222,
              "#7201a8"
             ],
             [
              0.3333333333333333,
              "#9c179e"
             ],
             [
              0.4444444444444444,
              "#bd3786"
             ],
             [
              0.5555555555555556,
              "#d8576b"
             ],
             [
              0.6666666666666666,
              "#ed7953"
             ],
             [
              0.7777777777777778,
              "#fb9f3a"
             ],
             [
              0.8888888888888888,
              "#fdca26"
             ],
             [
              1,
              "#f0f921"
             ]
            ],
            "type": "heatmapgl"
           }
          ],
          "histogram": [
           {
            "marker": {
             "pattern": {
              "fillmode": "overlay",
              "size": 10,
              "solidity": 0.2
             }
            },
            "type": "histogram"
           }
          ],
          "histogram2d": [
           {
            "colorbar": {
             "outlinewidth": 0,
             "ticks": ""
            },
            "colorscale": [
             [
              0,
              "#0d0887"
             ],
             [
              0.1111111111111111,
              "#46039f"
             ],
             [
              0.2222222222222222,
              "#7201a8"
             ],
             [
              0.3333333333333333,
              "#9c179e"
             ],
             [
              0.4444444444444444,
              "#bd3786"
             ],
             [
              0.5555555555555556,
              "#d8576b"
             ],
             [
              0.6666666666666666,
              "#ed7953"
             ],
             [
              0.7777777777777778,
              "#fb9f3a"
             ],
             [
              0.8888888888888888,
              "#fdca26"
             ],
             [
              1,
              "#f0f921"
             ]
            ],
            "type": "histogram2d"
           }
          ],
          "histogram2dcontour": [
           {
            "colorbar": {
             "outlinewidth": 0,
             "ticks": ""
            },
            "colorscale": [
             [
              0,
              "#0d0887"
             ],
             [
              0.1111111111111111,
              "#46039f"
             ],
             [
              0.2222222222222222,
              "#7201a8"
             ],
             [
              0.3333333333333333,
              "#9c179e"
             ],
             [
              0.4444444444444444,
              "#bd3786"
             ],
             [
              0.5555555555555556,
              "#d8576b"
             ],
             [
              0.6666666666666666,
              "#ed7953"
             ],
             [
              0.7777777777777778,
              "#fb9f3a"
             ],
             [
              0.8888888888888888,
              "#fdca26"
             ],
             [
              1,
              "#f0f921"
             ]
            ],
            "type": "histogram2dcontour"
           }
          ],
          "mesh3d": [
           {
            "colorbar": {
             "outlinewidth": 0,
             "ticks": ""
            },
            "type": "mesh3d"
           }
          ],
          "parcoords": [
           {
            "line": {
             "colorbar": {
              "outlinewidth": 0,
              "ticks": ""
             }
            },
            "type": "parcoords"
           }
          ],
          "pie": [
           {
            "automargin": true,
            "type": "pie"
           }
          ],
          "scatter": [
           {
            "fillpattern": {
             "fillmode": "overlay",
             "size": 10,
             "solidity": 0.2
            },
            "type": "scatter"
           }
          ],
          "scatter3d": [
           {
            "line": {
             "colorbar": {
              "outlinewidth": 0,
              "ticks": ""
             }
            },
            "marker": {
             "colorbar": {
              "outlinewidth": 0,
              "ticks": ""
             }
            },
            "type": "scatter3d"
           }
          ],
          "scattercarpet": [
           {
            "marker": {
             "colorbar": {
              "outlinewidth": 0,
              "ticks": ""
             }
            },
            "type": "scattercarpet"
           }
          ],
          "scattergeo": [
           {
            "marker": {
             "colorbar": {
              "outlinewidth": 0,
              "ticks": ""
             }
            },
            "type": "scattergeo"
           }
          ],
          "scattergl": [
           {
            "marker": {
             "colorbar": {
              "outlinewidth": 0,
              "ticks": ""
             }
            },
            "type": "scattergl"
           }
          ],
          "scattermapbox": [
           {
            "marker": {
             "colorbar": {
              "outlinewidth": 0,
              "ticks": ""
             }
            },
            "type": "scattermapbox"
           }
          ],
          "scatterpolar": [
           {
            "marker": {
             "colorbar": {
              "outlinewidth": 0,
              "ticks": ""
             }
            },
            "type": "scatterpolar"
           }
          ],
          "scatterpolargl": [
           {
            "marker": {
             "colorbar": {
              "outlinewidth": 0,
              "ticks": ""
             }
            },
            "type": "scatterpolargl"
           }
          ],
          "scatterternary": [
           {
            "marker": {
             "colorbar": {
              "outlinewidth": 0,
              "ticks": ""
             }
            },
            "type": "scatterternary"
           }
          ],
          "surface": [
           {
            "colorbar": {
             "outlinewidth": 0,
             "ticks": ""
            },
            "colorscale": [
             [
              0,
              "#0d0887"
             ],
             [
              0.1111111111111111,
              "#46039f"
             ],
             [
              0.2222222222222222,
              "#7201a8"
             ],
             [
              0.3333333333333333,
              "#9c179e"
             ],
             [
              0.4444444444444444,
              "#bd3786"
             ],
             [
              0.5555555555555556,
              "#d8576b"
             ],
             [
              0.6666666666666666,
              "#ed7953"
             ],
             [
              0.7777777777777778,
              "#fb9f3a"
             ],
             [
              0.8888888888888888,
              "#fdca26"
             ],
             [
              1,
              "#f0f921"
             ]
            ],
            "type": "surface"
           }
          ],
          "table": [
           {
            "cells": {
             "fill": {
              "color": "#EBF0F8"
             },
             "line": {
              "color": "white"
             }
            },
            "header": {
             "fill": {
              "color": "#C8D4E3"
             },
             "line": {
              "color": "white"
             }
            },
            "type": "table"
           }
          ]
         },
         "layout": {
          "annotationdefaults": {
           "arrowcolor": "#2a3f5f",
           "arrowhead": 0,
           "arrowwidth": 1
          },
          "autotypenumbers": "strict",
          "coloraxis": {
           "colorbar": {
            "outlinewidth": 0,
            "ticks": ""
           }
          },
          "colorscale": {
           "diverging": [
            [
             0,
             "#8e0152"
            ],
            [
             0.1,
             "#c51b7d"
            ],
            [
             0.2,
             "#de77ae"
            ],
            [
             0.3,
             "#f1b6da"
            ],
            [
             0.4,
             "#fde0ef"
            ],
            [
             0.5,
             "#f7f7f7"
            ],
            [
             0.6,
             "#e6f5d0"
            ],
            [
             0.7,
             "#b8e186"
            ],
            [
             0.8,
             "#7fbc41"
            ],
            [
             0.9,
             "#4d9221"
            ],
            [
             1,
             "#276419"
            ]
           ],
           "sequential": [
            [
             0,
             "#0d0887"
            ],
            [
             0.1111111111111111,
             "#46039f"
            ],
            [
             0.2222222222222222,
             "#7201a8"
            ],
            [
             0.3333333333333333,
             "#9c179e"
            ],
            [
             0.4444444444444444,
             "#bd3786"
            ],
            [
             0.5555555555555556,
             "#d8576b"
            ],
            [
             0.6666666666666666,
             "#ed7953"
            ],
            [
             0.7777777777777778,
             "#fb9f3a"
            ],
            [
             0.8888888888888888,
             "#fdca26"
            ],
            [
             1,
             "#f0f921"
            ]
           ],
           "sequentialminus": [
            [
             0,
             "#0d0887"
            ],
            [
             0.1111111111111111,
             "#46039f"
            ],
            [
             0.2222222222222222,
             "#7201a8"
            ],
            [
             0.3333333333333333,
             "#9c179e"
            ],
            [
             0.4444444444444444,
             "#bd3786"
            ],
            [
             0.5555555555555556,
             "#d8576b"
            ],
            [
             0.6666666666666666,
             "#ed7953"
            ],
            [
             0.7777777777777778,
             "#fb9f3a"
            ],
            [
             0.8888888888888888,
             "#fdca26"
            ],
            [
             1,
             "#f0f921"
            ]
           ]
          },
          "colorway": [
           "#636efa",
           "#EF553B",
           "#00cc96",
           "#ab63fa",
           "#FFA15A",
           "#19d3f3",
           "#FF6692",
           "#B6E880",
           "#FF97FF",
           "#FECB52"
          ],
          "font": {
           "color": "#2a3f5f"
          },
          "geo": {
           "bgcolor": "white",
           "lakecolor": "white",
           "landcolor": "#E5ECF6",
           "showlakes": true,
           "showland": true,
           "subunitcolor": "white"
          },
          "hoverlabel": {
           "align": "left"
          },
          "hovermode": "closest",
          "mapbox": {
           "style": "light"
          },
          "paper_bgcolor": "white",
          "plot_bgcolor": "#E5ECF6",
          "polar": {
           "angularaxis": {
            "gridcolor": "white",
            "linecolor": "white",
            "ticks": ""
           },
           "bgcolor": "#E5ECF6",
           "radialaxis": {
            "gridcolor": "white",
            "linecolor": "white",
            "ticks": ""
           }
          },
          "scene": {
           "xaxis": {
            "backgroundcolor": "#E5ECF6",
            "gridcolor": "white",
            "gridwidth": 2,
            "linecolor": "white",
            "showbackground": true,
            "ticks": "",
            "zerolinecolor": "white"
           },
           "yaxis": {
            "backgroundcolor": "#E5ECF6",
            "gridcolor": "white",
            "gridwidth": 2,
            "linecolor": "white",
            "showbackground": true,
            "ticks": "",
            "zerolinecolor": "white"
           },
           "zaxis": {
            "backgroundcolor": "#E5ECF6",
            "gridcolor": "white",
            "gridwidth": 2,
            "linecolor": "white",
            "showbackground": true,
            "ticks": "",
            "zerolinecolor": "white"
           }
          },
          "shapedefaults": {
           "line": {
            "color": "#2a3f5f"
           }
          },
          "ternary": {
           "aaxis": {
            "gridcolor": "white",
            "linecolor": "white",
            "ticks": ""
           },
           "baxis": {
            "gridcolor": "white",
            "linecolor": "white",
            "ticks": ""
           },
           "bgcolor": "#E5ECF6",
           "caxis": {
            "gridcolor": "white",
            "linecolor": "white",
            "ticks": ""
           }
          },
          "title": {
           "x": 0.05
          },
          "xaxis": {
           "automargin": true,
           "gridcolor": "white",
           "linecolor": "white",
           "ticks": "",
           "title": {
            "standoff": 15
           },
           "zerolinecolor": "white",
           "zerolinewidth": 2
          },
          "yaxis": {
           "automargin": true,
           "gridcolor": "white",
           "linecolor": "white",
           "ticks": "",
           "title": {
            "standoff": 15
           },
           "zerolinecolor": "white",
           "zerolinewidth": 2
          }
         }
        },
        "title": {
         "text": "Long-Form Input"
        },
        "xaxis": {
         "anchor": "y",
         "domain": [
          0,
          1
         ],
         "title": {
          "text": "Sample name"
         }
        },
        "yaxis": {
         "anchor": "x",
         "domain": [
          0,
          1
         ],
         "title": {
          "text": "Classification"
         }
        }
       }
      }
     },
     "metadata": {},
     "output_type": "display_data"
    }
   ],
   "source": [
    "import plotly.express as px\n",
    "\n",
    "\n",
    "\n",
    "fig = px.bar(newdata2, x=\"Sample name\", y=\"Classification\", title=\"Long-Form Input\")\n",
    "fig.show()\n"
   ]
  },
  {
   "cell_type": "code",
   "execution_count": 10,
   "metadata": {},
   "outputs": [
    {
     "name": "stdout",
     "output_type": "stream",
     "text": [
      "  Sample name  ecDNA  BFB  Complex non-cyclic Linear amplification\n",
      "6        OE33    1.6  1.7                 0.0                  1.8\n",
      "5     OACP4-C    1.3  0.0                 1.4                  1.5\n",
      "4     OACM5.1    1.2  0.0                 0.0                 None\n",
      "3   JH-EsoAd1    1.0  0.0                 1.1                 None\n",
      "2       FLO-1    0.7  0.0                 0.8                  0.9\n",
      "1       ESO51    0.3  0.4                 0.5                  0.6\n",
      "0       ESO26    0.0  0.1                 0.2                  NaN\n",
      "7     SK-GT-4    0.0  0.0                 1.9                  2.0\n",
      "   ecDNA  BFB  Complex non-cyclic Linear amplification\n",
      "6    1.6  1.7                 0.0                  1.8\n",
      "5    1.3  0.0                 1.4                  1.5\n",
      "4    1.2  0.0                 0.0                 None\n",
      "3    1.0  0.0                 1.1                 None\n",
      "2    0.7  0.0                 0.8                  0.9\n",
      "1    0.3  0.4                 0.5                  0.6\n",
      "0    0.0  0.1                 0.2                  NaN\n",
      "7    0.0  0.0                 1.9                  2.0\n",
      "[[1.6000000000000003, 1.7000000000000004, 0.0, 1.8000000000000005], [1.3, 0.0, 1.4000000000000001, 1.5000000000000002], [1.2, 0.0, 0.0, None], [0.9999999999999999, 0.0, 1.0999999999999999, None], [0.7, 0.0, 0.7999999999999999, 0.8999999999999999], [0.30000000000000004, 0.4, 0.5, 0.6], [0.0, 0.1, 0.2, nan], [0.0, 0.0, 1.9000000000000006, 2.0000000000000004]]\n"
     ]
    }
   ],
   "source": [
    "import pandas as pd\n",
    "import numpy as np \n",
    "import plotly.figure_factory as px\n",
    "\n",
    "\n",
    "headers = {}\n",
    "#sample, ecDNA, BFB, CNC, Linear\n",
    "df = pd.DataFrame({'Sample name': pd.Series(dtype='str'), 'ecDNA': pd.Series(dtype='int'), 'BFB': pd.Series(dtype='int'), 'Complex non-cyclic': pd.Series(dtype='int'), 'Linear amplification': pd.Series(dtype='int')})\n",
    "cells_per_sample = []\n",
    "x = 0.1\n",
    "for key in table:\n",
    "  curr_row = [key]\n",
    "  if 'ecDNA' in table[key]:\n",
    "    curr_row.append(x)\n",
    "    x = x+0.1\n",
    "  else:\n",
    "    curr_row.append(0.0)\n",
    "  if 'BFB' in table[key]:\n",
    "    curr_row.append(x)\n",
    "    x = x+0.1\n",
    "  else:\n",
    "    curr_row.append(0.0)\n",
    "  if 'Complex non-cyclic' in table[key]:\n",
    "    curr_row.append(x)\n",
    "    x = x+0.1\n",
    "  else:\n",
    "    curr_row.append(0.0)\n",
    "  if 'Linear amplification' in table[key]:\n",
    "    curr_row.append(x)\n",
    "    x = x+0.1\n",
    "  else:\n",
    "    curr_row.append(None)\n",
    "  df.loc[len(df.index)] = curr_row\n",
    "  curr_row.remove(key)\n",
    "\n",
    "df = df.sort_values(['ecDNA', 'BFB', 'Complex non-cyclic', 'Linear amplification'], ascending=[False, False, False, False])\n",
    "print(df)\n",
    "\n",
    "df_rows = df[['ecDNA', 'BFB', 'Complex non-cyclic', 'Linear amplification']]\n",
    "print(df_rows)\n",
    "for ind in df_rows.index:\n",
    "  cells_per_sample.append(df_rows.loc[ind,:].values.flatten().tolist())\n",
    "\n",
    "print(cells_per_sample)"
   ]
  },
  {
   "cell_type": "code",
   "execution_count": 11,
   "metadata": {},
   "outputs": [
    {
     "name": "stdout",
     "output_type": "stream",
     "text": [
      "['OE33', 'OACP4-C', 'OACM5.1', 'JH-EsoAd1', 'FLO-1', 'ESO51', 'ESO26', 'SK-GT-4']\n"
     ]
    },
    {
     "data": {
      "application/vnd.plotly.v1+json": {
       "config": {
        "plotlyServerURL": "https://plot.ly"
       },
       "data": [
        {
         "autocolorscale": false,
         "transpose": true,
         "type": "heatmap",
         "x": [
          "OE33",
          "OACP4-C",
          "OACM5.1",
          "JH-EsoAd1",
          "FLO-1",
          "ESO51",
          "ESO26",
          "SK-GT-4"
         ],
         "xgap": 3,
         "y": [
          "ecDNA",
          "BFB",
          "Complex non-cyclic",
          "Linear amplification"
         ],
         "ygap": 3,
         "z": [
          [
           1.6000000000000003,
           1.7000000000000004,
           0,
           1.8000000000000005
          ],
          [
           1.3,
           0,
           1.4000000000000001,
           1.5000000000000002
          ],
          [
           1.2,
           0,
           0,
           null
          ],
          [
           0.9999999999999999,
           0,
           1.0999999999999999,
           null
          ],
          [
           0.7,
           0,
           0.7999999999999999,
           0.8999999999999999
          ],
          [
           0.30000000000000004,
           0.4,
           0.5,
           0.6
          ],
          [
           0,
           0.1,
           0.2,
           null
          ],
          [
           0,
           0,
           1.9000000000000006,
           2.0000000000000004
          ]
         ]
        }
       ],
       "layout": {
        "template": {
         "data": {
          "bar": [
           {
            "error_x": {
             "color": "#2a3f5f"
            },
            "error_y": {
             "color": "#2a3f5f"
            },
            "marker": {
             "line": {
              "color": "#E5ECF6",
              "width": 0.5
             },
             "pattern": {
              "fillmode": "overlay",
              "size": 10,
              "solidity": 0.2
             }
            },
            "type": "bar"
           }
          ],
          "barpolar": [
           {
            "marker": {
             "line": {
              "color": "#E5ECF6",
              "width": 0.5
             },
             "pattern": {
              "fillmode": "overlay",
              "size": 10,
              "solidity": 0.2
             }
            },
            "type": "barpolar"
           }
          ],
          "carpet": [
           {
            "aaxis": {
             "endlinecolor": "#2a3f5f",
             "gridcolor": "white",
             "linecolor": "white",
             "minorgridcolor": "white",
             "startlinecolor": "#2a3f5f"
            },
            "baxis": {
             "endlinecolor": "#2a3f5f",
             "gridcolor": "white",
             "linecolor": "white",
             "minorgridcolor": "white",
             "startlinecolor": "#2a3f5f"
            },
            "type": "carpet"
           }
          ],
          "choropleth": [
           {
            "colorbar": {
             "outlinewidth": 0,
             "ticks": ""
            },
            "type": "choropleth"
           }
          ],
          "contour": [
           {
            "colorbar": {
             "outlinewidth": 0,
             "ticks": ""
            },
            "colorscale": [
             [
              0,
              "#0d0887"
             ],
             [
              0.1111111111111111,
              "#46039f"
             ],
             [
              0.2222222222222222,
              "#7201a8"
             ],
             [
              0.3333333333333333,
              "#9c179e"
             ],
             [
              0.4444444444444444,
              "#bd3786"
             ],
             [
              0.5555555555555556,
              "#d8576b"
             ],
             [
              0.6666666666666666,
              "#ed7953"
             ],
             [
              0.7777777777777778,
              "#fb9f3a"
             ],
             [
              0.8888888888888888,
              "#fdca26"
             ],
             [
              1,
              "#f0f921"
             ]
            ],
            "type": "contour"
           }
          ],
          "contourcarpet": [
           {
            "colorbar": {
             "outlinewidth": 0,
             "ticks": ""
            },
            "type": "contourcarpet"
           }
          ],
          "heatmap": [
           {
            "colorbar": {
             "outlinewidth": 0,
             "ticks": ""
            },
            "colorscale": [
             [
              0,
              "#0d0887"
             ],
             [
              0.1111111111111111,
              "#46039f"
             ],
             [
              0.2222222222222222,
              "#7201a8"
             ],
             [
              0.3333333333333333,
              "#9c179e"
             ],
             [
              0.4444444444444444,
              "#bd3786"
             ],
             [
              0.5555555555555556,
              "#d8576b"
             ],
             [
              0.6666666666666666,
              "#ed7953"
             ],
             [
              0.7777777777777778,
              "#fb9f3a"
             ],
             [
              0.8888888888888888,
              "#fdca26"
             ],
             [
              1,
              "#f0f921"
             ]
            ],
            "type": "heatmap"
           }
          ],
          "heatmapgl": [
           {
            "colorbar": {
             "outlinewidth": 0,
             "ticks": ""
            },
            "colorscale": [
             [
              0,
              "#0d0887"
             ],
             [
              0.1111111111111111,
              "#46039f"
             ],
             [
              0.2222222222222222,
              "#7201a8"
             ],
             [
              0.3333333333333333,
              "#9c179e"
             ],
             [
              0.4444444444444444,
              "#bd3786"
             ],
             [
              0.5555555555555556,
              "#d8576b"
             ],
             [
              0.6666666666666666,
              "#ed7953"
             ],
             [
              0.7777777777777778,
              "#fb9f3a"
             ],
             [
              0.8888888888888888,
              "#fdca26"
             ],
             [
              1,
              "#f0f921"
             ]
            ],
            "type": "heatmapgl"
           }
          ],
          "histogram": [
           {
            "marker": {
             "pattern": {
              "fillmode": "overlay",
              "size": 10,
              "solidity": 0.2
             }
            },
            "type": "histogram"
           }
          ],
          "histogram2d": [
           {
            "colorbar": {
             "outlinewidth": 0,
             "ticks": ""
            },
            "colorscale": [
             [
              0,
              "#0d0887"
             ],
             [
              0.1111111111111111,
              "#46039f"
             ],
             [
              0.2222222222222222,
              "#7201a8"
             ],
             [
              0.3333333333333333,
              "#9c179e"
             ],
             [
              0.4444444444444444,
              "#bd3786"
             ],
             [
              0.5555555555555556,
              "#d8576b"
             ],
             [
              0.6666666666666666,
              "#ed7953"
             ],
             [
              0.7777777777777778,
              "#fb9f3a"
             ],
             [
              0.8888888888888888,
              "#fdca26"
             ],
             [
              1,
              "#f0f921"
             ]
            ],
            "type": "histogram2d"
           }
          ],
          "histogram2dcontour": [
           {
            "colorbar": {
             "outlinewidth": 0,
             "ticks": ""
            },
            "colorscale": [
             [
              0,
              "#0d0887"
             ],
             [
              0.1111111111111111,
              "#46039f"
             ],
             [
              0.2222222222222222,
              "#7201a8"
             ],
             [
              0.3333333333333333,
              "#9c179e"
             ],
             [
              0.4444444444444444,
              "#bd3786"
             ],
             [
              0.5555555555555556,
              "#d8576b"
             ],
             [
              0.6666666666666666,
              "#ed7953"
             ],
             [
              0.7777777777777778,
              "#fb9f3a"
             ],
             [
              0.8888888888888888,
              "#fdca26"
             ],
             [
              1,
              "#f0f921"
             ]
            ],
            "type": "histogram2dcontour"
           }
          ],
          "mesh3d": [
           {
            "colorbar": {
             "outlinewidth": 0,
             "ticks": ""
            },
            "type": "mesh3d"
           }
          ],
          "parcoords": [
           {
            "line": {
             "colorbar": {
              "outlinewidth": 0,
              "ticks": ""
             }
            },
            "type": "parcoords"
           }
          ],
          "pie": [
           {
            "automargin": true,
            "type": "pie"
           }
          ],
          "scatter": [
           {
            "fillpattern": {
             "fillmode": "overlay",
             "size": 10,
             "solidity": 0.2
            },
            "type": "scatter"
           }
          ],
          "scatter3d": [
           {
            "line": {
             "colorbar": {
              "outlinewidth": 0,
              "ticks": ""
             }
            },
            "marker": {
             "colorbar": {
              "outlinewidth": 0,
              "ticks": ""
             }
            },
            "type": "scatter3d"
           }
          ],
          "scattercarpet": [
           {
            "marker": {
             "colorbar": {
              "outlinewidth": 0,
              "ticks": ""
             }
            },
            "type": "scattercarpet"
           }
          ],
          "scattergeo": [
           {
            "marker": {
             "colorbar": {
              "outlinewidth": 0,
              "ticks": ""
             }
            },
            "type": "scattergeo"
           }
          ],
          "scattergl": [
           {
            "marker": {
             "colorbar": {
              "outlinewidth": 0,
              "ticks": ""
             }
            },
            "type": "scattergl"
           }
          ],
          "scattermapbox": [
           {
            "marker": {
             "colorbar": {
              "outlinewidth": 0,
              "ticks": ""
             }
            },
            "type": "scattermapbox"
           }
          ],
          "scatterpolar": [
           {
            "marker": {
             "colorbar": {
              "outlinewidth": 0,
              "ticks": ""
             }
            },
            "type": "scatterpolar"
           }
          ],
          "scatterpolargl": [
           {
            "marker": {
             "colorbar": {
              "outlinewidth": 0,
              "ticks": ""
             }
            },
            "type": "scatterpolargl"
           }
          ],
          "scatterternary": [
           {
            "marker": {
             "colorbar": {
              "outlinewidth": 0,
              "ticks": ""
             }
            },
            "type": "scatterternary"
           }
          ],
          "surface": [
           {
            "colorbar": {
             "outlinewidth": 0,
             "ticks": ""
            },
            "colorscale": [
             [
              0,
              "#0d0887"
             ],
             [
              0.1111111111111111,
              "#46039f"
             ],
             [
              0.2222222222222222,
              "#7201a8"
             ],
             [
              0.3333333333333333,
              "#9c179e"
             ],
             [
              0.4444444444444444,
              "#bd3786"
             ],
             [
              0.5555555555555556,
              "#d8576b"
             ],
             [
              0.6666666666666666,
              "#ed7953"
             ],
             [
              0.7777777777777778,
              "#fb9f3a"
             ],
             [
              0.8888888888888888,
              "#fdca26"
             ],
             [
              1,
              "#f0f921"
             ]
            ],
            "type": "surface"
           }
          ],
          "table": [
           {
            "cells": {
             "fill": {
              "color": "#EBF0F8"
             },
             "line": {
              "color": "white"
             }
            },
            "header": {
             "fill": {
              "color": "#C8D4E3"
             },
             "line": {
              "color": "white"
             }
            },
            "type": "table"
           }
          ]
         },
         "layout": {
          "annotationdefaults": {
           "arrowcolor": "#2a3f5f",
           "arrowhead": 0,
           "arrowwidth": 1
          },
          "autotypenumbers": "strict",
          "coloraxis": {
           "colorbar": {
            "outlinewidth": 0,
            "ticks": ""
           }
          },
          "colorscale": {
           "diverging": [
            [
             0,
             "#8e0152"
            ],
            [
             0.1,
             "#c51b7d"
            ],
            [
             0.2,
             "#de77ae"
            ],
            [
             0.3,
             "#f1b6da"
            ],
            [
             0.4,
             "#fde0ef"
            ],
            [
             0.5,
             "#f7f7f7"
            ],
            [
             0.6,
             "#e6f5d0"
            ],
            [
             0.7,
             "#b8e186"
            ],
            [
             0.8,
             "#7fbc41"
            ],
            [
             0.9,
             "#4d9221"
            ],
            [
             1,
             "#276419"
            ]
           ],
           "sequential": [
            [
             0,
             "#0d0887"
            ],
            [
             0.1111111111111111,
             "#46039f"
            ],
            [
             0.2222222222222222,
             "#7201a8"
            ],
            [
             0.3333333333333333,
             "#9c179e"
            ],
            [
             0.4444444444444444,
             "#bd3786"
            ],
            [
             0.5555555555555556,
             "#d8576b"
            ],
            [
             0.6666666666666666,
             "#ed7953"
            ],
            [
             0.7777777777777778,
             "#fb9f3a"
            ],
            [
             0.8888888888888888,
             "#fdca26"
            ],
            [
             1,
             "#f0f921"
            ]
           ],
           "sequentialminus": [
            [
             0,
             "#0d0887"
            ],
            [
             0.1111111111111111,
             "#46039f"
            ],
            [
             0.2222222222222222,
             "#7201a8"
            ],
            [
             0.3333333333333333,
             "#9c179e"
            ],
            [
             0.4444444444444444,
             "#bd3786"
            ],
            [
             0.5555555555555556,
             "#d8576b"
            ],
            [
             0.6666666666666666,
             "#ed7953"
            ],
            [
             0.7777777777777778,
             "#fb9f3a"
            ],
            [
             0.8888888888888888,
             "#fdca26"
            ],
            [
             1,
             "#f0f921"
            ]
           ]
          },
          "colorway": [
           "#636efa",
           "#EF553B",
           "#00cc96",
           "#ab63fa",
           "#FFA15A",
           "#19d3f3",
           "#FF6692",
           "#B6E880",
           "#FF97FF",
           "#FECB52"
          ],
          "font": {
           "color": "#2a3f5f"
          },
          "geo": {
           "bgcolor": "white",
           "lakecolor": "white",
           "landcolor": "#E5ECF6",
           "showlakes": true,
           "showland": true,
           "subunitcolor": "white"
          },
          "hoverlabel": {
           "align": "left"
          },
          "hovermode": "closest",
          "mapbox": {
           "style": "light"
          },
          "paper_bgcolor": "white",
          "plot_bgcolor": "#E5ECF6",
          "polar": {
           "angularaxis": {
            "gridcolor": "white",
            "linecolor": "white",
            "ticks": ""
           },
           "bgcolor": "#E5ECF6",
           "radialaxis": {
            "gridcolor": "white",
            "linecolor": "white",
            "ticks": ""
           }
          },
          "scene": {
           "xaxis": {
            "backgroundcolor": "#E5ECF6",
            "gridcolor": "white",
            "gridwidth": 2,
            "linecolor": "white",
            "showbackground": true,
            "ticks": "",
            "zerolinecolor": "white"
           },
           "yaxis": {
            "backgroundcolor": "#E5ECF6",
            "gridcolor": "white",
            "gridwidth": 2,
            "linecolor": "white",
            "showbackground": true,
            "ticks": "",
            "zerolinecolor": "white"
           },
           "zaxis": {
            "backgroundcolor": "#E5ECF6",
            "gridcolor": "white",
            "gridwidth": 2,
            "linecolor": "white",
            "showbackground": true,
            "ticks": "",
            "zerolinecolor": "white"
           }
          },
          "shapedefaults": {
           "line": {
            "color": "#2a3f5f"
           }
          },
          "ternary": {
           "aaxis": {
            "gridcolor": "white",
            "linecolor": "white",
            "ticks": ""
           },
           "baxis": {
            "gridcolor": "white",
            "linecolor": "white",
            "ticks": ""
           },
           "bgcolor": "#E5ECF6",
           "caxis": {
            "gridcolor": "white",
            "linecolor": "white",
            "ticks": ""
           }
          },
          "title": {
           "x": 0.05
          },
          "xaxis": {
           "automargin": true,
           "gridcolor": "white",
           "linecolor": "white",
           "ticks": "",
           "title": {
            "standoff": 15
           },
           "zerolinecolor": "white",
           "zerolinewidth": 2
          },
          "yaxis": {
           "automargin": true,
           "gridcolor": "white",
           "linecolor": "white",
           "ticks": "",
           "title": {
            "standoff": 15
           },
           "zerolinecolor": "white",
           "zerolinewidth": 2
          }
         }
        }
       }
      }
     },
     "metadata": {},
     "output_type": "display_data"
    }
   ],
   "source": [
    "import plotly.express as px\n",
    "import plotly.graph_objects as go\n",
    "\n",
    "print(list(df['Sample name'].values))\n",
    "#z= [], x = list(df['Sample name'].values) , y = ['ecDNA', 'BFB', 'Complex non-cyclic', 'Linear amplification'])\n",
    "#colorscale=[(0.0,'white'),(0.2, 'red'), (0.2, 'blue'), (0.4, 'blue'), (0.6, 'gold'), (0.8, 'gold'), (0.8, 'green')\n",
    "fig = go.Figure(data=go.Heatmap(z=cells_per_sample,x=list(df['Sample name'].values), y=['ecDNA', 'BFB', 'Complex non-cyclic', 'Linear amplification'], transpose=True, xgap=3, ygap=3, autocolorscale=False))\n",
    "\n",
    "fig.show()"
   ]
  },
  {
   "cell_type": "code",
   "execution_count": 12,
   "metadata": {},
   "outputs": [
    {
     "name": "stdout",
     "output_type": "stream",
     "text": [
      "Requirement already satisfied: seaborn in /Users/tusharagashe/miniconda3/envs/caperenv/lib/python3.9/site-packages (0.12.2)\n",
      "Requirement already satisfied: pandas>=0.25 in /Users/tusharagashe/miniconda3/envs/caperenv/lib/python3.9/site-packages (from seaborn) (1.4.3)\n",
      "Requirement already satisfied: matplotlib!=3.6.1,>=3.1 in /Users/tusharagashe/miniconda3/envs/caperenv/lib/python3.9/site-packages (from seaborn) (3.5.3)\n",
      "Requirement already satisfied: numpy!=1.24.0,>=1.17 in /Users/tusharagashe/miniconda3/envs/caperenv/lib/python3.9/site-packages (from seaborn) (1.23.2)\n",
      "Requirement already satisfied: pillow>=6.2.0 in /Users/tusharagashe/miniconda3/envs/caperenv/lib/python3.9/site-packages (from matplotlib!=3.6.1,>=3.1->seaborn) (9.2.0)\n",
      "Requirement already satisfied: packaging>=20.0 in /Users/tusharagashe/miniconda3/envs/caperenv/lib/python3.9/site-packages (from matplotlib!=3.6.1,>=3.1->seaborn) (21.3)\n",
      "Requirement already satisfied: cycler>=0.10 in /Users/tusharagashe/miniconda3/envs/caperenv/lib/python3.9/site-packages (from matplotlib!=3.6.1,>=3.1->seaborn) (0.11.0)\n",
      "Requirement already satisfied: fonttools>=4.22.0 in /Users/tusharagashe/miniconda3/envs/caperenv/lib/python3.9/site-packages (from matplotlib!=3.6.1,>=3.1->seaborn) (4.38.0)\n",
      "Requirement already satisfied: kiwisolver>=1.0.1 in /Users/tusharagashe/miniconda3/envs/caperenv/lib/python3.9/site-packages (from matplotlib!=3.6.1,>=3.1->seaborn) (1.4.4)\n",
      "Requirement already satisfied: python-dateutil>=2.7 in /Users/tusharagashe/miniconda3/envs/caperenv/lib/python3.9/site-packages (from matplotlib!=3.6.1,>=3.1->seaborn) (2.8.2)\n",
      "Requirement already satisfied: pyparsing>=2.2.1 in /Users/tusharagashe/miniconda3/envs/caperenv/lib/python3.9/site-packages (from matplotlib!=3.6.1,>=3.1->seaborn) (3.0.9)\n",
      "Requirement already satisfied: pytz>=2020.1 in /Users/tusharagashe/miniconda3/envs/caperenv/lib/python3.9/site-packages (from pandas>=0.25->seaborn) (2022.1)\n",
      "Requirement already satisfied: six>=1.5 in /Users/tusharagashe/miniconda3/envs/caperenv/lib/python3.9/site-packages (from python-dateutil>=2.7->matplotlib!=3.6.1,>=3.1->seaborn) (1.16.0)\n"
     ]
    }
   ],
   "source": [
    "!pip install seaborn"
   ]
  },
  {
   "cell_type": "code",
   "execution_count": 13,
   "metadata": {},
   "outputs": [
    {
     "name": "stdout",
     "output_type": "stream",
     "text": [
      "             ecDNA  BFB  Complex non-cyclic Linear amplification\n",
      "Sample name                                                     \n",
      "OE33           1.6  1.7                 0.0                  1.8\n",
      "OACP4-C        1.3  0.0                 1.4                  1.5\n",
      "OACM5.1        1.2  0.0                 0.0                 None\n",
      "JH-EsoAd1      1.0  0.0                 1.1                 None\n",
      "FLO-1          0.7  0.0                 0.8                  0.9\n",
      "ESO51          0.3  0.4                 0.5                  0.6\n",
      "ESO26          0.0  0.1                 0.2                  NaN\n",
      "SK-GT-4        0.0  0.0                 1.9                  2.0\n"
     ]
    },
    {
     "ename": "TypeError",
     "evalue": "Image data of dtype object cannot be converted to float",
     "output_type": "error",
     "traceback": [
      "\u001b[0;31m---------------------------------------------------------------------------\u001b[0m",
      "\u001b[0;31mTypeError\u001b[0m                                 Traceback (most recent call last)",
      "Cell \u001b[0;32mIn [13], line 6\u001b[0m\n\u001b[1;32m      4\u001b[0m \u001b[38;5;28mprint\u001b[39m(df)\n\u001b[1;32m      5\u001b[0m cmap \u001b[38;5;241m=\u001b[39m sns\u001b[38;5;241m.\u001b[39mcolor_palette(\u001b[38;5;124m\"\u001b[39m\u001b[38;5;124mPastel2\u001b[39m\u001b[38;5;124m\"\u001b[39m) \n\u001b[0;32m----> 6\u001b[0m ax \u001b[38;5;241m=\u001b[39m \u001b[43msns\u001b[49m\u001b[38;5;241;43m.\u001b[39;49m\u001b[43mheatmap\u001b[49m\u001b[43m(\u001b[49m\u001b[43mdf\u001b[49m\u001b[43m,\u001b[49m\u001b[43m \u001b[49m\u001b[43mcmap\u001b[49m\u001b[38;5;241;43m=\u001b[39;49m\u001b[43mcmap\u001b[49m\u001b[43m)\u001b[49m \n",
      "File \u001b[0;32m~/miniconda3/envs/caperenv/lib/python3.9/site-packages/seaborn/matrix.py:459\u001b[0m, in \u001b[0;36mheatmap\u001b[0;34m(data, vmin, vmax, cmap, center, robust, annot, fmt, annot_kws, linewidths, linecolor, cbar, cbar_kws, cbar_ax, square, xticklabels, yticklabels, mask, ax, **kwargs)\u001b[0m\n\u001b[1;32m    <a href='file:///~/miniconda3/envs/caperenv/lib/python3.9/site-packages/seaborn/matrix.py?line=456'>457</a>\u001b[0m \u001b[39mif\u001b[39;00m square:\n\u001b[1;32m    <a href='file:///~/miniconda3/envs/caperenv/lib/python3.9/site-packages/seaborn/matrix.py?line=457'>458</a>\u001b[0m     ax\u001b[39m.\u001b[39mset_aspect(\u001b[39m\"\u001b[39m\u001b[39mequal\u001b[39m\u001b[39m\"\u001b[39m)\n\u001b[0;32m--> <a href='file:///~/miniconda3/envs/caperenv/lib/python3.9/site-packages/seaborn/matrix.py?line=458'>459</a>\u001b[0m plotter\u001b[39m.\u001b[39;49mplot(ax, cbar_ax, kwargs)\n\u001b[1;32m    <a href='file:///~/miniconda3/envs/caperenv/lib/python3.9/site-packages/seaborn/matrix.py?line=459'>460</a>\u001b[0m \u001b[39mreturn\u001b[39;00m ax\n",
      "File \u001b[0;32m~/miniconda3/envs/caperenv/lib/python3.9/site-packages/seaborn/matrix.py:306\u001b[0m, in \u001b[0;36m_HeatMapper.plot\u001b[0;34m(self, ax, cax, kws)\u001b[0m\n\u001b[1;32m    <a href='file:///~/miniconda3/envs/caperenv/lib/python3.9/site-packages/seaborn/matrix.py?line=302'>303</a>\u001b[0m     kws\u001b[39m.\u001b[39msetdefault(\u001b[39m\"\u001b[39m\u001b[39mvmax\u001b[39m\u001b[39m\"\u001b[39m, \u001b[39mself\u001b[39m\u001b[39m.\u001b[39mvmax)\n\u001b[1;32m    <a href='file:///~/miniconda3/envs/caperenv/lib/python3.9/site-packages/seaborn/matrix.py?line=304'>305</a>\u001b[0m \u001b[39m# Draw the heatmap\u001b[39;00m\n\u001b[0;32m--> <a href='file:///~/miniconda3/envs/caperenv/lib/python3.9/site-packages/seaborn/matrix.py?line=305'>306</a>\u001b[0m mesh \u001b[39m=\u001b[39m ax\u001b[39m.\u001b[39;49mpcolormesh(\u001b[39mself\u001b[39;49m\u001b[39m.\u001b[39;49mplot_data, cmap\u001b[39m=\u001b[39;49m\u001b[39mself\u001b[39;49m\u001b[39m.\u001b[39;49mcmap, \u001b[39m*\u001b[39;49m\u001b[39m*\u001b[39;49mkws)\n\u001b[1;32m    <a href='file:///~/miniconda3/envs/caperenv/lib/python3.9/site-packages/seaborn/matrix.py?line=307'>308</a>\u001b[0m \u001b[39m# Set the axis limits\u001b[39;00m\n\u001b[1;32m    <a href='file:///~/miniconda3/envs/caperenv/lib/python3.9/site-packages/seaborn/matrix.py?line=308'>309</a>\u001b[0m ax\u001b[39m.\u001b[39mset(xlim\u001b[39m=\u001b[39m(\u001b[39m0\u001b[39m, \u001b[39mself\u001b[39m\u001b[39m.\u001b[39mdata\u001b[39m.\u001b[39mshape[\u001b[39m1\u001b[39m]), ylim\u001b[39m=\u001b[39m(\u001b[39m0\u001b[39m, \u001b[39mself\u001b[39m\u001b[39m.\u001b[39mdata\u001b[39m.\u001b[39mshape[\u001b[39m0\u001b[39m]))\n",
      "File \u001b[0;32m~/miniconda3/envs/caperenv/lib/python3.9/site-packages/matplotlib/__init__.py:1414\u001b[0m, in \u001b[0;36m_preprocess_data.<locals>.inner\u001b[0;34m(ax, data, *args, **kwargs)\u001b[0m\n\u001b[1;32m   <a href='file:///~/miniconda3/envs/caperenv/lib/python3.9/site-packages/matplotlib/__init__.py?line=1410'>1411</a>\u001b[0m \u001b[39m@functools\u001b[39m\u001b[39m.\u001b[39mwraps(func)\n\u001b[1;32m   <a href='file:///~/miniconda3/envs/caperenv/lib/python3.9/site-packages/matplotlib/__init__.py?line=1411'>1412</a>\u001b[0m \u001b[39mdef\u001b[39;00m \u001b[39minner\u001b[39m(ax, \u001b[39m*\u001b[39margs, data\u001b[39m=\u001b[39m\u001b[39mNone\u001b[39;00m, \u001b[39m*\u001b[39m\u001b[39m*\u001b[39mkwargs):\n\u001b[1;32m   <a href='file:///~/miniconda3/envs/caperenv/lib/python3.9/site-packages/matplotlib/__init__.py?line=1412'>1413</a>\u001b[0m     \u001b[39mif\u001b[39;00m data \u001b[39mis\u001b[39;00m \u001b[39mNone\u001b[39;00m:\n\u001b[0;32m-> <a href='file:///~/miniconda3/envs/caperenv/lib/python3.9/site-packages/matplotlib/__init__.py?line=1413'>1414</a>\u001b[0m         \u001b[39mreturn\u001b[39;00m func(ax, \u001b[39m*\u001b[39;49m\u001b[39mmap\u001b[39;49m(sanitize_sequence, args), \u001b[39m*\u001b[39;49m\u001b[39m*\u001b[39;49mkwargs)\n\u001b[1;32m   <a href='file:///~/miniconda3/envs/caperenv/lib/python3.9/site-packages/matplotlib/__init__.py?line=1415'>1416</a>\u001b[0m     bound \u001b[39m=\u001b[39m new_sig\u001b[39m.\u001b[39mbind(ax, \u001b[39m*\u001b[39margs, \u001b[39m*\u001b[39m\u001b[39m*\u001b[39mkwargs)\n\u001b[1;32m   <a href='file:///~/miniconda3/envs/caperenv/lib/python3.9/site-packages/matplotlib/__init__.py?line=1416'>1417</a>\u001b[0m     auto_label \u001b[39m=\u001b[39m (bound\u001b[39m.\u001b[39marguments\u001b[39m.\u001b[39mget(label_namer)\n\u001b[1;32m   <a href='file:///~/miniconda3/envs/caperenv/lib/python3.9/site-packages/matplotlib/__init__.py?line=1417'>1418</a>\u001b[0m                   \u001b[39mor\u001b[39;00m bound\u001b[39m.\u001b[39mkwargs\u001b[39m.\u001b[39mget(label_namer))\n",
      "File \u001b[0;32m~/miniconda3/envs/caperenv/lib/python3.9/site-packages/matplotlib/axes/_axes.py:6072\u001b[0m, in \u001b[0;36mAxes.pcolormesh\u001b[0;34m(self, alpha, norm, cmap, vmin, vmax, shading, antialiased, *args, **kwargs)\u001b[0m\n\u001b[1;32m   <a href='file:///~/miniconda3/envs/caperenv/lib/python3.9/site-packages/matplotlib/axes/_axes.py?line=6067'>6068</a>\u001b[0m C \u001b[39m=\u001b[39m C\u001b[39m.\u001b[39mravel()\n\u001b[1;32m   <a href='file:///~/miniconda3/envs/caperenv/lib/python3.9/site-packages/matplotlib/axes/_axes.py?line=6069'>6070</a>\u001b[0m kwargs\u001b[39m.\u001b[39msetdefault(\u001b[39m'\u001b[39m\u001b[39msnap\u001b[39m\u001b[39m'\u001b[39m, rcParams[\u001b[39m'\u001b[39m\u001b[39mpcolormesh.snap\u001b[39m\u001b[39m'\u001b[39m])\n\u001b[0;32m-> <a href='file:///~/miniconda3/envs/caperenv/lib/python3.9/site-packages/matplotlib/axes/_axes.py?line=6071'>6072</a>\u001b[0m collection \u001b[39m=\u001b[39m mcoll\u001b[39m.\u001b[39;49mQuadMesh(\n\u001b[1;32m   <a href='file:///~/miniconda3/envs/caperenv/lib/python3.9/site-packages/matplotlib/axes/_axes.py?line=6072'>6073</a>\u001b[0m     coords, antialiased\u001b[39m=\u001b[39;49mantialiased, shading\u001b[39m=\u001b[39;49mshading,\n\u001b[1;32m   <a href='file:///~/miniconda3/envs/caperenv/lib/python3.9/site-packages/matplotlib/axes/_axes.py?line=6073'>6074</a>\u001b[0m     array\u001b[39m=\u001b[39;49mC, cmap\u001b[39m=\u001b[39;49mcmap, norm\u001b[39m=\u001b[39;49mnorm, alpha\u001b[39m=\u001b[39;49malpha, \u001b[39m*\u001b[39;49m\u001b[39m*\u001b[39;49mkwargs)\n\u001b[1;32m   <a href='file:///~/miniconda3/envs/caperenv/lib/python3.9/site-packages/matplotlib/axes/_axes.py?line=6074'>6075</a>\u001b[0m collection\u001b[39m.\u001b[39m_scale_norm(norm, vmin, vmax)\n\u001b[1;32m   <a href='file:///~/miniconda3/envs/caperenv/lib/python3.9/site-packages/matplotlib/axes/_axes.py?line=6075'>6076</a>\u001b[0m \u001b[39mself\u001b[39m\u001b[39m.\u001b[39m_pcolor_grid_deprecation_helper()\n",
      "File \u001b[0;32m~/miniconda3/envs/caperenv/lib/python3.9/site-packages/matplotlib/collections.py:2015\u001b[0m, in \u001b[0;36mQuadMesh.__init__\u001b[0;34m(self, *args, **kwargs)\u001b[0m\n\u001b[1;32m   <a href='file:///~/miniconda3/envs/caperenv/lib/python3.9/site-packages/matplotlib/collections.py?line=2011'>2012</a>\u001b[0m \u001b[39mself\u001b[39m\u001b[39m.\u001b[39m_bbox\u001b[39m.\u001b[39mupdate_from_data_xy(\u001b[39mself\u001b[39m\u001b[39m.\u001b[39m_coordinates\u001b[39m.\u001b[39mreshape(\u001b[39m-\u001b[39m\u001b[39m1\u001b[39m, \u001b[39m2\u001b[39m))\n\u001b[1;32m   <a href='file:///~/miniconda3/envs/caperenv/lib/python3.9/site-packages/matplotlib/collections.py?line=2012'>2013</a>\u001b[0m \u001b[39m# super init delayed after own init because array kwarg requires\u001b[39;00m\n\u001b[1;32m   <a href='file:///~/miniconda3/envs/caperenv/lib/python3.9/site-packages/matplotlib/collections.py?line=2013'>2014</a>\u001b[0m \u001b[39m# self._coordinates and self._shading\u001b[39;00m\n\u001b[0;32m-> <a href='file:///~/miniconda3/envs/caperenv/lib/python3.9/site-packages/matplotlib/collections.py?line=2014'>2015</a>\u001b[0m \u001b[39msuper\u001b[39;49m()\u001b[39m.\u001b[39;49m\u001b[39m__init__\u001b[39;49m(\u001b[39m*\u001b[39;49m\u001b[39m*\u001b[39;49mkwargs)\n\u001b[1;32m   <a href='file:///~/miniconda3/envs/caperenv/lib/python3.9/site-packages/matplotlib/collections.py?line=2015'>2016</a>\u001b[0m \u001b[39mself\u001b[39m\u001b[39m.\u001b[39mmouseover \u001b[39m=\u001b[39m \u001b[39mFalse\u001b[39;00m\n",
      "File \u001b[0;32m~/miniconda3/envs/caperenv/lib/python3.9/site-packages/matplotlib/collections.py:217\u001b[0m, in \u001b[0;36mCollection.__init__\u001b[0;34m(self, edgecolors, facecolors, linewidths, linestyles, capstyle, joinstyle, antialiaseds, offsets, transOffset, norm, cmap, pickradius, hatch, urls, zorder, **kwargs)\u001b[0m\n\u001b[1;32m    <a href='file:///~/miniconda3/envs/caperenv/lib/python3.9/site-packages/matplotlib/collections.py?line=213'>214</a>\u001b[0m \u001b[39mself\u001b[39m\u001b[39m.\u001b[39m_transOffset \u001b[39m=\u001b[39m transOffset\n\u001b[1;32m    <a href='file:///~/miniconda3/envs/caperenv/lib/python3.9/site-packages/matplotlib/collections.py?line=215'>216</a>\u001b[0m \u001b[39mself\u001b[39m\u001b[39m.\u001b[39m_path_effects \u001b[39m=\u001b[39m \u001b[39mNone\u001b[39;00m\n\u001b[0;32m--> <a href='file:///~/miniconda3/envs/caperenv/lib/python3.9/site-packages/matplotlib/collections.py?line=216'>217</a>\u001b[0m \u001b[39mself\u001b[39;49m\u001b[39m.\u001b[39;49mupdate(kwargs)\n\u001b[1;32m    <a href='file:///~/miniconda3/envs/caperenv/lib/python3.9/site-packages/matplotlib/collections.py?line=217'>218</a>\u001b[0m \u001b[39mself\u001b[39m\u001b[39m.\u001b[39m_paths \u001b[39m=\u001b[39m \u001b[39mNone\u001b[39;00m\n",
      "File \u001b[0;32m~/miniconda3/envs/caperenv/lib/python3.9/site-packages/matplotlib/artist.py:1069\u001b[0m, in \u001b[0;36mArtist.update\u001b[0;34m(self, props)\u001b[0m\n\u001b[1;32m   <a href='file:///~/miniconda3/envs/caperenv/lib/python3.9/site-packages/matplotlib/artist.py?line=1065'>1066</a>\u001b[0m             \u001b[39mif\u001b[39;00m \u001b[39mnot\u001b[39;00m callable(func):\n\u001b[1;32m   <a href='file:///~/miniconda3/envs/caperenv/lib/python3.9/site-packages/matplotlib/artist.py?line=1066'>1067</a>\u001b[0m                 \u001b[39mraise\u001b[39;00m \u001b[39mAttributeError\u001b[39;00m(\u001b[39mf\u001b[39m\u001b[39m\"\u001b[39m\u001b[39m{\u001b[39;00m\u001b[39mtype\u001b[39m(\u001b[39mself\u001b[39m)\u001b[39m.\u001b[39m\u001b[39m__name__\u001b[39m\u001b[39m!r}\u001b[39;00m\u001b[39m object \u001b[39m\u001b[39m\"\u001b[39m\n\u001b[1;32m   <a href='file:///~/miniconda3/envs/caperenv/lib/python3.9/site-packages/matplotlib/artist.py?line=1067'>1068</a>\u001b[0m                                      \u001b[39mf\u001b[39m\u001b[39m\"\u001b[39m\u001b[39mhas no property \u001b[39m\u001b[39m{\u001b[39;00mk\u001b[39m!r}\u001b[39;00m\u001b[39m\"\u001b[39m)\n\u001b[0;32m-> <a href='file:///~/miniconda3/envs/caperenv/lib/python3.9/site-packages/matplotlib/artist.py?line=1068'>1069</a>\u001b[0m             ret\u001b[39m.\u001b[39mappend(func(v))\n\u001b[1;32m   <a href='file:///~/miniconda3/envs/caperenv/lib/python3.9/site-packages/matplotlib/artist.py?line=1069'>1070</a>\u001b[0m \u001b[39mif\u001b[39;00m ret:\n\u001b[1;32m   <a href='file:///~/miniconda3/envs/caperenv/lib/python3.9/site-packages/matplotlib/artist.py?line=1070'>1071</a>\u001b[0m     \u001b[39mself\u001b[39m\u001b[39m.\u001b[39mpchanged()\n",
      "File \u001b[0;32m~/miniconda3/envs/caperenv/lib/python3.9/site-packages/matplotlib/collections.py:2077\u001b[0m, in \u001b[0;36mQuadMesh.set_array\u001b[0;34m(self, A)\u001b[0m\n\u001b[1;32m   <a href='file:///~/miniconda3/envs/caperenv/lib/python3.9/site-packages/matplotlib/collections.py?line=2071'>2072</a>\u001b[0m     \u001b[39mif\u001b[39;00m faulty_data:\n\u001b[1;32m   <a href='file:///~/miniconda3/envs/caperenv/lib/python3.9/site-packages/matplotlib/collections.py?line=2072'>2073</a>\u001b[0m         \u001b[39mraise\u001b[39;00m \u001b[39mTypeError\u001b[39;00m(\n\u001b[1;32m   <a href='file:///~/miniconda3/envs/caperenv/lib/python3.9/site-packages/matplotlib/collections.py?line=2073'>2074</a>\u001b[0m             \u001b[39mf\u001b[39m\u001b[39m\"\u001b[39m\u001b[39mDimensions of A \u001b[39m\u001b[39m{\u001b[39;00mA\u001b[39m.\u001b[39mshape\u001b[39m}\u001b[39;00m\u001b[39m are incompatible with \u001b[39m\u001b[39m\"\u001b[39m\n\u001b[1;32m   <a href='file:///~/miniconda3/envs/caperenv/lib/python3.9/site-packages/matplotlib/collections.py?line=2074'>2075</a>\u001b[0m             \u001b[39mf\u001b[39m\u001b[39m\"\u001b[39m\u001b[39mX (\u001b[39m\u001b[39m{\u001b[39;00mwidth\u001b[39m}\u001b[39;00m\u001b[39m) and/or Y (\u001b[39m\u001b[39m{\u001b[39;00mheight\u001b[39m}\u001b[39;00m\u001b[39m)\u001b[39m\u001b[39m\"\u001b[39m)\n\u001b[0;32m-> <a href='file:///~/miniconda3/envs/caperenv/lib/python3.9/site-packages/matplotlib/collections.py?line=2076'>2077</a>\u001b[0m \u001b[39mreturn\u001b[39;00m \u001b[39msuper\u001b[39;49m()\u001b[39m.\u001b[39;49mset_array(A)\n",
      "File \u001b[0;32m~/miniconda3/envs/caperenv/lib/python3.9/site-packages/matplotlib/cm.py:477\u001b[0m, in \u001b[0;36mScalarMappable.set_array\u001b[0;34m(self, A)\u001b[0m\n\u001b[1;32m    <a href='file:///~/miniconda3/envs/caperenv/lib/python3.9/site-packages/matplotlib/cm.py?line=474'>475</a>\u001b[0m A \u001b[39m=\u001b[39m cbook\u001b[39m.\u001b[39msafe_masked_invalid(A, copy\u001b[39m=\u001b[39m\u001b[39mTrue\u001b[39;00m)\n\u001b[1;32m    <a href='file:///~/miniconda3/envs/caperenv/lib/python3.9/site-packages/matplotlib/cm.py?line=475'>476</a>\u001b[0m \u001b[39mif\u001b[39;00m \u001b[39mnot\u001b[39;00m np\u001b[39m.\u001b[39mcan_cast(A\u001b[39m.\u001b[39mdtype, \u001b[39mfloat\u001b[39m, \u001b[39m\"\u001b[39m\u001b[39msame_kind\u001b[39m\u001b[39m\"\u001b[39m):\n\u001b[0;32m--> <a href='file:///~/miniconda3/envs/caperenv/lib/python3.9/site-packages/matplotlib/cm.py?line=476'>477</a>\u001b[0m     \u001b[39mraise\u001b[39;00m \u001b[39mTypeError\u001b[39;00m(\u001b[39mf\u001b[39m\u001b[39m\"\u001b[39m\u001b[39mImage data of dtype \u001b[39m\u001b[39m{\u001b[39;00mA\u001b[39m.\u001b[39mdtype\u001b[39m}\u001b[39;00m\u001b[39m cannot be \u001b[39m\u001b[39m\"\u001b[39m\n\u001b[1;32m    <a href='file:///~/miniconda3/envs/caperenv/lib/python3.9/site-packages/matplotlib/cm.py?line=477'>478</a>\u001b[0m                     \u001b[39m\"\u001b[39m\u001b[39mconverted to float\u001b[39m\u001b[39m\"\u001b[39m)\n\u001b[1;32m    <a href='file:///~/miniconda3/envs/caperenv/lib/python3.9/site-packages/matplotlib/cm.py?line=479'>480</a>\u001b[0m \u001b[39mself\u001b[39m\u001b[39m.\u001b[39m_A \u001b[39m=\u001b[39m A\n",
      "\u001b[0;31mTypeError\u001b[0m: Image data of dtype object cannot be converted to float"
     ]
    },
    {
     "data": {
      "image/png": "[encoded data removed]",
      "text/plain": [
       "<Figure size 640x480 with 1 Axes>"
      ]
     },
     "metadata": {},
     "output_type": "display_data"
    }
   ],
   "source": [
    "import seaborn as sns\n",
    "\n",
    "df = df.set_index('Sample name')\n",
    "print(df)\n",
    "cmap = sns.color_palette(\"Pastel2\") \n",
    "ax = sns.heatmap(df, cmap=cmap) \n"
   ]
  }
 ],
 "metadata": {
  "interpreter": {
   "hash": "770274e11382a009acb13c86e72b2ffd95108b626090bf43d7640531fdbcad4a"
  },
  "kernelspec": {
   "display_name": "Python 3.9.12 ('caperenv')",
   "language": "python",
   "name": "python3"
  },
  "language_info": {
   "codemirror_mode": {
    "name": "ipython",
    "version": 3
   },
   "file_extension": ".py",
   "mimetype": "text/x-python",
   "name": "python",
   "nbconvert_exporter": "python",
   "pygments_lexer": "ipython3",
   "version": "3.9.12"
  },
  "orig_nbformat": 4
 },
 "nbformat": 4,
 "nbformat_minor": 2
}

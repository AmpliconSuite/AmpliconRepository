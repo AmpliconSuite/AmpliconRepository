{
 "cells": [
  {
   "cell_type": "code",
   "execution_count": 2,
   "id": "48e97cc4-dc4f-4c0f-a64c-d6ca749985c6",
   "metadata": {},
   "outputs": [],
   "source": [
    "import logging\n",
    "\n",
    "import pandas as pd\n",
    "from bson import ObjectId\n",
    "from pymongo import MongoClient,ReadPreference\n",
    "from pymongo.errors import ConnectionFailure, ServerSelectionTimeoutError\n",
    "import re\n",
    "import os"
   ]
  },
  {
   "cell_type": "code",
   "execution_count": null,
   "id": "f18a4cfc-2260-4bc3-a9f6-f824dd69b9ac",
   "metadata": {},
   "outputs": [],
   "source": []
  }
 ],
 "metadata": {
  "kernelspec": {
   "display_name": "Python 3 (ipykernel)",
   "language": "python",
   "name": "python3"
  },
  "language_info": {
   "codemirror_mode": {
    "name": "ipython",
    "version": 3
   },
   "file_extension": ".py",
   "mimetype": "text/x-python",
   "name": "python",
   "nbconvert_exporter": "python",
   "pygments_lexer": "ipython3",
   "version": "3.12.1"
  }
 },
 "nbformat": 4,
 "nbformat_minor": 5
}
